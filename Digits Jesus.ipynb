{
 "cells": [
  {
   "cell_type": "markdown",
   "metadata": {
    "colab_type": "text",
    "id": "view-in-github"
   },
   "source": [
    "<a href=\"https://colab.research.google.com/github/hafizbudi/active-learning/blob/main/Digits_RS.ipynb\" target=\"_parent\"><img src=\"https://colab.research.google.com/assets/colab-badge.svg\" alt=\"Open In Colab\"/></a>"
   ]
  },
  {
   "cell_type": "markdown",
   "metadata": {
    "id": "mN4dzlYaDzFR"
   },
   "source": [
    "## **Digits with random sampling**"
   ]
  },
  {
   "cell_type": "markdown",
   "metadata": {
    "id": "RZ2NcwtkKeda"
   },
   "source": [
    "## **Load library and digits data**"
   ]
  },
  {
   "cell_type": "code",
   "execution_count": 70,
   "metadata": {
    "id": "FsK42GhpKZ4t"
   },
   "outputs": [],
   "source": [
    "import matplotlib.pyplot as plt\n",
    "import pandas as pd\n",
    "import numpy as np\n",
    "from dataclasses import dataclass\n",
    "\n",
    "from sklearn.datasets import load_digits\n",
    "from sklearn import datasets, metrics\n",
    "from sklearn.model_selection import train_test_split\n",
    "from sklearn.ensemble import RandomForestClassifier\n",
    "\n",
    "import random"
   ]
  },
  {
   "cell_type": "code",
   "execution_count": 71,
   "metadata": {
    "id": "eMQDoy1YK6Gv"
   },
   "outputs": [],
   "source": [
    "digits = load_digits()"
   ]
  },
  {
   "cell_type": "markdown",
   "metadata": {
    "id": "eO_DbX1dKz90"
   },
   "source": [
    "## **Load, Train and Split data**"
   ]
  },
  {
   "cell_type": "code",
   "execution_count": 73,
   "metadata": {},
   "outputs": [
    {
     "name": "stdout",
     "output_type": "stream",
     "text": [
      "1797\n"
     ]
    }
   ],
   "source": [
    "# flatten into 1d array\n",
    "n_samples = len(digits.images)\n",
    "print(n_samples)\n",
    "X = digits.images.reshape((n_samples, -1))\n",
    "Y = digits.target\n",
    "X_train, X_test, y_train, y_test = train_test_split(X, Y, test_size=0.25, shuffle=True)\n",
    "\n",
    "\n"
   ]
  },
  {
   "cell_type": "code",
   "execution_count": null,
   "metadata": {},
   "outputs": [],
   "source": []
  },
  {
   "cell_type": "code",
   "execution_count": 74,
   "metadata": {},
   "outputs": [],
   "source": [
    "\n",
    "data_points=range(100,1000,100)\n",
    "\n",
    "def train_and_predict(n_instances, X_train, y_train, X_test):\n",
    "    clf = RandomForestClassifier()\n",
    "    \n",
    "    dataset_size = len(X_train)\n",
    "    potential_candidates = list(range(dataset_size))\n",
    "    train_indexes = np.array(random.sample(potential_candidates, n_instances))\n",
    "    #print(train_indexes)\n",
    "    # train the classifier\n",
    "    clf.fit(X_train[train_indexes], y_train[train_indexes])\n",
    "\n",
    "    # get prediction\n",
    "    predicted = clf.predict(X_test)\n",
    "    return predicted\n",
    "\n",
    "\n",
    "\n",
    "\n",
    "def random_selection_learning(n_instances, X_train, y_train):\n",
    "    clf = RandomForestClassifier()\n",
    "    X_selected, X_not_selected, y_selected, y_not_selected = \\\n",
    "        train_test_split(X_train, y_train, train_size=n_instances, shuffle=True)\n",
    "    clf.fit(X_selected, y_selected)\n",
    "    return clf, X_selected, X_not_selected, y_selected, y_not_selected"
   ]
  },
  {
   "cell_type": "code",
   "execution_count": 75,
   "metadata": {
    "id": "SJNrO4E6Pn8n"
   },
   "outputs": [
    {
     "name": "stdout",
     "output_type": "stream",
     "text": [
      "(200, 64) (200,)\n",
      "(300, 64) (300,)\n",
      "(400, 64) (400,)\n",
      "(500, 64) (500,)\n",
      "(600, 64) (600,)\n",
      "(700, 64) (700,)\n",
      "(800, 64) (800,)\n",
      "(900, 64) (900,)\n",
      "(200, 64) (200,)\n",
      "(300, 64) (300,)\n",
      "(400, 64) (400,)\n",
      "(500, 64) (500,)\n",
      "(600, 64) (600,)\n",
      "(700, 64) (700,)\n",
      "(800, 64) (800,)\n",
      "(900, 64) (900,)\n",
      "(200, 64) (200,)\n",
      "(300, 64) (300,)\n",
      "(400, 64) (400,)\n",
      "(500, 64) (500,)\n",
      "(600, 64) (600,)\n",
      "(700, 64) (700,)\n",
      "(800, 64) (800,)\n",
      "(900, 64) (900,)\n",
      "(200, 64) (200,)\n",
      "(300, 64) (300,)\n",
      "(400, 64) (400,)\n",
      "(500, 64) (500,)\n",
      "(600, 64) (600,)\n",
      "(700, 64) (700,)\n",
      "(800, 64) (800,)\n",
      "(900, 64) (900,)\n",
      "[Experiment(n_samples=100, repeat=0, accuracy=0.8511111111111112), Experiment(n_samples=200, repeat=0, accuracy=0.9111111111111111), Experiment(n_samples=300, repeat=0, accuracy=0.9355555555555556), Experiment(n_samples=400, repeat=0, accuracy=0.9533333333333334), Experiment(n_samples=500, repeat=0, accuracy=0.9511111111111111), Experiment(n_samples=600, repeat=0, accuracy=0.9555555555555556), Experiment(n_samples=700, repeat=0, accuracy=0.96), Experiment(n_samples=800, repeat=0, accuracy=0.9755555555555555), Experiment(n_samples=900, repeat=0, accuracy=0.9644444444444444), Experiment(n_samples=100, repeat=1, accuracy=0.8711111111111111), Experiment(n_samples=200, repeat=1, accuracy=0.9266666666666666), Experiment(n_samples=300, repeat=1, accuracy=0.9488888888888889), Experiment(n_samples=400, repeat=1, accuracy=0.9488888888888889), Experiment(n_samples=500, repeat=1, accuracy=0.9577777777777777), Experiment(n_samples=600, repeat=1, accuracy=0.9533333333333334), Experiment(n_samples=700, repeat=1, accuracy=0.9666666666666667), Experiment(n_samples=800, repeat=1, accuracy=0.9733333333333334), Experiment(n_samples=900, repeat=1, accuracy=0.98), Experiment(n_samples=100, repeat=2, accuracy=0.8711111111111111), Experiment(n_samples=200, repeat=2, accuracy=0.9511111111111111), Experiment(n_samples=300, repeat=2, accuracy=0.9577777777777777), Experiment(n_samples=400, repeat=2, accuracy=0.9577777777777777), Experiment(n_samples=500, repeat=2, accuracy=0.9644444444444444), Experiment(n_samples=600, repeat=2, accuracy=0.9666666666666667), Experiment(n_samples=700, repeat=2, accuracy=0.9755555555555555), Experiment(n_samples=800, repeat=2, accuracy=0.9711111111111111), Experiment(n_samples=900, repeat=2, accuracy=0.9688888888888889), Experiment(n_samples=100, repeat=3, accuracy=0.8444444444444444), Experiment(n_samples=200, repeat=3, accuracy=0.9088888888888889), Experiment(n_samples=300, repeat=3, accuracy=0.9355555555555556), Experiment(n_samples=400, repeat=3, accuracy=0.9555555555555556), Experiment(n_samples=500, repeat=3, accuracy=0.9511111111111111), Experiment(n_samples=600, repeat=3, accuracy=0.9733333333333334), Experiment(n_samples=700, repeat=3, accuracy=0.9755555555555555), Experiment(n_samples=800, repeat=3, accuracy=0.9733333333333334), Experiment(n_samples=900, repeat=3, accuracy=0.9733333333333334)]\n"
     ]
    }
   ],
   "source": [
    "\n",
    "\n",
    "\n",
    "def evaluate(model, X_real, y_real):\n",
    "    y_predictions = model.predict(X_test)\n",
    "    accuracy = metrics.accuracy_score(y_real,y_predictions)\n",
    "    #print(f\"{accuracy}\")\n",
    "    return accuracy\n",
    "\n",
    "@dataclass\n",
    "class Experiment:\n",
    "    n_samples: int\n",
    "    repeat: int\n",
    "    accuracy: float\n",
    "        \n",
    "def random_sampling_policy(model, n_new_samples, X_remaining, y_remaining):\n",
    "    X_new_selected, X_remaining, y_new_selected, y_remaining = \\\n",
    "               train_test_split(X_remaining, y_remaining,  train_size=n_new_samples, shuffle=True)\n",
    "    return X_new_selected, X_remaining, y_new_selected, y_remaining\n",
    "\n",
    "def uncerainty_sampling_policy(model, n_new_samples, X_remaining, y_remaining):\n",
    "    pass\n",
    "\n",
    "def learning_curve(data_points, repeats, selection_policy):\n",
    "    experiments = []\n",
    "    for i in range(repeats):\n",
    "        # First learn \n",
    "        n_samples = data_points[0]\n",
    "        model, X_selected, X_remaining, y_selected, y_remaining = \\\n",
    "            random_selection_learning(n_samples, X_train, y_train)\n",
    "        acc = evaluate(model, X_test, y_test)\n",
    "        experiments.append(Experiment(n_samples=n_samples, repeat=i, accuracy=acc))\n",
    "        for n_samples in data_points[1:]:\n",
    "            # Select the additional examples\n",
    "            n_new_samples = n_samples - len(X_selected)\n",
    "            \n",
    "            X_new_selected, X_remaining, y_new_selected, y_remaining = \\\n",
    "                selection_policy(model, n_new_samples, X_remaining, y_remaining)\n",
    "            \n",
    "            X_selected = np.vstack((X_selected, X_new_selected))\n",
    "            y_selected = np.hstack((y_selected, y_new_selected))\n",
    "            print(X_selected.shape, y_selected.shape)\n",
    "            model.fit(X_selected, y_selected)\n",
    "            acc = evaluate(model, X_test, y_test)\n",
    "            experiments.append(Experiment(n_samples=n_samples, repeat=i, accuracy=acc))\n",
    "    return experiments\n",
    "\n",
    "experiments = learning_curve(data_points, 4, random_sampling_policy)\n",
    "print(experiments)\n",
    "# Complete the uncertainty_sampling_policy\n",
    "# experiments = learning_curve(data_points, 4, uncertainty_sampling_policy)\n",
    "# print(experiments)\n",
    "\n",
    "# calling a classifier\n"
   ]
  },
  {
   "cell_type": "markdown",
   "metadata": {
    "id": "QQU1DFUJao-i"
   },
   "source": [
    "## **Performance evaluation**"
   ]
  },
  {
   "cell_type": "code",
   "execution_count": 76,
   "metadata": {
    "colab": {
     "base_uri": "https://localhost:8080/"
    },
    "id": "r6v46krrgqxn",
    "outputId": "58f3cbd5-1b3e-4864-94c5-00ba90910aae"
   },
   "outputs": [],
   "source": [
    "# plot averages and st. deviations per n_samples graph"
   ]
  },
  {
   "cell_type": "code",
   "execution_count": 13,
   "metadata": {
    "colab": {
     "base_uri": "https://localhost:8080/"
    },
    "id": "t7ueHbY5iGAM",
    "outputId": "58201078-6684-42d7-a26d-f844456a1d4a"
   },
   "outputs": [
    {
     "name": "stdout",
     "output_type": "stream",
     "text": [
      "[1500]\n",
      "['0.9546666666666667']\n"
     ]
    }
   ],
   "source": []
  },
  {
   "cell_type": "code",
   "execution_count": null,
   "metadata": {},
   "outputs": [],
   "source": []
  }
 ],
 "metadata": {
  "colab": {
   "authorship_tag": "ABX9TyO53hi40GfBNBFPI6jazk7X",
   "collapsed_sections": [],
   "include_colab_link": true,
   "name": "Digits_RS.ipynb",
   "provenance": []
  },
  "kernelspec": {
   "display_name": "Python 3",
   "language": "python",
   "name": "python3"
  },
  "language_info": {
   "codemirror_mode": {
    "name": "ipython",
    "version": 3
   },
   "file_extension": ".py",
   "mimetype": "text/x-python",
   "name": "python",
   "nbconvert_exporter": "python",
   "pygments_lexer": "ipython3",
   "version": "3.7.4"
  }
 },
 "nbformat": 4,
 "nbformat_minor": 1
}
