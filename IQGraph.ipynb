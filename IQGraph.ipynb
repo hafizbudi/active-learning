{
 "cells": [
  {
   "cell_type": "markdown",
   "metadata": {
    "colab_type": "text",
    "id": "view-in-github"
   },
   "source": [
    "<a href=\"https://colab.research.google.com/github/hafizbudi/active-learning/blob/main/Digits_RS.ipynb\" target=\"_parent\"><img src=\"https://colab.research.google.com/assets/colab-badge.svg\" alt=\"Open In Colab\"/></a>"
   ]
  },
  {
   "cell_type": "markdown",
   "metadata": {
    "id": "mN4dzlYaDzFR"
   },
   "source": [
    "## **Digits with random sampling**"
   ]
  },
  {
   "cell_type": "markdown",
   "metadata": {
    "id": "W0RrpqbbD3dq"
   },
   "source": [
    "## **Connect to google drive**"
   ]
  },
  {
   "cell_type": "code",
   "execution_count": null,
   "metadata": {
    "id": "DuvgfCpIDvt2"
   },
   "outputs": [],
   "source": [
    "from google.colab import drive\n",
    "drive.mount('/content/gdrive')"
   ]
  },
  {
   "cell_type": "code",
   "execution_count": null,
   "metadata": {
    "id": "eJwlOMRiEH1p"
   },
   "outputs": [],
   "source": [
    "%cd gdrive/My Drive/Project/active_learning"
   ]
  },
  {
   "cell_type": "code",
   "execution_count": null,
   "metadata": {
    "id": "GJgwBxQl0TFp"
   },
   "outputs": [],
   "source": [
    "pip install modal"
   ]
  },
  {
   "cell_type": "markdown",
   "metadata": {
    "id": "RZ2NcwtkKeda"
   },
   "source": [
    "## **Load library and digits data**"
   ]
  },
  {
   "cell_type": "code",
   "execution_count": 17,
   "metadata": {
    "id": "FsK42GhpKZ4t"
   },
   "outputs": [],
   "source": [
    "from dataclasses import dataclass\n",
    "import dataclasses\n",
    "import matplotlib.pyplot as plt\n",
    "import matplotlib.ticker as mticker\n",
    "import pandas as pd\n",
    "import numpy as np\n",
    "import statistics\n",
    "from tqdm import tqdm\n",
    "\n",
    "from sklearn.datasets import load_digits\n",
    "from sklearn import datasets, metrics\n",
    "from sklearn.model_selection import train_test_split\n",
    "from sklearn.ensemble import RandomForestClassifier\n",
    "\n",
    "\n",
    "from modAL.models import ActiveLearner\n",
    "from modAL.uncertainty import uncertainty_sampling\n"
   ]
  },
  {
   "cell_type": "markdown",
   "metadata": {
    "id": "eO_DbX1dKz90"
   },
   "source": [
    "## **Load, Train and Split data**"
   ]
  },
  {
   "cell_type": "code",
   "execution_count": 12,
   "metadata": {
    "id": "D4ROQcRms35k"
   },
   "outputs": [],
   "source": [
    "digits = load_digits()\n",
    "\n",
    "# array to save number of instance and accuracy result\n",
    "instance_number = []\n",
    "accuracy_result = []\n",
    "\n",
    "# flatten into 1d array\n",
    "n_samples = len(digits.images)\n",
    "X = digits.images.reshape((n_samples, -1))\n",
    "Y = digits.target\n",
    "\n",
    "# train test split\n",
    "X_train, X_test, y_train, y_test = train_test_split(X, Y, test_size=0.25, shuffle=True)\n"
   ]
  },
  {
   "cell_type": "code",
   "execution_count": 13,
   "metadata": {
    "id": "QhXNpgllv-7I"
   },
   "outputs": [],
   "source": [
    "# data_points 100,...,900\n",
    "data_points=range(100,1000,100)\n",
    "\n",
    "# train a classifier and predict\n",
    "def train_and_predict(n_instances, X_train, y_train, X_test):\n",
    "    clf = RandomForestClassifier()\n",
    "    \n",
    "    dataset_size = len(X_train)\n",
    "    potential_candidates = list(range(dataset_size))\n",
    "    train_indexes = np.array(random.sample(potential_candidates, n_instances))\n",
    "    #print(train_indexes)\n",
    "    clf.fit(X_train[train_indexes], y_train[train_indexes])\n",
    "    predicted = clf.predict(X_test)\n",
    "    return predicted\n",
    "\n",
    "def random_selection_learning(n_instances, X_train, y_train):\n",
    "    clf = RandomForestClassifier()\n",
    "    X_selected, X_not_selected, y_selected, y_not_selected = \\\n",
    "        train_test_split(X_train, y_train, train_size=n_instances, shuffle=True)\n",
    "    clf.fit(X_selected, y_selected)\n",
    "    return clf, X_selected, X_not_selected, y_selected, y_not_selected"
   ]
  },
  {
   "cell_type": "code",
   "execution_count": 48,
   "metadata": {
    "colab": {
     "base_uri": "https://localhost:8080/"
    },
    "id": "e9d-RJVpwHCJ",
    "outputId": "388b87d5-16fd-4656-ab76-27c69a3cf84a"
   },
   "outputs": [
    {
     "name": "stderr",
     "output_type": "stream",
     "text": [
      "100%|██████████| 5/5 [00:07<00:00,  1.53s/it]"
     ]
    },
    {
     "name": "stdout",
     "output_type": "stream",
     "text": [
      "[Experiment(n_samples=100, repeat=0, accuracy=0.8333333333333334), Experiment(n_samples=200, repeat=0, accuracy=0.9466666666666667), Experiment(n_samples=300, repeat=0, accuracy=0.9444444444444444), Experiment(n_samples=400, repeat=0, accuracy=0.9533333333333334), Experiment(n_samples=500, repeat=0, accuracy=0.9733333333333334), Experiment(n_samples=600, repeat=0, accuracy=0.9622222222222222), Experiment(n_samples=700, repeat=0, accuracy=0.9688888888888889), Experiment(n_samples=800, repeat=0, accuracy=0.9733333333333334), Experiment(n_samples=900, repeat=0, accuracy=0.9644444444444444), Experiment(n_samples=100, repeat=1, accuracy=0.7644444444444445), Experiment(n_samples=200, repeat=1, accuracy=0.9022222222222223), Experiment(n_samples=300, repeat=1, accuracy=0.92), Experiment(n_samples=400, repeat=1, accuracy=0.94), Experiment(n_samples=500, repeat=1, accuracy=0.9488888888888889), Experiment(n_samples=600, repeat=1, accuracy=0.9555555555555556), Experiment(n_samples=700, repeat=1, accuracy=0.9444444444444444), Experiment(n_samples=800, repeat=1, accuracy=0.9511111111111111), Experiment(n_samples=900, repeat=1, accuracy=0.9644444444444444), Experiment(n_samples=100, repeat=2, accuracy=0.88), Experiment(n_samples=200, repeat=2, accuracy=0.9088888888888889), Experiment(n_samples=300, repeat=2, accuracy=0.9333333333333333), Experiment(n_samples=400, repeat=2, accuracy=0.9266666666666666), Experiment(n_samples=500, repeat=2, accuracy=0.9488888888888889), Experiment(n_samples=600, repeat=2, accuracy=0.96), Experiment(n_samples=700, repeat=2, accuracy=0.9688888888888889), Experiment(n_samples=800, repeat=2, accuracy=0.9711111111111111), Experiment(n_samples=900, repeat=2, accuracy=0.98), Experiment(n_samples=100, repeat=3, accuracy=0.8), Experiment(n_samples=200, repeat=3, accuracy=0.9), Experiment(n_samples=300, repeat=3, accuracy=0.9422222222222222), Experiment(n_samples=400, repeat=3, accuracy=0.9444444444444444), Experiment(n_samples=500, repeat=3, accuracy=0.9533333333333334), Experiment(n_samples=600, repeat=3, accuracy=0.96), Experiment(n_samples=700, repeat=3, accuracy=0.9688888888888889), Experiment(n_samples=800, repeat=3, accuracy=0.9644444444444444), Experiment(n_samples=900, repeat=3, accuracy=0.9733333333333334), Experiment(n_samples=100, repeat=4, accuracy=0.8466666666666667), Experiment(n_samples=200, repeat=4, accuracy=0.9244444444444444), Experiment(n_samples=300, repeat=4, accuracy=0.9266666666666666), Experiment(n_samples=400, repeat=4, accuracy=0.9444444444444444), Experiment(n_samples=500, repeat=4, accuracy=0.9644444444444444), Experiment(n_samples=600, repeat=4, accuracy=0.96), Experiment(n_samples=700, repeat=4, accuracy=0.9644444444444444), Experiment(n_samples=800, repeat=4, accuracy=0.9733333333333334), Experiment(n_samples=900, repeat=4, accuracy=0.9711111111111111)]\n"
     ]
    },
    {
     "name": "stderr",
     "output_type": "stream",
     "text": [
      "\n"
     ]
    }
   ],
   "source": [
    "def evaluate(model, X_real, y_real):\n",
    "    y_predictions = model.predict(X_test)\n",
    "    accuracy = metrics.accuracy_score(y_real,y_predictions)\n",
    "    #print(f\"{accuracy}\")\n",
    "    return accuracy\n",
    "\n",
    "@dataclass\n",
    "class Experiment:\n",
    "    n_samples: int\n",
    "    repeat: int\n",
    "    accuracy: float\n",
    "\n",
    "def random_sampling_policy(model, n_new_samples, X_remaining, y_remaining):\n",
    "    #print(\"n_new_samples \",n_new_samples)\n",
    "    X_new_selected, X_remaining, y_new_selected, y_remaining = \\\n",
    "               train_test_split(X_remaining, y_remaining,  train_size=n_new_samples, shuffle=True)\n",
    "    return X_new_selected, X_remaining, y_new_selected, y_remaining\n",
    "\n",
    "def uncertainty_sampling_policy(model, n_new_samples, X_remaining, y_remaining):\n",
    "    y_proba = model.predict_proba(X_remaining)\n",
    "    uncertainty = 1.-np.max(y_proba, axis=1)\n",
    "    #print(uncertainty)\n",
    "    selected = -uncertainty.argsort()[:n_new_samples]\n",
    "    non_selected = -uncertainty.argsort()[n_new_samples:]\n",
    "    return X_remaining[selected], X_remaining[non_selected], y_remaining[selected], y_remaining[non_selected]\n",
    "\n",
    "def learning_curve(data_points, repeats, selection_policy):\n",
    "    experiments = []\n",
    "    for i in tqdm(range(repeats)):\n",
    "        # First learn \n",
    "        n_samples = data_points[0]\n",
    "        #print(\"n_samples\",n_samples)\n",
    "        model, X_selected, X_remaining, y_selected, y_remaining = \\\n",
    "            random_selection_learning(n_samples, X_train, y_train)\n",
    "        acc = evaluate(model, X_test, y_test)\n",
    "        experiments.append(Experiment(n_samples=n_samples, repeat=i, accuracy=acc))\n",
    "        for n_samples in data_points[1:]:\n",
    "            # Select the additional examples\n",
    "            n_new_samples = n_samples - len(X_selected)\n",
    "            \n",
    "            X_new_selected, X_remaining, y_new_selected, y_remaining = \\\n",
    "                selection_policy(model, n_new_samples, X_remaining, y_remaining)\n",
    "            \n",
    "            X_selected = np.vstack((X_selected, X_new_selected))\n",
    "            y_selected = np.hstack((y_selected, y_new_selected))\n",
    "            #print(X_selected.shape, y_selected.shape)\n",
    "            model.fit(X_selected, y_selected)\n",
    "            acc = evaluate(model, X_test, y_test)\n",
    "            experiments.append(Experiment(n_samples=n_samples, repeat=i, accuracy=acc))\n",
    "            \n",
    "    #print(\"mean n 100\", mean_n100)\n",
    "    #print(mean_n)\n",
    "    return experiments\n",
    "\n",
    "experiments = learning_curve(data_points, 5, uncertainty_sampling_policy)\n",
    "print(experiments)\n",
    "#print(\"Non-100 array\",mn)"
   ]
  },
  {
   "cell_type": "code",
   "execution_count": 49,
   "metadata": {},
   "outputs": [
    {
     "name": "stdout",
     "output_type": "stream",
     "text": [
      "{'n_samples': 100, 'repeat': 0, 'accuracy': 0.8333333333333334}\n"
     ]
    }
   ],
   "source": [
    "print(dataclasses.asdict(experiments[0]))"
   ]
  },
  {
   "cell_type": "code",
   "execution_count": 50,
   "metadata": {},
   "outputs": [
    {
     "name": "stdout",
     "output_type": "stream",
     "text": [
      "    n_samples  repeat  accuracy\n",
      "0         100       0  0.833333\n",
      "1         200       0  0.946667\n",
      "2         300       0  0.944444\n",
      "3         400       0  0.953333\n",
      "4         500       0  0.973333\n",
      "5         600       0  0.962222\n",
      "6         700       0  0.968889\n",
      "7         800       0  0.973333\n",
      "8         900       0  0.964444\n",
      "9         100       1  0.764444\n",
      "10        200       1  0.902222\n",
      "11        300       1  0.920000\n",
      "12        400       1  0.940000\n",
      "13        500       1  0.948889\n",
      "14        600       1  0.955556\n",
      "15        700       1  0.944444\n",
      "16        800       1  0.951111\n",
      "17        900       1  0.964444\n",
      "18        100       2  0.880000\n",
      "19        200       2  0.908889\n",
      "20        300       2  0.933333\n",
      "21        400       2  0.926667\n",
      "22        500       2  0.948889\n",
      "23        600       2  0.960000\n",
      "24        700       2  0.968889\n",
      "25        800       2  0.971111\n",
      "26        900       2  0.980000\n",
      "27        100       3  0.800000\n",
      "28        200       3  0.900000\n",
      "29        300       3  0.942222\n",
      "30        400       3  0.944444\n",
      "31        500       3  0.953333\n",
      "32        600       3  0.960000\n",
      "33        700       3  0.968889\n",
      "34        800       3  0.964444\n",
      "35        900       3  0.973333\n",
      "36        100       4  0.846667\n",
      "37        200       4  0.924444\n",
      "38        300       4  0.926667\n",
      "39        400       4  0.944444\n",
      "40        500       4  0.964444\n",
      "41        600       4  0.960000\n",
      "42        700       4  0.964444\n",
      "43        800       4  0.973333\n",
      "44        900       4  0.971111\n"
     ]
    }
   ],
   "source": [
    "df = pd.DataFrame([dataclasses.asdict(e) for e in experiments])\n",
    "print(df)"
   ]
  },
  {
   "cell_type": "code",
   "execution_count": 53,
   "metadata": {},
   "outputs": [],
   "source": [
    "def plot_learning_curve(df, name):\n",
    "    # Compute percentiles\n",
    "    p10 = df.groupby('n_samples').quantile(.10)['accuracy']\n",
    "    p50 = df.groupby('n_samples').median()['accuracy']\n",
    "    p90 = df.groupby('n_samples').quantile(.90)['accuracy']\n",
    "    training_sizes= p50.index.to_numpy()\n",
    "\n",
    "    with plt.style.context('seaborn-white'):\n",
    "        plt.title('Learning curve for classifier '+name)\n",
    "        plt.plot(training_sizes, p50, label='Accuracy', marker='o',color='k')\n",
    "\n",
    "        # show standard deviation\n",
    "        plt.fill_between(training_sizes, p10, p90,color='blue',alpha=0.1,label='10-90 IQ')\n",
    "    plt.legend(loc='upper left')\n",
    "    plt.xlabel(\"N sample\")\n",
    "    plt.ylabel(\"Accuracy\")\n",
    "    plt.grid()\n",
    "    #plt.show()"
   ]
  },
  {
   "cell_type": "code",
   "execution_count": 54,
   "metadata": {},
   "outputs": [
    {
     "data": {
      "image/png": "[encoded data removed]",
      "text/plain": [
       "<Figure size 432x288 with 1 Axes>"
      ]
     },
     "metadata": {},
     "output_type": "display_data"
    }
   ],
   "source": [
    "plot_learning_curve(df_random,\"Random\")\n",
    "plot_learning_curve(df_us,\"Uncertainty\")"
   ]
  },
  {
   "cell_type": "code",
   "execution_count": null,
   "metadata": {},
   "outputs": [],
   "source": []
  }
 ],
 "metadata": {
  "colab": {
   "authorship_tag": "ABX9TyNBe48WJ1dcQR+gyddsBKAG",
   "collapsed_sections": [
    "7wSC51HM5mkl",
    "ZX_iezA55cac",
    "KaDX73S75jtz",
    "QQU1DFUJao-i"
   ],
   "include_colab_link": true,
   "name": "Digits_RS.ipynb",
   "provenance": []
  },
  "kernelspec": {
   "display_name": "Python 3",
   "language": "python",
   "name": "python3"
  },
  "language_info": {
   "codemirror_mode": {
    "name": "ipython",
    "version": 3
   },
   "file_extension": ".py",
   "mimetype": "text/x-python",
   "name": "python",
   "nbconvert_exporter": "python",
   "pygments_lexer": "ipython3",
   "version": "3.7.4"
  }
 },
 "nbformat": 4,
 "nbformat_minor": 1
}
