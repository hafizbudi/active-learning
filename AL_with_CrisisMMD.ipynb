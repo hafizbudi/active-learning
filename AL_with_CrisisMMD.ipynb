{
  "nbformat": 4,
  "nbformat_minor": 0,
  "metadata": {
    "colab": {
      "name": "AL_with_CrisisMMD.ipynb",
      "provenance": [],
      "collapsed_sections": [],
      "machine_shape": "hm",
      "authorship_tag": "ABX9TyP5TQMVWkVpt2xwSlXrtjDD",
      "include_colab_link": true
    },
    "kernelspec": {
      "name": "python3",
      "display_name": "Python 3"
    },
    "language_info": {
      "name": "python"
    }
  },
  "cells": [
    {
      "cell_type": "markdown",
      "metadata": {
        "id": "view-in-github",
        "colab_type": "text"
      },
      "source": [
        "<a href=\"https://colab.research.google.com/github/hafizbudi/active-learning/blob/main/AL_with_CrisisMMD.ipynb\" target=\"_parent\"><img src=\"https://colab.research.google.com/assets/colab-badge.svg\" alt=\"Open In Colab\"/></a>"
      ]
    },
    {
      "cell_type": "code",
      "metadata": {
        "id": "sO5UyHeHxJGM"
      },
      "source": [
        "from google.colab import drive\n",
        "drive.mount('/content/gdrive')\n",
        "%cd gdrive/My Drive/Project/multimodal_social_media"
      ],
      "execution_count": null,
      "outputs": []
    },
    {
      "cell_type": "code",
      "metadata": {
        "id": "2ZMKDDe0xcDv"
      },
      "source": [
        "pip install modal"
      ],
      "execution_count": null,
      "outputs": []
    },
    {
      "cell_type": "code",
      "metadata": {
        "id": "lIbF2Dugxegw"
      },
      "source": [
        "from sklearn.datasets import load_digits\n",
        "from sklearn.model_selection import train_test_split\n",
        "from sklearn.ensemble import RandomForestClassifier\n",
        "from sklearn import datasets, metrics\n",
        "\n",
        "import matplotlib.pyplot as plt\n",
        "import numpy as np\n",
        "import pandas as pd\n",
        "import cv2\n",
        "from modAL.models import ActiveLearner\n",
        "from modAL.uncertainty import uncertainty_sampling\n",
        "from modAL.uncertainty import margin_sampling\n",
        "from modAL.uncertainty import entropy_sampling\n",
        "\n",
        "from tqdm import tqdm\n",
        "from sklearn.metrics import classification_report\n",
        "from sklearn.neighbors import KNeighborsClassifier\n",
        "import time"
      ],
      "execution_count": 6,
      "outputs": []
    },
    {
      "cell_type": "code",
      "metadata": {
        "id": "ebIBBu0nxhP8"
      },
      "source": [
        "def load_data(filename, nb_instance):\n",
        "  df = pd.read_csv(filename,sep=\"\\t\",nrows=nb_instance)\n",
        "  df.label_image = pd.Categorical(df.label_image)\n",
        "  df['label_image_code'] = df.label_image.cat.codes\n",
        "\n",
        "  df[['image','label_image','label_image_code']]\n",
        "\n",
        "  df.describe()\n",
        "  return df\n",
        "\n",
        "def pre_process_image(data):\n",
        "  img_arr = []\n",
        "  for index,row in data.iterrows():\n",
        "    read_img = cv2.imread(row['image'],0)\n",
        "    img_resize = cv2.resize(read_img,(224,224))\n",
        "    img_ravel = img_resize.ravel()\n",
        "    img_arr.append(img_ravel)\n",
        "\n",
        "  img_np = np.array(img_arr)\n",
        "\n",
        "  return img_np\n",
        "\n",
        "def random_selection_learning(n_instances, X_train, y_train):\n",
        "  clf = RandomForestClassifier()\n",
        "  X_selected, X_non_selected, y_selected, y_non_selected = train_test_split(X_train,y_train,train_size=n_instances,shuffle=True)\n",
        "  clf.fit(X_selected,y_selected)\n",
        "\n",
        "  return clf, X_selected, X_non_selected, y_selected, y_non_selected\n",
        "\n",
        "def evaluate(model, X_real, y_real):\n",
        "  y_predictions = model.predict(X_real)\n",
        "  accuracy = metrics.accuracy_score(y_predictions,y_real)\n",
        "\n",
        "  return accuracy\n",
        "\n",
        "def random_forest_score(n_initial,n_queries,sampling):\n",
        "  start_time = time.time()\n",
        "  acc_all = []\n",
        " \n",
        "  for i in n_initial:\n",
        "    \n",
        "    initial_idx = np.random.choice(range(len(X_train)), size=i, replace=False)\n",
        "    X_initial, y_initial = X_train[initial_idx], y_train[initial_idx]\n",
        "\n",
        "    X_pool,y_pool = np.delete(X_train, initial_idx, axis=0), np.delete(y_train, initial_idx, axis=0)\n",
        "    \n",
        "    learner = ActiveLearner(\n",
        "            estimator=RandomForestClassifier(),\n",
        "            query_strategy=sampling,\n",
        "            X_training=X_initial,y_training=y_initial\n",
        "            )\n",
        " \n",
        "    for j in range(n_queries):\n",
        "      res = [learner.score(X_test,y_test)]\n",
        "      query_idx, query_inst = learner.query(X_pool)\n",
        "      learner.teach(query_inst, y_pool[query_idx])\n",
        "      X_pool, y_pool = np.delete(X_pool, query_idx, axis=0), np.delete(y_pool, query_idx, axis=0)\n",
        "\n",
        "    acc = learner.score(X_test,y_test)\n",
        "    acc_all.append(acc)\n",
        "\n",
        "\n",
        "  final_time = time.time() - start_time\n",
        "\n",
        "  predictions = learner.predict(X_test)\n",
        "  res_classification = classification_report(y_test, predictions)\n",
        "\n",
        "  print(\"--- %s seconds ---\" % (final_time))\n",
        "\n",
        "  return res_classification, acc_all, final_time"
      ],
      "execution_count": 28,
      "outputs": []
    },
    {
      "cell_type": "code",
      "metadata": {
        "id": "2z3ZhP5zxkWn"
      },
      "source": [
        "n_initial = range(20,1000,100)\n",
        "n_queries = 20"
      ],
      "execution_count": 20,
      "outputs": []
    },
    {
      "cell_type": "code",
      "metadata": {
        "id": "JZaNlvLOxwKh",
        "colab": {
          "base_uri": "https://localhost:8080/"
        },
        "outputId": "e70a6da8-1f7c-456f-ad39-097f0dbf5785"
      },
      "source": [
        "# Load CrisisMMD data\n",
        "\n",
        "start_time = time.time()\n",
        "\n",
        "train_instance = 9601\n",
        "test_instance = 1534\n",
        "\n",
        "train_filename = \"data/task_data/task_informative_text_img_agreed_lab_train.tsv\"\n",
        "test_filename = \"data/task_data/task_informative_text_img_agreed_lab_test.tsv\"\n",
        "\n",
        "data_train = load_data(train_filename,train_instance)\n",
        "data_images_train = pre_process_image(data_train)\n",
        "\n",
        "data_test = load_data(test_filename,test_instance)\n",
        "data_image_test = pre_process_image(data_test)\n",
        "\n",
        "X_train = data_images_train.reshape(train_instance,-1)\n",
        "y_train = data_train['label_image_code'].values\n",
        "\n",
        "X_test = data_image_test.reshape(test_instance,-1)\n",
        "y_test = data_test['label_image_code'].values\n",
        "\n",
        "final_time = time.time() - start_time\n",
        "print(\"--- %s seconds ---\" % (final_time))"
      ],
      "execution_count": 10,
      "outputs": [
        {
          "output_type": "stream",
          "text": [
            "--- 223.36646056175232 seconds ---\n"
          ],
          "name": "stdout"
        }
      ]
    },
    {
      "cell_type": "code",
      "metadata": {
        "colab": {
          "base_uri": "https://localhost:8080/",
          "height": 332
        },
        "id": "8GQUEIRRFKMr",
        "outputId": "476f8e13-a9d0-4751-adc0-733f4282cb35"
      },
      "source": [
        "print(\"Train data distribution\")\n",
        "\n",
        "notinf_y_train = y_train[y_train == 1]\n",
        "len_notinf = len(notinf_y_train)\n",
        "print(\"Not Informative \",len_notinf)\n",
        "\n",
        "inf_y_train = y_train[y_train == 0]\n",
        "len_inf = len(inf_y_train)\n",
        "print(\"Informative \",len_inf)\n",
        "\n",
        "labels = ('Informative','Not Informative')\n",
        "y_pos = np.arange(len(labels))\n",
        "\n",
        "size = [len_inf,len_notinf]\n",
        "plt.bar(y_pos,size,align='center',alpha=0.5)\n",
        "plt.xticks(y_pos,labels)\n",
        "plt.ylabel('Size')\n",
        "plt.title('Data Training Distribution')\n",
        "\n",
        "plt.show()"
      ],
      "execution_count": 21,
      "outputs": [
        {
          "output_type": "stream",
          "text": [
            "Train data distribution\n",
            "Not Informative  3256\n",
            "Informative  6345\n"
          ],
          "name": "stdout"
        },
        {
          "output_type": "display_data",
          "data": {
            "image/png": "[encoded data removed]",
            "text/plain": [
              "<Figure size 432x288 with 1 Axes>"
            ]
          },
          "metadata": {
            "tags": [],
            "needs_background": "light"
          }
        }
      ]
    },
    {
      "cell_type": "code",
      "metadata": {
        "colab": {
          "base_uri": "https://localhost:8080/",
          "height": 332
        },
        "id": "T6NSbLF7FTPe",
        "outputId": "c3b1f574-21c3-4728-e6ce-88164cc15909"
      },
      "source": [
        "print(\"Test data distribution\")\n",
        "\n",
        "notinf_y_test = y_test[y_test == 1]\n",
        "len_notinf_test = len(notinf_y_test)\n",
        "print(\"Not Informative \",len_notinf_test)\n",
        "\n",
        "inf_y_test = y_test[y_test == 0]\n",
        "len_inf_test = len(inf_y_test)\n",
        "print(\"Informative \",len_inf_test)\n",
        "\n",
        "labels = ('Informative','Not Informative')\n",
        "y_pos = np.arange(len(labels))\n",
        "\n",
        "size = [len_inf_test,len_notinf_test]\n",
        "plt.bar(y_pos,size,align='center',alpha=0.5)\n",
        "plt.xticks(y_pos,labels)\n",
        "plt.ylabel('Size')\n",
        "plt.title('Data Testing Distribution')\n",
        "\n",
        "plt.show()"
      ],
      "execution_count": 22,
      "outputs": [
        {
          "output_type": "stream",
          "text": [
            "Test data distribution\n",
            "Not Informative  504\n",
            "Informative  1030\n"
          ],
          "name": "stdout"
        },
        {
          "output_type": "display_data",
          "data": {
            "image/png": "[encoded data removed]",
            "text/plain": [
              "<Figure size 432x288 with 1 Axes>"
            ]
          },
          "metadata": {
            "tags": [],
            "needs_background": "light"
          }
        }
      ]
    },
    {
      "cell_type": "code",
      "metadata": {
        "colab": {
          "base_uri": "https://localhost:8080/"
        },
        "id": "TsYKtQaRf7sF",
        "outputId": "36626cfc-f4d8-4510-fa0d-a9ad7b6831c8"
      },
      "source": [
        "result_rf_uncertainty, result_rf_acc_uncertainty, result_rf_time_uncertainty = random_forest_score(n_initial,n_queries,uncertainty_sampling)\n",
        "print(\"Uncertainty : \")\n",
        "print(result_rf_uncertainty)\n",
        "\n",
        "result_rf_margin, result_rf_acc_margin, result_rf_time_margin = random_forest_score(n_initial,n_queries,margin_sampling)\n",
        "print(\"Margin : \")\n",
        "print(result_rf_margin)\n",
        "\n",
        "result_rf_entropy, result_rf_acc_entropy, result_rf_time_entropy = random_forest_score(n_initial,n_queries,entropy_sampling)\n",
        "print(\"Entropy : \")\n",
        "print(result_rf_entropy)\n"
      ],
      "execution_count": 29,
      "outputs": [
        {
          "output_type": "stream",
          "text": [
            "--- 1513.8392980098724 seconds ---\n",
            "Uncertainty : \n",
            "              precision    recall  f1-score   support\n",
            "\n",
            "           0       0.73      0.92      0.81      1030\n",
            "           1       0.65      0.29      0.40       504\n",
            "\n",
            "    accuracy                           0.72      1534\n",
            "   macro avg       0.69      0.61      0.61      1534\n",
            "weighted avg       0.70      0.72      0.68      1534\n",
            "\n",
            "--- 1494.2236573696136 seconds ---\n",
            "Margin : \n",
            "              precision    recall  f1-score   support\n",
            "\n",
            "           0       0.72      0.91      0.80      1030\n",
            "           1       0.59      0.28      0.38       504\n",
            "\n",
            "    accuracy                           0.70      1534\n",
            "   macro avg       0.66      0.59      0.59      1534\n",
            "weighted avg       0.68      0.70      0.66      1534\n",
            "\n",
            "--- 1484.075514793396 seconds ---\n",
            "Entropy : \n",
            "              precision    recall  f1-score   support\n",
            "\n",
            "           0       0.72      0.92      0.80      1030\n",
            "           1       0.61      0.27      0.37       504\n",
            "\n",
            "    accuracy                           0.70      1534\n",
            "   macro avg       0.66      0.59      0.59      1534\n",
            "weighted avg       0.68      0.70      0.66      1534\n",
            "\n"
          ],
          "name": "stdout"
        }
      ]
    },
    {
      "cell_type": "code",
      "metadata": {
        "colab": {
          "base_uri": "https://localhost:8080/"
        },
        "id": "q4vPwG8LbKUm",
        "outputId": "b564d812-64ed-4058-db7d-babf65aeae62"
      },
      "source": [
        "print(result_rf_acc_uncertainty)\n",
        "print(result_rf_acc_margin)\n",
        "print(result_rf_acc_entropy)"
      ],
      "execution_count": 30,
      "outputs": [
        {
          "output_type": "stream",
          "text": [
            "[0.7046936114732725, 0.7053455019556715, 0.6929595827900913, 0.7079530638852672, 0.6988265971316818, 0.7059973924380704, 0.6838331160365059, 0.7053455019556715, 0.7033898305084746, 0.7157757496740548]\n",
            "[0.6460234680573663, 0.6694915254237288, 0.6701434159061278, 0.7079530638852672, 0.7066492829204694, 0.6936114732724902, 0.7066492829204694, 0.71251629726206, 0.7027379400260756, 0.7007822685788787]\n",
            "[0.6590612777053455, 0.6831812255541069, 0.682529335071708, 0.6949152542372882, 0.6916558018252934, 0.6949152542372882, 0.711864406779661, 0.7073011734028684, 0.7046936114732725, 0.7020860495436767]\n"
          ],
          "name": "stdout"
        }
      ]
    },
    {
      "cell_type": "code",
      "metadata": {
        "colab": {
          "base_uri": "https://localhost:8080/"
        },
        "id": "Ag0qs1q_jf2O",
        "outputId": "42daa874-688d-4d4a-a5ec-1b72aa1f9dac"
      },
      "source": [
        "# Random sampling\n",
        "\n",
        "def random_selection_learning(n_instances, X_train, y_train):\n",
        "    clf = RandomForestClassifier()\n",
        "   \n",
        "    X_selected, X_not_selected, y_selec ted, y_not_selected = \\\n",
        "        train_test_split(X_train, y_train, train_size=n_instances, shuffle=True)\n",
        "    clf.fit(X_selected, y_selected)\n",
        "    return clf, X_selected, X_not_selected, y_selected, y_not_selected\n",
        "\n",
        "def random_sampling_policy(model, n_new_samples, X_remaining, y_remaining):\n",
        "    X_new_selected, X_remaining, y_new_selected, y_remaining = \\\n",
        "               train_test_split(X_remaining, y_remaining,  train_size=n_new_samples, shuffle=True)\n",
        "    return X_new_selected, X_remaining, y_new_selected, y_remaining\n",
        "\n",
        "def evaluate(model, X_real, y_real):\n",
        "    y_predictions = model.predict(X_test)\n",
        "    accuracy = metrics.accuracy_score(y_real,y_predictions)\n",
        "    #print(f\"{accuracy}\")\n",
        "    return accuracy\n",
        "\n",
        "def learning_curve(data_points, repeats, selection_policy):\n",
        "    start_time = time.time()\n",
        "    experiments = []\n",
        "    for i in tqdm(range(repeats)):\n",
        "        np.random.seed(123)\n",
        "        # First learn \n",
        "        n_samples = data_points[0]\n",
        "        model, X_selected, X_remaining, y_selected, y_remaining = \\\n",
        "            random_selection_learning(n_samples, X_train, y_train)\n",
        "        acc_random = evaluate(model, X_test, y_test)\n",
        "        experiments.append(acc_random)\n",
        "        for n_samples in data_points[1:]:\n",
        "            # Select the additional examples\n",
        "            n_new_samples = n_samples - len(X_selected)\n",
        "      \n",
        "            X_new_selected, X_remaining, y_new_selected, y_remaining = \\\n",
        "                selection_policy(model, n_new_samples, X_remaining, y_remaining)\n",
        "            \n",
        "            X_selected = np.vstack((X_selected, X_new_selected))\n",
        "            y_selected = np.hstack((y_selected, y_new_selected))\n",
        "      \n",
        "            model.fit(X_selected, y_selected)\n",
        "            acc_random = evaluate(model, X_test, y_test)\n",
        "            experiments.append(acc_random)\n",
        "\n",
        "    final_time = time.time() - start_time\n",
        "\n",
        "    predictions = model.predict(X_test)\n",
        "    res_classification = classification_report(y_test, predictions)\n",
        "\n",
        "    print(\"--- %s seconds ---\" % (final_time))\n",
        "    return experiments, res_classification, final_time\n",
        "\n",
        "n_initial = range(40,1000,100)\n",
        "acc_random, res_random, time_random = learning_curve(n_initial,1, random_sampling_policy)\n"
      ],
      "execution_count": 31,
      "outputs": [
        {
          "output_type": "stream",
          "text": [
            "100%|██████████| 1/1 [01:08<00:00, 68.69s/it]"
          ],
          "name": "stderr"
        },
        {
          "output_type": "stream",
          "text": [
            "--- 68.69461441040039 seconds ---\n"
          ],
          "name": "stdout"
        },
        {
          "output_type": "stream",
          "text": [
            "\n"
          ],
          "name": "stderr"
        }
      ]
    },
    {
      "cell_type": "code",
      "metadata": {
        "colab": {
          "base_uri": "https://localhost:8080/"
        },
        "id": "Ghj5k0QRAIKF",
        "outputId": "0c962ebb-2b80-4bac-e75a-53e42ae9a157"
      },
      "source": [
        "print(res_random)"
      ],
      "execution_count": 32,
      "outputs": [
        {
          "output_type": "stream",
          "text": [
            "              precision    recall  f1-score   support\n",
            "\n",
            "           0       0.72      0.91      0.80      1030\n",
            "           1       0.59      0.28      0.38       504\n",
            "\n",
            "    accuracy                           0.70      1534\n",
            "   macro avg       0.66      0.59      0.59      1534\n",
            "weighted avg       0.68      0.70      0.66      1534\n",
            "\n"
          ],
          "name": "stdout"
        }
      ]
    },
    {
      "cell_type": "code",
      "metadata": {
        "colab": {
          "base_uri": "https://localhost:8080/",
          "height": 349
        },
        "id": "uJP4R-PdLVkA",
        "outputId": "94e73864-2567-4f8c-86cb-ce36349b7e0f"
      },
      "source": [
        "print(\"Uncertainty avg: \",np.mean(result_rf_acc_uncertainty))\n",
        "print(\"Margin avg: \",np.mean(result_rf_acc_margin))\n",
        "print(\"Entropy avg: \",np.mean(result_rf_acc_entropy))\n",
        "print(\"Random avg: \",np.mean(acc_random))\n",
        "df = pd.DataFrame({'x_values':n_initial,'acc_uncertainty':np.array(result_rf_acc_uncertainty),'acc_margin':np.array(result_rf_acc_margin),'acc_entropy':np.array(result_rf_acc_entropy),'acc_random':np.array(acc_random)})\n",
        "\n",
        "width_height_1 = (10, 4)\n",
        "plt.figure(figsize=width_height_1)\n",
        "\n",
        "plt.plot('x_values','acc_uncertainty',data=df,color='gray',marker='v')\n",
        "plt.plot('x_values','acc_margin',data=df,color='red',marker='o')\n",
        "plt.plot('x_values','acc_entropy',data=df,color='gray',marker='s')\n",
        "plt.plot('x_values','acc_random',data=df,color='blue',marker='D')\n",
        "plt.title('Accuracy comparison')\n",
        "plt.legend()\n",
        "plt.grid()\n",
        "plt.show()"
      ],
      "execution_count": 33,
      "outputs": [
        {
          "output_type": "stream",
          "text": [
            "Uncertainty avg:  0.7024119947848761\n",
            "Margin avg:  0.6916558018252934\n",
            "Entropy avg:  0.6932203389830509\n",
            "Random avg:  0.6942633637548892\n"
          ],
          "name": "stdout"
        },
        {
          "output_type": "display_data",
          "data": {
            "image/png": "[encoded data removed]",
            "text/plain": [
              "<Figure size 720x288 with 1 Axes>"
            ]
          },
          "metadata": {
            "tags": [],
            "needs_background": "light"
          }
        }
      ]
    }
  ]
}