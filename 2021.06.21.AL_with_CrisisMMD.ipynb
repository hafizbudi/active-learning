{
 "cells": [
  {
   "cell_type": "markdown",
   "metadata": {
    "colab_type": "text",
    "id": "view-in-github"
   },
   "source": [
    "<a href=\"https://colab.research.google.com/github/hafizbudi/active-learning/blob/main/AL_with_CrisisMMD.ipynb\" target=\"_parent\"><img src=\"https://colab.research.google.com/assets/colab-badge.svg\" alt=\"Open In Colab\"/></a>"
   ]
  },
  {
   "cell_type": "code",
   "execution_count": null,
   "metadata": {
    "id": "sO5UyHeHxJGM"
   },
   "outputs": [],
   "source": [
    "from google.colab import drive\n",
    "drive.mount('/content/gdrive')\n",
    "%cd gdrive/My Drive/Project/multimodal_social_media"
   ]
  },
  {
   "cell_type": "code",
   "execution_count": 64,
   "metadata": {
    "id": "2ZMKDDe0xcDv"
   },
   "outputs": [
    {
     "name": "stdout",
     "output_type": "stream",
     "text": [
      "Requirement already satisfied: modal in ./.venv/lib/python3.7/site-packages (0.4.1)\n",
      "Requirement already satisfied: pandas>=1.1.0 in ./.venv/lib/python3.7/site-packages (from modal) (1.2.4)\n",
      "Requirement already satisfied: scipy>=0.18 in ./.venv/lib/python3.7/site-packages (from modal) (1.6.3)\n",
      "Requirement already satisfied: numpy>=1.13 in ./.venv/lib/python3.7/site-packages (from modal) (1.20.2)\n",
      "Requirement already satisfied: scikit-learn>=0.18 in ./.venv/lib/python3.7/site-packages (from modal) (0.24.2)\n",
      "Requirement already satisfied: pytz>=2017.3 in ./.venv/lib/python3.7/site-packages (from pandas>=1.1.0->modal) (2021.1)\n",
      "Requirement already satisfied: python-dateutil>=2.7.3 in ./.venv/lib/python3.7/site-packages (from pandas>=1.1.0->modal) (2.8.1)\n",
      "Requirement already satisfied: six>=1.5 in ./.venv/lib/python3.7/site-packages (from python-dateutil>=2.7.3->pandas>=1.1.0->modal) (1.16.0)\n",
      "Requirement already satisfied: threadpoolctl>=2.0.0 in ./.venv/lib/python3.7/site-packages (from scikit-learn>=0.18->modal) (2.1.0)\n",
      "Requirement already satisfied: joblib>=0.11 in ./.venv/lib/python3.7/site-packages (from scikit-learn>=0.18->modal) (1.0.1)\n",
      "Note: you may need to restart the kernel to use updated packages.\n"
     ]
    }
   ],
   "source": [
    "pip install modal"
   ]
  },
  {
   "cell_type": "code",
   "execution_count": 126,
   "metadata": {
    "id": "lIbF2Dugxegw"
   },
   "outputs": [],
   "source": [
    "from sklearn.datasets import load_digits\n",
    "from sklearn.model_selection import train_test_split\n",
    "from sklearn.ensemble import RandomForestClassifier\n",
    "from sklearn.linear_model import LogisticRegression\n",
    "from sklearn import datasets, metrics\n",
    "from dataclasses import dataclass\n",
    "import dataclasses\n",
    "\n",
    "import matplotlib.pyplot as plt\n",
    "import numpy as np\n",
    "import pandas as pd\n",
    "import cv2\n",
    "from modAL.models import ActiveLearner\n",
    "from modAL.uncertainty import uncertainty_sampling\n",
    "from modAL.uncertainty import margin_sampling\n",
    "from modAL.uncertainty import entropy_sampling\n",
    "\n",
    "from tqdm import tqdm\n",
    "from sklearn.metrics import classification_report\n",
    "from sklearn.metrics import log_loss\n",
    "\n",
    "from sklearn.neighbors import KNeighborsClassifier\n",
    "import time\n",
    "import random"
   ]
  },
  {
   "cell_type": "code",
   "execution_count": 127,
   "metadata": {},
   "outputs": [],
   "source": [
    "def random_sampling(classifier, X,\n",
    "                     n_instances: int = 1, random_tie_break: bool = False):\n",
    "    \n",
    "    query_idx = np.random.choice(range(len(X)), size=n_instances, replace=False)\n",
    "    \n",
    "    return query_idx, X[query_idx]\n"
   ]
  },
  {
   "cell_type": "code",
   "execution_count": 157,
   "metadata": {
    "id": "ebIBBu0nxhP8"
   },
   "outputs": [],
   "source": [
    "@dataclass\n",
    "class Experiment:\n",
    "    n_samples: int\n",
    "    repeat: int\n",
    "    accuracy: float\n",
    "    log_loss: float\n",
    "\n",
    "# load the file\n",
    "def load_data(filename, nb_instance, all_instance):\n",
    "  n = all_instance #number of records in file\n",
    "  s = nb_instance #sample size\n",
    "  skip = sorted(random.sample(range(1,n+1),n-s))\n",
    "\n",
    "  #df = pd.read_csv(filename,sep=\"\\t\",nrows=nb_instance)\n",
    "  df = pd.read_csv(filename,sep=\"\\t\",skiprows=skip)\n",
    "\n",
    "  df.label_image = pd.Categorical(df.label_image)\n",
    "  df['label_image_code'] = df.label_image.cat.codes\n",
    "\n",
    "  df[['image','label_image','label_image_code']]\n",
    "\n",
    "  df.describe()\n",
    "  return df\n",
    "\n",
    "# read, resize and flatten into 1-dimension array\n",
    "def pre_process_image(data):\n",
    "  img_arr = []\n",
    "  for index,row in data.iterrows():\n",
    "    read_img = cv2.imread(row['image'],0)\n",
    "    img_resize = cv2.resize(read_img,(224,224))\n",
    "    img_ravel = img_resize.ravel()\n",
    "    img_arr.append(img_ravel)\n",
    "\n",
    "  img_np = np.array(img_arr)\n",
    "\n",
    "  return img_np\n",
    "\n",
    "# learning curve for active learning\n",
    "def random_forest_score_repeat(n_initial,n_queries,sampling_strategy, repeats, seed):\n",
    "  \n",
    "  start_time = time.time()\n",
    "  acc_all = []\n",
    "  experiments = []\n",
    "  \n",
    "  # repeat as much as repeats parameter\n",
    "  for k in tqdm(range(repeats)):\n",
    "    print(k)\n",
    "    np.random.seed(seed + k)\n",
    "    i = n_initial[0]\n",
    "    \n",
    "    initial_idx = np.random.choice(range(len(X_train)), size=i, replace=False)\n",
    "    print(\"Indexes for \",i,\": \",initial_idx)\n",
    "    X_initial, y_initial = X_train[initial_idx], y_train[initial_idx]\n",
    "    \n",
    "\n",
    "    X_pool,y_pool = np.delete(X_train, initial_idx, axis=0), np.delete(y_train, initial_idx, axis=0)\n",
    "\n",
    "    learner = ActiveLearner(\n",
    "              estimator=LogisticRegression(max_iter=10000),\n",
    "              #estimator=RandomForestClassifier(),\n",
    "              query_strategy=sampling_strategy,\n",
    "              X_training=X_initial,y_training=y_initial\n",
    "              )\n",
    "    acc = learner.score(X_test,y_test)\n",
    "    #acc_all.append(acc)\n",
    "\n",
    "    predictions = learner.predict_proba(X_test)\n",
    "    res_logloss = log_loss(y_test,predictions)\n",
    "\n",
    "    experiments.append(Experiment(n_samples=i, repeat=k, accuracy=acc,log_loss=res_logloss))\n",
    "    \n",
    "    for j in n_initial[1:]:\n",
    "\n",
    "      query_idx, query_inst = learner.query(X_pool, n_queries)\n",
    "      learner.teach(query_inst, y_pool[query_idx])\n",
    "      X_pool, y_pool = np.delete(X_pool, query_idx, axis=0), np.delete(y_pool, query_idx, axis=0)\n",
    "\n",
    "      acc = learner.score(X_test,y_test)\n",
    "      #acc_all.append(acc)\n",
    "      predictions = learner.predict_proba(X_test)\n",
    "      res_logloss = log_loss(y_test,predictions)\n",
    "      experiments.append(Experiment(n_samples=j, repeat=k, accuracy=acc, log_loss=res_logloss))\n",
    "\n",
    "    #predictions = learner.predict_proba(X_test)\n",
    "    #res_logloss = log_loss(y_test,predictions)\n",
    "\n",
    "    #experiments.append(Experiment(n_samples=j, repeat=k, accuracy=res_logloss))\n",
    "    \n",
    "    \n",
    "  final_time = time.time() - start_time\n",
    "  predictions = learner.predict(X_test)\n",
    "  #predictions = learner.predict_proba(X_test)\n",
    "  res_classification = classification_report(y_test, predictions)\n",
    "  #res_classification = log_loss(y_test,predictions)\n",
    "\n",
    "  print(\"--- %s seconds ---\" % (final_time))\n",
    "\n",
    "  return res_classification, acc_all, final_time, experiments"
   ]
  },
  {
   "cell_type": "code",
   "execution_count": 158,
   "metadata": {
    "id": "Ag0qs1q_jf2O"
   },
   "outputs": [],
   "source": [
    "# Random sampling\n",
    "\n",
    "# random selection from X train\n",
    "def random_selection_learning(n_instances, X_train, y_train,i,seed):\n",
    "    clf = LogisticRegression()\n",
    "    np.random.seed(seed+i)\n",
    "   \n",
    "\n",
    "    initial_idx = np.random.choice(range(len(X_train)), size=n_instances, replace=False)\n",
    "    print(\"Indexes for \",i,\": \",initial_idx)\n",
    "    \n",
    "    X_initial, y_initial = X_train[initial_idx], y_train[initial_idx]\n",
    "\n",
    "    X_pool,y_pool = np.delete(X_train, initial_idx, axis=0), np.delete(y_train, initial_idx, axis=0)\n",
    "    clf = RandomForestClassifier()\n",
    "    clf.fit(X_initial, y_initial)\n",
    "\n",
    "    return clf, X_initial, X_pool, y_initial, y_pool\n",
    "\n",
    "def random_sampling_policy(model, n_new_samples, X_remaining, y_remaining):\n",
    "    X_new_selected, X_remaining, y_new_selected, y_remaining = \\\n",
    "               train_test_split(X_remaining, y_remaining,  train_size=n_new_samples, shuffle=True)\n",
    "    return X_new_selected, X_remaining, y_new_selected, y_remaining\n",
    "\n",
    "# evaluate model performance\n",
    "def evaluate(model, X_real, y_real):\n",
    "    y_predictions = model.predict(X_test)\n",
    "    accuracy = metrics.accuracy_score(y_real,y_predictions)\n",
    "    \n",
    "    return accuracy\n",
    "\n",
    "def learning_curve(data_points, repeats, selection_policy, seed):\n",
    "    start_time = time.time()\n",
    "    experiments = []\n",
    "    for i in tqdm(range(repeats)):\n",
    "        #np.random.seed(seed+i)\n",
    "        #np.random.seed(123)\n",
    "        # First learn \n",
    "        n_samples = data_points[0]\n",
    "        model, X_selected, X_remaining, y_selected, y_remaining = \\\n",
    "            random_selection_learning(n_samples, X_train, y_train,i,seed)\n",
    "\n",
    "        predictions = model.predict_proba(X_test)\n",
    "        res_logloss = log_loss(y_test,predictions)\n",
    "\n",
    "        acc = evaluate(model, X_test, y_test)\n",
    "\n",
    "        experiments.append(Experiment(n_samples=n_samples, repeat=i, accuracy=acc, log_loss=res_logloss))\n",
    "        for n_samples in data_points[1:]:\n",
    "            # Select the additional examples\n",
    "            n_new_samples = n_samples - len(X_selected)\n",
    "      \n",
    "            X_new_selected, X_remaining, y_new_selected, y_remaining = \\\n",
    "                selection_policy(model, n_new_samples, X_remaining, y_remaining)\n",
    "            \n",
    "            X_selected = np.vstack((X_selected, X_new_selected))\n",
    "            y_selected = np.hstack((y_selected, y_new_selected))\n",
    "      \n",
    "            model.fit(X_selected, y_selected)\n",
    "           \n",
    "            acc = evaluate(model, X_test, y_test)\n",
    "            predictions = model.predict_proba(X_test)\n",
    "            res_logloss = log_loss(y_test,predictions)\n",
    "\n",
    "            experiments.append(Experiment(n_samples=n_samples, repeat=i, accuracy=acc, log_loss=res_logloss))\n",
    "    final_time = time.time() - start_time\n",
    "\n",
    "    predictions = model.predict(X_test)\n",
    "    res_classification = classification_report(y_test, predictions)\n",
    "    \n",
    "    print(\"--- %s seconds ---\" % (final_time))\n",
    "\n",
    "    return experiments, res_classification, final_time"
   ]
  },
  {
   "cell_type": "code",
   "execution_count": 159,
   "metadata": {
    "colab": {
     "base_uri": "https://localhost:8080/"
    },
    "id": "JZaNlvLOxwKh",
    "outputId": "db831785-8446-4852-a111-2bbc4f72ab3f"
   },
   "outputs": [
    {
     "ename": "FileNotFoundError",
     "evalue": "[Errno 2] No such file or directory: 'data/task_data/task_informative_text_img_agreed_lab_train.tsv'",
     "output_type": "error",
     "traceback": [
      "\u001b[0;31m---------------------------------------------------------------------------\u001b[0m",
      "\u001b[0;31mFileNotFoundError\u001b[0m                         Traceback (most recent call last)",
      "\u001b[0;32m<ipython-input-159-90ce4cab441a>\u001b[0m in \u001b[0;36m<module>\u001b[0;34m\u001b[0m\n\u001b[1;32m     16\u001b[0m \u001b[0mtest_filename\u001b[0m \u001b[0;34m=\u001b[0m \u001b[0;34m\"data/task_data/task_informative_text_img_agreed_lab_test.tsv\"\u001b[0m\u001b[0;34m\u001b[0m\u001b[0;34m\u001b[0m\u001b[0m\n\u001b[1;32m     17\u001b[0m \u001b[0;34m\u001b[0m\u001b[0m\n\u001b[0;32m---> 18\u001b[0;31m \u001b[0mdata_train\u001b[0m \u001b[0;34m=\u001b[0m \u001b[0mload_data\u001b[0m\u001b[0;34m(\u001b[0m\u001b[0mtrain_filename\u001b[0m\u001b[0;34m,\u001b[0m\u001b[0mtrain_instance\u001b[0m\u001b[0;34m,\u001b[0m \u001b[0mall_train_instance\u001b[0m\u001b[0;34m)\u001b[0m\u001b[0;34m\u001b[0m\u001b[0;34m\u001b[0m\u001b[0m\n\u001b[0m\u001b[1;32m     19\u001b[0m \u001b[0mdata_images_train\u001b[0m \u001b[0;34m=\u001b[0m \u001b[0mpre_process_image\u001b[0m\u001b[0;34m(\u001b[0m\u001b[0mdata_train\u001b[0m\u001b[0;34m)\u001b[0m\u001b[0;34m\u001b[0m\u001b[0;34m\u001b[0m\u001b[0m\n\u001b[1;32m     20\u001b[0m \u001b[0;34m\u001b[0m\u001b[0m\n",
      "\u001b[0;32m<ipython-input-157-641804c28baa>\u001b[0m in \u001b[0;36mload_data\u001b[0;34m(filename, nb_instance, all_instance)\u001b[0m\n\u001b[1;32m     13\u001b[0m \u001b[0;34m\u001b[0m\u001b[0m\n\u001b[1;32m     14\u001b[0m   \u001b[0;31m#df = pd.read_csv(filename,sep=\"\\t\",nrows=nb_instance)\u001b[0m\u001b[0;34m\u001b[0m\u001b[0;34m\u001b[0m\u001b[0;34m\u001b[0m\u001b[0m\n\u001b[0;32m---> 15\u001b[0;31m   \u001b[0mdf\u001b[0m \u001b[0;34m=\u001b[0m \u001b[0mpd\u001b[0m\u001b[0;34m.\u001b[0m\u001b[0mread_csv\u001b[0m\u001b[0;34m(\u001b[0m\u001b[0mfilename\u001b[0m\u001b[0;34m,\u001b[0m\u001b[0msep\u001b[0m\u001b[0;34m=\u001b[0m\u001b[0;34m\"\\t\"\u001b[0m\u001b[0;34m,\u001b[0m\u001b[0mskiprows\u001b[0m\u001b[0;34m=\u001b[0m\u001b[0mskip\u001b[0m\u001b[0;34m)\u001b[0m\u001b[0;34m\u001b[0m\u001b[0;34m\u001b[0m\u001b[0m\n\u001b[0m\u001b[1;32m     16\u001b[0m \u001b[0;34m\u001b[0m\u001b[0m\n\u001b[1;32m     17\u001b[0m   \u001b[0mdf\u001b[0m\u001b[0;34m.\u001b[0m\u001b[0mlabel_image\u001b[0m \u001b[0;34m=\u001b[0m \u001b[0mpd\u001b[0m\u001b[0;34m.\u001b[0m\u001b[0mCategorical\u001b[0m\u001b[0;34m(\u001b[0m\u001b[0mdf\u001b[0m\u001b[0;34m.\u001b[0m\u001b[0mlabel_image\u001b[0m\u001b[0;34m)\u001b[0m\u001b[0;34m\u001b[0m\u001b[0;34m\u001b[0m\u001b[0m\n",
      "\u001b[0;32m~/prj/active-learning/.venv/lib/python3.7/site-packages/pandas/io/parsers.py\u001b[0m in \u001b[0;36mread_csv\u001b[0;34m(filepath_or_buffer, sep, delimiter, header, names, index_col, usecols, squeeze, prefix, mangle_dupe_cols, dtype, engine, converters, true_values, false_values, skipinitialspace, skiprows, skipfooter, nrows, na_values, keep_default_na, na_filter, verbose, skip_blank_lines, parse_dates, infer_datetime_format, keep_date_col, date_parser, dayfirst, cache_dates, iterator, chunksize, compression, thousands, decimal, lineterminator, quotechar, quoting, doublequote, escapechar, comment, encoding, dialect, error_bad_lines, warn_bad_lines, delim_whitespace, low_memory, memory_map, float_precision, storage_options)\u001b[0m\n\u001b[1;32m    608\u001b[0m     \u001b[0mkwds\u001b[0m\u001b[0;34m.\u001b[0m\u001b[0mupdate\u001b[0m\u001b[0;34m(\u001b[0m\u001b[0mkwds_defaults\u001b[0m\u001b[0;34m)\u001b[0m\u001b[0;34m\u001b[0m\u001b[0;34m\u001b[0m\u001b[0m\n\u001b[1;32m    609\u001b[0m \u001b[0;34m\u001b[0m\u001b[0m\n\u001b[0;32m--> 610\u001b[0;31m     \u001b[0;32mreturn\u001b[0m \u001b[0m_read\u001b[0m\u001b[0;34m(\u001b[0m\u001b[0mfilepath_or_buffer\u001b[0m\u001b[0;34m,\u001b[0m \u001b[0mkwds\u001b[0m\u001b[0;34m)\u001b[0m\u001b[0;34m\u001b[0m\u001b[0;34m\u001b[0m\u001b[0m\n\u001b[0m\u001b[1;32m    611\u001b[0m \u001b[0;34m\u001b[0m\u001b[0m\n\u001b[1;32m    612\u001b[0m \u001b[0;34m\u001b[0m\u001b[0m\n",
      "\u001b[0;32m~/prj/active-learning/.venv/lib/python3.7/site-packages/pandas/io/parsers.py\u001b[0m in \u001b[0;36m_read\u001b[0;34m(filepath_or_buffer, kwds)\u001b[0m\n\u001b[1;32m    460\u001b[0m \u001b[0;34m\u001b[0m\u001b[0m\n\u001b[1;32m    461\u001b[0m     \u001b[0;31m# Create the parser.\u001b[0m\u001b[0;34m\u001b[0m\u001b[0;34m\u001b[0m\u001b[0;34m\u001b[0m\u001b[0m\n\u001b[0;32m--> 462\u001b[0;31m     \u001b[0mparser\u001b[0m \u001b[0;34m=\u001b[0m \u001b[0mTextFileReader\u001b[0m\u001b[0;34m(\u001b[0m\u001b[0mfilepath_or_buffer\u001b[0m\u001b[0;34m,\u001b[0m \u001b[0;34m**\u001b[0m\u001b[0mkwds\u001b[0m\u001b[0;34m)\u001b[0m\u001b[0;34m\u001b[0m\u001b[0;34m\u001b[0m\u001b[0m\n\u001b[0m\u001b[1;32m    463\u001b[0m \u001b[0;34m\u001b[0m\u001b[0m\n\u001b[1;32m    464\u001b[0m     \u001b[0;32mif\u001b[0m \u001b[0mchunksize\u001b[0m \u001b[0;32mor\u001b[0m \u001b[0miterator\u001b[0m\u001b[0;34m:\u001b[0m\u001b[0;34m\u001b[0m\u001b[0;34m\u001b[0m\u001b[0m\n",
      "\u001b[0;32m~/prj/active-learning/.venv/lib/python3.7/site-packages/pandas/io/parsers.py\u001b[0m in \u001b[0;36m__init__\u001b[0;34m(self, f, engine, **kwds)\u001b[0m\n\u001b[1;32m    817\u001b[0m             \u001b[0mself\u001b[0m\u001b[0;34m.\u001b[0m\u001b[0moptions\u001b[0m\u001b[0;34m[\u001b[0m\u001b[0;34m\"has_index_names\"\u001b[0m\u001b[0;34m]\u001b[0m \u001b[0;34m=\u001b[0m \u001b[0mkwds\u001b[0m\u001b[0;34m[\u001b[0m\u001b[0;34m\"has_index_names\"\u001b[0m\u001b[0;34m]\u001b[0m\u001b[0;34m\u001b[0m\u001b[0;34m\u001b[0m\u001b[0m\n\u001b[1;32m    818\u001b[0m \u001b[0;34m\u001b[0m\u001b[0m\n\u001b[0;32m--> 819\u001b[0;31m         \u001b[0mself\u001b[0m\u001b[0;34m.\u001b[0m\u001b[0m_engine\u001b[0m \u001b[0;34m=\u001b[0m \u001b[0mself\u001b[0m\u001b[0;34m.\u001b[0m\u001b[0m_make_engine\u001b[0m\u001b[0;34m(\u001b[0m\u001b[0mself\u001b[0m\u001b[0;34m.\u001b[0m\u001b[0mengine\u001b[0m\u001b[0;34m)\u001b[0m\u001b[0;34m\u001b[0m\u001b[0;34m\u001b[0m\u001b[0m\n\u001b[0m\u001b[1;32m    820\u001b[0m \u001b[0;34m\u001b[0m\u001b[0m\n\u001b[1;32m    821\u001b[0m     \u001b[0;32mdef\u001b[0m \u001b[0mclose\u001b[0m\u001b[0;34m(\u001b[0m\u001b[0mself\u001b[0m\u001b[0;34m)\u001b[0m\u001b[0;34m:\u001b[0m\u001b[0;34m\u001b[0m\u001b[0;34m\u001b[0m\u001b[0m\n",
      "\u001b[0;32m~/prj/active-learning/.venv/lib/python3.7/site-packages/pandas/io/parsers.py\u001b[0m in \u001b[0;36m_make_engine\u001b[0;34m(self, engine)\u001b[0m\n\u001b[1;32m   1048\u001b[0m             )\n\u001b[1;32m   1049\u001b[0m         \u001b[0;31m# error: Too many arguments for \"ParserBase\"\u001b[0m\u001b[0;34m\u001b[0m\u001b[0;34m\u001b[0m\u001b[0;34m\u001b[0m\u001b[0m\n\u001b[0;32m-> 1050\u001b[0;31m         \u001b[0;32mreturn\u001b[0m \u001b[0mmapping\u001b[0m\u001b[0;34m[\u001b[0m\u001b[0mengine\u001b[0m\u001b[0;34m]\u001b[0m\u001b[0;34m(\u001b[0m\u001b[0mself\u001b[0m\u001b[0;34m.\u001b[0m\u001b[0mf\u001b[0m\u001b[0;34m,\u001b[0m \u001b[0;34m**\u001b[0m\u001b[0mself\u001b[0m\u001b[0;34m.\u001b[0m\u001b[0moptions\u001b[0m\u001b[0;34m)\u001b[0m  \u001b[0;31m# type: ignore[call-arg]\u001b[0m\u001b[0;34m\u001b[0m\u001b[0;34m\u001b[0m\u001b[0m\n\u001b[0m\u001b[1;32m   1051\u001b[0m \u001b[0;34m\u001b[0m\u001b[0m\n\u001b[1;32m   1052\u001b[0m     \u001b[0;32mdef\u001b[0m \u001b[0m_failover_to_python\u001b[0m\u001b[0;34m(\u001b[0m\u001b[0mself\u001b[0m\u001b[0;34m)\u001b[0m\u001b[0;34m:\u001b[0m\u001b[0;34m\u001b[0m\u001b[0;34m\u001b[0m\u001b[0m\n",
      "\u001b[0;32m~/prj/active-learning/.venv/lib/python3.7/site-packages/pandas/io/parsers.py\u001b[0m in \u001b[0;36m__init__\u001b[0;34m(self, src, **kwds)\u001b[0m\n\u001b[1;32m   1865\u001b[0m \u001b[0;34m\u001b[0m\u001b[0m\n\u001b[1;32m   1866\u001b[0m         \u001b[0;31m# open handles\u001b[0m\u001b[0;34m\u001b[0m\u001b[0;34m\u001b[0m\u001b[0;34m\u001b[0m\u001b[0m\n\u001b[0;32m-> 1867\u001b[0;31m         \u001b[0mself\u001b[0m\u001b[0;34m.\u001b[0m\u001b[0m_open_handles\u001b[0m\u001b[0;34m(\u001b[0m\u001b[0msrc\u001b[0m\u001b[0;34m,\u001b[0m \u001b[0mkwds\u001b[0m\u001b[0;34m)\u001b[0m\u001b[0;34m\u001b[0m\u001b[0;34m\u001b[0m\u001b[0m\n\u001b[0m\u001b[1;32m   1868\u001b[0m         \u001b[0;32massert\u001b[0m \u001b[0mself\u001b[0m\u001b[0;34m.\u001b[0m\u001b[0mhandles\u001b[0m \u001b[0;32mis\u001b[0m \u001b[0;32mnot\u001b[0m \u001b[0;32mNone\u001b[0m\u001b[0;34m\u001b[0m\u001b[0;34m\u001b[0m\u001b[0m\n\u001b[1;32m   1869\u001b[0m         \u001b[0;32mfor\u001b[0m \u001b[0mkey\u001b[0m \u001b[0;32min\u001b[0m \u001b[0;34m(\u001b[0m\u001b[0;34m\"storage_options\"\u001b[0m\u001b[0;34m,\u001b[0m \u001b[0;34m\"encoding\"\u001b[0m\u001b[0;34m,\u001b[0m \u001b[0;34m\"memory_map\"\u001b[0m\u001b[0;34m,\u001b[0m \u001b[0;34m\"compression\"\u001b[0m\u001b[0;34m)\u001b[0m\u001b[0;34m:\u001b[0m\u001b[0;34m\u001b[0m\u001b[0;34m\u001b[0m\u001b[0m\n",
      "\u001b[0;32m~/prj/active-learning/.venv/lib/python3.7/site-packages/pandas/io/parsers.py\u001b[0m in \u001b[0;36m_open_handles\u001b[0;34m(self, src, kwds)\u001b[0m\n\u001b[1;32m   1366\u001b[0m             \u001b[0mcompression\u001b[0m\u001b[0;34m=\u001b[0m\u001b[0mkwds\u001b[0m\u001b[0;34m.\u001b[0m\u001b[0mget\u001b[0m\u001b[0;34m(\u001b[0m\u001b[0;34m\"compression\"\u001b[0m\u001b[0;34m,\u001b[0m \u001b[0;32mNone\u001b[0m\u001b[0;34m)\u001b[0m\u001b[0;34m,\u001b[0m\u001b[0;34m\u001b[0m\u001b[0;34m\u001b[0m\u001b[0m\n\u001b[1;32m   1367\u001b[0m             \u001b[0mmemory_map\u001b[0m\u001b[0;34m=\u001b[0m\u001b[0mkwds\u001b[0m\u001b[0;34m.\u001b[0m\u001b[0mget\u001b[0m\u001b[0;34m(\u001b[0m\u001b[0;34m\"memory_map\"\u001b[0m\u001b[0;34m,\u001b[0m \u001b[0;32mFalse\u001b[0m\u001b[0;34m)\u001b[0m\u001b[0;34m,\u001b[0m\u001b[0;34m\u001b[0m\u001b[0;34m\u001b[0m\u001b[0m\n\u001b[0;32m-> 1368\u001b[0;31m             \u001b[0mstorage_options\u001b[0m\u001b[0;34m=\u001b[0m\u001b[0mkwds\u001b[0m\u001b[0;34m.\u001b[0m\u001b[0mget\u001b[0m\u001b[0;34m(\u001b[0m\u001b[0;34m\"storage_options\"\u001b[0m\u001b[0;34m,\u001b[0m \u001b[0;32mNone\u001b[0m\u001b[0;34m)\u001b[0m\u001b[0;34m,\u001b[0m\u001b[0;34m\u001b[0m\u001b[0;34m\u001b[0m\u001b[0m\n\u001b[0m\u001b[1;32m   1369\u001b[0m         )\n\u001b[1;32m   1370\u001b[0m \u001b[0;34m\u001b[0m\u001b[0m\n",
      "\u001b[0;32m~/prj/active-learning/.venv/lib/python3.7/site-packages/pandas/io/common.py\u001b[0m in \u001b[0;36mget_handle\u001b[0;34m(path_or_buf, mode, encoding, compression, memory_map, is_text, errors, storage_options)\u001b[0m\n\u001b[1;32m    645\u001b[0m                 \u001b[0mencoding\u001b[0m\u001b[0;34m=\u001b[0m\u001b[0mioargs\u001b[0m\u001b[0;34m.\u001b[0m\u001b[0mencoding\u001b[0m\u001b[0;34m,\u001b[0m\u001b[0;34m\u001b[0m\u001b[0;34m\u001b[0m\u001b[0m\n\u001b[1;32m    646\u001b[0m                 \u001b[0merrors\u001b[0m\u001b[0;34m=\u001b[0m\u001b[0merrors\u001b[0m\u001b[0;34m,\u001b[0m\u001b[0;34m\u001b[0m\u001b[0;34m\u001b[0m\u001b[0m\n\u001b[0;32m--> 647\u001b[0;31m                 \u001b[0mnewline\u001b[0m\u001b[0;34m=\u001b[0m\u001b[0;34m\"\"\u001b[0m\u001b[0;34m,\u001b[0m\u001b[0;34m\u001b[0m\u001b[0;34m\u001b[0m\u001b[0m\n\u001b[0m\u001b[1;32m    648\u001b[0m             )\n\u001b[1;32m    649\u001b[0m         \u001b[0;32melse\u001b[0m\u001b[0;34m:\u001b[0m\u001b[0;34m\u001b[0m\u001b[0;34m\u001b[0m\u001b[0m\n",
      "\u001b[0;31mFileNotFoundError\u001b[0m: [Errno 2] No such file or directory: 'data/task_data/task_informative_text_img_agreed_lab_train.tsv'"
     ]
    }
   ],
   "source": [
    "# Load CrisisMMD dataset\n",
    "\n",
    "start_time = time.time()\n",
    "\n",
    "#train_instance = 9601\n",
    "#test_instance = 1534\n",
    "\n",
    "all_train_instance = 9601\n",
    "all_test_instance = 1534\n",
    "\n",
    "# Use 10 % amount of data for initial phase\n",
    "train_instance = 960\n",
    "test_instance = 153\n",
    "\n",
    "train_filename = \"data/task_data/task_informative_text_img_agreed_lab_train.tsv\"\n",
    "test_filename = \"data/task_data/task_informative_text_img_agreed_lab_test.tsv\"\n",
    "\n",
    "data_train = load_data(train_filename,train_instance, all_train_instance)\n",
    "data_images_train = pre_process_image(data_train)\n",
    "\n",
    "data_test = load_data(test_filename,test_instance, all_test_instance)\n",
    "data_image_test = pre_process_image(data_test)\n",
    "\n",
    "X_train = data_images_train.reshape(train_instance,-1)\n",
    "y_train = data_train['label_image_code'].values\n",
    "\n",
    "X_test = data_image_test.reshape(test_instance,-1)\n",
    "y_test = data_test['label_image_code'].values\n",
    "\n",
    "final_time = time.time() - start_time\n",
    "print(\"--- %s seconds ---\" % (final_time))"
   ]
  },
  {
   "cell_type": "code",
   "execution_count": 160,
   "metadata": {
    "id": "fkfVjmW-gpWQ"
   },
   "outputs": [],
   "source": [
    "# Load Digits dataset\n",
    "\n",
    "digits = load_digits()\n",
    "n = len(digits.images)\n",
    "np.random.seed(123)\n",
    "\n",
    "X = digits.images.reshape(n,-1)\n",
    "y = digits.target\n",
    "\n",
    "X_train, X_test, y_train, y_test = train_test_split(X,y, test_size=0.25,shuffle=True)"
   ]
  },
  {
   "cell_type": "code",
   "execution_count": 161,
   "metadata": {
    "id": "8GQUEIRRFKMr"
   },
   "outputs": [
    {
     "name": "stdout",
     "output_type": "stream",
     "text": [
      "Train data distribution\n",
      "Not Informative  140\n",
      "Informative  127\n"
     ]
    },
    {
     "data": {
      "image/png": "[encoded data removed]",
      "text/plain": [
       "<Figure size 432x288 with 1 Axes>"
      ]
     },
     "metadata": {
      "needs_background": "light"
     },
     "output_type": "display_data"
    }
   ],
   "source": [
    "# Show plot for train data distribution\n",
    "\n",
    "print(\"Train data distribution\")\n",
    "\n",
    "notinf_y_train = y_train[y_train == 1]\n",
    "len_notinf = len(notinf_y_train)\n",
    "print(\"Not Informative \",len_notinf)\n",
    "\n",
    "inf_y_train = y_train[y_train == 0]\n",
    "len_inf = len(inf_y_train)\n",
    "print(\"Informative \",len_inf)\n",
    "\n",
    "labels = ('Informative','Not Informative')\n",
    "y_pos = np.arange(len(labels))\n",
    "\n",
    "size = [len_inf,len_notinf]\n",
    "plt.bar(y_pos,size,align='center',alpha=0.5)\n",
    "plt.xticks(y_pos,labels)\n",
    "plt.ylabel('Size')\n",
    "plt.title('Training Data Distribution')\n",
    "\n",
    "plt.show()"
   ]
  },
  {
   "cell_type": "code",
   "execution_count": 162,
   "metadata": {
    "id": "T6NSbLF7FTPe"
   },
   "outputs": [
    {
     "name": "stdout",
     "output_type": "stream",
     "text": [
      "Test data distribution\n",
      "Not Informative  42\n",
      "Informative  51\n"
     ]
    },
    {
     "data": {
      "image/png": "[encoded data removed]",
      "text/plain": [
       "<Figure size 432x288 with 1 Axes>"
      ]
     },
     "metadata": {
      "needs_background": "light"
     },
     "output_type": "display_data"
    }
   ],
   "source": [
    "# Show plot for test data distribution\n",
    "\n",
    "print(\"Test data distribution\")\n",
    "\n",
    "notinf_y_test = y_test[y_test == 1]\n",
    "len_notinf_test = len(notinf_y_test)\n",
    "print(\"Not Informative \",len_notinf_test)\n",
    "\n",
    "inf_y_test = y_test[y_test == 0]\n",
    "len_inf_test = len(inf_y_test)\n",
    "print(\"Informative \",len_inf_test)\n",
    "\n",
    "labels = ('Informative','Not Informative')\n",
    "y_pos = np.arange(len(labels))\n",
    "\n",
    "size = [len_inf_test,len_notinf_test]\n",
    "plt.bar(y_pos,size,align='center',alpha=0.5)\n",
    "plt.xticks(y_pos,labels)\n",
    "plt.ylabel('Size')\n",
    "plt.title('Testing Data Distribution')\n",
    "\n",
    "plt.show()"
   ]
  },
  {
   "cell_type": "code",
   "execution_count": 163,
   "metadata": {
    "id": "SGVfmaZB7JXU"
   },
   "outputs": [],
   "source": [
    "n_initial = range(30,300,30)\n",
    "n_queries = 30 # number of query for uncertain dataset to be asked\n",
    "repeats = 3 # number of repeat for each n_initial\n",
    "seed = 20 # random seed"
   ]
  },
  {
   "cell_type": "code",
   "execution_count": 164,
   "metadata": {
    "colab": {
     "base_uri": "https://localhost:8080/"
    },
    "id": "G4ZYWP7NaLsl",
    "outputId": "ec652e6e-eed9-4b7b-8062-924209917a20"
   },
   "outputs": [
    {
     "name": "stderr",
     "output_type": "stream",
     "text": [
      "\r",
      "  0%|          | 0/3 [00:00<?, ?it/s]"
     ]
    },
    {
     "name": "stdout",
     "output_type": "stream",
     "text": [
      "0\n",
      "Indexes for  30 :  [1042  709  560  659  650 1051  121   61  640  467  941  450  410  889\n",
      "  855  589  921  244  926  665  806 1152  915  682  359   58  337  313\n",
      "  890  155]\n"
     ]
    },
    {
     "name": "stderr",
     "output_type": "stream",
     "text": [
      "\r",
      " 33%|███▎      | 1/3 [00:04<00:09,  4.81s/it]"
     ]
    },
    {
     "name": "stdout",
     "output_type": "stream",
     "text": [
      "1\n",
      "Indexes for  30 :  [ 602 1246  801  277  323  478  711  146  794  401  103  632  627 1020\n",
      "  714  911 1142   41  947 1113  300  698  427 1254  851 1195 1301  812\n",
      " 1283  599]\n"
     ]
    },
    {
     "name": "stderr",
     "output_type": "stream",
     "text": [
      "\r",
      " 67%|██████▋   | 2/3 [00:10<00:05,  5.37s/it]"
     ]
    },
    {
     "name": "stdout",
     "output_type": "stream",
     "text": [
      "2\n",
      "Indexes for  30 :  [1054  363  889 1341  478  646 1239   97  890  766  476  769  392  533\n",
      "  466 1278  953  905 1125 1162  578  589  386  560  659  797  475 1231\n",
      " 1204 1329]\n"
     ]
    },
    {
     "name": "stderr",
     "output_type": "stream",
     "text": [
      "100%|██████████| 3/3 [00:14<00:00,  4.79s/it]"
     ]
    },
    {
     "name": "stdout",
     "output_type": "stream",
     "text": [
      "--- 14.359219789505005 seconds ---\n",
      "[Experiment(n_samples=30, repeat=0, accuracy=0.6866666666666666, log_loss=1.169624916342977), Experiment(n_samples=60, repeat=0, accuracy=0.8222222222222222, log_loss=0.6678407877237293), Experiment(n_samples=90, repeat=0, accuracy=0.8844444444444445, log_loss=0.3700150350570363), Experiment(n_samples=120, repeat=0, accuracy=0.9044444444444445, log_loss=0.32722105537467505), Experiment(n_samples=150, repeat=0, accuracy=0.9222222222222223, log_loss=0.3069630550352264), Experiment(n_samples=180, repeat=0, accuracy=0.9311111111111111, log_loss=0.245698845692331), Experiment(n_samples=210, repeat=0, accuracy=0.9377777777777778, log_loss=0.207049731703564), Experiment(n_samples=240, repeat=0, accuracy=0.9533333333333334, log_loss=0.15883548755842566), Experiment(n_samples=270, repeat=0, accuracy=0.9555555555555556, log_loss=0.17163068661894715), Experiment(n_samples=30, repeat=1, accuracy=0.6888888888888889, log_loss=1.0462963817147863), Experiment(n_samples=60, repeat=1, accuracy=0.7977777777777778, log_loss=0.841751470037426), Experiment(n_samples=90, repeat=1, accuracy=0.8955555555555555, log_loss=0.4215975729736105), Experiment(n_samples=120, repeat=1, accuracy=0.9244444444444444, log_loss=0.21741506637292224), Experiment(n_samples=150, repeat=1, accuracy=0.9355555555555556, log_loss=0.2214594978078301), Experiment(n_samples=180, repeat=1, accuracy=0.9488888888888889, log_loss=0.18814042749912055), Experiment(n_samples=210, repeat=1, accuracy=0.96, log_loss=0.17368996139471718), Experiment(n_samples=240, repeat=1, accuracy=0.9622222222222222, log_loss=0.1718416374860263), Experiment(n_samples=270, repeat=1, accuracy=0.96, log_loss=0.1697173421975715), Experiment(n_samples=30, repeat=2, accuracy=0.6666666666666666, log_loss=1.1759793748838134), Experiment(n_samples=60, repeat=2, accuracy=0.8044444444444444, log_loss=0.675172211212684), Experiment(n_samples=90, repeat=2, accuracy=0.9022222222222223, log_loss=0.3253498118434172), Experiment(n_samples=120, repeat=2, accuracy=0.9288888888888889, log_loss=0.286040239786048), Experiment(n_samples=150, repeat=2, accuracy=0.9333333333333333, log_loss=0.22525278945729943), Experiment(n_samples=180, repeat=2, accuracy=0.9377777777777778, log_loss=0.19348018871774386), Experiment(n_samples=210, repeat=2, accuracy=0.9488888888888889, log_loss=0.1774099327106807), Experiment(n_samples=240, repeat=2, accuracy=0.96, log_loss=0.17046897730945218), Experiment(n_samples=270, repeat=2, accuracy=0.9555555555555556, log_loss=0.16218031768769575)]\n"
     ]
    },
    {
     "name": "stderr",
     "output_type": "stream",
     "text": [
      "\n"
     ]
    }
   ],
   "source": [
    "result_rf_uncertainty, result_rf_acc_uncertainty, result_rf_time_uncertainty, experiment_uncertainty = random_forest_score_repeat(n_initial,n_queries,uncertainty_sampling,repeats,seed)\n",
    "print(experiment_uncertainty)\n"
   ]
  },
  {
   "cell_type": "code",
   "execution_count": null,
   "metadata": {
    "colab": {
     "base_uri": "https://localhost:8080/"
    },
    "id": "LjwJ6wK5FmdN",
    "outputId": "99066fd3-a0ec-4f40-e295-33cf029a5a1b"
   },
   "outputs": [
    {
     "name": "stderr",
     "output_type": "stream",
     "text": [
      "\r",
      "  0%|          | 0/3 [00:00<?, ?it/s]"
     ]
    },
    {
     "name": "stdout",
     "output_type": "stream",
     "text": [
      "0\n",
      "Indexes for  30 :  [1042  709  560  659  650 1051  121   61  640  467  941  450  410  889\n",
      "  855  589  921  244  926  665  806 1152  915  682  359   58  337  313\n",
      "  890  155]\n"
     ]
    },
    {
     "name": "stderr",
     "output_type": "stream",
     "text": [
      "\r",
      " 33%|███▎      | 1/3 [00:04<00:09,  4.62s/it]"
     ]
    },
    {
     "name": "stdout",
     "output_type": "stream",
     "text": [
      "1\n",
      "Indexes for  30 :  [ 602 1246  801  277  323  478  711  146  794  401  103  632  627 1020\n",
      "  714  911 1142   41  947 1113  300  698  427 1254  851 1195 1301  812\n",
      " 1283  599]\n"
     ]
    },
    {
     "name": "stderr",
     "output_type": "stream",
     "text": [
      "\r",
      " 67%|██████▋   | 2/3 [00:08<00:04,  4.30s/it]"
     ]
    },
    {
     "name": "stdout",
     "output_type": "stream",
     "text": [
      "2\n",
      "Indexes for  30 :  [1054  363  889 1341  478  646 1239   97  890  766  476  769  392  533\n",
      "  466 1278  953  905 1125 1162  578  589  386  560  659  797  475 1231\n",
      " 1204 1329]\n"
     ]
    }
   ],
   "source": [
    "result_rf_margin, result_rf_acc_margin, result_rf_time_margin, experiment_margin = random_forest_score_repeat(n_initial,n_queries,margin_sampling,repeats, seed)\n",
    "print(experiment_margin)"
   ]
  },
  {
   "cell_type": "code",
   "execution_count": null,
   "metadata": {
    "colab": {
     "base_uri": "https://localhost:8080/"
    },
    "id": "QH1TMhkNU6Kr",
    "outputId": "16d6e172-316d-48c2-c14a-21247e4042b2"
   },
   "outputs": [],
   "source": [
    "result_rf_entropy, result_rf_acc_entropy, result_rf_time_entropy, experiment_entropy = random_forest_score_repeat(n_initial,n_queries,entropy_sampling,repeats, seed)\n",
    "print(experiment_entropy)"
   ]
  },
  {
   "cell_type": "code",
   "execution_count": null,
   "metadata": {
    "colab": {
     "base_uri": "https://localhost:8080/"
    },
    "id": "sBsoTn90xcf0",
    "outputId": "0d34017c-7008-4826-aae1-835b99afe926"
   },
   "outputs": [],
   "source": [
    "n_initial = range(30,300,30)\n",
    "seed_random = 20 # random seed\n",
    "repeat_random = 3 # number of repeat for each n_initial\n",
    "#experiment_random, res_random, time_random = learning_curve(n_initial, repeat_random, random_sampling_policy,seed_random)\n",
    "result_rf_random, result_rf_acc_random, result_rf_time_random, experiment_random = random_forest_score_repeat(n_initial,n_queries,random_sampling,repeats, seed)"
   ]
  },
  {
   "cell_type": "code",
   "execution_count": null,
   "metadata": {
    "colab": {
     "base_uri": "https://localhost:8080/"
    },
    "id": "tW84Jq8RJ_99",
    "outputId": "a7c656fd-dc89-4195-fb0b-1635453b747d"
   },
   "outputs": [],
   "source": [
    "# show accuracy and log loss for each n_sample and repeat\n",
    "\n",
    "print(experiment_uncertainty)\n",
    "print(experiment_margin)\n",
    "print(experiment_entropy)\n",
    "print(experiment_random)"
   ]
  },
  {
   "cell_type": "code",
   "execution_count": null,
   "metadata": {
    "colab": {
     "base_uri": "https://localhost:8080/",
     "height": 292
    },
    "id": "jMDIu-PGuLrL",
    "outputId": "198c741f-a187-4804-e70f-d1fd4c429757"
   },
   "outputs": [],
   "source": [
    "# show accuracy plot\n",
    "\n",
    "def plot_learning_curve(df, name):\n",
    "    # Compute percentiles\n",
    "    p10 = df.groupby('n_samples').quantile(.10)['accuracy']\n",
    "    p50 = df.groupby('n_samples').median()['accuracy']\n",
    "    p90 = df.groupby('n_samples').quantile(.90)['accuracy']\n",
    "    training_sizes= p50.index.to_numpy()\n",
    "\n",
    "    with plt.style.context('seaborn-white'):\n",
    "        plt.title('Active Learning vs Random Sampling Crisis MMD')\n",
    "        plt.plot(training_sizes, p50, label=name )\n",
    "\n",
    "        # show standard deviation\n",
    "        plt.fill_between(training_sizes, p10, p90,alpha=0.1)\n",
    "    plt.legend(loc='lower right')\n",
    "    plt.xlabel(\"Number of sample\")\n",
    "    plt.ylabel(\"Accuracy\")\n",
    "    plt.grid()\n",
    "    #plt.show()\n",
    "\n",
    "df_us = pd.DataFrame([dataclasses.asdict(e) for e in experiment_uncertainty])\n",
    "df_ms = pd.DataFrame([dataclasses.asdict(e) for e in experiment_margin])\n",
    "df_es = pd.DataFrame([dataclasses.asdict(e) for e in experiment_entropy])\n",
    "df_rs = pd.DataFrame([dataclasses.asdict(e) for e in experiment_random])\n",
    "plot_learning_curve(df_us, \"Uncertainty\")\n",
    "plot_learning_curve(df_ms, \"Margin\")\n",
    "plot_learning_curve(df_es, \"Entropy\")\n",
    "plot_learning_curve(df_rs, \"Random\")"
   ]
  },
  {
   "cell_type": "code",
   "execution_count": null,
   "metadata": {
    "colab": {
     "base_uri": "https://localhost:8080/",
     "height": 292
    },
    "id": "Hc9BxrwbkGIh",
    "outputId": "412aa348-9eea-4020-9a9a-9d2651006603"
   },
   "outputs": [],
   "source": [
    "# show log loss plot\n",
    "\n",
    "def plot_learning_curve(df, name):\n",
    "    # Compute percentiles\n",
    "    p10 = df.groupby('n_samples').quantile(.10)['log_loss']\n",
    "    p50 = df.groupby('n_samples').median()['log_loss']\n",
    "    p90 = df.groupby('n_samples').quantile(.90)['log_loss']\n",
    "    training_sizes= p50.index.to_numpy()\n",
    "\n",
    "    with plt.style.context('seaborn-white'):\n",
    "        plt.title('Active Learning vs Random Sampling Crisis MMD')\n",
    "        plt.plot(training_sizes, p50, label=name )\n",
    "\n",
    "        # show standard deviation\n",
    "        plt.fill_between(training_sizes, p10, p90,alpha=0.1)\n",
    "    plt.legend(loc='upper right')\n",
    "    plt.xlabel(\"Number of sample\")\n",
    "    plt.ylabel(\"Log Loss\")\n",
    "    plt.grid()\n",
    "    #plt.show()\n",
    "\n",
    "df_us = pd.DataFrame([dataclasses.asdict(e) for e in experiment_uncertainty])\n",
    "df_ms = pd.DataFrame([dataclasses.asdict(e) for e in experiment_margin])\n",
    "df_es = pd.DataFrame([dataclasses.asdict(e) for e in experiment_entropy])\n",
    "df_rs = pd.DataFrame([dataclasses.asdict(e) for e in experiment_random])\n",
    "plot_learning_curve(df_us, \"Uncertainty\")\n",
    "plot_learning_curve(df_ms, \"Margin\")\n",
    "plot_learning_curve(df_es, \"Entropy\")\n",
    "plot_learning_curve(df_rs, \"Random\")"
   ]
  },
  {
   "cell_type": "code",
   "execution_count": null,
   "metadata": {
    "colab": {
     "base_uri": "https://localhost:8080/"
    },
    "id": "NE5_gT1Mi07y",
    "outputId": "45ec6aab-b311-4202-a289-83207608d6aa"
   },
   "outputs": [],
   "source": [
    "# show precision, recall, f-1 score for final n_sample active learning\n",
    "\n",
    "print(result_rf_uncertainty)\n",
    "print(result_rf_margin)\n",
    "print(result_rf_entropy)\n",
    "\n",
    "print(result_rf_time_uncertainty)\n",
    "print(result_rf_time_margin)\n",
    "print(result_rf_time_entropy)"
   ]
  },
  {
   "cell_type": "code",
   "execution_count": 16,
   "metadata": {
    "colab": {
     "base_uri": "https://localhost:8080/"
    },
    "id": "nntoUrRykfN9",
    "outputId": "17bb76c9-0562-4edc-e1a1-eaeebc35c5c0"
   },
   "outputs": [
    {
     "name": "stdout",
     "output_type": "stream",
     "text": [
      "              precision    recall  f1-score   support\n",
      "\n",
      "           0       0.98      1.00      0.99        51\n",
      "           1       0.82      0.98      0.89        42\n",
      "           2       1.00      0.80      0.89        41\n",
      "           3       0.83      0.97      0.90        40\n",
      "           4       0.98      0.94      0.96        52\n",
      "           5       1.00      0.79      0.88        48\n",
      "           6       0.98      0.98      0.98        48\n",
      "           7       0.89      1.00      0.94        41\n",
      "           8       0.88      0.82      0.85        45\n",
      "           9       0.77      0.81      0.79        42\n",
      "\n",
      "    accuracy                           0.91       450\n",
      "   macro avg       0.91      0.91      0.91       450\n",
      "weighted avg       0.92      0.91      0.91       450\n",
      "\n",
      "4.637619972229004\n"
     ]
    }
   ],
   "source": [
    "# show precision, recall, f-1 score for final n_sample random sampling\n",
    "\n",
    "print(res_random)\n",
    "print(time_random)"
   ]
  }
 ],
 "metadata": {
  "colab": {
   "authorship_tag": "ABX9TyOfG8qhR5JGpZ2KGsTznl3R",
   "collapsed_sections": [],
   "include_colab_link": true,
   "machine_shape": "hm",
   "name": "AL_with_CrisisMMD.ipynb",
   "provenance": []
  },
  "kernelspec": {
   "display_name": "Python 3",
   "language": "python",
   "name": "python3"
  },
  "language_info": {
   "codemirror_mode": {
    "name": "ipython",
    "version": 3
   },
   "file_extension": ".py",
   "mimetype": "text/x-python",
   "name": "python",
   "nbconvert_exporter": "python",
   "pygments_lexer": "ipython3",
   "version": "3.7.4"
  }
 },
 "nbformat": 4,
 "nbformat_minor": 1
}
