{
  "nbformat": 4,
  "nbformat_minor": 0,
  "metadata": {
    "colab": {
      "name": "AL_with_CrisisMMD.ipynb",
      "provenance": [],
      "collapsed_sections": [],
      "machine_shape": "hm",
      "authorship_tag": "ABX9TyOWWtP7r0qq/9QDnC8vv/cb",
      "include_colab_link": true
    },
    "kernelspec": {
      "display_name": "Python 3",
      "name": "python3"
    },
    "language_info": {
      "name": "python"
    },
    "accelerator": "GPU"
  },
  "cells": [
    {
      "cell_type": "markdown",
      "metadata": {
        "id": "view-in-github",
        "colab_type": "text"
      },
      "source": [
        "<a href=\"https://colab.research.google.com/github/hafizbudi/active-learning/blob/main/AL_with_CrisisMMD.ipynb\" target=\"_parent\"><img src=\"https://colab.research.google.com/assets/colab-badge.svg\" alt=\"Open In Colab\"/></a>"
      ]
    },
    {
      "cell_type": "code",
      "metadata": {
        "id": "sO5UyHeHxJGM"
      },
      "source": [
        "from google.colab import drive\n",
        "drive.mount('/content/gdrive')\n",
        "%cd gdrive/My Drive/Project/multimodal_social_media"
      ],
      "execution_count": null,
      "outputs": []
    },
    {
      "cell_type": "code",
      "metadata": {
        "id": "2ZMKDDe0xcDv"
      },
      "source": [
        "pip install modal"
      ],
      "execution_count": null,
      "outputs": []
    },
    {
      "cell_type": "code",
      "metadata": {
        "id": "lIbF2Dugxegw"
      },
      "source": [
        "from sklearn.datasets import load_digits\n",
        "from sklearn.model_selection import train_test_split\n",
        "from sklearn.ensemble import RandomForestClassifier\n",
        "from sklearn import datasets, metrics\n",
        "from dataclasses import dataclass\n",
        "import dataclasses\n",
        "\n",
        "import matplotlib.pyplot as plt\n",
        "import numpy as np\n",
        "import pandas as pd\n",
        "import cv2\n",
        "from modAL.models import ActiveLearner\n",
        "from modAL.uncertainty import uncertainty_sampling\n",
        "from modAL.uncertainty import margin_sampling\n",
        "from modAL.uncertainty import entropy_sampling\n",
        "\n",
        "from tqdm import tqdm\n",
        "from sklearn.metrics import classification_report\n",
        "from sklearn.metrics import log_loss\n",
        "\n",
        "from sklearn.neighbors import KNeighborsClassifier\n",
        "import time\n",
        "import random"
      ],
      "execution_count": 3,
      "outputs": []
    },
    {
      "cell_type": "code",
      "metadata": {
        "id": "ebIBBu0nxhP8"
      },
      "source": [
        "@dataclass\n",
        "class Experiment:\n",
        "    n_samples: int\n",
        "    repeat: int\n",
        "    accuracy: float\n",
        "\n",
        "def load_data(filename, nb_instance, all_instance):\n",
        "  n = all_instance #number of records in file\n",
        "  s = nb_instance #desired sample size\n",
        "  skip = sorted(random.sample(range(1,n+1),n-s))\n",
        "\n",
        "  #df = pd.read_csv(filename,sep=\"\\t\",nrows=nb_instance)\n",
        "  df = pd.read_csv(filename,sep=\"\\t\",skiprows=skip)\n",
        "\n",
        "  df.label_image = pd.Categorical(df.label_image)\n",
        "  df['label_image_code'] = df.label_image.cat.codes\n",
        "\n",
        "  df[['image','label_image','label_image_code']]\n",
        "\n",
        "  df.describe()\n",
        "  return df\n",
        "\n",
        "def pre_process_image(data):\n",
        "  img_arr = []\n",
        "  for index,row in data.iterrows():\n",
        "    read_img = cv2.imread(row['image'],0)\n",
        "    img_resize = cv2.resize(read_img,(224,224))\n",
        "    img_ravel = img_resize.ravel()\n",
        "    img_arr.append(img_ravel)\n",
        "\n",
        "  img_np = np.array(img_arr)\n",
        "\n",
        "  return img_np\n",
        "\n",
        "def random_forest_score(n_initial,n_queries,sampling_strategy):\n",
        "  start_time = time.time()\n",
        "  acc_all = []\n",
        " \n",
        "  for i in n_initial:\n",
        "    \n",
        "    initial_idx = np.random.choice(range(len(X_train)), size=i, replace=False)\n",
        "    X_initial, y_initial = X_train[initial_idx], y_train[initial_idx]\n",
        "\n",
        "    X_pool,y_pool = np.delete(X_train, initial_idx, axis=0), np.delete(y_train, initial_idx, axis=0)\n",
        "    \n",
        "    learner = ActiveLearner(\n",
        "            estimator=RandomForestClassifier(),\n",
        "            query_strategy=sampling_strategy,\n",
        "            X_training=X_initial,y_training=y_initial\n",
        "            )\n",
        " \n",
        "    for j in range(n_queries):\n",
        "      res = [learner.score(X_test,y_test)]\n",
        "      query_idx, query_inst = learner.query(X_pool)\n",
        "      learner.teach(query_inst, y_pool[query_idx])\n",
        "      X_pool, y_pool = np.delete(X_pool, query_idx, axis=0), np.delete(y_pool, query_idx, axis=0)\n",
        "\n",
        "    acc = learner.score(X_test,y_test)\n",
        "    acc_all.append(acc)\n",
        "\n",
        "\n",
        "  final_time = time.time() - start_time\n",
        "\n",
        "  predictions = learner.predict(X_test)\n",
        "  res_classification = classification_report(y_test, predictions)\n",
        "\n",
        "  print(\"--- %s seconds ---\" % (final_time))\n",
        "\n",
        "  return res_classification, acc_all, final_time\n",
        "\n",
        "def random_forest_score_repeat(n_initial,n_queries,sampling_strategy, repeats):\n",
        "  \n",
        "  start_time = time.time()\n",
        "  acc_all = []\n",
        "  experiments = []\n",
        "  \n",
        "  for k in tqdm(range(repeats)):\n",
        "    print(k)\n",
        "    for i in n_initial:\n",
        "      np.random.seed(123)\n",
        "      print(i)\n",
        "      initial_idx = np.random.choice(range(len(X_train)), size=i, replace=False)\n",
        "     \n",
        "      X_initial, y_initial = X_train[initial_idx], y_train[initial_idx]\n",
        "\n",
        "      X_pool,y_pool = np.delete(X_train, initial_idx, axis=0), np.delete(y_train, initial_idx, axis=0)\n",
        "\n",
        "      learner = ActiveLearner(\n",
        "              estimator=RandomForestClassifier(),\n",
        "              query_strategy=sampling_strategy,\n",
        "              X_training=X_initial,y_training=y_initial\n",
        "              )\n",
        "      acc = learner.score(X_test,y_test)\n",
        "      #acc_all.append(acc)\n",
        "\n",
        "      predictions = learner.predict_proba(X_test)\n",
        "      res_logloss = log_loss(y_test,predictions)\n",
        "\n",
        "      experiments.append(Experiment(n_samples=i, repeat=k, accuracy=res_logloss))\n",
        "      \n",
        "      for j in range(n_queries):\n",
        "        res = [learner.score(X_test,y_test)]\n",
        "        query_idx, query_inst = learner.query(X_pool)\n",
        "        learner.teach(query_inst, y_pool[query_idx])\n",
        "        X_pool, y_pool = np.delete(X_pool, query_idx, axis=0), np.delete(y_pool, query_idx, axis=0)\n",
        "\n",
        "      #acc = learner.score(X_test,y_test)\n",
        "      #acc_all.append(acc)\n",
        "\n",
        "      predictions = learner.predict_proba(X_test)\n",
        "      res_logloss = log_loss(y_test,predictions)\n",
        "\n",
        "      experiments.append(Experiment(n_samples=i+n_queries, repeat=k, accuracy=res_logloss))\n",
        "      \n",
        "\n",
        "  final_time = time.time() - start_time\n",
        "\n",
        "  predictions = learner.predict(X_test)\n",
        "  #predictions = learner.predict_proba(X_test)\n",
        "  res_classification = classification_report(y_test, predictions)\n",
        "  #res_classification = log_loss(y_test,predictions)\n",
        "\n",
        "  print(\"--- %s seconds ---\" % (final_time))\n",
        "\n",
        "  return res_classification, acc_all, final_time, experiments"
      ],
      "execution_count": 4,
      "outputs": []
    },
    {
      "cell_type": "code",
      "metadata": {
        "id": "Ag0qs1q_jf2O"
      },
      "source": [
        "# Random sampling\n",
        "\n",
        "def random_selection_learning(n_instances, X_train, y_train):\n",
        "    np.random.seed(123)\n",
        "    clf = RandomForestClassifier()\n",
        "   \n",
        "    # X_selected, X_not_selected, y_selected, y_not_selected = \\\n",
        "    #     train_test_split(X_train, y_train, train_size=n_instances, shuffle=True)\n",
        "\n",
        "    initial_idx = np.random.choice(range(len(X_train)), size=n_instances, replace=False)\n",
        "    X_initial, y_initial = X_train[initial_idx], y_train[initial_idx]\n",
        "\n",
        "    X_pool,y_pool = np.delete(X_train, initial_idx, axis=0), np.delete(y_train, initial_idx, axis=0)\n",
        "  \n",
        "    #clf.fit(X_selected, y_selected)\n",
        "    #return clf, X_selected, X_not_selected, y_selected, y_not_selected\n",
        "\n",
        "    clf.fit(X_initial,y_initial)\n",
        "\n",
        "    return clf, X_initial, X_pool, y_initial, y_pool\n",
        "\n",
        "def random_sampling_policy(model, n_new_samples, X_remaining, y_remaining):\n",
        "    X_new_selected, X_remaining, y_new_selected, y_remaining = \\\n",
        "               train_test_split(X_remaining, y_remaining,  train_size=n_new_samples, shuffle=True)\n",
        "    return X_new_selected, X_remaining, y_new_selected, y_remaining\n",
        "\n",
        "def evaluate(model, X_real, y_real):\n",
        "    y_predictions = model.predict(X_test)\n",
        "    accuracy = metrics.accuracy_score(y_real,y_predictions)\n",
        "    \n",
        "    return accuracy\n",
        "\n",
        "def learning_curve(data_points, repeats, selection_policy):\n",
        "    start_time = time.time()\n",
        "    experiments = []\n",
        "    for i in tqdm(range(repeats)):\n",
        "        #np.random.seed(123)\n",
        "        # First learn \n",
        "        n_samples = data_points[0]\n",
        "        model, X_selected, X_remaining, y_selected, y_remaining = \\\n",
        "            random_selection_learning(n_samples, X_train, y_train)\n",
        "        #acc_random = evaluate(model, X_test, y_test)\n",
        "        #experiments.append(acc_random)\n",
        "\n",
        "        predictions = model.predict_proba(X_test)\n",
        "        res_logloss = log_loss(y_test,predictions)\n",
        "\n",
        "        experiments.append(Experiment(n_samples=n_samples, repeat=i, accuracy=res_logloss))\n",
        "        for n_samples in data_points[1:]:\n",
        "            # Select the additional examples\n",
        "            n_new_samples = n_samples - len(X_selected)\n",
        "      \n",
        "            X_new_selected, X_remaining, y_new_selected, y_remaining = \\\n",
        "                selection_policy(model, n_new_samples, X_remaining, y_remaining)\n",
        "            \n",
        "            X_selected = np.vstack((X_selected, X_new_selected))\n",
        "            y_selected = np.hstack((y_selected, y_new_selected))\n",
        "      \n",
        "            model.fit(X_selected, y_selected)\n",
        "            #acc_random = evaluate(model, X_test, y_test)\n",
        "            #experiments.append(acc_random)\n",
        "\n",
        "            predictions = model.predict_proba(X_test)\n",
        "            res_logloss = log_loss(y_test,predictions)\n",
        "\n",
        "            experiments.append(Experiment(n_samples=n_samples, repeat=i, accuracy=res_logloss))\n",
        "    final_time = time.time() - start_time\n",
        "\n",
        "    predictions = model.predict(X_test)\n",
        "    res_classification = classification_report(y_test, predictions)\n",
        "    \n",
        "    print(\"--- %s seconds ---\" % (final_time))\n",
        "\n",
        "    return experiments, res_classification, final_time"
      ],
      "execution_count": 36,
      "outputs": []
    },
    {
      "cell_type": "code",
      "metadata": {
        "id": "JZaNlvLOxwKh",
        "colab": {
          "base_uri": "https://localhost:8080/"
        },
        "outputId": "48cd3849-0b31-4768-a8bd-817100228c9c"
      },
      "source": [
        "# Load CrisisMMD data\n",
        "\n",
        "start_time = time.time()\n",
        "\n",
        "#train_instance = 9601\n",
        "#test_instance = 1534\n",
        "\n",
        "all_train_instance = 9601\n",
        "all_test_instance = 1534\n",
        "\n",
        "train_instance = 960\n",
        "test_instance = 153\n",
        "\n",
        "train_filename = \"data/task_data/task_informative_text_img_agreed_lab_train.tsv\"\n",
        "test_filename = \"data/task_data/task_informative_text_img_agreed_lab_test.tsv\"\n",
        "\n",
        "data_train = load_data(train_filename,train_instance, all_train_instance)\n",
        "data_images_train = pre_process_image(data_train)\n",
        "\n",
        "data_test = load_data(test_filename,test_instance, all_test_instance)\n",
        "data_image_test = pre_process_image(data_test)\n",
        "\n",
        "X_train = data_images_train.reshape(train_instance,-1)\n",
        "y_train = data_train['label_image_code'].values\n",
        "\n",
        "X_test = data_image_test.reshape(test_instance,-1)\n",
        "y_test = data_test['label_image_code'].values\n",
        "\n",
        "final_time = time.time() - start_time\n",
        "print(\"--- %s seconds ---\" % (final_time))"
      ],
      "execution_count": 6,
      "outputs": [
        {
          "output_type": "stream",
          "text": [
            "--- 872.8039484024048 seconds ---\n"
          ],
          "name": "stdout"
        }
      ]
    },
    {
      "cell_type": "code",
      "metadata": {
        "id": "8GQUEIRRFKMr"
      },
      "source": [
        "print(\"Train data distribution\")\n",
        "\n",
        "notinf_y_train = y_train[y_train == 1]\n",
        "len_notinf = len(notinf_y_train)\n",
        "print(\"Not Informative \",len_notinf)\n",
        "\n",
        "inf_y_train = y_train[y_train == 0]\n",
        "len_inf = len(inf_y_train)\n",
        "print(\"Informative \",len_inf)\n",
        "\n",
        "labels = ('Informative','Not Informative')\n",
        "y_pos = np.arange(len(labels))\n",
        "\n",
        "size = [len_inf,len_notinf]\n",
        "plt.bar(y_pos,size,align='center',alpha=0.5)\n",
        "plt.xticks(y_pos,labels)\n",
        "plt.ylabel('Size')\n",
        "plt.title('Training Data Distribution')\n",
        "\n",
        "plt.show()"
      ],
      "execution_count": null,
      "outputs": []
    },
    {
      "cell_type": "code",
      "metadata": {
        "id": "T6NSbLF7FTPe"
      },
      "source": [
        "print(\"Test data distribution\")\n",
        "\n",
        "notinf_y_test = y_test[y_test == 1]\n",
        "len_notinf_test = len(notinf_y_test)\n",
        "print(\"Not Informative \",len_notinf_test)\n",
        "\n",
        "inf_y_test = y_test[y_test == 0]\n",
        "len_inf_test = len(inf_y_test)\n",
        "print(\"Informative \",len_inf_test)\n",
        "\n",
        "labels = ('Informative','Not Informative')\n",
        "y_pos = np.arange(len(labels))\n",
        "\n",
        "size = [len_inf_test,len_notinf_test]\n",
        "plt.bar(y_pos,size,align='center',alpha=0.5)\n",
        "plt.xticks(y_pos,labels)\n",
        "plt.ylabel('Size')\n",
        "plt.title('Testing Data Distribution')\n",
        "\n",
        "plt.show()"
      ],
      "execution_count": null,
      "outputs": []
    },
    {
      "cell_type": "code",
      "metadata": {
        "id": "SGVfmaZB7JXU"
      },
      "source": [
        "n_initial = range(30,700,20)\n",
        "n_queries = 10\n",
        "repeats = 3"
      ],
      "execution_count": 47,
      "outputs": []
    },
    {
      "cell_type": "code",
      "metadata": {
        "id": "G4ZYWP7NaLsl",
        "colab": {
          "base_uri": "https://localhost:8080/"
        },
        "outputId": "197763b4-4390-4f3d-e4de-5981f31f1858"
      },
      "source": [
        "result_rf_uncertainty, result_rf_acc_uncertainty, result_rf_time_uncertainty, experiment_uncertainty = random_forest_score_repeat(n_initial,n_queries,uncertainty_sampling,repeats)\n",
        "print(experiment_uncertainty)\n"
      ],
      "execution_count": 48,
      "outputs": [
        {
          "output_type": "stream",
          "text": [
            "\r  0%|          | 0/3 [00:00<?, ?it/s]"
          ],
          "name": "stderr"
        },
        {
          "output_type": "stream",
          "text": [
            "0\n",
            "30\n",
            "50\n",
            "70\n",
            "90\n",
            "110\n",
            "130\n",
            "150\n",
            "170\n",
            "190\n",
            "210\n",
            "230\n",
            "250\n",
            "270\n",
            "290\n",
            "310\n",
            "330\n",
            "350\n",
            "370\n",
            "390\n",
            "410\n",
            "430\n",
            "450\n",
            "470\n",
            "490\n",
            "510\n",
            "530\n",
            "550\n",
            "570\n",
            "590\n",
            "610\n",
            "630\n",
            "650\n",
            "670\n",
            "690\n"
          ],
          "name": "stdout"
        },
        {
          "output_type": "stream",
          "text": [
            "\r 33%|███▎      | 1/3 [23:11<46:22, 1391.17s/it]"
          ],
          "name": "stderr"
        },
        {
          "output_type": "stream",
          "text": [
            "1\n",
            "30\n",
            "50\n",
            "70\n",
            "90\n",
            "110\n",
            "130\n",
            "150\n",
            "170\n",
            "190\n",
            "210\n",
            "230\n",
            "250\n",
            "270\n",
            "290\n",
            "310\n",
            "330\n",
            "350\n",
            "370\n",
            "390\n",
            "410\n",
            "430\n",
            "450\n",
            "470\n",
            "490\n",
            "510\n",
            "530\n",
            "550\n",
            "570\n",
            "590\n",
            "610\n",
            "630\n",
            "650\n",
            "670\n",
            "690\n"
          ],
          "name": "stdout"
        },
        {
          "output_type": "stream",
          "text": [
            "\r 67%|██████▋   | 2/3 [46:05<23:06, 1386.10s/it]"
          ],
          "name": "stderr"
        },
        {
          "output_type": "stream",
          "text": [
            "2\n",
            "30\n",
            "50\n",
            "70\n",
            "90\n",
            "110\n",
            "130\n",
            "150\n",
            "170\n",
            "190\n",
            "210\n",
            "230\n",
            "250\n",
            "270\n",
            "290\n",
            "310\n",
            "330\n",
            "350\n",
            "370\n",
            "390\n",
            "410\n",
            "430\n",
            "450\n",
            "470\n",
            "490\n",
            "510\n",
            "530\n",
            "550\n",
            "570\n",
            "590\n",
            "610\n",
            "630\n",
            "650\n",
            "670\n",
            "690\n"
          ],
          "name": "stdout"
        },
        {
          "output_type": "stream",
          "text": [
            "100%|██████████| 3/3 [1:09:05<00:00, 1381.82s/it]"
          ],
          "name": "stderr"
        },
        {
          "output_type": "stream",
          "text": [
            "--- 4145.4592361450195 seconds ---\n",
            "[Experiment(n_samples=30, repeat=0, accuracy=0.6466636605979406), Experiment(n_samples=40, repeat=0, accuracy=0.6700947150627999), Experiment(n_samples=50, repeat=0, accuracy=0.6347091744636587), Experiment(n_samples=60, repeat=0, accuracy=0.63948782011978), Experiment(n_samples=70, repeat=0, accuracy=0.6192815778156936), Experiment(n_samples=80, repeat=0, accuracy=0.6302745000414771), Experiment(n_samples=90, repeat=0, accuracy=0.623861200658591), Experiment(n_samples=100, repeat=0, accuracy=0.6519644692212122), Experiment(n_samples=110, repeat=0, accuracy=0.6376076707427133), Experiment(n_samples=120, repeat=0, accuracy=0.6271092530801373), Experiment(n_samples=130, repeat=0, accuracy=0.6538143758606969), Experiment(n_samples=140, repeat=0, accuracy=0.626588141228139), Experiment(n_samples=150, repeat=0, accuracy=0.6391384810453016), Experiment(n_samples=160, repeat=0, accuracy=0.6337419049252713), Experiment(n_samples=170, repeat=0, accuracy=0.6467609610466944), Experiment(n_samples=180, repeat=0, accuracy=0.6258217158937905), Experiment(n_samples=190, repeat=0, accuracy=0.6279277255911442), Experiment(n_samples=200, repeat=0, accuracy=0.6164410646380302), Experiment(n_samples=210, repeat=0, accuracy=0.6404431868924836), Experiment(n_samples=220, repeat=0, accuracy=0.6353457377029763), Experiment(n_samples=230, repeat=0, accuracy=0.6353761828659814), Experiment(n_samples=240, repeat=0, accuracy=0.6514689899615131), Experiment(n_samples=250, repeat=0, accuracy=0.6377927337180345), Experiment(n_samples=260, repeat=0, accuracy=0.6318651378629189), Experiment(n_samples=270, repeat=0, accuracy=0.6177557440637975), Experiment(n_samples=280, repeat=0, accuracy=0.6242155077368831), Experiment(n_samples=290, repeat=0, accuracy=0.6272288310951517), Experiment(n_samples=300, repeat=0, accuracy=0.6375114093934282), Experiment(n_samples=310, repeat=0, accuracy=0.643239900377809), Experiment(n_samples=320, repeat=0, accuracy=0.6143510337959305), Experiment(n_samples=330, repeat=0, accuracy=0.6392522024341751), Experiment(n_samples=340, repeat=0, accuracy=0.6403069654337153), Experiment(n_samples=350, repeat=0, accuracy=0.6414600920250655), Experiment(n_samples=360, repeat=0, accuracy=0.6331347034714268), Experiment(n_samples=370, repeat=0, accuracy=0.6535075166915301), Experiment(n_samples=380, repeat=0, accuracy=0.6385597026487212), Experiment(n_samples=390, repeat=0, accuracy=0.6486189920637976), Experiment(n_samples=400, repeat=0, accuracy=0.6562849959464808), Experiment(n_samples=410, repeat=0, accuracy=0.6479413965464063), Experiment(n_samples=420, repeat=0, accuracy=0.6405925808400341), Experiment(n_samples=430, repeat=0, accuracy=0.6491890414795435), Experiment(n_samples=440, repeat=0, accuracy=0.6499834276169063), Experiment(n_samples=450, repeat=0, accuracy=0.6460093381206381), Experiment(n_samples=460, repeat=0, accuracy=0.6511273296934679), Experiment(n_samples=470, repeat=0, accuracy=0.6490018711335901), Experiment(n_samples=480, repeat=0, accuracy=0.6424642177396455), Experiment(n_samples=490, repeat=0, accuracy=0.6321487265677356), Experiment(n_samples=500, repeat=0, accuracy=0.6308199520311436), Experiment(n_samples=510, repeat=0, accuracy=0.6333362898278546), Experiment(n_samples=520, repeat=0, accuracy=0.6422262221883501), Experiment(n_samples=530, repeat=0, accuracy=0.6366874637564536), Experiment(n_samples=540, repeat=0, accuracy=0.6251294709282896), Experiment(n_samples=550, repeat=0, accuracy=0.6280843490477009), Experiment(n_samples=560, repeat=0, accuracy=0.6468279264307747), Experiment(n_samples=570, repeat=0, accuracy=0.6312220245363482), Experiment(n_samples=580, repeat=0, accuracy=0.645836446998007), Experiment(n_samples=590, repeat=0, accuracy=0.63062733793714), Experiment(n_samples=600, repeat=0, accuracy=0.6378371232581881), Experiment(n_samples=610, repeat=0, accuracy=0.6307243776876987), Experiment(n_samples=620, repeat=0, accuracy=0.6425989540462025), Experiment(n_samples=630, repeat=0, accuracy=0.6290115462106805), Experiment(n_samples=640, repeat=0, accuracy=0.6315171294160328), Experiment(n_samples=650, repeat=0, accuracy=0.6221551245428238), Experiment(n_samples=660, repeat=0, accuracy=0.6285113566111329), Experiment(n_samples=670, repeat=0, accuracy=0.6323495590016449), Experiment(n_samples=680, repeat=0, accuracy=0.6347360006756542), Experiment(n_samples=690, repeat=0, accuracy=0.6375100884304558), Experiment(n_samples=700, repeat=0, accuracy=0.6311809909145152), Experiment(n_samples=30, repeat=1, accuracy=0.6466636605979406), Experiment(n_samples=40, repeat=1, accuracy=0.6700947150627999), Experiment(n_samples=50, repeat=1, accuracy=0.6347091744636587), Experiment(n_samples=60, repeat=1, accuracy=0.63948782011978), Experiment(n_samples=70, repeat=1, accuracy=0.6192815778156936), Experiment(n_samples=80, repeat=1, accuracy=0.6302745000414771), Experiment(n_samples=90, repeat=1, accuracy=0.623861200658591), Experiment(n_samples=100, repeat=1, accuracy=0.6519644692212122), Experiment(n_samples=110, repeat=1, accuracy=0.6376076707427133), Experiment(n_samples=120, repeat=1, accuracy=0.6271092530801373), Experiment(n_samples=130, repeat=1, accuracy=0.6538143758606969), Experiment(n_samples=140, repeat=1, accuracy=0.626588141228139), Experiment(n_samples=150, repeat=1, accuracy=0.6391384810453016), Experiment(n_samples=160, repeat=1, accuracy=0.6337419049252713), Experiment(n_samples=170, repeat=1, accuracy=0.6467609610466944), Experiment(n_samples=180, repeat=1, accuracy=0.6258217158937905), Experiment(n_samples=190, repeat=1, accuracy=0.6279277255911442), Experiment(n_samples=200, repeat=1, accuracy=0.6164410646380302), Experiment(n_samples=210, repeat=1, accuracy=0.6404431868924836), Experiment(n_samples=220, repeat=1, accuracy=0.6353457377029763), Experiment(n_samples=230, repeat=1, accuracy=0.6353761828659814), Experiment(n_samples=240, repeat=1, accuracy=0.6514689899615131), Experiment(n_samples=250, repeat=1, accuracy=0.6377927337180345), Experiment(n_samples=260, repeat=1, accuracy=0.6318651378629189), Experiment(n_samples=270, repeat=1, accuracy=0.6177557440637975), Experiment(n_samples=280, repeat=1, accuracy=0.6242155077368831), Experiment(n_samples=290, repeat=1, accuracy=0.6272288310951517), Experiment(n_samples=300, repeat=1, accuracy=0.6375114093934282), Experiment(n_samples=310, repeat=1, accuracy=0.643239900377809), Experiment(n_samples=320, repeat=1, accuracy=0.6143510337959305), Experiment(n_samples=330, repeat=1, accuracy=0.6392522024341751), Experiment(n_samples=340, repeat=1, accuracy=0.6403069654337153), Experiment(n_samples=350, repeat=1, accuracy=0.6414600920250655), Experiment(n_samples=360, repeat=1, accuracy=0.6331347034714268), Experiment(n_samples=370, repeat=1, accuracy=0.6535075166915301), Experiment(n_samples=380, repeat=1, accuracy=0.6385597026487212), Experiment(n_samples=390, repeat=1, accuracy=0.6486189920637976), Experiment(n_samples=400, repeat=1, accuracy=0.6562849959464808), Experiment(n_samples=410, repeat=1, accuracy=0.6479413965464063), Experiment(n_samples=420, repeat=1, accuracy=0.6405925808400341), Experiment(n_samples=430, repeat=1, accuracy=0.6491890414795435), Experiment(n_samples=440, repeat=1, accuracy=0.6499834276169063), Experiment(n_samples=450, repeat=1, accuracy=0.6460093381206381), Experiment(n_samples=460, repeat=1, accuracy=0.6511273296934679), Experiment(n_samples=470, repeat=1, accuracy=0.6490018711335901), Experiment(n_samples=480, repeat=1, accuracy=0.6424642177396455), Experiment(n_samples=490, repeat=1, accuracy=0.6321487265677356), Experiment(n_samples=500, repeat=1, accuracy=0.6308199520311436), Experiment(n_samples=510, repeat=1, accuracy=0.6333362898278546), Experiment(n_samples=520, repeat=1, accuracy=0.6422262221883501), Experiment(n_samples=530, repeat=1, accuracy=0.6366874637564536), Experiment(n_samples=540, repeat=1, accuracy=0.6251294709282896), Experiment(n_samples=550, repeat=1, accuracy=0.6280843490477009), Experiment(n_samples=560, repeat=1, accuracy=0.6468279264307747), Experiment(n_samples=570, repeat=1, accuracy=0.6312220245363482), Experiment(n_samples=580, repeat=1, accuracy=0.645836446998007), Experiment(n_samples=590, repeat=1, accuracy=0.63062733793714), Experiment(n_samples=600, repeat=1, accuracy=0.6378371232581881), Experiment(n_samples=610, repeat=1, accuracy=0.6307243776876987), Experiment(n_samples=620, repeat=1, accuracy=0.6425989540462025), Experiment(n_samples=630, repeat=1, accuracy=0.6290115462106805), Experiment(n_samples=640, repeat=1, accuracy=0.6315171294160328), Experiment(n_samples=650, repeat=1, accuracy=0.6221551245428238), Experiment(n_samples=660, repeat=1, accuracy=0.6285113566111329), Experiment(n_samples=670, repeat=1, accuracy=0.6323495590016449), Experiment(n_samples=680, repeat=1, accuracy=0.6347360006756542), Experiment(n_samples=690, repeat=1, accuracy=0.6375100884304558), Experiment(n_samples=700, repeat=1, accuracy=0.6311809909145152), Experiment(n_samples=30, repeat=2, accuracy=0.6466636605979406), Experiment(n_samples=40, repeat=2, accuracy=0.6700947150627999), Experiment(n_samples=50, repeat=2, accuracy=0.6347091744636587), Experiment(n_samples=60, repeat=2, accuracy=0.63948782011978), Experiment(n_samples=70, repeat=2, accuracy=0.6192815778156936), Experiment(n_samples=80, repeat=2, accuracy=0.6302745000414771), Experiment(n_samples=90, repeat=2, accuracy=0.623861200658591), Experiment(n_samples=100, repeat=2, accuracy=0.6519644692212122), Experiment(n_samples=110, repeat=2, accuracy=0.6376076707427133), Experiment(n_samples=120, repeat=2, accuracy=0.6271092530801373), Experiment(n_samples=130, repeat=2, accuracy=0.6538143758606969), Experiment(n_samples=140, repeat=2, accuracy=0.626588141228139), Experiment(n_samples=150, repeat=2, accuracy=0.6391384810453016), Experiment(n_samples=160, repeat=2, accuracy=0.6337419049252713), Experiment(n_samples=170, repeat=2, accuracy=0.6467609610466944), Experiment(n_samples=180, repeat=2, accuracy=0.6258217158937905), Experiment(n_samples=190, repeat=2, accuracy=0.6279277255911442), Experiment(n_samples=200, repeat=2, accuracy=0.6164410646380302), Experiment(n_samples=210, repeat=2, accuracy=0.6404431868924836), Experiment(n_samples=220, repeat=2, accuracy=0.6353457377029763), Experiment(n_samples=230, repeat=2, accuracy=0.6353761828659814), Experiment(n_samples=240, repeat=2, accuracy=0.6514689899615131), Experiment(n_samples=250, repeat=2, accuracy=0.6377927337180345), Experiment(n_samples=260, repeat=2, accuracy=0.6318651378629189), Experiment(n_samples=270, repeat=2, accuracy=0.6177557440637975), Experiment(n_samples=280, repeat=2, accuracy=0.6242155077368831), Experiment(n_samples=290, repeat=2, accuracy=0.6272288310951517), Experiment(n_samples=300, repeat=2, accuracy=0.6375114093934282), Experiment(n_samples=310, repeat=2, accuracy=0.643239900377809), Experiment(n_samples=320, repeat=2, accuracy=0.6143510337959305), Experiment(n_samples=330, repeat=2, accuracy=0.6392522024341751), Experiment(n_samples=340, repeat=2, accuracy=0.6403069654337153), Experiment(n_samples=350, repeat=2, accuracy=0.6414600920250655), Experiment(n_samples=360, repeat=2, accuracy=0.6331347034714268), Experiment(n_samples=370, repeat=2, accuracy=0.6535075166915301), Experiment(n_samples=380, repeat=2, accuracy=0.6385597026487212), Experiment(n_samples=390, repeat=2, accuracy=0.6486189920637976), Experiment(n_samples=400, repeat=2, accuracy=0.6562849959464808), Experiment(n_samples=410, repeat=2, accuracy=0.6479413965464063), Experiment(n_samples=420, repeat=2, accuracy=0.6405925808400341), Experiment(n_samples=430, repeat=2, accuracy=0.6491890414795435), Experiment(n_samples=440, repeat=2, accuracy=0.6499834276169063), Experiment(n_samples=450, repeat=2, accuracy=0.6460093381206381), Experiment(n_samples=460, repeat=2, accuracy=0.6511273296934679), Experiment(n_samples=470, repeat=2, accuracy=0.6490018711335901), Experiment(n_samples=480, repeat=2, accuracy=0.6424642177396455), Experiment(n_samples=490, repeat=2, accuracy=0.6321487265677356), Experiment(n_samples=500, repeat=2, accuracy=0.6308199520311436), Experiment(n_samples=510, repeat=2, accuracy=0.6333362898278546), Experiment(n_samples=520, repeat=2, accuracy=0.6422262221883501), Experiment(n_samples=530, repeat=2, accuracy=0.6366874637564536), Experiment(n_samples=540, repeat=2, accuracy=0.6251294709282896), Experiment(n_samples=550, repeat=2, accuracy=0.6280843490477009), Experiment(n_samples=560, repeat=2, accuracy=0.6468279264307747), Experiment(n_samples=570, repeat=2, accuracy=0.6312220245363482), Experiment(n_samples=580, repeat=2, accuracy=0.645836446998007), Experiment(n_samples=590, repeat=2, accuracy=0.63062733793714), Experiment(n_samples=600, repeat=2, accuracy=0.6378371232581881), Experiment(n_samples=610, repeat=2, accuracy=0.6307243776876987), Experiment(n_samples=620, repeat=2, accuracy=0.6425989540462025), Experiment(n_samples=630, repeat=2, accuracy=0.6290115462106805), Experiment(n_samples=640, repeat=2, accuracy=0.6315171294160328), Experiment(n_samples=650, repeat=2, accuracy=0.6221551245428238), Experiment(n_samples=660, repeat=2, accuracy=0.6285113566111329), Experiment(n_samples=670, repeat=2, accuracy=0.6323495590016449), Experiment(n_samples=680, repeat=2, accuracy=0.6347360006756542), Experiment(n_samples=690, repeat=2, accuracy=0.6375100884304558), Experiment(n_samples=700, repeat=2, accuracy=0.6311809909145152)]\n"
          ],
          "name": "stdout"
        },
        {
          "output_type": "stream",
          "text": [
            "\n"
          ],
          "name": "stderr"
        }
      ]
    },
    {
      "cell_type": "code",
      "metadata": {
        "id": "LjwJ6wK5FmdN",
        "colab": {
          "base_uri": "https://localhost:8080/"
        },
        "outputId": "e67cc7d8-74c0-4cf2-c21b-e4c1d6cab9b0"
      },
      "source": [
        "result_rf_margin, result_rf_acc_margin, result_rf_time_margin, experiment_margin = random_forest_score_repeat(n_initial,n_queries,margin_sampling,repeats)\n",
        "print(experiment_margin)"
      ],
      "execution_count": 25,
      "outputs": [
        {
          "output_type": "stream",
          "text": [
            "\r  0%|          | 0/3 [00:00<?, ?it/s]"
          ],
          "name": "stderr"
        },
        {
          "output_type": "stream",
          "text": [
            "0\n",
            "30\n",
            "50\n",
            "70\n",
            "90\n",
            "110\n",
            "130\n",
            "150\n",
            "170\n",
            "190\n",
            "210\n",
            "230\n",
            "250\n",
            "270\n",
            "290\n"
          ],
          "name": "stdout"
        },
        {
          "output_type": "stream",
          "text": [
            "\r 33%|███▎      | 1/3 [03:38<07:16, 218.38s/it]"
          ],
          "name": "stderr"
        },
        {
          "output_type": "stream",
          "text": [
            "1\n",
            "30\n",
            "50\n",
            "70\n",
            "90\n",
            "110\n",
            "130\n",
            "150\n",
            "170\n",
            "190\n",
            "210\n",
            "230\n",
            "250\n",
            "270\n",
            "290\n"
          ],
          "name": "stdout"
        },
        {
          "output_type": "stream",
          "text": [
            "\r 67%|██████▋   | 2/3 [07:13<03:37, 217.53s/it]"
          ],
          "name": "stderr"
        },
        {
          "output_type": "stream",
          "text": [
            "2\n",
            "30\n",
            "50\n",
            "70\n",
            "90\n",
            "110\n",
            "130\n",
            "150\n",
            "170\n",
            "190\n",
            "210\n",
            "230\n",
            "250\n",
            "270\n",
            "290\n"
          ],
          "name": "stdout"
        },
        {
          "output_type": "stream",
          "text": [
            "100%|██████████| 3/3 [10:54<00:00, 218.08s/it]"
          ],
          "name": "stderr"
        },
        {
          "output_type": "stream",
          "text": [
            "--- 654.2534215450287 seconds ---\n",
            "[Experiment(n_samples=30, repeat=0, accuracy=0.6466636605979406), Experiment(n_samples=40, repeat=0, accuracy=0.6700947150627999), Experiment(n_samples=50, repeat=0, accuracy=0.6347091744636587), Experiment(n_samples=60, repeat=0, accuracy=0.63948782011978), Experiment(n_samples=70, repeat=0, accuracy=0.6192815778156936), Experiment(n_samples=80, repeat=0, accuracy=0.6302745000414771), Experiment(n_samples=90, repeat=0, accuracy=0.623861200658591), Experiment(n_samples=100, repeat=0, accuracy=0.6519644692212122), Experiment(n_samples=110, repeat=0, accuracy=0.6376076707427133), Experiment(n_samples=120, repeat=0, accuracy=0.6271092530801373), Experiment(n_samples=130, repeat=0, accuracy=0.6538143758606969), Experiment(n_samples=140, repeat=0, accuracy=0.626588141228139), Experiment(n_samples=150, repeat=0, accuracy=0.6391384810453016), Experiment(n_samples=160, repeat=0, accuracy=0.6337419049252713), Experiment(n_samples=170, repeat=0, accuracy=0.6467609610466944), Experiment(n_samples=180, repeat=0, accuracy=0.6258217158937905), Experiment(n_samples=190, repeat=0, accuracy=0.6279277255911442), Experiment(n_samples=200, repeat=0, accuracy=0.6164410646380302), Experiment(n_samples=210, repeat=0, accuracy=0.6404431868924836), Experiment(n_samples=220, repeat=0, accuracy=0.6353457377029763), Experiment(n_samples=230, repeat=0, accuracy=0.6353761828659814), Experiment(n_samples=240, repeat=0, accuracy=0.6514689899615131), Experiment(n_samples=250, repeat=0, accuracy=0.6377927337180345), Experiment(n_samples=260, repeat=0, accuracy=0.6318651378629189), Experiment(n_samples=270, repeat=0, accuracy=0.6177557440637975), Experiment(n_samples=280, repeat=0, accuracy=0.6242155077368831), Experiment(n_samples=290, repeat=0, accuracy=0.6272288310951517), Experiment(n_samples=300, repeat=0, accuracy=0.6375114093934282), Experiment(n_samples=30, repeat=1, accuracy=0.6466636605979406), Experiment(n_samples=40, repeat=1, accuracy=0.6700947150627999), Experiment(n_samples=50, repeat=1, accuracy=0.6347091744636587), Experiment(n_samples=60, repeat=1, accuracy=0.63948782011978), Experiment(n_samples=70, repeat=1, accuracy=0.6192815778156936), Experiment(n_samples=80, repeat=1, accuracy=0.6302745000414771), Experiment(n_samples=90, repeat=1, accuracy=0.623861200658591), Experiment(n_samples=100, repeat=1, accuracy=0.6519644692212122), Experiment(n_samples=110, repeat=1, accuracy=0.6376076707427133), Experiment(n_samples=120, repeat=1, accuracy=0.6271092530801373), Experiment(n_samples=130, repeat=1, accuracy=0.6538143758606969), Experiment(n_samples=140, repeat=1, accuracy=0.626588141228139), Experiment(n_samples=150, repeat=1, accuracy=0.6391384810453016), Experiment(n_samples=160, repeat=1, accuracy=0.6337419049252713), Experiment(n_samples=170, repeat=1, accuracy=0.6467609610466944), Experiment(n_samples=180, repeat=1, accuracy=0.6258217158937905), Experiment(n_samples=190, repeat=1, accuracy=0.6279277255911442), Experiment(n_samples=200, repeat=1, accuracy=0.6164410646380302), Experiment(n_samples=210, repeat=1, accuracy=0.6404431868924836), Experiment(n_samples=220, repeat=1, accuracy=0.6353457377029763), Experiment(n_samples=230, repeat=1, accuracy=0.6353761828659814), Experiment(n_samples=240, repeat=1, accuracy=0.6514689899615131), Experiment(n_samples=250, repeat=1, accuracy=0.6377927337180345), Experiment(n_samples=260, repeat=1, accuracy=0.6318651378629189), Experiment(n_samples=270, repeat=1, accuracy=0.6177557440637975), Experiment(n_samples=280, repeat=1, accuracy=0.6242155077368831), Experiment(n_samples=290, repeat=1, accuracy=0.6272288310951517), Experiment(n_samples=300, repeat=1, accuracy=0.6375114093934282), Experiment(n_samples=30, repeat=2, accuracy=0.6466636605979406), Experiment(n_samples=40, repeat=2, accuracy=0.6700947150627999), Experiment(n_samples=50, repeat=2, accuracy=0.6347091744636587), Experiment(n_samples=60, repeat=2, accuracy=0.63948782011978), Experiment(n_samples=70, repeat=2, accuracy=0.6192815778156936), Experiment(n_samples=80, repeat=2, accuracy=0.6302745000414771), Experiment(n_samples=90, repeat=2, accuracy=0.623861200658591), Experiment(n_samples=100, repeat=2, accuracy=0.6519644692212122), Experiment(n_samples=110, repeat=2, accuracy=0.6376076707427133), Experiment(n_samples=120, repeat=2, accuracy=0.6271092530801373), Experiment(n_samples=130, repeat=2, accuracy=0.6538143758606969), Experiment(n_samples=140, repeat=2, accuracy=0.626588141228139), Experiment(n_samples=150, repeat=2, accuracy=0.6391384810453016), Experiment(n_samples=160, repeat=2, accuracy=0.6337419049252713), Experiment(n_samples=170, repeat=2, accuracy=0.6467609610466944), Experiment(n_samples=180, repeat=2, accuracy=0.6258217158937905), Experiment(n_samples=190, repeat=2, accuracy=0.6279277255911442), Experiment(n_samples=200, repeat=2, accuracy=0.6164410646380302), Experiment(n_samples=210, repeat=2, accuracy=0.6404431868924836), Experiment(n_samples=220, repeat=2, accuracy=0.6353457377029763), Experiment(n_samples=230, repeat=2, accuracy=0.6353761828659814), Experiment(n_samples=240, repeat=2, accuracy=0.6514689899615131), Experiment(n_samples=250, repeat=2, accuracy=0.6377927337180345), Experiment(n_samples=260, repeat=2, accuracy=0.6318651378629189), Experiment(n_samples=270, repeat=2, accuracy=0.6177557440637975), Experiment(n_samples=280, repeat=2, accuracy=0.6242155077368831), Experiment(n_samples=290, repeat=2, accuracy=0.6272288310951517), Experiment(n_samples=300, repeat=2, accuracy=0.6375114093934282)]\n"
          ],
          "name": "stdout"
        },
        {
          "output_type": "stream",
          "text": [
            "\n"
          ],
          "name": "stderr"
        }
      ]
    },
    {
      "cell_type": "code",
      "metadata": {
        "id": "QH1TMhkNU6Kr",
        "colab": {
          "base_uri": "https://localhost:8080/"
        },
        "outputId": "a3f23776-b531-42be-8372-c0f47b6c15d1"
      },
      "source": [
        "result_rf_entropy, result_rf_acc_entropy, result_rf_time_entropy, experiment_entropy = random_forest_score_repeat(n_initial,n_queries,entropy_sampling,repeats)\n",
        "print(experiment_entropy)"
      ],
      "execution_count": 26,
      "outputs": [
        {
          "output_type": "stream",
          "text": [
            "\r  0%|          | 0/3 [00:00<?, ?it/s]"
          ],
          "name": "stderr"
        },
        {
          "output_type": "stream",
          "text": [
            "0\n",
            "30\n",
            "50\n",
            "70\n",
            "90\n",
            "110\n",
            "130\n",
            "150\n",
            "170\n",
            "190\n",
            "210\n",
            "230\n",
            "250\n",
            "270\n",
            "290\n"
          ],
          "name": "stdout"
        },
        {
          "output_type": "stream",
          "text": [
            "\r 33%|███▎      | 1/3 [03:33<07:06, 213.21s/it]"
          ],
          "name": "stderr"
        },
        {
          "output_type": "stream",
          "text": [
            "1\n",
            "30\n",
            "50\n",
            "70\n",
            "90\n",
            "110\n",
            "130\n",
            "150\n",
            "170\n",
            "190\n",
            "210\n",
            "230\n",
            "250\n",
            "270\n",
            "290\n"
          ],
          "name": "stdout"
        },
        {
          "output_type": "stream",
          "text": [
            "\r 67%|██████▋   | 2/3 [07:07<03:33, 213.43s/it]"
          ],
          "name": "stderr"
        },
        {
          "output_type": "stream",
          "text": [
            "2\n",
            "30\n",
            "50\n",
            "70\n",
            "90\n",
            "110\n",
            "130\n",
            "150\n",
            "170\n",
            "190\n",
            "210\n",
            "230\n",
            "250\n",
            "270\n",
            "290\n"
          ],
          "name": "stdout"
        },
        {
          "output_type": "stream",
          "text": [
            "100%|██████████| 3/3 [10:35<00:00, 211.96s/it]"
          ],
          "name": "stderr"
        },
        {
          "output_type": "stream",
          "text": [
            "--- 635.8716697692871 seconds ---\n",
            "[Experiment(n_samples=30, repeat=0, accuracy=0.6466636605979406), Experiment(n_samples=40, repeat=0, accuracy=0.6700947150627999), Experiment(n_samples=50, repeat=0, accuracy=0.6347091744636587), Experiment(n_samples=60, repeat=0, accuracy=0.63948782011978), Experiment(n_samples=70, repeat=0, accuracy=0.6192815778156936), Experiment(n_samples=80, repeat=0, accuracy=0.6302745000414771), Experiment(n_samples=90, repeat=0, accuracy=0.623861200658591), Experiment(n_samples=100, repeat=0, accuracy=0.6519644692212122), Experiment(n_samples=110, repeat=0, accuracy=0.6376076707427133), Experiment(n_samples=120, repeat=0, accuracy=0.6271092530801373), Experiment(n_samples=130, repeat=0, accuracy=0.6538143758606969), Experiment(n_samples=140, repeat=0, accuracy=0.626588141228139), Experiment(n_samples=150, repeat=0, accuracy=0.6391384810453016), Experiment(n_samples=160, repeat=0, accuracy=0.6337419049252713), Experiment(n_samples=170, repeat=0, accuracy=0.6467609610466944), Experiment(n_samples=180, repeat=0, accuracy=0.6258217158937905), Experiment(n_samples=190, repeat=0, accuracy=0.6279277255911442), Experiment(n_samples=200, repeat=0, accuracy=0.6164410646380302), Experiment(n_samples=210, repeat=0, accuracy=0.6404431868924836), Experiment(n_samples=220, repeat=0, accuracy=0.6353457377029763), Experiment(n_samples=230, repeat=0, accuracy=0.6353761828659814), Experiment(n_samples=240, repeat=0, accuracy=0.6514689899615131), Experiment(n_samples=250, repeat=0, accuracy=0.6377927337180345), Experiment(n_samples=260, repeat=0, accuracy=0.6318651378629189), Experiment(n_samples=270, repeat=0, accuracy=0.6177557440637975), Experiment(n_samples=280, repeat=0, accuracy=0.6242155077368831), Experiment(n_samples=290, repeat=0, accuracy=0.6272288310951517), Experiment(n_samples=300, repeat=0, accuracy=0.6375114093934282), Experiment(n_samples=30, repeat=1, accuracy=0.6466636605979406), Experiment(n_samples=40, repeat=1, accuracy=0.6700947150627999), Experiment(n_samples=50, repeat=1, accuracy=0.6347091744636587), Experiment(n_samples=60, repeat=1, accuracy=0.63948782011978), Experiment(n_samples=70, repeat=1, accuracy=0.6192815778156936), Experiment(n_samples=80, repeat=1, accuracy=0.6302745000414771), Experiment(n_samples=90, repeat=1, accuracy=0.623861200658591), Experiment(n_samples=100, repeat=1, accuracy=0.6519644692212122), Experiment(n_samples=110, repeat=1, accuracy=0.6376076707427133), Experiment(n_samples=120, repeat=1, accuracy=0.6271092530801373), Experiment(n_samples=130, repeat=1, accuracy=0.6538143758606969), Experiment(n_samples=140, repeat=1, accuracy=0.626588141228139), Experiment(n_samples=150, repeat=1, accuracy=0.6391384810453016), Experiment(n_samples=160, repeat=1, accuracy=0.6337419049252713), Experiment(n_samples=170, repeat=1, accuracy=0.6467609610466944), Experiment(n_samples=180, repeat=1, accuracy=0.6258217158937905), Experiment(n_samples=190, repeat=1, accuracy=0.6279277255911442), Experiment(n_samples=200, repeat=1, accuracy=0.6164410646380302), Experiment(n_samples=210, repeat=1, accuracy=0.6404431868924836), Experiment(n_samples=220, repeat=1, accuracy=0.6353457377029763), Experiment(n_samples=230, repeat=1, accuracy=0.6353761828659814), Experiment(n_samples=240, repeat=1, accuracy=0.6514689899615131), Experiment(n_samples=250, repeat=1, accuracy=0.6377927337180345), Experiment(n_samples=260, repeat=1, accuracy=0.6318651378629189), Experiment(n_samples=270, repeat=1, accuracy=0.6177557440637975), Experiment(n_samples=280, repeat=1, accuracy=0.6242155077368831), Experiment(n_samples=290, repeat=1, accuracy=0.6272288310951517), Experiment(n_samples=300, repeat=1, accuracy=0.6375114093934282), Experiment(n_samples=30, repeat=2, accuracy=0.6466636605979406), Experiment(n_samples=40, repeat=2, accuracy=0.6700947150627999), Experiment(n_samples=50, repeat=2, accuracy=0.6347091744636587), Experiment(n_samples=60, repeat=2, accuracy=0.63948782011978), Experiment(n_samples=70, repeat=2, accuracy=0.6192815778156936), Experiment(n_samples=80, repeat=2, accuracy=0.6302745000414771), Experiment(n_samples=90, repeat=2, accuracy=0.623861200658591), Experiment(n_samples=100, repeat=2, accuracy=0.6519644692212122), Experiment(n_samples=110, repeat=2, accuracy=0.6376076707427133), Experiment(n_samples=120, repeat=2, accuracy=0.6271092530801373), Experiment(n_samples=130, repeat=2, accuracy=0.6538143758606969), Experiment(n_samples=140, repeat=2, accuracy=0.626588141228139), Experiment(n_samples=150, repeat=2, accuracy=0.6391384810453016), Experiment(n_samples=160, repeat=2, accuracy=0.6337419049252713), Experiment(n_samples=170, repeat=2, accuracy=0.6467609610466944), Experiment(n_samples=180, repeat=2, accuracy=0.6258217158937905), Experiment(n_samples=190, repeat=2, accuracy=0.6279277255911442), Experiment(n_samples=200, repeat=2, accuracy=0.6164410646380302), Experiment(n_samples=210, repeat=2, accuracy=0.6404431868924836), Experiment(n_samples=220, repeat=2, accuracy=0.6353457377029763), Experiment(n_samples=230, repeat=2, accuracy=0.6353761828659814), Experiment(n_samples=240, repeat=2, accuracy=0.6514689899615131), Experiment(n_samples=250, repeat=2, accuracy=0.6377927337180345), Experiment(n_samples=260, repeat=2, accuracy=0.6318651378629189), Experiment(n_samples=270, repeat=2, accuracy=0.6177557440637975), Experiment(n_samples=280, repeat=2, accuracy=0.6242155077368831), Experiment(n_samples=290, repeat=2, accuracy=0.6272288310951517), Experiment(n_samples=300, repeat=2, accuracy=0.6375114093934282)]\n"
          ],
          "name": "stdout"
        },
        {
          "output_type": "stream",
          "text": [
            "\n"
          ],
          "name": "stderr"
        }
      ]
    },
    {
      "cell_type": "code",
      "metadata": {
        "colab": {
          "base_uri": "https://localhost:8080/"
        },
        "id": "sBsoTn90xcf0",
        "outputId": "a6c8fd60-8d0f-47e0-a5a5-e5ee2beeec86"
      },
      "source": [
        "n_initial = range(30,710,10)\n",
        "experiment_random, res_random, time_random = learning_curve(n_initial,3, random_sampling_policy)"
      ],
      "execution_count": 49,
      "outputs": [
        {
          "output_type": "stream",
          "text": [
            "100%|██████████| 3/3 [12:45<00:00, 255.11s/it]"
          ],
          "name": "stderr"
        },
        {
          "output_type": "stream",
          "text": [
            "--- 765.3207383155823 seconds ---\n"
          ],
          "name": "stdout"
        },
        {
          "output_type": "stream",
          "text": [
            "\n"
          ],
          "name": "stderr"
        }
      ]
    },
    {
      "cell_type": "code",
      "metadata": {
        "colab": {
          "base_uri": "https://localhost:8080/"
        },
        "id": "tW84Jq8RJ_99",
        "outputId": "3c755e49-8ae3-4fd9-ba7a-527d0044f36c"
      },
      "source": [
        "print(experiment_uncertainty)\n",
        "#print(experiment_margin)\n",
        "#print(experiment_entropy)\n",
        "print(experiment_random)"
      ],
      "execution_count": 38,
      "outputs": [
        {
          "output_type": "stream",
          "text": [
            "[Experiment(n_samples=30, repeat=0, accuracy=0.6466636605979406), Experiment(n_samples=40, repeat=0, accuracy=0.6700947150627999), Experiment(n_samples=50, repeat=0, accuracy=0.6347091744636587), Experiment(n_samples=60, repeat=0, accuracy=0.63948782011978), Experiment(n_samples=70, repeat=0, accuracy=0.6192815778156936), Experiment(n_samples=80, repeat=0, accuracy=0.6302745000414771), Experiment(n_samples=90, repeat=0, accuracy=0.623861200658591), Experiment(n_samples=100, repeat=0, accuracy=0.6519644692212122), Experiment(n_samples=110, repeat=0, accuracy=0.6376076707427133), Experiment(n_samples=120, repeat=0, accuracy=0.6271092530801373), Experiment(n_samples=130, repeat=0, accuracy=0.6538143758606969), Experiment(n_samples=140, repeat=0, accuracy=0.626588141228139), Experiment(n_samples=150, repeat=0, accuracy=0.6391384810453016), Experiment(n_samples=160, repeat=0, accuracy=0.6337419049252713), Experiment(n_samples=170, repeat=0, accuracy=0.6467609610466944), Experiment(n_samples=180, repeat=0, accuracy=0.6258217158937905), Experiment(n_samples=190, repeat=0, accuracy=0.6279277255911442), Experiment(n_samples=200, repeat=0, accuracy=0.6164410646380302), Experiment(n_samples=210, repeat=0, accuracy=0.6404431868924836), Experiment(n_samples=220, repeat=0, accuracy=0.6353457377029763), Experiment(n_samples=230, repeat=0, accuracy=0.6353761828659814), Experiment(n_samples=240, repeat=0, accuracy=0.6514689899615131), Experiment(n_samples=250, repeat=0, accuracy=0.6377927337180345), Experiment(n_samples=260, repeat=0, accuracy=0.6318651378629189), Experiment(n_samples=270, repeat=0, accuracy=0.6177557440637975), Experiment(n_samples=280, repeat=0, accuracy=0.6242155077368831), Experiment(n_samples=290, repeat=0, accuracy=0.6272288310951517), Experiment(n_samples=300, repeat=0, accuracy=0.6375114093934282), Experiment(n_samples=30, repeat=1, accuracy=0.6466636605979406), Experiment(n_samples=40, repeat=1, accuracy=0.6700947150627999), Experiment(n_samples=50, repeat=1, accuracy=0.6347091744636587), Experiment(n_samples=60, repeat=1, accuracy=0.63948782011978), Experiment(n_samples=70, repeat=1, accuracy=0.6192815778156936), Experiment(n_samples=80, repeat=1, accuracy=0.6302745000414771), Experiment(n_samples=90, repeat=1, accuracy=0.623861200658591), Experiment(n_samples=100, repeat=1, accuracy=0.6519644692212122), Experiment(n_samples=110, repeat=1, accuracy=0.6376076707427133), Experiment(n_samples=120, repeat=1, accuracy=0.6271092530801373), Experiment(n_samples=130, repeat=1, accuracy=0.6538143758606969), Experiment(n_samples=140, repeat=1, accuracy=0.626588141228139), Experiment(n_samples=150, repeat=1, accuracy=0.6391384810453016), Experiment(n_samples=160, repeat=1, accuracy=0.6337419049252713), Experiment(n_samples=170, repeat=1, accuracy=0.6467609610466944), Experiment(n_samples=180, repeat=1, accuracy=0.6258217158937905), Experiment(n_samples=190, repeat=1, accuracy=0.6279277255911442), Experiment(n_samples=200, repeat=1, accuracy=0.6164410646380302), Experiment(n_samples=210, repeat=1, accuracy=0.6404431868924836), Experiment(n_samples=220, repeat=1, accuracy=0.6353457377029763), Experiment(n_samples=230, repeat=1, accuracy=0.6353761828659814), Experiment(n_samples=240, repeat=1, accuracy=0.6514689899615131), Experiment(n_samples=250, repeat=1, accuracy=0.6377927337180345), Experiment(n_samples=260, repeat=1, accuracy=0.6318651378629189), Experiment(n_samples=270, repeat=1, accuracy=0.6177557440637975), Experiment(n_samples=280, repeat=1, accuracy=0.6242155077368831), Experiment(n_samples=290, repeat=1, accuracy=0.6272288310951517), Experiment(n_samples=300, repeat=1, accuracy=0.6375114093934282), Experiment(n_samples=30, repeat=2, accuracy=0.6466636605979406), Experiment(n_samples=40, repeat=2, accuracy=0.6700947150627999), Experiment(n_samples=50, repeat=2, accuracy=0.6347091744636587), Experiment(n_samples=60, repeat=2, accuracy=0.63948782011978), Experiment(n_samples=70, repeat=2, accuracy=0.6192815778156936), Experiment(n_samples=80, repeat=2, accuracy=0.6302745000414771), Experiment(n_samples=90, repeat=2, accuracy=0.623861200658591), Experiment(n_samples=100, repeat=2, accuracy=0.6519644692212122), Experiment(n_samples=110, repeat=2, accuracy=0.6376076707427133), Experiment(n_samples=120, repeat=2, accuracy=0.6271092530801373), Experiment(n_samples=130, repeat=2, accuracy=0.6538143758606969), Experiment(n_samples=140, repeat=2, accuracy=0.626588141228139), Experiment(n_samples=150, repeat=2, accuracy=0.6391384810453016), Experiment(n_samples=160, repeat=2, accuracy=0.6337419049252713), Experiment(n_samples=170, repeat=2, accuracy=0.6467609610466944), Experiment(n_samples=180, repeat=2, accuracy=0.6258217158937905), Experiment(n_samples=190, repeat=2, accuracy=0.6279277255911442), Experiment(n_samples=200, repeat=2, accuracy=0.6164410646380302), Experiment(n_samples=210, repeat=2, accuracy=0.6404431868924836), Experiment(n_samples=220, repeat=2, accuracy=0.6353457377029763), Experiment(n_samples=230, repeat=2, accuracy=0.6353761828659814), Experiment(n_samples=240, repeat=2, accuracy=0.6514689899615131), Experiment(n_samples=250, repeat=2, accuracy=0.6377927337180345), Experiment(n_samples=260, repeat=2, accuracy=0.6318651378629189), Experiment(n_samples=270, repeat=2, accuracy=0.6177557440637975), Experiment(n_samples=280, repeat=2, accuracy=0.6242155077368831), Experiment(n_samples=290, repeat=2, accuracy=0.6272288310951517), Experiment(n_samples=300, repeat=2, accuracy=0.6375114093934282)]\n",
            "[Experiment(n_samples=30, repeat=0, accuracy=0.6466636605979406), Experiment(n_samples=40, repeat=0, accuracy=0.6700947150627999), Experiment(n_samples=50, repeat=0, accuracy=0.6347091744636587), Experiment(n_samples=60, repeat=0, accuracy=0.63948782011978), Experiment(n_samples=70, repeat=0, accuracy=0.6192815778156936), Experiment(n_samples=80, repeat=0, accuracy=0.6302745000414771), Experiment(n_samples=90, repeat=0, accuracy=0.623861200658591), Experiment(n_samples=100, repeat=0, accuracy=0.6519644692212122), Experiment(n_samples=110, repeat=0, accuracy=0.6376076707427133), Experiment(n_samples=120, repeat=0, accuracy=0.6271092530801373), Experiment(n_samples=130, repeat=0, accuracy=0.6538143758606969), Experiment(n_samples=140, repeat=0, accuracy=0.626588141228139), Experiment(n_samples=150, repeat=0, accuracy=0.6391384810453016), Experiment(n_samples=160, repeat=0, accuracy=0.6337419049252713), Experiment(n_samples=170, repeat=0, accuracy=0.6467609610466944), Experiment(n_samples=180, repeat=0, accuracy=0.6258217158937905), Experiment(n_samples=190, repeat=0, accuracy=0.6279277255911442), Experiment(n_samples=200, repeat=0, accuracy=0.6164410646380302), Experiment(n_samples=210, repeat=0, accuracy=0.6404431868924836), Experiment(n_samples=220, repeat=0, accuracy=0.6353457377029763), Experiment(n_samples=230, repeat=0, accuracy=0.6353761828659814), Experiment(n_samples=240, repeat=0, accuracy=0.6514689899615131), Experiment(n_samples=250, repeat=0, accuracy=0.6377927337180345), Experiment(n_samples=260, repeat=0, accuracy=0.6318651378629189), Experiment(n_samples=270, repeat=0, accuracy=0.6177557440637975), Experiment(n_samples=280, repeat=0, accuracy=0.6242155077368831), Experiment(n_samples=290, repeat=0, accuracy=0.6272288310951517), Experiment(n_samples=300, repeat=0, accuracy=0.6375114093934282), Experiment(n_samples=30, repeat=1, accuracy=0.6466636605979406), Experiment(n_samples=40, repeat=1, accuracy=0.6700947150627999), Experiment(n_samples=50, repeat=1, accuracy=0.6347091744636587), Experiment(n_samples=60, repeat=1, accuracy=0.63948782011978), Experiment(n_samples=70, repeat=1, accuracy=0.6192815778156936), Experiment(n_samples=80, repeat=1, accuracy=0.6302745000414771), Experiment(n_samples=90, repeat=1, accuracy=0.623861200658591), Experiment(n_samples=100, repeat=1, accuracy=0.6519644692212122), Experiment(n_samples=110, repeat=1, accuracy=0.6376076707427133), Experiment(n_samples=120, repeat=1, accuracy=0.6271092530801373), Experiment(n_samples=130, repeat=1, accuracy=0.6538143758606969), Experiment(n_samples=140, repeat=1, accuracy=0.626588141228139), Experiment(n_samples=150, repeat=1, accuracy=0.6391384810453016), Experiment(n_samples=160, repeat=1, accuracy=0.6337419049252713), Experiment(n_samples=170, repeat=1, accuracy=0.6467609610466944), Experiment(n_samples=180, repeat=1, accuracy=0.6258217158937905), Experiment(n_samples=190, repeat=1, accuracy=0.6279277255911442), Experiment(n_samples=200, repeat=1, accuracy=0.6164410646380302), Experiment(n_samples=210, repeat=1, accuracy=0.6404431868924836), Experiment(n_samples=220, repeat=1, accuracy=0.6353457377029763), Experiment(n_samples=230, repeat=1, accuracy=0.6353761828659814), Experiment(n_samples=240, repeat=1, accuracy=0.6514689899615131), Experiment(n_samples=250, repeat=1, accuracy=0.6377927337180345), Experiment(n_samples=260, repeat=1, accuracy=0.6318651378629189), Experiment(n_samples=270, repeat=1, accuracy=0.6177557440637975), Experiment(n_samples=280, repeat=1, accuracy=0.6242155077368831), Experiment(n_samples=290, repeat=1, accuracy=0.6272288310951517), Experiment(n_samples=300, repeat=1, accuracy=0.6375114093934282), Experiment(n_samples=30, repeat=2, accuracy=0.6466636605979406), Experiment(n_samples=40, repeat=2, accuracy=0.6700947150627999), Experiment(n_samples=50, repeat=2, accuracy=0.6347091744636587), Experiment(n_samples=60, repeat=2, accuracy=0.63948782011978), Experiment(n_samples=70, repeat=2, accuracy=0.6192815778156936), Experiment(n_samples=80, repeat=2, accuracy=0.6302745000414771), Experiment(n_samples=90, repeat=2, accuracy=0.623861200658591), Experiment(n_samples=100, repeat=2, accuracy=0.6519644692212122), Experiment(n_samples=110, repeat=2, accuracy=0.6376076707427133), Experiment(n_samples=120, repeat=2, accuracy=0.6271092530801373), Experiment(n_samples=130, repeat=2, accuracy=0.6538143758606969), Experiment(n_samples=140, repeat=2, accuracy=0.626588141228139), Experiment(n_samples=150, repeat=2, accuracy=0.6391384810453016), Experiment(n_samples=160, repeat=2, accuracy=0.6337419049252713), Experiment(n_samples=170, repeat=2, accuracy=0.6467609610466944), Experiment(n_samples=180, repeat=2, accuracy=0.6258217158937905), Experiment(n_samples=190, repeat=2, accuracy=0.6279277255911442), Experiment(n_samples=200, repeat=2, accuracy=0.6164410646380302), Experiment(n_samples=210, repeat=2, accuracy=0.6404431868924836), Experiment(n_samples=220, repeat=2, accuracy=0.6353457377029763), Experiment(n_samples=230, repeat=2, accuracy=0.6353761828659814), Experiment(n_samples=240, repeat=2, accuracy=0.6514689899615131), Experiment(n_samples=250, repeat=2, accuracy=0.6377927337180345), Experiment(n_samples=260, repeat=2, accuracy=0.6318651378629189), Experiment(n_samples=270, repeat=2, accuracy=0.6177557440637975), Experiment(n_samples=280, repeat=2, accuracy=0.6242155077368831), Experiment(n_samples=290, repeat=2, accuracy=0.6272288310951517), Experiment(n_samples=300, repeat=2, accuracy=0.6375114093934282)]\n",
            "[Experiment(n_samples=30, repeat=0, accuracy=0.6466636605979406), Experiment(n_samples=40, repeat=0, accuracy=0.6700947150627999), Experiment(n_samples=50, repeat=0, accuracy=0.6347091744636587), Experiment(n_samples=60, repeat=0, accuracy=0.63948782011978), Experiment(n_samples=70, repeat=0, accuracy=0.6192815778156936), Experiment(n_samples=80, repeat=0, accuracy=0.6302745000414771), Experiment(n_samples=90, repeat=0, accuracy=0.623861200658591), Experiment(n_samples=100, repeat=0, accuracy=0.6519644692212122), Experiment(n_samples=110, repeat=0, accuracy=0.6376076707427133), Experiment(n_samples=120, repeat=0, accuracy=0.6271092530801373), Experiment(n_samples=130, repeat=0, accuracy=0.6538143758606969), Experiment(n_samples=140, repeat=0, accuracy=0.626588141228139), Experiment(n_samples=150, repeat=0, accuracy=0.6391384810453016), Experiment(n_samples=160, repeat=0, accuracy=0.6337419049252713), Experiment(n_samples=170, repeat=0, accuracy=0.6467609610466944), Experiment(n_samples=180, repeat=0, accuracy=0.6258217158937905), Experiment(n_samples=190, repeat=0, accuracy=0.6279277255911442), Experiment(n_samples=200, repeat=0, accuracy=0.6164410646380302), Experiment(n_samples=210, repeat=0, accuracy=0.6404431868924836), Experiment(n_samples=220, repeat=0, accuracy=0.6353457377029763), Experiment(n_samples=230, repeat=0, accuracy=0.6353761828659814), Experiment(n_samples=240, repeat=0, accuracy=0.6514689899615131), Experiment(n_samples=250, repeat=0, accuracy=0.6377927337180345), Experiment(n_samples=260, repeat=0, accuracy=0.6318651378629189), Experiment(n_samples=270, repeat=0, accuracy=0.6177557440637975), Experiment(n_samples=280, repeat=0, accuracy=0.6242155077368831), Experiment(n_samples=290, repeat=0, accuracy=0.6272288310951517), Experiment(n_samples=300, repeat=0, accuracy=0.6375114093934282), Experiment(n_samples=30, repeat=1, accuracy=0.6466636605979406), Experiment(n_samples=40, repeat=1, accuracy=0.6700947150627999), Experiment(n_samples=50, repeat=1, accuracy=0.6347091744636587), Experiment(n_samples=60, repeat=1, accuracy=0.63948782011978), Experiment(n_samples=70, repeat=1, accuracy=0.6192815778156936), Experiment(n_samples=80, repeat=1, accuracy=0.6302745000414771), Experiment(n_samples=90, repeat=1, accuracy=0.623861200658591), Experiment(n_samples=100, repeat=1, accuracy=0.6519644692212122), Experiment(n_samples=110, repeat=1, accuracy=0.6376076707427133), Experiment(n_samples=120, repeat=1, accuracy=0.6271092530801373), Experiment(n_samples=130, repeat=1, accuracy=0.6538143758606969), Experiment(n_samples=140, repeat=1, accuracy=0.626588141228139), Experiment(n_samples=150, repeat=1, accuracy=0.6391384810453016), Experiment(n_samples=160, repeat=1, accuracy=0.6337419049252713), Experiment(n_samples=170, repeat=1, accuracy=0.6467609610466944), Experiment(n_samples=180, repeat=1, accuracy=0.6258217158937905), Experiment(n_samples=190, repeat=1, accuracy=0.6279277255911442), Experiment(n_samples=200, repeat=1, accuracy=0.6164410646380302), Experiment(n_samples=210, repeat=1, accuracy=0.6404431868924836), Experiment(n_samples=220, repeat=1, accuracy=0.6353457377029763), Experiment(n_samples=230, repeat=1, accuracy=0.6353761828659814), Experiment(n_samples=240, repeat=1, accuracy=0.6514689899615131), Experiment(n_samples=250, repeat=1, accuracy=0.6377927337180345), Experiment(n_samples=260, repeat=1, accuracy=0.6318651378629189), Experiment(n_samples=270, repeat=1, accuracy=0.6177557440637975), Experiment(n_samples=280, repeat=1, accuracy=0.6242155077368831), Experiment(n_samples=290, repeat=1, accuracy=0.6272288310951517), Experiment(n_samples=300, repeat=1, accuracy=0.6375114093934282), Experiment(n_samples=30, repeat=2, accuracy=0.6466636605979406), Experiment(n_samples=40, repeat=2, accuracy=0.6700947150627999), Experiment(n_samples=50, repeat=2, accuracy=0.6347091744636587), Experiment(n_samples=60, repeat=2, accuracy=0.63948782011978), Experiment(n_samples=70, repeat=2, accuracy=0.6192815778156936), Experiment(n_samples=80, repeat=2, accuracy=0.6302745000414771), Experiment(n_samples=90, repeat=2, accuracy=0.623861200658591), Experiment(n_samples=100, repeat=2, accuracy=0.6519644692212122), Experiment(n_samples=110, repeat=2, accuracy=0.6376076707427133), Experiment(n_samples=120, repeat=2, accuracy=0.6271092530801373), Experiment(n_samples=130, repeat=2, accuracy=0.6538143758606969), Experiment(n_samples=140, repeat=2, accuracy=0.626588141228139), Experiment(n_samples=150, repeat=2, accuracy=0.6391384810453016), Experiment(n_samples=160, repeat=2, accuracy=0.6337419049252713), Experiment(n_samples=170, repeat=2, accuracy=0.6467609610466944), Experiment(n_samples=180, repeat=2, accuracy=0.6258217158937905), Experiment(n_samples=190, repeat=2, accuracy=0.6279277255911442), Experiment(n_samples=200, repeat=2, accuracy=0.6164410646380302), Experiment(n_samples=210, repeat=2, accuracy=0.6404431868924836), Experiment(n_samples=220, repeat=2, accuracy=0.6353457377029763), Experiment(n_samples=230, repeat=2, accuracy=0.6353761828659814), Experiment(n_samples=240, repeat=2, accuracy=0.6514689899615131), Experiment(n_samples=250, repeat=2, accuracy=0.6377927337180345), Experiment(n_samples=260, repeat=2, accuracy=0.6318651378629189), Experiment(n_samples=270, repeat=2, accuracy=0.6177557440637975), Experiment(n_samples=280, repeat=2, accuracy=0.6242155077368831), Experiment(n_samples=290, repeat=2, accuracy=0.6272288310951517), Experiment(n_samples=300, repeat=2, accuracy=0.6375114093934282)]\n",
            "[Experiment(n_samples=30, repeat=0, accuracy=0.6466636605979406), Experiment(n_samples=40, repeat=0, accuracy=0.6419753528821431), Experiment(n_samples=50, repeat=0, accuracy=0.6459743150310138), Experiment(n_samples=60, repeat=0, accuracy=0.6461376311471979), Experiment(n_samples=70, repeat=0, accuracy=0.6541561737763625), Experiment(n_samples=80, repeat=0, accuracy=0.7030611994619312), Experiment(n_samples=90, repeat=0, accuracy=0.6950709887627229), Experiment(n_samples=100, repeat=0, accuracy=0.714422664795638), Experiment(n_samples=110, repeat=0, accuracy=0.6972564804899747), Experiment(n_samples=120, repeat=0, accuracy=0.6543377644018087), Experiment(n_samples=130, repeat=0, accuracy=0.6826665080446611), Experiment(n_samples=140, repeat=0, accuracy=0.660761341509896), Experiment(n_samples=150, repeat=0, accuracy=0.6681251380182353), Experiment(n_samples=160, repeat=0, accuracy=0.653358689746356), Experiment(n_samples=170, repeat=0, accuracy=0.6606671782232233), Experiment(n_samples=180, repeat=0, accuracy=0.6529862054872698), Experiment(n_samples=190, repeat=0, accuracy=0.6431971435926194), Experiment(n_samples=200, repeat=0, accuracy=0.6840205833794227), Experiment(n_samples=210, repeat=0, accuracy=0.6458660365008064), Experiment(n_samples=220, repeat=0, accuracy=0.6536393443259682), Experiment(n_samples=230, repeat=0, accuracy=0.6479289159096111), Experiment(n_samples=240, repeat=0, accuracy=0.6514904420573681), Experiment(n_samples=250, repeat=0, accuracy=0.6514404508351076), Experiment(n_samples=260, repeat=0, accuracy=0.6477460427804457), Experiment(n_samples=270, repeat=0, accuracy=0.6604416295821043), Experiment(n_samples=280, repeat=0, accuracy=0.6551965280886418), Experiment(n_samples=290, repeat=0, accuracy=0.6580158335244868), Experiment(n_samples=300, repeat=0, accuracy=0.6562185049856348), Experiment(n_samples=30, repeat=1, accuracy=0.6466636605979406), Experiment(n_samples=40, repeat=1, accuracy=0.6419753528821431), Experiment(n_samples=50, repeat=1, accuracy=0.6459743150310138), Experiment(n_samples=60, repeat=1, accuracy=0.6461376311471979), Experiment(n_samples=70, repeat=1, accuracy=0.6541561737763625), Experiment(n_samples=80, repeat=1, accuracy=0.7030611994619312), Experiment(n_samples=90, repeat=1, accuracy=0.6950709887627229), Experiment(n_samples=100, repeat=1, accuracy=0.714422664795638), Experiment(n_samples=110, repeat=1, accuracy=0.6972564804899747), Experiment(n_samples=120, repeat=1, accuracy=0.6543377644018087), Experiment(n_samples=130, repeat=1, accuracy=0.6826665080446611), Experiment(n_samples=140, repeat=1, accuracy=0.660761341509896), Experiment(n_samples=150, repeat=1, accuracy=0.6681251380182353), Experiment(n_samples=160, repeat=1, accuracy=0.653358689746356), Experiment(n_samples=170, repeat=1, accuracy=0.6606671782232233), Experiment(n_samples=180, repeat=1, accuracy=0.6529862054872698), Experiment(n_samples=190, repeat=1, accuracy=0.6431971435926194), Experiment(n_samples=200, repeat=1, accuracy=0.6840205833794227), Experiment(n_samples=210, repeat=1, accuracy=0.6458660365008064), Experiment(n_samples=220, repeat=1, accuracy=0.6536393443259682), Experiment(n_samples=230, repeat=1, accuracy=0.6479289159096111), Experiment(n_samples=240, repeat=1, accuracy=0.6514904420573681), Experiment(n_samples=250, repeat=1, accuracy=0.6514404508351076), Experiment(n_samples=260, repeat=1, accuracy=0.6477460427804457), Experiment(n_samples=270, repeat=1, accuracy=0.6604416295821043), Experiment(n_samples=280, repeat=1, accuracy=0.6551965280886418), Experiment(n_samples=290, repeat=1, accuracy=0.6580158335244868), Experiment(n_samples=300, repeat=1, accuracy=0.6562185049856348), Experiment(n_samples=30, repeat=2, accuracy=0.6466636605979406), Experiment(n_samples=40, repeat=2, accuracy=0.6419753528821431), Experiment(n_samples=50, repeat=2, accuracy=0.6459743150310138), Experiment(n_samples=60, repeat=2, accuracy=0.6461376311471979), Experiment(n_samples=70, repeat=2, accuracy=0.6541561737763625), Experiment(n_samples=80, repeat=2, accuracy=0.7030611994619312), Experiment(n_samples=90, repeat=2, accuracy=0.6950709887627229), Experiment(n_samples=100, repeat=2, accuracy=0.714422664795638), Experiment(n_samples=110, repeat=2, accuracy=0.6972564804899747), Experiment(n_samples=120, repeat=2, accuracy=0.6543377644018087), Experiment(n_samples=130, repeat=2, accuracy=0.6826665080446611), Experiment(n_samples=140, repeat=2, accuracy=0.660761341509896), Experiment(n_samples=150, repeat=2, accuracy=0.6681251380182353), Experiment(n_samples=160, repeat=2, accuracy=0.653358689746356), Experiment(n_samples=170, repeat=2, accuracy=0.6606671782232233), Experiment(n_samples=180, repeat=2, accuracy=0.6529862054872698), Experiment(n_samples=190, repeat=2, accuracy=0.6431971435926194), Experiment(n_samples=200, repeat=2, accuracy=0.6840205833794227), Experiment(n_samples=210, repeat=2, accuracy=0.6458660365008064), Experiment(n_samples=220, repeat=2, accuracy=0.6536393443259682), Experiment(n_samples=230, repeat=2, accuracy=0.6479289159096111), Experiment(n_samples=240, repeat=2, accuracy=0.6514904420573681), Experiment(n_samples=250, repeat=2, accuracy=0.6514404508351076), Experiment(n_samples=260, repeat=2, accuracy=0.6477460427804457), Experiment(n_samples=270, repeat=2, accuracy=0.6604416295821043), Experiment(n_samples=280, repeat=2, accuracy=0.6551965280886418), Experiment(n_samples=290, repeat=2, accuracy=0.6580158335244868), Experiment(n_samples=300, repeat=2, accuracy=0.6562185049856348)]\n"
          ],
          "name": "stdout"
        }
      ]
    },
    {
      "cell_type": "code",
      "metadata": {
        "colab": {
          "base_uri": "https://localhost:8080/",
          "height": 292
        },
        "id": "Hc9BxrwbkGIh",
        "outputId": "cee05709-b98f-4b9c-c88a-514086ebab86"
      },
      "source": [
        "def plot_learning_curve(df, name):\n",
        "    # Compute percentiles\n",
        "    p10 = df.groupby('n_samples').quantile(.10)['accuracy']\n",
        "    p50 = df.groupby('n_samples').median()['accuracy']\n",
        "    p90 = df.groupby('n_samples').quantile(.90)['accuracy']\n",
        "    training_sizes= p50.index.to_numpy()\n",
        "\n",
        "    with plt.style.context('seaborn-white'):\n",
        "        plt.title('Active Learning vs Random Sampling Crisis MMD')\n",
        "        plt.plot(training_sizes, p50, label=name )\n",
        "\n",
        "        # show standard deviation\n",
        "        plt.fill_between(training_sizes, p10, p90,alpha=0.1)\n",
        "    plt.legend(loc='upper right')\n",
        "    plt.xlabel(\"Number of sample\")\n",
        "    plt.ylabel(\"Log Loss\")\n",
        "    plt.grid()\n",
        "    #plt.show()\n",
        "\n",
        "df_us = pd.DataFrame([dataclasses.asdict(e) for e in experiment_uncertainty])\n",
        "#df_ms = pd.DataFrame([dataclasses.asdict(e) for e in experiment_margin])\n",
        "#df_es = pd.DataFrame([dataclasses.asdict(e) for e in experiment_entropy])\n",
        "df_rs = pd.DataFrame([dataclasses.asdict(e) for e in experiment_random])\n",
        "plot_learning_curve(df_us, \"Uncertainty\")\n",
        "#plot_learning_curve(df_ms, \"Margin\")\n",
        "#plot_learning_curve(df_es, \"Entropy\")\n",
        "plot_learning_curve(df_rs, \"Random\")"
      ],
      "execution_count": 50,
      "outputs": [
        {
          "output_type": "display_data",
          "data": {
            "image/png": "[encoded data removed]",
            "text/plain": [
              "<Figure size 432x288 with 1 Axes>"
            ]
          },
          "metadata": {
            "tags": []
          }
        }
      ]
    },
    {
      "cell_type": "code",
      "metadata": {
        "id": "NE5_gT1Mi07y"
      },
      "source": [
        "print(result_rf_uncertainty)\n",
        "print(result_rf_margin)\n",
        "print(result_rf_entropy)\n",
        "\n",
        "print(result_rf_time_uncertainty)\n",
        "print(result_rf_time_margin)\n",
        "print(result_rf_time_entropy)"
      ],
      "execution_count": null,
      "outputs": []
    },
    {
      "cell_type": "code",
      "metadata": {
        "id": "nntoUrRykfN9"
      },
      "source": [
        "print(res_random)\n",
        "print(time_random)"
      ],
      "execution_count": null,
      "outputs": []
    },
    {
      "cell_type": "markdown",
      "metadata": {
        "id": "tRs46HumLTXN"
      },
      "source": [
        "**#Draft#**"
      ]
    },
    {
      "cell_type": "code",
      "metadata": {
        "colab": {
          "base_uri": "https://localhost:8080/",
          "height": 292
        },
        "id": "56XJba5gUYYP",
        "outputId": "61d73fde-8c82-47f2-fffe-0569c97e5f33"
      },
      "source": [
        "def plot_learning_curve(df, name):\n",
        "    # Compute percentiles\n",
        "    p10 = df.groupby('n_samples').quantile(.10)['accuracy']\n",
        "    p50 = df.groupby('n_samples').median()['accuracy']\n",
        "    p90 = df.groupby('n_samples').quantile(.90)['accuracy']\n",
        "    training_sizes= p50.index.to_numpy()\n",
        "\n",
        "    with plt.style.context('seaborn-white'):\n",
        "        plt.title('Margin vs Random Sampling')\n",
        "        plt.plot(training_sizes, p50, label=name)\n",
        "\n",
        "        # show standard deviation\n",
        "        #plt.fill_between(training_sizes, p10, p90,alpha=0.1)\n",
        "    plt.legend(loc='lower right')\n",
        "    plt.xlabel(\"Number of sample\")\n",
        "    plt.ylabel(\"Accuracy\")\n",
        "    plt.grid()\n",
        "    #plt.show()\n",
        "\n",
        "df_ma = pd.DataFrame([dataclasses.asdict(e) for e in experiment_margin])\n",
        "df_rs = pd.DataFrame([dataclasses.asdict(e) for e in experiment_random])\n",
        "plot_learning_curve(df_ma, \"Margin\")\n",
        "plot_learning_curve(df_rs, \"Random\")"
      ],
      "execution_count": null,
      "outputs": [
        {
          "output_type": "display_data",
          "data": {
            "image/png": "[encoded data removed]",
            "text/plain": [
              "<Figure size 432x288 with 1 Axes>"
            ]
          },
          "metadata": {
            "tags": []
          }
        }
      ]
    },
    {
      "cell_type": "code",
      "metadata": {
        "colab": {
          "base_uri": "https://localhost:8080/",
          "height": 292
        },
        "id": "rnUXV7H2hrNz",
        "outputId": "2b25abb3-1972-43e6-cc1f-ace459665389"
      },
      "source": [
        "def plot_learning_curve(df, name):\n",
        "    # Compute percentiles\n",
        "    p10 = df.groupby('n_samples').quantile(.10)['accuracy']\n",
        "    p50 = df.groupby('n_samples').median()['accuracy']\n",
        "    p90 = df.groupby('n_samples').quantile(.90)['accuracy']\n",
        "    training_sizes= p50.index.to_numpy()\n",
        "\n",
        "    with plt.style.context('seaborn-white'):\n",
        "        plt.title('Entropy vs Random Sampling')\n",
        "        plt.plot(training_sizes, p50, label=name)\n",
        "\n",
        "        # show standard deviation\n",
        "        #plt.fill_between(training_sizes, p10, p90,alpha=0.1)\n",
        "    plt.legend(loc='lower right')\n",
        "    plt.xlabel(\"Number sample\")\n",
        "    plt.ylabel(\"Accuracy\")\n",
        "    plt.grid()\n",
        "    #plt.show()\n",
        "\n",
        "df_en = pd.DataFrame([dataclasses.asdict(e) for e in experiment_entropy])\n",
        "df_rs = pd.DataFrame([dataclasses.asdict(e) for e in experiment_random])\n",
        "\n",
        "plot_learning_curve(df_en, \"Entropy\")\n",
        "plot_learning_curve(df_rs, \"Random\")"
      ],
      "execution_count": null,
      "outputs": [
        {
          "output_type": "display_data",
          "data": {
            "image/png": "[encoded data removed]",
            "text/plain": [
              "<Figure size 432x288 with 1 Axes>"
            ]
          },
          "metadata": {
            "tags": []
          }
        }
      ]
    },
    {
      "cell_type": "code",
      "metadata": {
        "id": "cLu0bcAG6Bu-"
      },
      "source": [
        "random_size = 1000\n",
        "index = np.random.choice(range(len(X_train)),size=random_size,replace=False)\n",
        "\n",
        "X_train_rf = X_train[index]\n",
        "y_train_rf = y_train[index]\n",
        "clf = RandomForestClassifier()\n",
        "clf.fit(X_train_rf,y_train_rf)\n",
        "\n",
        "res = clf.predict(X_test)\n",
        "res_classification = classification_report(y_test, res)\n",
        "print(res_classification)"
      ],
      "execution_count": null,
      "outputs": []
    },
    {
      "cell_type": "code",
      "metadata": {
        "colab": {
          "base_uri": "https://localhost:8080/"
        },
        "id": "q4vPwG8LbKUm",
        "outputId": "b564d812-64ed-4058-db7d-babf65aeae62"
      },
      "source": [
        "print(result_rf_acc_uncertainty)\n",
        "print(result_rf_acc_margin)\n",
        "print(result_rf_acc_entropy)"
      ],
      "execution_count": null,
      "outputs": [
        {
          "output_type": "stream",
          "text": [
            "[0.7046936114732725, 0.7053455019556715, 0.6929595827900913, 0.7079530638852672, 0.6988265971316818, 0.7059973924380704, 0.6838331160365059, 0.7053455019556715, 0.7033898305084746, 0.7157757496740548]\n",
            "[0.6460234680573663, 0.6694915254237288, 0.6701434159061278, 0.7079530638852672, 0.7066492829204694, 0.6936114732724902, 0.7066492829204694, 0.71251629726206, 0.7027379400260756, 0.7007822685788787]\n",
            "[0.6590612777053455, 0.6831812255541069, 0.682529335071708, 0.6949152542372882, 0.6916558018252934, 0.6949152542372882, 0.711864406779661, 0.7073011734028684, 0.7046936114732725, 0.7020860495436767]\n"
          ],
          "name": "stdout"
        }
      ]
    },
    {
      "cell_type": "code",
      "metadata": {
        "colab": {
          "base_uri": "https://localhost:8080/",
          "height": 349
        },
        "id": "uJP4R-PdLVkA",
        "outputId": "94e73864-2567-4f8c-86cb-ce36349b7e0f"
      },
      "source": [
        "print(\"Uncertainty avg: \",np.mean(result_rf_acc_uncertainty))\n",
        "print(\"Margin avg: \",np.mean(result_rf_acc_margin))\n",
        "print(\"Entropy avg: \",np.mean(result_rf_acc_entropy))\n",
        "print(\"Random avg: \",np.mean(acc_random))\n",
        "df = pd.DataFrame({'x_values':n_initial,'acc_uncertainty':np.array(result_rf_acc_uncertainty),'acc_margin':np.array(result_rf_acc_margin),'acc_entropy':np.array(result_rf_acc_entropy),'acc_random':np.array(acc_random)})\n",
        "\n",
        "width_height_1 = (10, 4)\n",
        "plt.figure(figsize=width_height_1)\n",
        "\n",
        "plt.plot('x_values','acc_uncertainty',data=df,color='gray',marker='v')\n",
        "plt.plot('x_values','acc_margin',data=df,color='red',marker='o')\n",
        "plt.plot('x_values','acc_entropy',data=df,color='gray',marker='s')\n",
        "plt.plot('x_values','acc_random',data=df,color='blue',marker='D')\n",
        "plt.title('Accuracy comparison')\n",
        "plt.legend()\n",
        "plt.grid()\n",
        "plt.show()"
      ],
      "execution_count": null,
      "outputs": [
        {
          "output_type": "stream",
          "text": [
            "Uncertainty avg:  0.7024119947848761\n",
            "Margin avg:  0.6916558018252934\n",
            "Entropy avg:  0.6932203389830509\n",
            "Random avg:  0.6942633637548892\n"
          ],
          "name": "stdout"
        },
        {
          "output_type": "display_data",
          "data": {
            "image/png": "[encoded data removed]",
            "text/plain": [
              "<Figure size 720x288 with 1 Axes>"
            ]
          },
          "metadata": {
            "tags": []
          }
        }
      ]
    }
  ]
}