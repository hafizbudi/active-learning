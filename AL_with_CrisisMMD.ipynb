{
  "nbformat": 4,
  "nbformat_minor": 0,
  "metadata": {
    "colab": {
      "name": "AL_with_CrisisMMD.ipynb",
      "provenance": [],
      "collapsed_sections": [],
      "machine_shape": "hm",
      "include_colab_link": true
    },
    "kernelspec": {
      "display_name": "Python 3",
      "language": "python",
      "name": "python3"
    },
    "language_info": {
      "codemirror_mode": {
        "name": "ipython",
        "version": 3
      },
      "file_extension": ".py",
      "mimetype": "text/x-python",
      "name": "python",
      "nbconvert_exporter": "python",
      "pygments_lexer": "ipython3",
      "version": "3.7.4"
    }
  },
  "cells": [
    {
      "cell_type": "markdown",
      "metadata": {
        "id": "view-in-github",
        "colab_type": "text"
      },
      "source": [
        "<a href=\"https://colab.research.google.com/github/hafizbudi/active-learning/blob/main/AL_with_CrisisMMD.ipynb\" target=\"_parent\"><img src=\"https://colab.research.google.com/assets/colab-badge.svg\" alt=\"Open In Colab\"/></a>"
      ]
    },
    {
      "cell_type": "code",
      "metadata": {
        "id": "sO5UyHeHxJGM"
      },
      "source": [
        "from google.colab import drive\n",
        "drive.mount('/content/gdrive')\n",
        "%cd gdrive/My Drive/Project/multimodal_social_media"
      ],
      "execution_count": null,
      "outputs": []
    },
    {
      "cell_type": "code",
      "metadata": {
        "id": "2ZMKDDe0xcDv"
      },
      "source": [
        "pip install modal"
      ],
      "execution_count": null,
      "outputs": []
    },
    {
      "cell_type": "code",
      "metadata": {
        "id": "lIbF2Dugxegw"
      },
      "source": [
        "from sklearn.datasets import load_digits\n",
        "from sklearn.model_selection import train_test_split\n",
        "from sklearn.ensemble import RandomForestClassifier\n",
        "from sklearn.linear_model import LogisticRegression\n",
        "from sklearn import datasets, metrics\n",
        "from dataclasses import dataclass\n",
        "import dataclasses\n",
        "\n",
        "import matplotlib.pyplot as plt\n",
        "import numpy as np\n",
        "import pandas as pd\n",
        "import cv2\n",
        "from modAL.models import ActiveLearner\n",
        "from modAL.uncertainty import uncertainty_sampling\n",
        "from modAL.uncertainty import margin_sampling\n",
        "from modAL.uncertainty import entropy_sampling\n",
        "\n",
        "from tqdm import tqdm\n",
        "from sklearn.metrics import classification_report\n",
        "from sklearn.metrics import log_loss\n",
        "\n",
        "from sklearn.neighbors import KNeighborsClassifier\n",
        "import time\n",
        "import random"
      ],
      "execution_count": 4,
      "outputs": []
    },
    {
      "cell_type": "code",
      "metadata": {
        "id": "lPaDZCxjBmFZ"
      },
      "source": [
        "def random_sampling(classifier, X,\n",
        "                     n_instances: int = 1, random_tie_break: bool = False):\n",
        "    \n",
        "    query_idx = np.random.choice(range(len(X)), size=n_instances, replace=False)\n",
        "    \n",
        "    return query_idx, X[query_idx]\n"
      ],
      "execution_count": 5,
      "outputs": []
    },
    {
      "cell_type": "code",
      "metadata": {
        "id": "ebIBBu0nxhP8"
      },
      "source": [
        "@dataclass\n",
        "class Experiment:\n",
        "    n_samples: int\n",
        "    repeat: int\n",
        "    accuracy: float\n",
        "    log_loss: float\n",
        "\n",
        "# load the file\n",
        "def load_data(filename, nb_instance, all_instance):\n",
        "  n = all_instance #number of records in file\n",
        "  s = nb_instance #sample size\n",
        "  skip = sorted(random.sample(range(1,n+1),n-s))\n",
        "\n",
        "  #df = pd.read_csv(filename,sep=\"\\t\",nrows=nb_instance)\n",
        "  df = pd.read_csv(filename,sep=\"\\t\",skiprows=skip)\n",
        "\n",
        "  df.label_image = pd.Categorical(df.label_image)\n",
        "  df['label_image_code'] = df.label_image.cat.codes\n",
        "\n",
        "  df[['image','label_image','label_image_code']]\n",
        "\n",
        "  df.describe()\n",
        "  return df\n",
        "\n",
        "# read, resize and flatten into 1-dimension array\n",
        "def pre_process_image(data):\n",
        "  img_arr = []\n",
        "  for index,row in data.iterrows():\n",
        "    read_img = cv2.imread(row['image'],0)\n",
        "    img_resize = cv2.resize(read_img,(224,224))\n",
        "    img_ravel = img_resize.ravel()\n",
        "    img_arr.append(img_ravel)\n",
        "\n",
        "  img_np = np.array(img_arr)\n",
        "\n",
        "  return img_np\n",
        "\n",
        "# learning curve for active learning\n",
        "def random_forest_score_repeat(n_initial,n_queries,sampling_strategy, repeats, seed):\n",
        "  \n",
        "  start_time = time.time()\n",
        "  acc_all = []\n",
        "  experiments = []\n",
        "  \n",
        "  # repeat as much as repeats parameter\n",
        "  for k in tqdm(range(repeats)):\n",
        "    print(k)\n",
        "    np.random.seed(seed + k)\n",
        "    i = n_initial[0]\n",
        "    \n",
        "    initial_idx = np.random.choice(range(len(X_train)), size=i, replace=False)\n",
        "    print(\"Indexes for \",i,\": \",initial_idx)\n",
        "    X_initial, y_initial = X_train[initial_idx], y_train[initial_idx]\n",
        "    \n",
        "\n",
        "    X_pool,y_pool = np.delete(X_train, initial_idx, axis=0), np.delete(y_train, initial_idx, axis=0)\n",
        "\n",
        "    learner = ActiveLearner(\n",
        "              estimator=LogisticRegression(max_iter=10000),\n",
        "              #estimator=RandomForestClassifier(),\n",
        "              query_strategy=sampling_strategy,\n",
        "              X_training=X_initial,y_training=y_initial\n",
        "              )\n",
        "    acc = learner.score(X_test,y_test)\n",
        "    #acc_all.append(acc)\n",
        "\n",
        "    predictions = learner.predict_proba(X_test)\n",
        "    res_logloss = log_loss(y_test,predictions)\n",
        "\n",
        "    experiments.append(Experiment(n_samples=i, repeat=k, accuracy=acc,log_loss=res_logloss))\n",
        "    \n",
        "    for j in n_initial[1:]:\n",
        "\n",
        "      query_idx, query_inst = learner.query(X_pool, n_queries)\n",
        "      learner.teach(query_inst, y_pool[query_idx])\n",
        "      X_pool, y_pool = np.delete(X_pool, query_idx, axis=0), np.delete(y_pool, query_idx, axis=0)\n",
        "\n",
        "      acc = learner.score(X_test,y_test)\n",
        "      #acc_all.append(acc)\n",
        "      predictions = learner.predict_proba(X_test)\n",
        "      res_logloss = log_loss(y_test,predictions)\n",
        "      experiments.append(Experiment(n_samples=j, repeat=k, accuracy=acc, log_loss=res_logloss))\n",
        "\n",
        "    #predictions = learner.predict_proba(X_test)\n",
        "    #res_logloss = log_loss(y_test,predictions)\n",
        "\n",
        "    #experiments.append(Experiment(n_samples=j, repeat=k, accuracy=res_logloss))\n",
        "    \n",
        "    \n",
        "  final_time = time.time() - start_time\n",
        "  predictions = learner.predict(X_test)\n",
        "  #predictions = learner.predict_proba(X_test)\n",
        "  res_classification = classification_report(y_test, predictions)\n",
        "  #res_classification = log_loss(y_test,predictions)\n",
        "\n",
        "  print(\"--- %s seconds ---\" % (final_time))\n",
        "\n",
        "  return res_classification, acc_all, final_time, experiments"
      ],
      "execution_count": 6,
      "outputs": []
    },
    {
      "cell_type": "code",
      "metadata": {
        "id": "Ag0qs1q_jf2O"
      },
      "source": [
        "# Random sampling\n",
        "\n",
        "# random selection from X train\n",
        "def random_selection_learning(n_instances, X_train, y_train,i,seed):\n",
        "    clf = LogisticRegression()\n",
        "    np.random.seed(seed+i)\n",
        "   \n",
        "\n",
        "    initial_idx = np.random.choice(range(len(X_train)), size=n_instances, replace=False)\n",
        "    print(\"Indexes for \",i,\": \",initial_idx)\n",
        "    \n",
        "    X_initial, y_initial = X_train[initial_idx], y_train[initial_idx]\n",
        "\n",
        "    X_pool,y_pool = np.delete(X_train, initial_idx, axis=0), np.delete(y_train, initial_idx, axis=0)\n",
        "    clf = RandomForestClassifier()\n",
        "    clf.fit(X_initial, y_initial)\n",
        "\n",
        "    return clf, X_initial, X_pool, y_initial, y_pool\n",
        "\n",
        "def random_sampling_policy(model, n_new_samples, X_remaining, y_remaining):\n",
        "    X_new_selected, X_remaining, y_new_selected, y_remaining = \\\n",
        "               train_test_split(X_remaining, y_remaining,  train_size=n_new_samples, shuffle=True)\n",
        "    return X_new_selected, X_remaining, y_new_selected, y_remaining\n",
        "\n",
        "# evaluate model performance\n",
        "def evaluate(model, X_real, y_real):\n",
        "    y_predictions = model.predict(X_test)\n",
        "    accuracy = metrics.accuracy_score(y_real,y_predictions)\n",
        "    \n",
        "    return accuracy\n",
        "\n",
        "def learning_curve(data_points, repeats, selection_policy, seed):\n",
        "    start_time = time.time()\n",
        "    experiments = []\n",
        "    for i in tqdm(range(repeats)):\n",
        "        #np.random.seed(seed+i)\n",
        "        #np.random.seed(123)\n",
        "        # First learn \n",
        "        n_samples = data_points[0]\n",
        "        model, X_selected, X_remaining, y_selected, y_remaining = \\\n",
        "            random_selection_learning(n_samples, X_train, y_train,i,seed)\n",
        "\n",
        "        predictions = model.predict_proba(X_test)\n",
        "        res_logloss = log_loss(y_test,predictions)\n",
        "\n",
        "        acc = evaluate(model, X_test, y_test)\n",
        "\n",
        "        experiments.append(Experiment(n_samples=n_samples, repeat=i, accuracy=acc, log_loss=res_logloss))\n",
        "        for n_samples in data_points[1:]:\n",
        "            # Select the additional examples\n",
        "            n_new_samples = n_samples - len(X_selected)\n",
        "      \n",
        "            X_new_selected, X_remaining, y_new_selected, y_remaining = \\\n",
        "                selection_policy(model, n_new_samples, X_remaining, y_remaining)\n",
        "            \n",
        "            X_selected = np.vstack((X_selected, X_new_selected))\n",
        "            y_selected = np.hstack((y_selected, y_new_selected))\n",
        "      \n",
        "            model.fit(X_selected, y_selected)\n",
        "           \n",
        "            acc = evaluate(model, X_test, y_test)\n",
        "            predictions = model.predict_proba(X_test)\n",
        "            res_logloss = log_loss(y_test,predictions)\n",
        "\n",
        "            experiments.append(Experiment(n_samples=n_samples, repeat=i, accuracy=acc, log_loss=res_logloss))\n",
        "    final_time = time.time() - start_time\n",
        "\n",
        "    predictions = model.predict(X_test)\n",
        "    res_classification = classification_report(y_test, predictions)\n",
        "    \n",
        "    print(\"--- %s seconds ---\" % (final_time))\n",
        "\n",
        "    return experiments, res_classification, final_time"
      ],
      "execution_count": 7,
      "outputs": []
    },
    {
      "cell_type": "code",
      "metadata": {
        "colab": {
          "base_uri": "https://localhost:8080/"
        },
        "id": "JZaNlvLOxwKh",
        "outputId": "71c584d1-7a31-4592-a34c-bc22a9ffd2b3"
      },
      "source": [
        "# Load CrisisMMD dataset\n",
        "\n",
        "start_time = time.time()\n",
        "\n",
        "#train_instance = 9601\n",
        "#test_instance = 1534\n",
        "\n",
        "all_train_instance = 9601\n",
        "all_test_instance = 1534\n",
        "\n",
        "# Use 10 % amount of data for initial phase\n",
        "train_instance = 960\n",
        "test_instance = 153\n",
        "\n",
        "train_filename = \"data/task_data/task_informative_text_img_agreed_lab_train.tsv\"\n",
        "test_filename = \"data/task_data/task_informative_text_img_agreed_lab_test.tsv\"\n",
        "\n",
        "data_train = load_data(train_filename,train_instance, all_train_instance)\n",
        "data_images_train = pre_process_image(data_train)\n",
        "\n",
        "data_test = load_data(test_filename,test_instance, all_test_instance)\n",
        "data_image_test = pre_process_image(data_test)\n",
        "\n",
        "X_train = data_images_train.reshape(train_instance,-1)\n",
        "y_train = data_train['label_image_code'].values\n",
        "\n",
        "X_test = data_image_test.reshape(test_instance,-1)\n",
        "y_test = data_test['label_image_code'].values\n",
        "\n",
        "final_time = time.time() - start_time\n",
        "print(\"--- %s seconds ---\" % (final_time))"
      ],
      "execution_count": 8,
      "outputs": [
        {
          "output_type": "stream",
          "text": [
            "--- 567.9208242893219 seconds ---\n"
          ],
          "name": "stdout"
        }
      ]
    },
    {
      "cell_type": "code",
      "metadata": {
        "id": "fkfVjmW-gpWQ"
      },
      "source": [
        "# Load Digits dataset\n",
        "\n",
        "digits = load_digits()\n",
        "n = len(digits.images)\n",
        "np.random.seed(123)\n",
        "\n",
        "X = digits.images.reshape(n,-1)\n",
        "y = digits.target\n",
        "\n",
        "X_train, X_test, y_train, y_test = train_test_split(X,y, test_size=0.25,shuffle=True)"
      ],
      "execution_count": null,
      "outputs": []
    },
    {
      "cell_type": "code",
      "metadata": {
        "id": "8GQUEIRRFKMr"
      },
      "source": [
        "# Show plot for train data distribution\n",
        "\n",
        "print(\"Train data distribution\")\n",
        "\n",
        "notinf_y_train = y_train[y_train == 1]\n",
        "len_notinf = len(notinf_y_train)\n",
        "print(\"Not Informative \",len_notinf)\n",
        "\n",
        "inf_y_train = y_train[y_train == 0]\n",
        "len_inf = len(inf_y_train)\n",
        "print(\"Informative \",len_inf)\n",
        "\n",
        "labels = ('Informative','Not Informative')\n",
        "y_pos = np.arange(len(labels))\n",
        "\n",
        "size = [len_inf,len_notinf]\n",
        "plt.bar(y_pos,size,align='center',alpha=0.5)\n",
        "plt.xticks(y_pos,labels)\n",
        "plt.ylabel('Size')\n",
        "plt.title('Training Data Distribution')\n",
        "\n",
        "plt.show()"
      ],
      "execution_count": null,
      "outputs": []
    },
    {
      "cell_type": "code",
      "metadata": {
        "id": "T6NSbLF7FTPe"
      },
      "source": [
        "# Show plot for test data distribution\n",
        "\n",
        "print(\"Test data distribution\")\n",
        "\n",
        "notinf_y_test = y_test[y_test == 1]\n",
        "len_notinf_test = len(notinf_y_test)\n",
        "print(\"Not Informative \",len_notinf_test)\n",
        "\n",
        "inf_y_test = y_test[y_test == 0]\n",
        "len_inf_test = len(inf_y_test)\n",
        "print(\"Informative \",len_inf_test)\n",
        "\n",
        "labels = ('Informative','Not Informative')\n",
        "y_pos = np.arange(len(labels))\n",
        "\n",
        "size = [len_inf_test,len_notinf_test]\n",
        "plt.bar(y_pos,size,align='center',alpha=0.5)\n",
        "plt.xticks(y_pos,labels)\n",
        "plt.ylabel('Size')\n",
        "plt.title('Testing Data Distribution')\n",
        "\n",
        "plt.show()"
      ],
      "execution_count": null,
      "outputs": []
    },
    {
      "cell_type": "code",
      "metadata": {
        "id": "SGVfmaZB7JXU"
      },
      "source": [
        "n_initial = range(30,300,30)\n",
        "n_queries = 30 # number of query for uncertain dataset to be asked\n",
        "repeats = 3 # number of repeat for each n_initial\n",
        "seed = 20 # random seed"
      ],
      "execution_count": 10,
      "outputs": []
    },
    {
      "cell_type": "code",
      "metadata": {
        "colab": {
          "base_uri": "https://localhost:8080/"
        },
        "id": "G4ZYWP7NaLsl",
        "outputId": "fa39d414-9ae6-4a30-b644-2e9f9cc28ba9"
      },
      "source": [
        "result_rf_uncertainty, result_rf_acc_uncertainty, result_rf_time_uncertainty, experiment_uncertainty = random_forest_score_repeat(n_initial,n_queries,uncertainty_sampling,repeats,seed)\n",
        "print(experiment_uncertainty)\n"
      ],
      "execution_count": 11,
      "outputs": [
        {
          "output_type": "stream",
          "text": [
            "\r  0%|          | 0/3 [00:00<?, ?it/s]"
          ],
          "name": "stderr"
        },
        {
          "output_type": "stream",
          "text": [
            "0\n",
            "Indexes for  30 :  [197 316 636 444 633 702 668 333  58 226 354 619 457 592 279 195 325 106\n",
            " 109 831 143 453  14 421 285 470 481 906 321 858]\n"
          ],
          "name": "stdout"
        },
        {
          "output_type": "stream",
          "text": [
            "\r 33%|███▎      | 1/3 [00:33<01:06, 33.08s/it]"
          ],
          "name": "stderr"
        },
        {
          "output_type": "stream",
          "text": [
            "1\n",
            "Indexes for  30 :  [ 44  16 764 218 180 187 641 667 275 685 676 589 378 584 516 573 467 239\n",
            " 415  71 230 865 216 172 906 575 255 816 196 169]\n"
          ],
          "name": "stdout"
        },
        {
          "output_type": "stream",
          "text": [
            "\r 67%|██████▋   | 2/3 [01:05<00:32, 32.81s/it]"
          ],
          "name": "stderr"
        },
        {
          "output_type": "stream",
          "text": [
            "2\n",
            "Indexes for  30 :  [185 623 379 311 645 621 956 439 750 860 922 254 810 776 206 135   1 336\n",
            " 572 440 127 809  89 468 585  42 830 719 456  94]\n"
          ],
          "name": "stdout"
        },
        {
          "output_type": "stream",
          "text": [
            "100%|██████████| 3/3 [01:40<00:00, 33.56s/it]"
          ],
          "name": "stderr"
        },
        {
          "output_type": "stream",
          "text": [
            "--- 100.6987636089325 seconds ---\n",
            "[Experiment(n_samples=30, repeat=0, accuracy=0.5555555555555556, log_loss=4.342876576780865), Experiment(n_samples=60, repeat=0, accuracy=0.5882352941176471, log_loss=4.219560654136946), Experiment(n_samples=90, repeat=0, accuracy=0.6143790849673203, log_loss=4.512701921921798), Experiment(n_samples=120, repeat=0, accuracy=0.6143790849673203, log_loss=4.759997414561636), Experiment(n_samples=150, repeat=0, accuracy=0.6470588235294118, log_loss=4.779062004890141), Experiment(n_samples=180, repeat=0, accuracy=0.6078431372549019, log_loss=4.960819737040329), Experiment(n_samples=210, repeat=0, accuracy=0.6143790849673203, log_loss=4.955735710176136), Experiment(n_samples=240, repeat=0, accuracy=0.6013071895424836, log_loss=4.8711589256842265), Experiment(n_samples=270, repeat=0, accuracy=0.6143790849673203, log_loss=5.0290283812273655), Experiment(n_samples=30, repeat=1, accuracy=0.5947712418300654, log_loss=3.1584506508444172), Experiment(n_samples=60, repeat=1, accuracy=0.6143790849673203, log_loss=3.5297404671608126), Experiment(n_samples=90, repeat=1, accuracy=0.6274509803921569, log_loss=4.510622124823653), Experiment(n_samples=120, repeat=1, accuracy=0.6339869281045751, log_loss=4.665847788387971), Experiment(n_samples=150, repeat=1, accuracy=0.6405228758169934, log_loss=4.647745388481207), Experiment(n_samples=180, repeat=1, accuracy=0.6470588235294118, log_loss=5.058519431906472), Experiment(n_samples=210, repeat=1, accuracy=0.6405228758169934, log_loss=5.564179286461572), Experiment(n_samples=240, repeat=1, accuracy=0.6535947712418301, log_loss=5.537612330905335), Experiment(n_samples=270, repeat=1, accuracy=0.6535947712418301, log_loss=5.442487942904238), Experiment(n_samples=30, repeat=2, accuracy=0.45098039215686275, log_loss=3.6750070942578374), Experiment(n_samples=60, repeat=2, accuracy=0.5228758169934641, log_loss=3.8933388492945036), Experiment(n_samples=90, repeat=2, accuracy=0.5686274509803921, log_loss=3.574791533896288), Experiment(n_samples=120, repeat=2, accuracy=0.5359477124183006, log_loss=4.713572730247526), Experiment(n_samples=150, repeat=2, accuracy=0.5490196078431373, log_loss=5.095320862234563), Experiment(n_samples=180, repeat=2, accuracy=0.5555555555555556, log_loss=5.152195329015893), Experiment(n_samples=210, repeat=2, accuracy=0.5620915032679739, log_loss=4.871553837766879), Experiment(n_samples=240, repeat=2, accuracy=0.5947712418300654, log_loss=4.821672876851269), Experiment(n_samples=270, repeat=2, accuracy=0.5555555555555556, log_loss=4.720477148710808)]\n"
          ],
          "name": "stdout"
        },
        {
          "output_type": "stream",
          "text": [
            "\n"
          ],
          "name": "stderr"
        }
      ]
    },
    {
      "cell_type": "code",
      "metadata": {
        "colab": {
          "base_uri": "https://localhost:8080/"
        },
        "id": "LjwJ6wK5FmdN",
        "outputId": "42ced01e-ad54-4b2b-c4fd-307b8919d7b5"
      },
      "source": [
        "result_rf_margin, result_rf_acc_margin, result_rf_time_margin, experiment_margin = random_forest_score_repeat(n_initial,n_queries,margin_sampling,repeats, seed)\n",
        "print(experiment_margin)"
      ],
      "execution_count": 12,
      "outputs": [
        {
          "output_type": "stream",
          "text": [
            "\r  0%|          | 0/3 [00:00<?, ?it/s]"
          ],
          "name": "stderr"
        },
        {
          "output_type": "stream",
          "text": [
            "0\n",
            "Indexes for  30 :  [197 316 636 444 633 702 668 333  58 226 354 619 457 592 279 195 325 106\n",
            " 109 831 143 453  14 421 285 470 481 906 321 858]\n"
          ],
          "name": "stdout"
        },
        {
          "output_type": "stream",
          "text": [
            "\r 33%|███▎      | 1/3 [00:35<01:10, 35.34s/it]"
          ],
          "name": "stderr"
        },
        {
          "output_type": "stream",
          "text": [
            "1\n",
            "Indexes for  30 :  [ 44  16 764 218 180 187 641 667 275 685 676 589 378 584 516 573 467 239\n",
            " 415  71 230 865 216 172 906 575 255 816 196 169]\n"
          ],
          "name": "stdout"
        },
        {
          "output_type": "stream",
          "text": [
            "\r 67%|██████▋   | 2/3 [01:05<00:33, 33.79s/it]"
          ],
          "name": "stderr"
        },
        {
          "output_type": "stream",
          "text": [
            "2\n",
            "Indexes for  30 :  [185 623 379 311 645 621 956 439 750 860 922 254 810 776 206 135   1 336\n",
            " 572 440 127 809  89 468 585  42 830 719 456  94]\n"
          ],
          "name": "stdout"
        },
        {
          "output_type": "stream",
          "text": [
            "100%|██████████| 3/3 [01:44<00:00, 34.99s/it]"
          ],
          "name": "stderr"
        },
        {
          "output_type": "stream",
          "text": [
            "--- 104.9660964012146 seconds ---\n",
            "[Experiment(n_samples=30, repeat=0, accuracy=0.5555555555555556, log_loss=4.342876576780865), Experiment(n_samples=60, repeat=0, accuracy=0.5882352941176471, log_loss=4.219560654136946), Experiment(n_samples=90, repeat=0, accuracy=0.6143790849673203, log_loss=4.512701921921798), Experiment(n_samples=120, repeat=0, accuracy=0.6143790849673203, log_loss=4.759997414561636), Experiment(n_samples=150, repeat=0, accuracy=0.6470588235294118, log_loss=4.779062004890141), Experiment(n_samples=180, repeat=0, accuracy=0.6078431372549019, log_loss=4.960819737040329), Experiment(n_samples=210, repeat=0, accuracy=0.6143790849673203, log_loss=4.955735710176136), Experiment(n_samples=240, repeat=0, accuracy=0.6013071895424836, log_loss=4.8711589256842265), Experiment(n_samples=270, repeat=0, accuracy=0.6143790849673203, log_loss=5.0290283812273655), Experiment(n_samples=30, repeat=1, accuracy=0.5947712418300654, log_loss=3.1584506508444172), Experiment(n_samples=60, repeat=1, accuracy=0.6143790849673203, log_loss=3.5297404671608126), Experiment(n_samples=90, repeat=1, accuracy=0.6274509803921569, log_loss=4.510622124823653), Experiment(n_samples=120, repeat=1, accuracy=0.6339869281045751, log_loss=4.665847788387971), Experiment(n_samples=150, repeat=1, accuracy=0.6405228758169934, log_loss=4.647745388481207), Experiment(n_samples=180, repeat=1, accuracy=0.6470588235294118, log_loss=5.058519431906472), Experiment(n_samples=210, repeat=1, accuracy=0.6405228758169934, log_loss=5.564179286461572), Experiment(n_samples=240, repeat=1, accuracy=0.6535947712418301, log_loss=5.537612330905335), Experiment(n_samples=270, repeat=1, accuracy=0.6535947712418301, log_loss=5.442487942904238), Experiment(n_samples=30, repeat=2, accuracy=0.45098039215686275, log_loss=3.6750070942578374), Experiment(n_samples=60, repeat=2, accuracy=0.5228758169934641, log_loss=3.8933388492945036), Experiment(n_samples=90, repeat=2, accuracy=0.5686274509803921, log_loss=3.574791533896288), Experiment(n_samples=120, repeat=2, accuracy=0.5359477124183006, log_loss=4.713572730247526), Experiment(n_samples=150, repeat=2, accuracy=0.5490196078431373, log_loss=5.095320862234563), Experiment(n_samples=180, repeat=2, accuracy=0.5555555555555556, log_loss=5.152195329015893), Experiment(n_samples=210, repeat=2, accuracy=0.5620915032679739, log_loss=4.871553837766879), Experiment(n_samples=240, repeat=2, accuracy=0.5947712418300654, log_loss=4.821672876851269), Experiment(n_samples=270, repeat=2, accuracy=0.5555555555555556, log_loss=4.720477148710808)]\n"
          ],
          "name": "stdout"
        },
        {
          "output_type": "stream",
          "text": [
            "\n"
          ],
          "name": "stderr"
        }
      ]
    },
    {
      "cell_type": "code",
      "metadata": {
        "id": "QH1TMhkNU6Kr",
        "colab": {
          "base_uri": "https://localhost:8080/"
        },
        "outputId": "57db4f6f-df42-4130-89fd-67a7446e161d"
      },
      "source": [
        "result_rf_entropy, result_rf_acc_entropy, result_rf_time_entropy, experiment_entropy = random_forest_score_repeat(n_initial,n_queries,entropy_sampling,repeats, seed)\n",
        "print(experiment_entropy)"
      ],
      "execution_count": 13,
      "outputs": [
        {
          "output_type": "stream",
          "text": [
            "\r  0%|          | 0/3 [00:00<?, ?it/s]"
          ],
          "name": "stderr"
        },
        {
          "output_type": "stream",
          "text": [
            "0\n",
            "Indexes for  30 :  [197 316 636 444 633 702 668 333  58 226 354 619 457 592 279 195 325 106\n",
            " 109 831 143 453  14 421 285 470 481 906 321 858]\n"
          ],
          "name": "stdout"
        },
        {
          "output_type": "stream",
          "text": [
            "\r 33%|███▎      | 1/3 [00:33<01:06, 33.26s/it]"
          ],
          "name": "stderr"
        },
        {
          "output_type": "stream",
          "text": [
            "1\n",
            "Indexes for  30 :  [ 44  16 764 218 180 187 641 667 275 685 676 589 378 584 516 573 467 239\n",
            " 415  71 230 865 216 172 906 575 255 816 196 169]\n"
          ],
          "name": "stdout"
        },
        {
          "output_type": "stream",
          "text": [
            "\r 67%|██████▋   | 2/3 [01:03<00:32, 32.25s/it]"
          ],
          "name": "stderr"
        },
        {
          "output_type": "stream",
          "text": [
            "2\n",
            "Indexes for  30 :  [185 623 379 311 645 621 956 439 750 860 922 254 810 776 206 135   1 336\n",
            " 572 440 127 809  89 468 585  42 830 719 456  94]\n"
          ],
          "name": "stdout"
        },
        {
          "output_type": "stream",
          "text": [
            "100%|██████████| 3/3 [01:39<00:00, 33.26s/it]"
          ],
          "name": "stderr"
        },
        {
          "output_type": "stream",
          "text": [
            "--- 99.78308510780334 seconds ---\n",
            "[Experiment(n_samples=30, repeat=0, accuracy=0.5555555555555556, log_loss=4.342876576780865), Experiment(n_samples=60, repeat=0, accuracy=0.5882352941176471, log_loss=4.219560654136946), Experiment(n_samples=90, repeat=0, accuracy=0.6143790849673203, log_loss=4.512701921921798), Experiment(n_samples=120, repeat=0, accuracy=0.6143790849673203, log_loss=4.759997414561636), Experiment(n_samples=150, repeat=0, accuracy=0.6470588235294118, log_loss=4.779062004890141), Experiment(n_samples=180, repeat=0, accuracy=0.6078431372549019, log_loss=4.960819737040329), Experiment(n_samples=210, repeat=0, accuracy=0.6143790849673203, log_loss=4.955735710176136), Experiment(n_samples=240, repeat=0, accuracy=0.6013071895424836, log_loss=4.8711589256842265), Experiment(n_samples=270, repeat=0, accuracy=0.6143790849673203, log_loss=5.0290283812273655), Experiment(n_samples=30, repeat=1, accuracy=0.5947712418300654, log_loss=3.1584506508444172), Experiment(n_samples=60, repeat=1, accuracy=0.6143790849673203, log_loss=3.5297404671608126), Experiment(n_samples=90, repeat=1, accuracy=0.6274509803921569, log_loss=4.510622124823653), Experiment(n_samples=120, repeat=1, accuracy=0.6339869281045751, log_loss=4.665847788387971), Experiment(n_samples=150, repeat=1, accuracy=0.6405228758169934, log_loss=4.647745388481207), Experiment(n_samples=180, repeat=1, accuracy=0.6470588235294118, log_loss=5.058519431906472), Experiment(n_samples=210, repeat=1, accuracy=0.6405228758169934, log_loss=5.564179286461572), Experiment(n_samples=240, repeat=1, accuracy=0.6535947712418301, log_loss=5.537612330905335), Experiment(n_samples=270, repeat=1, accuracy=0.6535947712418301, log_loss=5.442487942904238), Experiment(n_samples=30, repeat=2, accuracy=0.45098039215686275, log_loss=3.6750070942578374), Experiment(n_samples=60, repeat=2, accuracy=0.5228758169934641, log_loss=3.8933388492945036), Experiment(n_samples=90, repeat=2, accuracy=0.5686274509803921, log_loss=3.574791533896288), Experiment(n_samples=120, repeat=2, accuracy=0.5359477124183006, log_loss=4.713572730247526), Experiment(n_samples=150, repeat=2, accuracy=0.5490196078431373, log_loss=5.095320862234563), Experiment(n_samples=180, repeat=2, accuracy=0.5555555555555556, log_loss=5.152195329015893), Experiment(n_samples=210, repeat=2, accuracy=0.5620915032679739, log_loss=4.871553837766879), Experiment(n_samples=240, repeat=2, accuracy=0.5947712418300654, log_loss=4.821672876851269), Experiment(n_samples=270, repeat=2, accuracy=0.5555555555555556, log_loss=4.720477148710808)]\n"
          ],
          "name": "stdout"
        },
        {
          "output_type": "stream",
          "text": [
            "\n"
          ],
          "name": "stderr"
        }
      ]
    },
    {
      "cell_type": "code",
      "metadata": {
        "id": "sBsoTn90xcf0",
        "colab": {
          "base_uri": "https://localhost:8080/"
        },
        "outputId": "44f86b78-1fe2-481c-d3d1-0feddbff333c"
      },
      "source": [
        "n_initial = range(30,300,30)\n",
        "seed_random = 20 # random seed\n",
        "repeat_random = 3 # number of repeat for each n_initial\n",
        "#experiment_random, res_random, time_random = learning_curve(n_initial, repeat_random, random_sampling_policy,seed_random)\n",
        "result_rf_random, result_rf_acc_random, result_rf_time_random, experiment_random = random_forest_score_repeat(n_initial,n_queries,random_sampling,repeats, seed)"
      ],
      "execution_count": 14,
      "outputs": [
        {
          "output_type": "stream",
          "text": [
            "\r  0%|          | 0/3 [00:00<?, ?it/s]"
          ],
          "name": "stderr"
        },
        {
          "output_type": "stream",
          "text": [
            "0\n",
            "Indexes for  30 :  [197 316 636 444 633 702 668 333  58 226 354 619 457 592 279 195 325 106\n",
            " 109 831 143 453  14 421 285 470 481 906 321 858]\n"
          ],
          "name": "stdout"
        },
        {
          "output_type": "stream",
          "text": [
            "\r 33%|███▎      | 1/3 [00:32<01:05, 32.66s/it]"
          ],
          "name": "stderr"
        },
        {
          "output_type": "stream",
          "text": [
            "1\n",
            "Indexes for  30 :  [ 44  16 764 218 180 187 641 667 275 685 676 589 378 584 516 573 467 239\n",
            " 415  71 230 865 216 172 906 575 255 816 196 169]\n"
          ],
          "name": "stdout"
        },
        {
          "output_type": "stream",
          "text": [
            "\r 67%|██████▋   | 2/3 [01:06<00:32, 32.98s/it]"
          ],
          "name": "stderr"
        },
        {
          "output_type": "stream",
          "text": [
            "2\n",
            "Indexes for  30 :  [185 623 379 311 645 621 956 439 750 860 922 254 810 776 206 135   1 336\n",
            " 572 440 127 809  89 468 585  42 830 719 456  94]\n"
          ],
          "name": "stdout"
        },
        {
          "output_type": "stream",
          "text": [
            "100%|██████████| 3/3 [01:53<00:00, 37.71s/it]"
          ],
          "name": "stderr"
        },
        {
          "output_type": "stream",
          "text": [
            "--- 113.14861416816711 seconds ---\n"
          ],
          "name": "stdout"
        },
        {
          "output_type": "stream",
          "text": [
            "\n"
          ],
          "name": "stderr"
        }
      ]
    },
    {
      "cell_type": "code",
      "metadata": {
        "id": "tW84Jq8RJ_99",
        "colab": {
          "base_uri": "https://localhost:8080/"
        },
        "outputId": "2e104e7d-29be-4bd5-f3c2-b0b0cfe5a82d"
      },
      "source": [
        "# show accuracy and log loss for each n_sample and repeat\n",
        "\n",
        "print(experiment_uncertainty)\n",
        "print(experiment_margin)\n",
        "print(experiment_entropy)\n",
        "print(experiment_random)"
      ],
      "execution_count": 15,
      "outputs": [
        {
          "output_type": "stream",
          "text": [
            "[Experiment(n_samples=30, repeat=0, accuracy=0.5555555555555556, log_loss=4.342876576780865), Experiment(n_samples=60, repeat=0, accuracy=0.5882352941176471, log_loss=4.219560654136946), Experiment(n_samples=90, repeat=0, accuracy=0.6143790849673203, log_loss=4.512701921921798), Experiment(n_samples=120, repeat=0, accuracy=0.6143790849673203, log_loss=4.759997414561636), Experiment(n_samples=150, repeat=0, accuracy=0.6470588235294118, log_loss=4.779062004890141), Experiment(n_samples=180, repeat=0, accuracy=0.6078431372549019, log_loss=4.960819737040329), Experiment(n_samples=210, repeat=0, accuracy=0.6143790849673203, log_loss=4.955735710176136), Experiment(n_samples=240, repeat=0, accuracy=0.6013071895424836, log_loss=4.8711589256842265), Experiment(n_samples=270, repeat=0, accuracy=0.6143790849673203, log_loss=5.0290283812273655), Experiment(n_samples=30, repeat=1, accuracy=0.5947712418300654, log_loss=3.1584506508444172), Experiment(n_samples=60, repeat=1, accuracy=0.6143790849673203, log_loss=3.5297404671608126), Experiment(n_samples=90, repeat=1, accuracy=0.6274509803921569, log_loss=4.510622124823653), Experiment(n_samples=120, repeat=1, accuracy=0.6339869281045751, log_loss=4.665847788387971), Experiment(n_samples=150, repeat=1, accuracy=0.6405228758169934, log_loss=4.647745388481207), Experiment(n_samples=180, repeat=1, accuracy=0.6470588235294118, log_loss=5.058519431906472), Experiment(n_samples=210, repeat=1, accuracy=0.6405228758169934, log_loss=5.564179286461572), Experiment(n_samples=240, repeat=1, accuracy=0.6535947712418301, log_loss=5.537612330905335), Experiment(n_samples=270, repeat=1, accuracy=0.6535947712418301, log_loss=5.442487942904238), Experiment(n_samples=30, repeat=2, accuracy=0.45098039215686275, log_loss=3.6750070942578374), Experiment(n_samples=60, repeat=2, accuracy=0.5228758169934641, log_loss=3.8933388492945036), Experiment(n_samples=90, repeat=2, accuracy=0.5686274509803921, log_loss=3.574791533896288), Experiment(n_samples=120, repeat=2, accuracy=0.5359477124183006, log_loss=4.713572730247526), Experiment(n_samples=150, repeat=2, accuracy=0.5490196078431373, log_loss=5.095320862234563), Experiment(n_samples=180, repeat=2, accuracy=0.5555555555555556, log_loss=5.152195329015893), Experiment(n_samples=210, repeat=2, accuracy=0.5620915032679739, log_loss=4.871553837766879), Experiment(n_samples=240, repeat=2, accuracy=0.5947712418300654, log_loss=4.821672876851269), Experiment(n_samples=270, repeat=2, accuracy=0.5555555555555556, log_loss=4.720477148710808)]\n",
            "[Experiment(n_samples=30, repeat=0, accuracy=0.5555555555555556, log_loss=4.342876576780865), Experiment(n_samples=60, repeat=0, accuracy=0.5882352941176471, log_loss=4.219560654136946), Experiment(n_samples=90, repeat=0, accuracy=0.6143790849673203, log_loss=4.512701921921798), Experiment(n_samples=120, repeat=0, accuracy=0.6143790849673203, log_loss=4.759997414561636), Experiment(n_samples=150, repeat=0, accuracy=0.6470588235294118, log_loss=4.779062004890141), Experiment(n_samples=180, repeat=0, accuracy=0.6078431372549019, log_loss=4.960819737040329), Experiment(n_samples=210, repeat=0, accuracy=0.6143790849673203, log_loss=4.955735710176136), Experiment(n_samples=240, repeat=0, accuracy=0.6013071895424836, log_loss=4.8711589256842265), Experiment(n_samples=270, repeat=0, accuracy=0.6143790849673203, log_loss=5.0290283812273655), Experiment(n_samples=30, repeat=1, accuracy=0.5947712418300654, log_loss=3.1584506508444172), Experiment(n_samples=60, repeat=1, accuracy=0.6143790849673203, log_loss=3.5297404671608126), Experiment(n_samples=90, repeat=1, accuracy=0.6274509803921569, log_loss=4.510622124823653), Experiment(n_samples=120, repeat=1, accuracy=0.6339869281045751, log_loss=4.665847788387971), Experiment(n_samples=150, repeat=1, accuracy=0.6405228758169934, log_loss=4.647745388481207), Experiment(n_samples=180, repeat=1, accuracy=0.6470588235294118, log_loss=5.058519431906472), Experiment(n_samples=210, repeat=1, accuracy=0.6405228758169934, log_loss=5.564179286461572), Experiment(n_samples=240, repeat=1, accuracy=0.6535947712418301, log_loss=5.537612330905335), Experiment(n_samples=270, repeat=1, accuracy=0.6535947712418301, log_loss=5.442487942904238), Experiment(n_samples=30, repeat=2, accuracy=0.45098039215686275, log_loss=3.6750070942578374), Experiment(n_samples=60, repeat=2, accuracy=0.5228758169934641, log_loss=3.8933388492945036), Experiment(n_samples=90, repeat=2, accuracy=0.5686274509803921, log_loss=3.574791533896288), Experiment(n_samples=120, repeat=2, accuracy=0.5359477124183006, log_loss=4.713572730247526), Experiment(n_samples=150, repeat=2, accuracy=0.5490196078431373, log_loss=5.095320862234563), Experiment(n_samples=180, repeat=2, accuracy=0.5555555555555556, log_loss=5.152195329015893), Experiment(n_samples=210, repeat=2, accuracy=0.5620915032679739, log_loss=4.871553837766879), Experiment(n_samples=240, repeat=2, accuracy=0.5947712418300654, log_loss=4.821672876851269), Experiment(n_samples=270, repeat=2, accuracy=0.5555555555555556, log_loss=4.720477148710808)]\n",
            "[Experiment(n_samples=30, repeat=0, accuracy=0.5555555555555556, log_loss=4.342876576780865), Experiment(n_samples=60, repeat=0, accuracy=0.5882352941176471, log_loss=4.219560654136946), Experiment(n_samples=90, repeat=0, accuracy=0.6143790849673203, log_loss=4.512701921921798), Experiment(n_samples=120, repeat=0, accuracy=0.6143790849673203, log_loss=4.759997414561636), Experiment(n_samples=150, repeat=0, accuracy=0.6470588235294118, log_loss=4.779062004890141), Experiment(n_samples=180, repeat=0, accuracy=0.6078431372549019, log_loss=4.960819737040329), Experiment(n_samples=210, repeat=0, accuracy=0.6143790849673203, log_loss=4.955735710176136), Experiment(n_samples=240, repeat=0, accuracy=0.6013071895424836, log_loss=4.8711589256842265), Experiment(n_samples=270, repeat=0, accuracy=0.6143790849673203, log_loss=5.0290283812273655), Experiment(n_samples=30, repeat=1, accuracy=0.5947712418300654, log_loss=3.1584506508444172), Experiment(n_samples=60, repeat=1, accuracy=0.6143790849673203, log_loss=3.5297404671608126), Experiment(n_samples=90, repeat=1, accuracy=0.6274509803921569, log_loss=4.510622124823653), Experiment(n_samples=120, repeat=1, accuracy=0.6339869281045751, log_loss=4.665847788387971), Experiment(n_samples=150, repeat=1, accuracy=0.6405228758169934, log_loss=4.647745388481207), Experiment(n_samples=180, repeat=1, accuracy=0.6470588235294118, log_loss=5.058519431906472), Experiment(n_samples=210, repeat=1, accuracy=0.6405228758169934, log_loss=5.564179286461572), Experiment(n_samples=240, repeat=1, accuracy=0.6535947712418301, log_loss=5.537612330905335), Experiment(n_samples=270, repeat=1, accuracy=0.6535947712418301, log_loss=5.442487942904238), Experiment(n_samples=30, repeat=2, accuracy=0.45098039215686275, log_loss=3.6750070942578374), Experiment(n_samples=60, repeat=2, accuracy=0.5228758169934641, log_loss=3.8933388492945036), Experiment(n_samples=90, repeat=2, accuracy=0.5686274509803921, log_loss=3.574791533896288), Experiment(n_samples=120, repeat=2, accuracy=0.5359477124183006, log_loss=4.713572730247526), Experiment(n_samples=150, repeat=2, accuracy=0.5490196078431373, log_loss=5.095320862234563), Experiment(n_samples=180, repeat=2, accuracy=0.5555555555555556, log_loss=5.152195329015893), Experiment(n_samples=210, repeat=2, accuracy=0.5620915032679739, log_loss=4.871553837766879), Experiment(n_samples=240, repeat=2, accuracy=0.5947712418300654, log_loss=4.821672876851269), Experiment(n_samples=270, repeat=2, accuracy=0.5555555555555556, log_loss=4.720477148710808)]\n",
            "[Experiment(n_samples=30, repeat=0, accuracy=0.5555555555555556, log_loss=4.342876576780865), Experiment(n_samples=60, repeat=0, accuracy=0.6274509803921569, log_loss=3.369475863113984), Experiment(n_samples=90, repeat=0, accuracy=0.6339869281045751, log_loss=3.126751886998653), Experiment(n_samples=120, repeat=0, accuracy=0.6601307189542484, log_loss=3.0847611931951633), Experiment(n_samples=150, repeat=0, accuracy=0.6274509803921569, log_loss=3.211406524515441), Experiment(n_samples=180, repeat=0, accuracy=0.6078431372549019, log_loss=3.2086507964651463), Experiment(n_samples=210, repeat=0, accuracy=0.5816993464052288, log_loss=3.3179699732734425), Experiment(n_samples=240, repeat=0, accuracy=0.5947712418300654, log_loss=3.574694813419975), Experiment(n_samples=270, repeat=0, accuracy=0.5686274509803921, log_loss=3.650248203043858), Experiment(n_samples=30, repeat=1, accuracy=0.5947712418300654, log_loss=3.1584506508444172), Experiment(n_samples=60, repeat=1, accuracy=0.5686274509803921, log_loss=4.71390898577582), Experiment(n_samples=90, repeat=1, accuracy=0.5947712418300654, log_loss=4.147261340000182), Experiment(n_samples=120, repeat=1, accuracy=0.6013071895424836, log_loss=3.6671605479472853), Experiment(n_samples=150, repeat=1, accuracy=0.6470588235294118, log_loss=3.5462377514415295), Experiment(n_samples=180, repeat=1, accuracy=0.6470588235294118, log_loss=3.5528838954930975), Experiment(n_samples=210, repeat=1, accuracy=0.6666666666666666, log_loss=3.0495544631296116), Experiment(n_samples=240, repeat=1, accuracy=0.6013071895424836, log_loss=3.28996231048548), Experiment(n_samples=270, repeat=1, accuracy=0.6143790849673203, log_loss=3.4213226291784413), Experiment(n_samples=30, repeat=2, accuracy=0.45098039215686275, log_loss=3.6750070942578374), Experiment(n_samples=60, repeat=2, accuracy=0.5490196078431373, log_loss=4.283861276109564), Experiment(n_samples=90, repeat=2, accuracy=0.5359477124183006, log_loss=4.284254510573236), Experiment(n_samples=120, repeat=2, accuracy=0.5424836601307189, log_loss=3.6925014008182706), Experiment(n_samples=150, repeat=2, accuracy=0.5882352941176471, log_loss=3.7043175822737235), Experiment(n_samples=180, repeat=2, accuracy=0.5359477124183006, log_loss=3.866856132966759), Experiment(n_samples=210, repeat=2, accuracy=0.5098039215686274, log_loss=4.810791922682177), Experiment(n_samples=240, repeat=2, accuracy=0.49673202614379086, log_loss=4.068401751095848), Experiment(n_samples=270, repeat=2, accuracy=0.5424836601307189, log_loss=4.042059417998211)]\n"
          ],
          "name": "stdout"
        }
      ]
    },
    {
      "cell_type": "code",
      "metadata": {
        "id": "jMDIu-PGuLrL",
        "colab": {
          "base_uri": "https://localhost:8080/",
          "height": 292
        },
        "outputId": "836dc902-464f-40f2-f648-31c4cb6eb8db"
      },
      "source": [
        "# show accuracy plot\n",
        "\n",
        "def plot_learning_curve(df, name):\n",
        "    # Compute percentiles\n",
        "    p10 = df.groupby('n_samples').quantile(.10)['accuracy']\n",
        "    p50 = df.groupby('n_samples').median()['accuracy']\n",
        "    p90 = df.groupby('n_samples').quantile(.90)['accuracy']\n",
        "    training_sizes= p50.index.to_numpy()\n",
        "\n",
        "    with plt.style.context('seaborn-white'):\n",
        "        plt.title('Active Learning vs Random Sampling Crisis MMD')\n",
        "        plt.plot(training_sizes, p50, label=name )\n",
        "\n",
        "        # show standard deviation\n",
        "        plt.fill_between(training_sizes, p10, p90,alpha=0.1)\n",
        "    plt.legend(loc='lower right')\n",
        "    plt.xlabel(\"Number of sample\")\n",
        "    plt.ylabel(\"Accuracy\")\n",
        "    plt.grid()\n",
        "    #plt.show()\n",
        "\n",
        "df_us = pd.DataFrame([dataclasses.asdict(e) for e in experiment_uncertainty])\n",
        "df_ms = pd.DataFrame([dataclasses.asdict(e) for e in experiment_margin])\n",
        "df_es = pd.DataFrame([dataclasses.asdict(e) for e in experiment_entropy])\n",
        "df_rs = pd.DataFrame([dataclasses.asdict(e) for e in experiment_random])\n",
        "plot_learning_curve(df_us, \"Uncertainty\")\n",
        "plot_learning_curve(df_ms, \"Margin\")\n",
        "plot_learning_curve(df_es, \"Entropy\")\n",
        "plot_learning_curve(df_rs, \"Random\")"
      ],
      "execution_count": 16,
      "outputs": [
        {
          "output_type": "display_data",
          "data": {
            "image/png": "[encoded data removed]",
            "text/plain": [
              "<Figure size 432x288 with 1 Axes>"
            ]
          },
          "metadata": {
            "tags": []
          }
        }
      ]
    },
    {
      "cell_type": "code",
      "metadata": {
        "id": "Hc9BxrwbkGIh",
        "colab": {
          "base_uri": "https://localhost:8080/",
          "height": 292
        },
        "outputId": "0f9aa3d7-d204-47ba-b813-962421aa16e0"
      },
      "source": [
        "# show log loss plot\n",
        "\n",
        "def plot_learning_curve(df, name):\n",
        "    # Compute percentiles\n",
        "    p10 = df.groupby('n_samples').quantile(.10)['log_loss']\n",
        "    p50 = df.groupby('n_samples').median()['log_loss']\n",
        "    p90 = df.groupby('n_samples').quantile(.90)['log_loss']\n",
        "    training_sizes= p50.index.to_numpy()\n",
        "\n",
        "    with plt.style.context('seaborn-white'):\n",
        "        plt.title('Active Learning vs Random Sampling Crisis MMD')\n",
        "        plt.plot(training_sizes, p50, label=name )\n",
        "\n",
        "        # show standard deviation\n",
        "        plt.fill_between(training_sizes, p10, p90,alpha=0.1)\n",
        "    plt.legend(loc='upper left')\n",
        "    plt.xlabel(\"Number of sample\")\n",
        "    plt.ylabel(\"Log Loss\")\n",
        "    plt.grid()\n",
        "    #plt.show()\n",
        "\n",
        "df_us = pd.DataFrame([dataclasses.asdict(e) for e in experiment_uncertainty])\n",
        "df_ms = pd.DataFrame([dataclasses.asdict(e) for e in experiment_margin])\n",
        "df_es = pd.DataFrame([dataclasses.asdict(e) for e in experiment_entropy])\n",
        "df_rs = pd.DataFrame([dataclasses.asdict(e) for e in experiment_random])\n",
        "plot_learning_curve(df_us, \"Uncertainty\")\n",
        "plot_learning_curve(df_ms, \"Margin\")\n",
        "plot_learning_curve(df_es, \"Entropy\")\n",
        "plot_learning_curve(df_rs, \"Random\")"
      ],
      "execution_count": 23,
      "outputs": [
        {
          "output_type": "display_data",
          "data": {
            "image/png": "[encoded data removed]",
            "text/plain": [
              "<Figure size 432x288 with 1 Axes>"
            ]
          },
          "metadata": {
            "tags": []
          }
        }
      ]
    },
    {
      "cell_type": "code",
      "metadata": {
        "id": "NE5_gT1Mi07y",
        "colab": {
          "base_uri": "https://localhost:8080/"
        },
        "outputId": "29029726-401f-4cb5-fdc5-591083b70539"
      },
      "source": [
        "# show precision, recall, f-1 score for final n_sample active learning\n",
        "\n",
        "print(result_rf_uncertainty)\n",
        "print(result_rf_margin)\n",
        "print(result_rf_entropy)\n",
        "\n",
        "print(result_rf_time_uncertainty)\n",
        "print(result_rf_time_margin)\n",
        "print(result_rf_time_entropy)"
      ],
      "execution_count": 18,
      "outputs": [
        {
          "output_type": "stream",
          "text": [
            "              precision    recall  f1-score   support\n",
            "\n",
            "           0       0.72      0.57      0.63       104\n",
            "           1       0.37      0.53      0.43        49\n",
            "\n",
            "    accuracy                           0.56       153\n",
            "   macro avg       0.54      0.55      0.53       153\n",
            "weighted avg       0.61      0.56      0.57       153\n",
            "\n",
            "              precision    recall  f1-score   support\n",
            "\n",
            "           0       0.72      0.57      0.63       104\n",
            "           1       0.37      0.53      0.43        49\n",
            "\n",
            "    accuracy                           0.56       153\n",
            "   macro avg       0.54      0.55      0.53       153\n",
            "weighted avg       0.61      0.56      0.57       153\n",
            "\n",
            "              precision    recall  f1-score   support\n",
            "\n",
            "           0       0.72      0.57      0.63       104\n",
            "           1       0.37      0.53      0.43        49\n",
            "\n",
            "    accuracy                           0.56       153\n",
            "   macro avg       0.54      0.55      0.53       153\n",
            "weighted avg       0.61      0.56      0.57       153\n",
            "\n",
            "100.6987636089325\n",
            "104.9660964012146\n",
            "99.78308510780334\n"
          ],
          "name": "stdout"
        }
      ]
    },
    {
      "cell_type": "code",
      "metadata": {
        "colab": {
          "base_uri": "https://localhost:8080/"
        },
        "id": "nntoUrRykfN9",
        "outputId": "ab999a4f-2782-43c1-f347-0abecb8139c4"
      },
      "source": [
        "# show precision, recall, f-1 score for final n_sample random sampling\n",
        "\n",
        "print(result_rf_random)\n",
        "print(result_rf_time_random)"
      ],
      "execution_count": 21,
      "outputs": [
        {
          "output_type": "stream",
          "text": [
            "              precision    recall  f1-score   support\n",
            "\n",
            "           0       0.72      0.53      0.61       104\n",
            "           1       0.36      0.57      0.44        49\n",
            "\n",
            "    accuracy                           0.54       153\n",
            "   macro avg       0.54      0.55      0.53       153\n",
            "weighted avg       0.61      0.54      0.56       153\n",
            "\n",
            "113.14861416816711\n"
          ],
          "name": "stdout"
        }
      ]
    }
  ]
}