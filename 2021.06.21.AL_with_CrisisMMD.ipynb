{
 "cells": [
  {
   "cell_type": "markdown",
   "metadata": {
    "colab_type": "text",
    "id": "view-in-github"
   },
   "source": [
    "<a href=\"https://colab.research.google.com/github/hafizbudi/active-learning/blob/main/AL_with_CrisisMMD.ipynb\" target=\"_parent\"><img src=\"https://colab.research.google.com/assets/colab-badge.svg\" alt=\"Open In Colab\"/></a>"
   ]
  },
  {
   "cell_type": "code",
   "execution_count": null,
   "metadata": {
    "id": "sO5UyHeHxJGM"
   },
   "outputs": [],
   "source": [
    "from google.colab import drive\n",
    "drive.mount('/content/gdrive')\n",
    "%cd gdrive/My Drive/Project/multimodal_social_media"
   ]
  },
  {
   "cell_type": "code",
   "execution_count": 64,
   "metadata": {
    "id": "2ZMKDDe0xcDv"
   },
   "outputs": [
    {
     "name": "stdout",
     "output_type": "stream",
     "text": [
      "Requirement already satisfied: modal in ./.venv/lib/python3.7/site-packages (0.4.1)\n",
      "Requirement already satisfied: pandas>=1.1.0 in ./.venv/lib/python3.7/site-packages (from modal) (1.2.4)\n",
      "Requirement already satisfied: scipy>=0.18 in ./.venv/lib/python3.7/site-packages (from modal) (1.6.3)\n",
      "Requirement already satisfied: numpy>=1.13 in ./.venv/lib/python3.7/site-packages (from modal) (1.20.2)\n",
      "Requirement already satisfied: scikit-learn>=0.18 in ./.venv/lib/python3.7/site-packages (from modal) (0.24.2)\n",
      "Requirement already satisfied: pytz>=2017.3 in ./.venv/lib/python3.7/site-packages (from pandas>=1.1.0->modal) (2021.1)\n",
      "Requirement already satisfied: python-dateutil>=2.7.3 in ./.venv/lib/python3.7/site-packages (from pandas>=1.1.0->modal) (2.8.1)\n",
      "Requirement already satisfied: six>=1.5 in ./.venv/lib/python3.7/site-packages (from python-dateutil>=2.7.3->pandas>=1.1.0->modal) (1.16.0)\n",
      "Requirement already satisfied: threadpoolctl>=2.0.0 in ./.venv/lib/python3.7/site-packages (from scikit-learn>=0.18->modal) (2.1.0)\n",
      "Requirement already satisfied: joblib>=0.11 in ./.venv/lib/python3.7/site-packages (from scikit-learn>=0.18->modal) (1.0.1)\n",
      "Note: you may need to restart the kernel to use updated packages.\n"
     ]
    }
   ],
   "source": [
    "pip install modal"
   ]
  },
  {
   "cell_type": "code",
   "execution_count": 407,
   "metadata": {
    "id": "lIbF2Dugxegw"
   },
   "outputs": [],
   "source": [
    "from sklearn.datasets import load_digits\n",
    "from sklearn.model_selection import train_test_split\n",
    "from sklearn.ensemble import RandomForestClassifier\n",
    "from sklearn.linear_model import LogisticRegression, LogisticRegressionCV\n",
    "from sklearn import datasets, metrics\n",
    "from dataclasses import dataclass\n",
    "import dataclasses\n",
    "\n",
    "import matplotlib.pyplot as plt\n",
    "import numpy as np\n",
    "import pandas as pd\n",
    "import cv2\n",
    "from modAL.models import ActiveLearner\n",
    "from modAL.uncertainty import uncertainty_sampling\n",
    "from modAL.uncertainty import margin_sampling\n",
    "from modAL.uncertainty import entropy_sampling\n",
    "import os\n",
    "\n",
    "from tqdm import tqdm\n",
    "from sklearn.metrics import classification_report, accuracy_score\n",
    "from sklearn.metrics import log_loss\n",
    "\n",
    "from sklearn.neighbors import KNeighborsClassifier\n",
    "import time\n",
    "import random"
   ]
  },
  {
   "cell_type": "code",
   "execution_count": 408,
   "metadata": {},
   "outputs": [],
   "source": [
    "# Load Digits dataset\n",
    "\n",
    "digits = load_digits()\n",
    "n = len(digits.images)\n",
    "np.random.seed(123)\n",
    "\n",
    "X = digits.images.reshape(n,-1)\n",
    "y = digits.target\n",
    "\n",
    "X_train, X_test, y_train, y_test = train_test_split(X,y, test_size=0.25,shuffle=True)"
   ]
  },
  {
   "cell_type": "code",
   "execution_count": 409,
   "metadata": {},
   "outputs": [],
   "source": [
    "\n",
    "# load the file\n",
    "def load_data(filename, nb_instance, all_instance):\n",
    "  #n = all_instance #number of records in file\n",
    "  #s = nb_instance #sample size\n",
    "  #skip = sorted(random.sample(range(1,n+1),n-s))\n",
    "  #print(skip)\n",
    "  #df = pd.read_csv(filename,sep=\"\\t\",nrows=nb_instance)\n",
    "  print(\"Nb:\", nb_instance)\n",
    "  df = pd.read_csv(filename, sep=\"\\t\")\n",
    "  df = df.sample(nb_instance)\n",
    "  print(df.describe())\n",
    "  df.label_image = pd.Categorical(df.label_image)\n",
    "  df['label_image_code'] = df.label_image.cat.codes\n",
    "\n",
    "  df[['image','label_image','label_image_code']]\n",
    "\n",
    "  return df\n",
    "\n",
    "# read, resize and flatten into 1-dimension array\n",
    "def pre_process_image(data, image_size):\n",
    "  img_arr = []\n",
    "  for index, row in data.iterrows():\n",
    "    #print(row['image'])\n",
    "    read_img = cv2.imread(row['image'], cv2.IMREAD_GRAYSCALE)\n",
    "    #print(index, read_img.shape)\n",
    "    img_resize = cv2.resize(read_img, (image_size, image_size))\n",
    "    img_ravel = img_resize.ravel()\n",
    "    img_arr.append(img_ravel)\n",
    "\n",
    "  img_np = np.array(img_arr)\n",
    "\n",
    "  return img_np\n"
   ]
  },
  {
   "cell_type": "code",
   "execution_count": 410,
   "metadata": {},
   "outputs": [],
   "source": [
    "# Load CrisisMMD dataset\n",
    "\n",
    "def preprocess_crisis(image_size):\n",
    "    filename = str(image_size)+\".npz\"\n",
    "    try:\n",
    "        start_time = time.time()\n",
    "\n",
    "        m = np.load(filename)\n",
    "        X_train=m[\"X_train\"]\n",
    "        X_test=m[\"X_test\"]\n",
    "        y_train=m[\"y_train\"]\n",
    "        y_test=m[\"y_test\"]\n",
    "        final_time = time.time() - start_time\n",
    "        print(\"--- %s seconds ---\" % (final_time))\n",
    "    except IOError as e:\n",
    "        start_time = time.time()\n",
    "\n",
    "\n",
    "        #train_instance = 9601\n",
    "        #test_instance = 1534\n",
    "\n",
    "        all_train_instance = 9601\n",
    "        all_test_instance = 1534\n",
    "\n",
    "        # Use 10 % amount of data for initial phase\n",
    "        train_instance = 9601\n",
    "        test_instance = 1534\n",
    "\n",
    "        os.chdir(\"CrisisMMD_v2.0/\")\n",
    "        test_filename = \"task_informative_text_img_test.tsv\"\n",
    "        data_test = load_data(test_filename, test_instance, all_test_instance)\n",
    "        data_image_test = pre_process_image(data_test, image_size)\n",
    "        X_test = data_image_test.reshape(test_instance,-1)\n",
    "        y_test = data_test['label_image_code'].values\n",
    "\n",
    "        train_filename = \"task_informative_text_img_train.tsv\"\n",
    "        data_train = load_data(train_filename,train_instance, all_train_instance)\n",
    "        data_images_train = pre_process_image(data_train, image_size)\n",
    "        X_train = data_images_train.reshape(train_instance,-1)\n",
    "        y_train = data_train['label_image_code'].values\n",
    "        os.chdir(\"..\")\n",
    "\n",
    "        np.savez_compressed(filename, X_train=X_train, y_train=y_train, X_test=X_test, y_test=y_test)\n",
    "        final_time = time.time() - start_time\n",
    "        print(\"--- %s seconds ---\" % (final_time))\n",
    "        \n",
    "    \n",
    "    return X_train, y_train, X_test, y_test\n"
   ]
  },
  {
   "cell_type": "code",
   "execution_count": null,
   "metadata": {},
   "outputs": [
    {
     "name": "stdout",
     "output_type": "stream",
     "text": [
      "--- 0.009063243865966797 seconds ---\n",
      "Image size: 8 Accuracy: 0.559322033898305  log loss: 0.6836890961231681\n",
      "--- 0.033348798751831055 seconds ---\n",
      "Image size: 16 Accuracy: 0.5691003911342895  log loss: 0.683328550993444\n",
      "--- 0.11429142951965332 seconds ---\n",
      "Image size: 32 Accuracy: 0.5514993481095176  log loss: 0.750605105561324\n",
      "--- 0.3203871250152588 seconds ---\n"
     ]
    }
   ],
   "source": [
    "# Here we test a classifier using different image sizes, showing its accuracy and log_loss for the complete training set\n",
    "# If we do not get good results here, forget about active learning.\n",
    "\n",
    "for img_size in [8,16,32,64,128,224]:\n",
    "    X_train, y_train, X_test, y_test = preprocess_crisis(img_size)\n",
    "    #model = RandomForestClassifier()\n",
    "    model = LogisticRegressionCV(max_iter=10000)\n",
    "    model.fit(X_train,y_train)\n",
    "    predictions = model.predict_proba(X_test)\n",
    "    max_predictions = np.argmax(predictions, axis=1)\n",
    "    acc = accuracy_score(y_test, max_predictions)\n",
    "    predictions = model.predict_proba(X_test)\n",
    "    log_score = log_loss(y_test, predictions)\n",
    "    print(\"Image size:\",img_size,\"Accuracy:\", acc, \" log loss:\", log_score)"
   ]
  },
  {
   "cell_type": "code",
   "execution_count": 402,
   "metadata": {},
   "outputs": [],
   "source": [
    "def random_sampling(classifier, X,\n",
    "                     n_instances: int = 1, random_tie_break: bool = False):\n",
    "    \n",
    "    query_idx = np.random.choice(range(len(X)), size=n_instances, replace=False)\n",
    "    \n",
    "    return query_idx, X[query_idx]\n"
   ]
  },
  {
   "cell_type": "code",
   "execution_count": 371,
   "metadata": {
    "id": "ebIBBu0nxhP8"
   },
   "outputs": [],
   "source": [
    "@dataclass\n",
    "class Experiment:\n",
    "    n_samples: int\n",
    "    repeat: int\n",
    "    accuracy: float\n",
    "    log_loss: float\n",
    "\n",
    "# learning curve for active learning\n",
    "def random_forest_score_repeat(n_initial,n_queries,sampling_strategy, repeats, seed):\n",
    "  \n",
    "  start_time = time.time()\n",
    "  acc_all = []\n",
    "  experiments = []\n",
    "  \n",
    "  # repeat as much as repeats parameter\n",
    "  for k in tqdm(range(repeats)):\n",
    "    print(k)\n",
    "    np.random.seed(seed + k)\n",
    "    i = n_initial[0]\n",
    "    \n",
    "    initial_idx = np.random.choice(range(len(X_train)), size=i, replace=False)\n",
    "    #print(\"Indexes for \",i,\": \",initial_idx)\n",
    "    X_initial, y_initial = X_train[initial_idx], y_train[initial_idx]\n",
    "    \n",
    "\n",
    "    X_pool,y_pool = np.delete(X_train, initial_idx, axis=0), np.delete(y_train, initial_idx, axis=0)\n",
    "\n",
    "    learner = ActiveLearner(\n",
    "              #estimator=LogisticRegression(max_iter=10000),\n",
    "              estimator=RandomForestClassifier(),\n",
    "              query_strategy=sampling_strategy,\n",
    "              X_training=X_initial,y_training=y_initial\n",
    "              )\n",
    "    acc = learner.score(X_test,y_test)\n",
    "    #acc_all.append(acc)\n",
    "\n",
    "    predictions = learner.predict_proba(X_test)\n",
    "    print(predictions)\n",
    "    res_logloss = log_loss(y_test,predictions)\n",
    "    exp = Experiment(n_samples=i, repeat=k, accuracy=acc,log_loss=res_logloss)\n",
    "    print(exp)\n",
    "    experiments.append(exp)\n",
    "    \n",
    "    for j in n_initial[1:]:\n",
    "\n",
    "      query_idx, query_inst = learner.query(X_pool, n_queries)\n",
    "      learner.teach(query_inst, y_pool[query_idx])\n",
    "      X_pool, y_pool = np.delete(X_pool, query_idx, axis=0), np.delete(y_pool, query_idx, axis=0)\n",
    "\n",
    "      acc = learner.score(X_test,y_test)\n",
    "      #acc_all.append(acc)\n",
    "      predictions = learner.predict_proba(X_test)\n",
    "      print(predictions)\n",
    "      res_logloss = log_loss(y_test,predictions)\n",
    "      exp = Experiment(n_samples=j, repeat=k, accuracy=acc, log_loss=res_logloss)\n",
    "      print(exp)\n",
    "      experiments.append(exp)\n",
    "\n",
    "    #predictions = learner.predict_proba(X_test)\n",
    "    #res_logloss = log_loss(y_test,predictions)\n",
    "\n",
    "    #experiments.append(Experiment(n_samples=j, repeat=k, accuracy=res_logloss))\n",
    "    \n",
    "    \n",
    "  final_time = time.time() - start_time\n",
    "  predictions = learner.predict(X_test)\n",
    "  #predictions = learner.predict_proba(X_test)\n",
    "  res_classification = classification_report(y_test, predictions)\n",
    "  #res_classification = log_loss(y_test,predictions)\n",
    "\n",
    "  print(\"--- %s seconds ---\" % (final_time))\n",
    "\n",
    "  return res_classification, acc_all, final_time, experiments"
   ]
  },
  {
   "cell_type": "code",
   "execution_count": null,
   "metadata": {
    "id": "Ag0qs1q_jf2O"
   },
   "outputs": [],
   "source": []
  },
  {
   "cell_type": "code",
   "execution_count": null,
   "metadata": {
    "colab": {
     "base_uri": "https://localhost:8080/"
    },
    "id": "JZaNlvLOxwKh",
    "outputId": "db831785-8446-4852-a111-2bbc4f72ab3f"
   },
   "outputs": [],
   "source": []
  },
  {
   "cell_type": "code",
   "execution_count": null,
   "metadata": {
    "id": "fkfVjmW-gpWQ"
   },
   "outputs": [],
   "source": []
  },
  {
   "cell_type": "code",
   "execution_count": 372,
   "metadata": {
    "id": "8GQUEIRRFKMr"
   },
   "outputs": [
    {
     "name": "stdout",
     "output_type": "stream",
     "text": [
      "Train data distribution\n",
      "Not Informative  4635\n",
      "Informative  4966\n"
     ]
    },
    {
     "data": {
      "image/png": "[encoded data removed]",
      "text/plain": [
       "<Figure size 432x288 with 1 Axes>"
      ]
     },
     "metadata": {
      "needs_background": "light"
     },
     "output_type": "display_data"
    }
   ],
   "source": [
    "# Show plot for train data distribution\n",
    "\n",
    "print(\"Train data distribution\")\n",
    "\n",
    "notinf_y_train = y_train[y_train == 1]\n",
    "len_notinf = len(notinf_y_train)\n",
    "print(\"Not Informative \",len_notinf)\n",
    "\n",
    "inf_y_train = y_train[y_train == 0]\n",
    "len_inf = len(inf_y_train)\n",
    "print(\"Informative \",len_inf)\n",
    "\n",
    "labels = ('Informative','Not Informative')\n",
    "y_pos = np.arange(len(labels))\n",
    "\n",
    "size = [len_inf,len_notinf]\n",
    "plt.bar(y_pos,size,align='center',alpha=0.5)\n",
    "plt.xticks(y_pos,labels)\n",
    "plt.ylabel('Size')\n",
    "plt.title('Training Data Distribution')\n",
    "\n",
    "plt.show()"
   ]
  },
  {
   "cell_type": "code",
   "execution_count": 373,
   "metadata": {
    "id": "T6NSbLF7FTPe"
   },
   "outputs": [
    {
     "name": "stdout",
     "output_type": "stream",
     "text": [
      "Test data distribution\n",
      "Not Informative  742\n",
      "Informative  792\n"
     ]
    },
    {
     "data": {
      "image/png": "[encoded data removed]",
      "text/plain": [
       "<Figure size 432x288 with 1 Axes>"
      ]
     },
     "metadata": {
      "needs_background": "light"
     },
     "output_type": "display_data"
    }
   ],
   "source": [
    "# Show plot for test data distribution\n",
    "\n",
    "print(\"Test data distribution\")\n",
    "\n",
    "notinf_y_test = y_test[y_test == 1]\n",
    "len_notinf_test = len(notinf_y_test)\n",
    "print(\"Not Informative \",len_notinf_test)\n",
    "\n",
    "inf_y_test = y_test[y_test == 0]\n",
    "len_inf_test = len(inf_y_test)\n",
    "print(\"Informative \",len_inf_test)\n",
    "\n",
    "labels = ('Informative','Not Informative')\n",
    "y_pos = np.arange(len(labels))\n",
    "\n",
    "size = [len_inf_test,len_notinf_test]\n",
    "plt.bar(y_pos,size,align='center',alpha=0.5)\n",
    "plt.xticks(y_pos,labels)\n",
    "plt.ylabel('Size')\n",
    "plt.title('Testing Data Distribution')\n",
    "\n",
    "plt.show()"
   ]
  },
  {
   "cell_type": "code",
   "execution_count": 378,
   "metadata": {
    "id": "SGVfmaZB7JXU"
   },
   "outputs": [],
   "source": [
    "n_queries = 500 # number of query for uncertain dataset to be asked\n",
    "n_initial = range(2000, 3001, n_queries)\n",
    "repeats = 3 # number of repeat for each n_initial\n",
    "seed = 20 # random seed"
   ]
  },
  {
   "cell_type": "code",
   "execution_count": 379,
   "metadata": {
    "colab": {
     "base_uri": "https://localhost:8080/"
    },
    "id": "G4ZYWP7NaLsl",
    "outputId": "ec652e6e-eed9-4b7b-8062-924209917a20"
   },
   "outputs": [],
   "source": [
    "#result_rf_uncertainty, result_rf_acc_uncertainty, result_rf_time_uncertainty, experiment_uncertainty = random_forest_score_repeat(n_initial,n_queries,uncertainty_sampling,repeats,seed)\n",
    "#print(experiment_uncertainty)\n"
   ]
  },
  {
   "cell_type": "code",
   "execution_count": 380,
   "metadata": {
    "colab": {
     "base_uri": "https://localhost:8080/"
    },
    "id": "LjwJ6wK5FmdN",
    "outputId": "99066fd3-a0ec-4f40-e295-33cf029a5a1b"
   },
   "outputs": [],
   "source": [
    "#result_rf_margin, result_rf_acc_margin, result_rf_time_margin, experiment_margin = random_forest_score_repeat(n_initial,n_queries,margin_sampling,repeats, seed)\n",
    "#print(experiment_margin)"
   ]
  },
  {
   "cell_type": "code",
   "execution_count": 381,
   "metadata": {
    "colab": {
     "base_uri": "https://localhost:8080/"
    },
    "id": "QH1TMhkNU6Kr",
    "outputId": "16d6e172-316d-48c2-c14a-21247e4042b2"
   },
   "outputs": [
    {
     "name": "stderr",
     "output_type": "stream",
     "text": [
      "\r",
      "  0%|          | 0/3 [00:00<?, ?it/s]"
     ]
    },
    {
     "name": "stdout",
     "output_type": "stream",
     "text": [
      "0\n",
      "[[0.58 0.42]\n",
      " [0.51 0.49]\n",
      " [0.45 0.55]\n",
      " ...\n",
      " [0.34 0.66]\n",
      " [0.35 0.65]\n",
      " [0.59 0.41]]\n",
      "Experiment(n_samples=2000, repeat=0, accuracy=0.6160365058670143, log_loss=0.657586439860576)\n",
      "[[0.55 0.45]\n",
      " [0.44 0.56]\n",
      " [0.56 0.44]\n",
      " ...\n",
      " [0.39 0.61]\n",
      " [0.43 0.57]\n",
      " [0.59 0.41]]\n",
      "Experiment(n_samples=2500, repeat=0, accuracy=0.6127770534550195, log_loss=0.6579890173146544)\n"
     ]
    },
    {
     "name": "stderr",
     "output_type": "stream",
     "text": [
      "\r",
      " 33%|███▎      | 1/3 [00:46<01:33, 46.52s/it]"
     ]
    },
    {
     "name": "stdout",
     "output_type": "stream",
     "text": [
      "[[0.52 0.48]\n",
      " [0.56 0.44]\n",
      " [0.39 0.61]\n",
      " ...\n",
      " [0.38 0.62]\n",
      " [0.43 0.57]\n",
      " [0.46 0.54]]\n",
      "Experiment(n_samples=3000, repeat=0, accuracy=0.6114732724902217, log_loss=0.6599784078446937)\n",
      "1\n"
     ]
    },
    {
     "name": "stderr",
     "output_type": "stream",
     "text": [
      " 33%|███▎      | 1/3 [00:54<01:49, 54.94s/it]\n"
     ]
    },
    {
     "ename": "KeyboardInterrupt",
     "evalue": "",
     "output_type": "error",
     "traceback": [
      "\u001b[0;31m---------------------------------------------------------------------------\u001b[0m",
      "\u001b[0;31mKeyboardInterrupt\u001b[0m                         Traceback (most recent call last)",
      "\u001b[0;32m<ipython-input-381-0e62680ad7d3>\u001b[0m in \u001b[0;36m<module>\u001b[0;34m\u001b[0m\n\u001b[0;32m----> 1\u001b[0;31m \u001b[0mresult_rf_entropy\u001b[0m\u001b[0;34m,\u001b[0m \u001b[0mresult_rf_acc_entropy\u001b[0m\u001b[0;34m,\u001b[0m \u001b[0mresult_rf_time_entropy\u001b[0m\u001b[0;34m,\u001b[0m \u001b[0mexperiment_entropy\u001b[0m \u001b[0;34m=\u001b[0m \u001b[0mrandom_forest_score_repeat\u001b[0m\u001b[0;34m(\u001b[0m\u001b[0mn_initial\u001b[0m\u001b[0;34m,\u001b[0m\u001b[0mn_queries\u001b[0m\u001b[0;34m,\u001b[0m\u001b[0mentropy_sampling\u001b[0m\u001b[0;34m,\u001b[0m\u001b[0mrepeats\u001b[0m\u001b[0;34m,\u001b[0m \u001b[0mseed\u001b[0m\u001b[0;34m)\u001b[0m\u001b[0;34m\u001b[0m\u001b[0;34m\u001b[0m\u001b[0m\n\u001b[0m\u001b[1;32m      2\u001b[0m \u001b[0mprint\u001b[0m\u001b[0;34m(\u001b[0m\u001b[0mexperiment_entropy\u001b[0m\u001b[0;34m)\u001b[0m\u001b[0;34m\u001b[0m\u001b[0;34m\u001b[0m\u001b[0m\n",
      "\u001b[0;32m<ipython-input-371-ea6ff8f562ef>\u001b[0m in \u001b[0;36mrandom_forest_score_repeat\u001b[0;34m(n_initial, n_queries, sampling_strategy, repeats, seed)\u001b[0m\n\u001b[1;32m     30\u001b[0m               \u001b[0mestimator\u001b[0m\u001b[0;34m=\u001b[0m\u001b[0mRandomForestClassifier\u001b[0m\u001b[0;34m(\u001b[0m\u001b[0;34m)\u001b[0m\u001b[0;34m,\u001b[0m\u001b[0;34m\u001b[0m\u001b[0;34m\u001b[0m\u001b[0m\n\u001b[1;32m     31\u001b[0m               \u001b[0mquery_strategy\u001b[0m\u001b[0;34m=\u001b[0m\u001b[0msampling_strategy\u001b[0m\u001b[0;34m,\u001b[0m\u001b[0;34m\u001b[0m\u001b[0;34m\u001b[0m\u001b[0m\n\u001b[0;32m---> 32\u001b[0;31m               \u001b[0mX_training\u001b[0m\u001b[0;34m=\u001b[0m\u001b[0mX_initial\u001b[0m\u001b[0;34m,\u001b[0m\u001b[0my_training\u001b[0m\u001b[0;34m=\u001b[0m\u001b[0my_initial\u001b[0m\u001b[0;34m\u001b[0m\u001b[0;34m\u001b[0m\u001b[0m\n\u001b[0m\u001b[1;32m     33\u001b[0m               )\n\u001b[1;32m     34\u001b[0m     \u001b[0macc\u001b[0m \u001b[0;34m=\u001b[0m \u001b[0mlearner\u001b[0m\u001b[0;34m.\u001b[0m\u001b[0mscore\u001b[0m\u001b[0;34m(\u001b[0m\u001b[0mX_test\u001b[0m\u001b[0;34m,\u001b[0m\u001b[0my_test\u001b[0m\u001b[0;34m)\u001b[0m\u001b[0;34m\u001b[0m\u001b[0;34m\u001b[0m\u001b[0m\n",
      "\u001b[0;32m~/prj/active-learning/.venv/lib/python3.7/site-packages/modAL/models/learners.py\u001b[0m in \u001b[0;36m__init__\u001b[0;34m(self, estimator, query_strategy, X_training, y_training, bootstrap_init, on_transformed, **fit_kwargs)\u001b[0m\n\u001b[1;32m     80\u001b[0m                  ) -> None:\n\u001b[1;32m     81\u001b[0m         super().__init__(estimator, query_strategy,\n\u001b[0;32m---> 82\u001b[0;31m                          X_training, y_training, bootstrap_init, on_transformed, **fit_kwargs)\n\u001b[0m\u001b[1;32m     83\u001b[0m \u001b[0;34m\u001b[0m\u001b[0m\n\u001b[1;32m     84\u001b[0m     \u001b[0;32mdef\u001b[0m \u001b[0mteach\u001b[0m\u001b[0;34m(\u001b[0m\u001b[0mself\u001b[0m\u001b[0;34m,\u001b[0m \u001b[0mX\u001b[0m\u001b[0;34m:\u001b[0m \u001b[0mmodALinput\u001b[0m\u001b[0;34m,\u001b[0m \u001b[0my\u001b[0m\u001b[0;34m:\u001b[0m \u001b[0mmodALinput\u001b[0m\u001b[0;34m,\u001b[0m \u001b[0mbootstrap\u001b[0m\u001b[0;34m:\u001b[0m \u001b[0mbool\u001b[0m \u001b[0;34m=\u001b[0m \u001b[0;32mFalse\u001b[0m\u001b[0;34m,\u001b[0m \u001b[0monly_new\u001b[0m\u001b[0;34m:\u001b[0m \u001b[0mbool\u001b[0m \u001b[0;34m=\u001b[0m \u001b[0;32mFalse\u001b[0m\u001b[0;34m,\u001b[0m \u001b[0;34m**\u001b[0m\u001b[0mfit_kwargs\u001b[0m\u001b[0;34m)\u001b[0m \u001b[0;34m->\u001b[0m \u001b[0;32mNone\u001b[0m\u001b[0;34m:\u001b[0m\u001b[0;34m\u001b[0m\u001b[0;34m\u001b[0m\u001b[0m\n",
      "\u001b[0;32m~/prj/active-learning/.venv/lib/python3.7/site-packages/modAL/models/base.py\u001b[0m in \u001b[0;36m__init__\u001b[0;34m(self, estimator, query_strategy, X_training, y_training, bootstrap_init, on_transformed, force_all_finite, **fit_kwargs)\u001b[0m\n\u001b[1;32m     69\u001b[0m         \u001b[0mself\u001b[0m\u001b[0;34m.\u001b[0m\u001b[0my_training\u001b[0m \u001b[0;34m=\u001b[0m \u001b[0my_training\u001b[0m\u001b[0;34m\u001b[0m\u001b[0;34m\u001b[0m\u001b[0m\n\u001b[1;32m     70\u001b[0m         \u001b[0;32mif\u001b[0m \u001b[0mX_training\u001b[0m \u001b[0;32mis\u001b[0m \u001b[0;32mnot\u001b[0m \u001b[0;32mNone\u001b[0m\u001b[0;34m:\u001b[0m\u001b[0;34m\u001b[0m\u001b[0;34m\u001b[0m\u001b[0m\n\u001b[0;32m---> 71\u001b[0;31m             \u001b[0mself\u001b[0m\u001b[0;34m.\u001b[0m\u001b[0m_fit_to_known\u001b[0m\u001b[0;34m(\u001b[0m\u001b[0mbootstrap\u001b[0m\u001b[0;34m=\u001b[0m\u001b[0mbootstrap_init\u001b[0m\u001b[0;34m,\u001b[0m \u001b[0;34m**\u001b[0m\u001b[0mfit_kwargs\u001b[0m\u001b[0;34m)\u001b[0m\u001b[0;34m\u001b[0m\u001b[0;34m\u001b[0m\u001b[0m\n\u001b[0m\u001b[1;32m     72\u001b[0m \u001b[0;34m\u001b[0m\u001b[0m\n\u001b[1;32m     73\u001b[0m         \u001b[0;32massert\u001b[0m \u001b[0misinstance\u001b[0m\u001b[0;34m(\u001b[0m\u001b[0mforce_all_finite\u001b[0m\u001b[0;34m,\u001b[0m \u001b[0mbool\u001b[0m\u001b[0;34m)\u001b[0m\u001b[0;34m,\u001b[0m \u001b[0;34m'force_all_finite must be a bool'\u001b[0m\u001b[0;34m\u001b[0m\u001b[0;34m\u001b[0m\u001b[0m\n",
      "\u001b[0;32m~/prj/active-learning/.venv/lib/python3.7/site-packages/modAL/models/base.py\u001b[0m in \u001b[0;36m_fit_to_known\u001b[0;34m(self, bootstrap, **fit_kwargs)\u001b[0m\n\u001b[1;32m    153\u001b[0m         \"\"\"\n\u001b[1;32m    154\u001b[0m         \u001b[0;32mif\u001b[0m \u001b[0;32mnot\u001b[0m \u001b[0mbootstrap\u001b[0m\u001b[0;34m:\u001b[0m\u001b[0;34m\u001b[0m\u001b[0;34m\u001b[0m\u001b[0m\n\u001b[0;32m--> 155\u001b[0;31m             \u001b[0mself\u001b[0m\u001b[0;34m.\u001b[0m\u001b[0mestimator\u001b[0m\u001b[0;34m.\u001b[0m\u001b[0mfit\u001b[0m\u001b[0;34m(\u001b[0m\u001b[0mself\u001b[0m\u001b[0;34m.\u001b[0m\u001b[0mX_training\u001b[0m\u001b[0;34m,\u001b[0m \u001b[0mself\u001b[0m\u001b[0;34m.\u001b[0m\u001b[0my_training\u001b[0m\u001b[0;34m,\u001b[0m \u001b[0;34m**\u001b[0m\u001b[0mfit_kwargs\u001b[0m\u001b[0;34m)\u001b[0m\u001b[0;34m\u001b[0m\u001b[0;34m\u001b[0m\u001b[0m\n\u001b[0m\u001b[1;32m    156\u001b[0m         \u001b[0;32melse\u001b[0m\u001b[0;34m:\u001b[0m\u001b[0;34m\u001b[0m\u001b[0;34m\u001b[0m\u001b[0m\n\u001b[1;32m    157\u001b[0m             \u001b[0mn_instances\u001b[0m \u001b[0;34m=\u001b[0m \u001b[0mself\u001b[0m\u001b[0;34m.\u001b[0m\u001b[0mX_training\u001b[0m\u001b[0;34m.\u001b[0m\u001b[0mshape\u001b[0m\u001b[0;34m[\u001b[0m\u001b[0;36m0\u001b[0m\u001b[0;34m]\u001b[0m\u001b[0;34m\u001b[0m\u001b[0;34m\u001b[0m\u001b[0m\n",
      "\u001b[0;32m~/prj/active-learning/.venv/lib/python3.7/site-packages/sklearn/ensemble/_forest.py\u001b[0m in \u001b[0;36mfit\u001b[0;34m(self, X, y, sample_weight)\u001b[0m\n\u001b[1;32m    391\u001b[0m                     \u001b[0mverbose\u001b[0m\u001b[0;34m=\u001b[0m\u001b[0mself\u001b[0m\u001b[0;34m.\u001b[0m\u001b[0mverbose\u001b[0m\u001b[0;34m,\u001b[0m \u001b[0mclass_weight\u001b[0m\u001b[0;34m=\u001b[0m\u001b[0mself\u001b[0m\u001b[0;34m.\u001b[0m\u001b[0mclass_weight\u001b[0m\u001b[0;34m,\u001b[0m\u001b[0;34m\u001b[0m\u001b[0;34m\u001b[0m\u001b[0m\n\u001b[1;32m    392\u001b[0m                     n_samples_bootstrap=n_samples_bootstrap)\n\u001b[0;32m--> 393\u001b[0;31m                 for i, t in enumerate(trees))\n\u001b[0m\u001b[1;32m    394\u001b[0m \u001b[0;34m\u001b[0m\u001b[0m\n\u001b[1;32m    395\u001b[0m             \u001b[0;31m# Collect newly grown trees\u001b[0m\u001b[0;34m\u001b[0m\u001b[0;34m\u001b[0m\u001b[0;34m\u001b[0m\u001b[0m\n",
      "\u001b[0;32m~/prj/active-learning/.venv/lib/python3.7/site-packages/joblib/parallel.py\u001b[0m in \u001b[0;36m__call__\u001b[0;34m(self, iterable)\u001b[0m\n\u001b[1;32m   1042\u001b[0m                 \u001b[0mself\u001b[0m\u001b[0;34m.\u001b[0m\u001b[0m_iterating\u001b[0m \u001b[0;34m=\u001b[0m \u001b[0mself\u001b[0m\u001b[0;34m.\u001b[0m\u001b[0m_original_iterator\u001b[0m \u001b[0;32mis\u001b[0m \u001b[0;32mnot\u001b[0m \u001b[0;32mNone\u001b[0m\u001b[0;34m\u001b[0m\u001b[0;34m\u001b[0m\u001b[0m\n\u001b[1;32m   1043\u001b[0m \u001b[0;34m\u001b[0m\u001b[0m\n\u001b[0;32m-> 1044\u001b[0;31m             \u001b[0;32mwhile\u001b[0m \u001b[0mself\u001b[0m\u001b[0;34m.\u001b[0m\u001b[0mdispatch_one_batch\u001b[0m\u001b[0;34m(\u001b[0m\u001b[0miterator\u001b[0m\u001b[0;34m)\u001b[0m\u001b[0;34m:\u001b[0m\u001b[0;34m\u001b[0m\u001b[0;34m\u001b[0m\u001b[0m\n\u001b[0m\u001b[1;32m   1045\u001b[0m                 \u001b[0;32mpass\u001b[0m\u001b[0;34m\u001b[0m\u001b[0;34m\u001b[0m\u001b[0m\n\u001b[1;32m   1046\u001b[0m \u001b[0;34m\u001b[0m\u001b[0m\n",
      "\u001b[0;32m~/prj/active-learning/.venv/lib/python3.7/site-packages/joblib/parallel.py\u001b[0m in \u001b[0;36mdispatch_one_batch\u001b[0;34m(self, iterator)\u001b[0m\n\u001b[1;32m    857\u001b[0m                 \u001b[0;32mreturn\u001b[0m \u001b[0;32mFalse\u001b[0m\u001b[0;34m\u001b[0m\u001b[0;34m\u001b[0m\u001b[0m\n\u001b[1;32m    858\u001b[0m             \u001b[0;32melse\u001b[0m\u001b[0;34m:\u001b[0m\u001b[0;34m\u001b[0m\u001b[0;34m\u001b[0m\u001b[0m\n\u001b[0;32m--> 859\u001b[0;31m                 \u001b[0mself\u001b[0m\u001b[0;34m.\u001b[0m\u001b[0m_dispatch\u001b[0m\u001b[0;34m(\u001b[0m\u001b[0mtasks\u001b[0m\u001b[0;34m)\u001b[0m\u001b[0;34m\u001b[0m\u001b[0;34m\u001b[0m\u001b[0m\n\u001b[0m\u001b[1;32m    860\u001b[0m                 \u001b[0;32mreturn\u001b[0m \u001b[0;32mTrue\u001b[0m\u001b[0;34m\u001b[0m\u001b[0;34m\u001b[0m\u001b[0m\n\u001b[1;32m    861\u001b[0m \u001b[0;34m\u001b[0m\u001b[0m\n",
      "\u001b[0;32m~/prj/active-learning/.venv/lib/python3.7/site-packages/joblib/parallel.py\u001b[0m in \u001b[0;36m_dispatch\u001b[0;34m(self, batch)\u001b[0m\n\u001b[1;32m    775\u001b[0m         \u001b[0;32mwith\u001b[0m \u001b[0mself\u001b[0m\u001b[0;34m.\u001b[0m\u001b[0m_lock\u001b[0m\u001b[0;34m:\u001b[0m\u001b[0;34m\u001b[0m\u001b[0;34m\u001b[0m\u001b[0m\n\u001b[1;32m    776\u001b[0m             \u001b[0mjob_idx\u001b[0m \u001b[0;34m=\u001b[0m \u001b[0mlen\u001b[0m\u001b[0;34m(\u001b[0m\u001b[0mself\u001b[0m\u001b[0;34m.\u001b[0m\u001b[0m_jobs\u001b[0m\u001b[0;34m)\u001b[0m\u001b[0;34m\u001b[0m\u001b[0;34m\u001b[0m\u001b[0m\n\u001b[0;32m--> 777\u001b[0;31m             \u001b[0mjob\u001b[0m \u001b[0;34m=\u001b[0m \u001b[0mself\u001b[0m\u001b[0;34m.\u001b[0m\u001b[0m_backend\u001b[0m\u001b[0;34m.\u001b[0m\u001b[0mapply_async\u001b[0m\u001b[0;34m(\u001b[0m\u001b[0mbatch\u001b[0m\u001b[0;34m,\u001b[0m \u001b[0mcallback\u001b[0m\u001b[0;34m=\u001b[0m\u001b[0mcb\u001b[0m\u001b[0;34m)\u001b[0m\u001b[0;34m\u001b[0m\u001b[0;34m\u001b[0m\u001b[0m\n\u001b[0m\u001b[1;32m    778\u001b[0m             \u001b[0;31m# A job can complete so quickly than its callback is\u001b[0m\u001b[0;34m\u001b[0m\u001b[0;34m\u001b[0m\u001b[0;34m\u001b[0m\u001b[0m\n\u001b[1;32m    779\u001b[0m             \u001b[0;31m# called before we get here, causing self._jobs to\u001b[0m\u001b[0;34m\u001b[0m\u001b[0;34m\u001b[0m\u001b[0;34m\u001b[0m\u001b[0m\n",
      "\u001b[0;32m~/prj/active-learning/.venv/lib/python3.7/site-packages/joblib/_parallel_backends.py\u001b[0m in \u001b[0;36mapply_async\u001b[0;34m(self, func, callback)\u001b[0m\n\u001b[1;32m    206\u001b[0m     \u001b[0;32mdef\u001b[0m \u001b[0mapply_async\u001b[0m\u001b[0;34m(\u001b[0m\u001b[0mself\u001b[0m\u001b[0;34m,\u001b[0m \u001b[0mfunc\u001b[0m\u001b[0;34m,\u001b[0m \u001b[0mcallback\u001b[0m\u001b[0;34m=\u001b[0m\u001b[0;32mNone\u001b[0m\u001b[0;34m)\u001b[0m\u001b[0;34m:\u001b[0m\u001b[0;34m\u001b[0m\u001b[0;34m\u001b[0m\u001b[0m\n\u001b[1;32m    207\u001b[0m         \u001b[0;34m\"\"\"Schedule a func to be run\"\"\"\u001b[0m\u001b[0;34m\u001b[0m\u001b[0;34m\u001b[0m\u001b[0m\n\u001b[0;32m--> 208\u001b[0;31m         \u001b[0mresult\u001b[0m \u001b[0;34m=\u001b[0m \u001b[0mImmediateResult\u001b[0m\u001b[0;34m(\u001b[0m\u001b[0mfunc\u001b[0m\u001b[0;34m)\u001b[0m\u001b[0;34m\u001b[0m\u001b[0;34m\u001b[0m\u001b[0m\n\u001b[0m\u001b[1;32m    209\u001b[0m         \u001b[0;32mif\u001b[0m \u001b[0mcallback\u001b[0m\u001b[0;34m:\u001b[0m\u001b[0;34m\u001b[0m\u001b[0;34m\u001b[0m\u001b[0m\n\u001b[1;32m    210\u001b[0m             \u001b[0mcallback\u001b[0m\u001b[0;34m(\u001b[0m\u001b[0mresult\u001b[0m\u001b[0;34m)\u001b[0m\u001b[0;34m\u001b[0m\u001b[0;34m\u001b[0m\u001b[0m\n",
      "\u001b[0;32m~/prj/active-learning/.venv/lib/python3.7/site-packages/joblib/_parallel_backends.py\u001b[0m in \u001b[0;36m__init__\u001b[0;34m(self, batch)\u001b[0m\n\u001b[1;32m    570\u001b[0m         \u001b[0;31m# Don't delay the application, to avoid keeping the input\u001b[0m\u001b[0;34m\u001b[0m\u001b[0;34m\u001b[0m\u001b[0;34m\u001b[0m\u001b[0m\n\u001b[1;32m    571\u001b[0m         \u001b[0;31m# arguments in memory\u001b[0m\u001b[0;34m\u001b[0m\u001b[0;34m\u001b[0m\u001b[0;34m\u001b[0m\u001b[0m\n\u001b[0;32m--> 572\u001b[0;31m         \u001b[0mself\u001b[0m\u001b[0;34m.\u001b[0m\u001b[0mresults\u001b[0m \u001b[0;34m=\u001b[0m \u001b[0mbatch\u001b[0m\u001b[0;34m(\u001b[0m\u001b[0;34m)\u001b[0m\u001b[0;34m\u001b[0m\u001b[0;34m\u001b[0m\u001b[0m\n\u001b[0m\u001b[1;32m    573\u001b[0m \u001b[0;34m\u001b[0m\u001b[0m\n\u001b[1;32m    574\u001b[0m     \u001b[0;32mdef\u001b[0m \u001b[0mget\u001b[0m\u001b[0;34m(\u001b[0m\u001b[0mself\u001b[0m\u001b[0;34m)\u001b[0m\u001b[0;34m:\u001b[0m\u001b[0;34m\u001b[0m\u001b[0;34m\u001b[0m\u001b[0m\n",
      "\u001b[0;32m~/prj/active-learning/.venv/lib/python3.7/site-packages/joblib/parallel.py\u001b[0m in \u001b[0;36m__call__\u001b[0;34m(self)\u001b[0m\n\u001b[1;32m    261\u001b[0m         \u001b[0;32mwith\u001b[0m \u001b[0mparallel_backend\u001b[0m\u001b[0;34m(\u001b[0m\u001b[0mself\u001b[0m\u001b[0;34m.\u001b[0m\u001b[0m_backend\u001b[0m\u001b[0;34m,\u001b[0m \u001b[0mn_jobs\u001b[0m\u001b[0;34m=\u001b[0m\u001b[0mself\u001b[0m\u001b[0;34m.\u001b[0m\u001b[0m_n_jobs\u001b[0m\u001b[0;34m)\u001b[0m\u001b[0;34m:\u001b[0m\u001b[0;34m\u001b[0m\u001b[0;34m\u001b[0m\u001b[0m\n\u001b[1;32m    262\u001b[0m             return [func(*args, **kwargs)\n\u001b[0;32m--> 263\u001b[0;31m                     for func, args, kwargs in self.items]\n\u001b[0m\u001b[1;32m    264\u001b[0m \u001b[0;34m\u001b[0m\u001b[0m\n\u001b[1;32m    265\u001b[0m     \u001b[0;32mdef\u001b[0m \u001b[0m__reduce__\u001b[0m\u001b[0;34m(\u001b[0m\u001b[0mself\u001b[0m\u001b[0;34m)\u001b[0m\u001b[0;34m:\u001b[0m\u001b[0;34m\u001b[0m\u001b[0;34m\u001b[0m\u001b[0m\n",
      "\u001b[0;32m~/prj/active-learning/.venv/lib/python3.7/site-packages/joblib/parallel.py\u001b[0m in \u001b[0;36m<listcomp>\u001b[0;34m(.0)\u001b[0m\n\u001b[1;32m    261\u001b[0m         \u001b[0;32mwith\u001b[0m \u001b[0mparallel_backend\u001b[0m\u001b[0;34m(\u001b[0m\u001b[0mself\u001b[0m\u001b[0;34m.\u001b[0m\u001b[0m_backend\u001b[0m\u001b[0;34m,\u001b[0m \u001b[0mn_jobs\u001b[0m\u001b[0;34m=\u001b[0m\u001b[0mself\u001b[0m\u001b[0;34m.\u001b[0m\u001b[0m_n_jobs\u001b[0m\u001b[0;34m)\u001b[0m\u001b[0;34m:\u001b[0m\u001b[0;34m\u001b[0m\u001b[0;34m\u001b[0m\u001b[0m\n\u001b[1;32m    262\u001b[0m             return [func(*args, **kwargs)\n\u001b[0;32m--> 263\u001b[0;31m                     for func, args, kwargs in self.items]\n\u001b[0m\u001b[1;32m    264\u001b[0m \u001b[0;34m\u001b[0m\u001b[0m\n\u001b[1;32m    265\u001b[0m     \u001b[0;32mdef\u001b[0m \u001b[0m__reduce__\u001b[0m\u001b[0;34m(\u001b[0m\u001b[0mself\u001b[0m\u001b[0;34m)\u001b[0m\u001b[0;34m:\u001b[0m\u001b[0;34m\u001b[0m\u001b[0;34m\u001b[0m\u001b[0m\n",
      "\u001b[0;32m~/prj/active-learning/.venv/lib/python3.7/site-packages/sklearn/utils/fixes.py\u001b[0m in \u001b[0;36m__call__\u001b[0;34m(self, *args, **kwargs)\u001b[0m\n\u001b[1;32m    220\u001b[0m     \u001b[0;32mdef\u001b[0m \u001b[0m__call__\u001b[0m\u001b[0;34m(\u001b[0m\u001b[0mself\u001b[0m\u001b[0;34m,\u001b[0m \u001b[0;34m*\u001b[0m\u001b[0margs\u001b[0m\u001b[0;34m,\u001b[0m \u001b[0;34m**\u001b[0m\u001b[0mkwargs\u001b[0m\u001b[0;34m)\u001b[0m\u001b[0;34m:\u001b[0m\u001b[0;34m\u001b[0m\u001b[0;34m\u001b[0m\u001b[0m\n\u001b[1;32m    221\u001b[0m         \u001b[0;32mwith\u001b[0m \u001b[0mconfig_context\u001b[0m\u001b[0;34m(\u001b[0m\u001b[0;34m**\u001b[0m\u001b[0mself\u001b[0m\u001b[0;34m.\u001b[0m\u001b[0mconfig\u001b[0m\u001b[0;34m)\u001b[0m\u001b[0;34m:\u001b[0m\u001b[0;34m\u001b[0m\u001b[0;34m\u001b[0m\u001b[0m\n\u001b[0;32m--> 222\u001b[0;31m             \u001b[0;32mreturn\u001b[0m \u001b[0mself\u001b[0m\u001b[0;34m.\u001b[0m\u001b[0mfunction\u001b[0m\u001b[0;34m(\u001b[0m\u001b[0;34m*\u001b[0m\u001b[0margs\u001b[0m\u001b[0;34m,\u001b[0m \u001b[0;34m**\u001b[0m\u001b[0mkwargs\u001b[0m\u001b[0;34m)\u001b[0m\u001b[0;34m\u001b[0m\u001b[0;34m\u001b[0m\u001b[0m\n\u001b[0m",
      "\u001b[0;32m~/prj/active-learning/.venv/lib/python3.7/site-packages/sklearn/ensemble/_forest.py\u001b[0m in \u001b[0;36m_parallel_build_trees\u001b[0;34m(tree, forest, X, y, sample_weight, tree_idx, n_trees, verbose, class_weight, n_samples_bootstrap)\u001b[0m\n\u001b[1;32m    167\u001b[0m                                                         indices=indices)\n\u001b[1;32m    168\u001b[0m \u001b[0;34m\u001b[0m\u001b[0m\n\u001b[0;32m--> 169\u001b[0;31m         \u001b[0mtree\u001b[0m\u001b[0;34m.\u001b[0m\u001b[0mfit\u001b[0m\u001b[0;34m(\u001b[0m\u001b[0mX\u001b[0m\u001b[0;34m,\u001b[0m \u001b[0my\u001b[0m\u001b[0;34m,\u001b[0m \u001b[0msample_weight\u001b[0m\u001b[0;34m=\u001b[0m\u001b[0mcurr_sample_weight\u001b[0m\u001b[0;34m,\u001b[0m \u001b[0mcheck_input\u001b[0m\u001b[0;34m=\u001b[0m\u001b[0;32mFalse\u001b[0m\u001b[0;34m)\u001b[0m\u001b[0;34m\u001b[0m\u001b[0;34m\u001b[0m\u001b[0m\n\u001b[0m\u001b[1;32m    170\u001b[0m     \u001b[0;32melse\u001b[0m\u001b[0;34m:\u001b[0m\u001b[0;34m\u001b[0m\u001b[0;34m\u001b[0m\u001b[0m\n\u001b[1;32m    171\u001b[0m         \u001b[0mtree\u001b[0m\u001b[0;34m.\u001b[0m\u001b[0mfit\u001b[0m\u001b[0;34m(\u001b[0m\u001b[0mX\u001b[0m\u001b[0;34m,\u001b[0m \u001b[0my\u001b[0m\u001b[0;34m,\u001b[0m \u001b[0msample_weight\u001b[0m\u001b[0;34m=\u001b[0m\u001b[0msample_weight\u001b[0m\u001b[0;34m,\u001b[0m \u001b[0mcheck_input\u001b[0m\u001b[0;34m=\u001b[0m\u001b[0;32mFalse\u001b[0m\u001b[0;34m)\u001b[0m\u001b[0;34m\u001b[0m\u001b[0;34m\u001b[0m\u001b[0m\n",
      "\u001b[0;32m~/prj/active-learning/.venv/lib/python3.7/site-packages/sklearn/tree/_classes.py\u001b[0m in \u001b[0;36mfit\u001b[0;34m(self, X, y, sample_weight, check_input, X_idx_sorted)\u001b[0m\n\u001b[1;32m    905\u001b[0m             \u001b[0msample_weight\u001b[0m\u001b[0;34m=\u001b[0m\u001b[0msample_weight\u001b[0m\u001b[0;34m,\u001b[0m\u001b[0;34m\u001b[0m\u001b[0;34m\u001b[0m\u001b[0m\n\u001b[1;32m    906\u001b[0m             \u001b[0mcheck_input\u001b[0m\u001b[0;34m=\u001b[0m\u001b[0mcheck_input\u001b[0m\u001b[0;34m,\u001b[0m\u001b[0;34m\u001b[0m\u001b[0;34m\u001b[0m\u001b[0m\n\u001b[0;32m--> 907\u001b[0;31m             X_idx_sorted=X_idx_sorted)\n\u001b[0m\u001b[1;32m    908\u001b[0m         \u001b[0;32mreturn\u001b[0m \u001b[0mself\u001b[0m\u001b[0;34m\u001b[0m\u001b[0;34m\u001b[0m\u001b[0m\n\u001b[1;32m    909\u001b[0m \u001b[0;34m\u001b[0m\u001b[0m\n",
      "\u001b[0;32m~/prj/active-learning/.venv/lib/python3.7/site-packages/sklearn/tree/_classes.py\u001b[0m in \u001b[0;36mfit\u001b[0;34m(self, X, y, sample_weight, check_input, X_idx_sorted)\u001b[0m\n\u001b[1;32m    392\u001b[0m                                            min_impurity_split)\n\u001b[1;32m    393\u001b[0m \u001b[0;34m\u001b[0m\u001b[0m\n\u001b[0;32m--> 394\u001b[0;31m         \u001b[0mbuilder\u001b[0m\u001b[0;34m.\u001b[0m\u001b[0mbuild\u001b[0m\u001b[0;34m(\u001b[0m\u001b[0mself\u001b[0m\u001b[0;34m.\u001b[0m\u001b[0mtree_\u001b[0m\u001b[0;34m,\u001b[0m \u001b[0mX\u001b[0m\u001b[0;34m,\u001b[0m \u001b[0my\u001b[0m\u001b[0;34m,\u001b[0m \u001b[0msample_weight\u001b[0m\u001b[0;34m)\u001b[0m\u001b[0;34m\u001b[0m\u001b[0;34m\u001b[0m\u001b[0m\n\u001b[0m\u001b[1;32m    395\u001b[0m \u001b[0;34m\u001b[0m\u001b[0m\n\u001b[1;32m    396\u001b[0m         \u001b[0;32mif\u001b[0m \u001b[0mself\u001b[0m\u001b[0;34m.\u001b[0m\u001b[0mn_outputs_\u001b[0m \u001b[0;34m==\u001b[0m \u001b[0;36m1\u001b[0m \u001b[0;32mand\u001b[0m \u001b[0mis_classifier\u001b[0m\u001b[0;34m(\u001b[0m\u001b[0mself\u001b[0m\u001b[0;34m)\u001b[0m\u001b[0;34m:\u001b[0m\u001b[0;34m\u001b[0m\u001b[0;34m\u001b[0m\u001b[0m\n",
      "\u001b[0;31mKeyboardInterrupt\u001b[0m: "
     ]
    }
   ],
   "source": [
    "result_rf_entropy, result_rf_acc_entropy, result_rf_time_entropy, experiment_entropy = random_forest_score_repeat(n_initial,n_queries,entropy_sampling,repeats, seed)\n",
    "print(experiment_entropy)"
   ]
  },
  {
   "cell_type": "code",
   "execution_count": null,
   "metadata": {
    "colab": {
     "base_uri": "https://localhost:8080/"
    },
    "id": "sBsoTn90xcf0",
    "outputId": "0d34017c-7008-4826-aae1-835b99afe926"
   },
   "outputs": [],
   "source": [
    "#n_initial = range(30,300,30)\n",
    "#seed_random = 20 # random seed\n",
    "#repeat_random = 3 # number of repeat for each n_initial\n",
    "#experiment_random, res_random, time_random = learning_curve(n_initial, repeat_random, random_sampling_policy,seed_random)\n",
    "result_rf_random, result_rf_acc_random, result_rf_time_random, experiment_random = random_forest_score_repeat(n_initial,n_queries,random_sampling,repeats, seed)"
   ]
  },
  {
   "cell_type": "code",
   "execution_count": null,
   "metadata": {
    "colab": {
     "base_uri": "https://localhost:8080/"
    },
    "id": "tW84Jq8RJ_99",
    "outputId": "a7c656fd-dc89-4195-fb0b-1635453b747d"
   },
   "outputs": [],
   "source": [
    "# show accuracy and log loss for each n_sample and repeat\n",
    "\n",
    "#print(experiment_uncertainty)\n",
    "#print(experiment_margin)\n",
    "print(experiment_entropy)\n",
    "print(experiment_random)"
   ]
  },
  {
   "cell_type": "code",
   "execution_count": null,
   "metadata": {
    "colab": {
     "base_uri": "https://localhost:8080/",
     "height": 292
    },
    "id": "jMDIu-PGuLrL",
    "outputId": "198c741f-a187-4804-e70f-d1fd4c429757"
   },
   "outputs": [],
   "source": [
    "# show accuracy plot\n",
    "\n",
    "def plot_learning_curve(df, name):\n",
    "    # Compute percentiles\n",
    "    p10 = df.groupby('n_samples').quantile(.10)['accuracy']\n",
    "    p50 = df.groupby('n_samples').median()['accuracy']\n",
    "    p90 = df.groupby('n_samples').quantile(.90)['accuracy']\n",
    "    training_sizes= p50.index.to_numpy()\n",
    "\n",
    "    with plt.style.context('seaborn-white'):\n",
    "        plt.title('Active Learning vs Random Sampling Crisis MMD')\n",
    "        plt.plot(training_sizes, p50, label=name )\n",
    "\n",
    "        # show standard deviation\n",
    "        plt.fill_between(training_sizes, p10, p90,alpha=0.1)\n",
    "    plt.legend(loc='lower right')\n",
    "    plt.xlabel(\"Number of sample\")\n",
    "    plt.ylabel(\"Accuracy\")\n",
    "    plt.grid()\n",
    "    #plt.show()\n",
    "\n",
    "#df_us = pd.DataFrame([dataclasses.asdict(e) for e in experiment_uncertainty])\n",
    "#df_ms = pd.DataFrame([dataclasses.asdict(e) for e in experiment_margin])\n",
    "df_es = pd.DataFrame([dataclasses.asdict(e) for e in experiment_entropy])\n",
    "df_rs = pd.DataFrame([dataclasses.asdict(e) for e in experiment_random])\n",
    "#plot_learning_curve(df_us, \"Uncertainty\")\n",
    "#plot_learning_curve(df_ms, \"Margin\")\n",
    "plot_learning_curve(df_es, \"Entropy\")\n",
    "plot_learning_curve(df_rs, \"Random\")"
   ]
  },
  {
   "cell_type": "code",
   "execution_count": null,
   "metadata": {
    "colab": {
     "base_uri": "https://localhost:8080/",
     "height": 292
    },
    "id": "Hc9BxrwbkGIh",
    "outputId": "412aa348-9eea-4020-9a9a-9d2651006603"
   },
   "outputs": [],
   "source": [
    "# show log loss plot\n",
    "\n",
    "def plot_learning_curve(df, name):\n",
    "    # Compute percentiles\n",
    "    p10 = df.groupby('n_samples').quantile(.10)['log_loss']\n",
    "    p50 = df.groupby('n_samples').median()['log_loss']\n",
    "    p90 = df.groupby('n_samples').quantile(.90)['log_loss']\n",
    "    training_sizes= p50.index.to_numpy()\n",
    "\n",
    "    with plt.style.context('seaborn-white'):\n",
    "        plt.title('Active Learning vs Random Sampling Crisis MMD')\n",
    "        plt.plot(training_sizes, p50, label=name )\n",
    "\n",
    "        # show standard deviation\n",
    "        plt.fill_between(training_sizes, p10, p90,alpha=0.1)\n",
    "    plt.legend(loc='upper right')\n",
    "    plt.xlabel(\"Number of sample\")\n",
    "    plt.ylabel(\"Log Loss\")\n",
    "    plt.grid()\n",
    "    #plt.show()\n",
    "\n",
    "#df_us = pd.DataFrame([dataclasses.asdict(e) for e in experiment_uncertainty])\n",
    "#df_ms = pd.DataFrame([dataclasses.asdict(e) for e in experiment_margin])\n",
    "df_es = pd.DataFrame([dataclasses.asdict(e) for e in experiment_entropy])\n",
    "df_rs = pd.DataFrame([dataclasses.asdict(e) for e in experiment_random])\n",
    "#plot_learning_curve(df_us, \"Uncertainty\")\n",
    "#plot_learning_curve(df_ms, \"Margin\")\n",
    "plot_learning_curve(df_es, \"Entropy\")\n",
    "plot_learning_curve(df_rs, \"Random\")"
   ]
  },
  {
   "cell_type": "code",
   "execution_count": 326,
   "metadata": {
    "colab": {
     "base_uri": "https://localhost:8080/"
    },
    "id": "NE5_gT1Mi07y",
    "outputId": "45ec6aab-b311-4202-a289-83207608d6aa"
   },
   "outputs": [
    {
     "name": "stdout",
     "output_type": "stream",
     "text": [
      "              precision    recall  f1-score   support\n",
      "\n",
      "           0       0.55      0.61      0.58       782\n",
      "           1       0.54      0.48      0.51       752\n",
      "\n",
      "    accuracy                           0.54      1534\n",
      "   macro avg       0.54      0.54      0.54      1534\n",
      "weighted avg       0.54      0.54      0.54      1534\n",
      "\n",
      "              precision    recall  f1-score   support\n",
      "\n",
      "           0       0.55      0.61      0.58       782\n",
      "           1       0.54      0.48      0.51       752\n",
      "\n",
      "    accuracy                           0.54      1534\n",
      "   macro avg       0.54      0.54      0.54      1534\n",
      "weighted avg       0.54      0.54      0.54      1534\n",
      "\n",
      "              precision    recall  f1-score   support\n",
      "\n",
      "           0       0.54      0.56      0.55       801\n",
      "           1       0.49      0.47      0.48       733\n",
      "\n",
      "    accuracy                           0.52      1534\n",
      "   macro avg       0.52      0.52      0.52      1534\n",
      "weighted avg       0.52      0.52      0.52      1534\n",
      "\n",
      "9.222998142242432\n",
      "11.287326097488403\n",
      "119.55814170837402\n"
     ]
    }
   ],
   "source": [
    "# show precision, recall, f-1 score for final n_sample active learning\n",
    "\n",
    "print(result_rf_uncertainty)\n",
    "print(result_rf_margin)\n",
    "print(result_rf_entropy)\n",
    "\n",
    "print(result_rf_time_uncertainty)\n",
    "print(result_rf_time_margin)\n",
    "print(result_rf_time_entropy)"
   ]
  },
  {
   "cell_type": "code",
   "execution_count": 283,
   "metadata": {
    "colab": {
     "base_uri": "https://localhost:8080/"
    },
    "id": "nntoUrRykfN9",
    "outputId": "17bb76c9-0562-4edc-e1a1-eaeebc35c5c0"
   },
   "outputs": [
    {
     "name": "stdout",
     "output_type": "stream",
     "text": [
      "              precision    recall  f1-score   support\n",
      "\n",
      "           0       0.98      1.00      0.99        51\n",
      "           1       0.82      0.98      0.89        42\n",
      "           2       1.00      0.80      0.89        41\n",
      "           3       0.83      0.97      0.90        40\n",
      "           4       0.98      0.94      0.96        52\n",
      "           5       1.00      0.79      0.88        48\n",
      "           6       0.98      0.98      0.98        48\n",
      "           7       0.89      1.00      0.94        41\n",
      "           8       0.88      0.82      0.85        45\n",
      "           9       0.77      0.81      0.79        42\n",
      "\n",
      "    accuracy                           0.91       450\n",
      "   macro avg       0.91      0.91      0.91       450\n",
      "weighted avg       0.92      0.91      0.91       450\n",
      "\n",
      "3.190356731414795\n"
     ]
    }
   ],
   "source": [
    "# show precision, recall, f-1 score for final n_sample random sampling\n",
    "\n",
    "print(res_random)\n",
    "print(time_random)"
   ]
  },
  {
   "cell_type": "code",
   "execution_count": null,
   "metadata": {},
   "outputs": [],
   "source": []
  }
 ],
 "metadata": {
  "colab": {
   "authorship_tag": "ABX9TyOfG8qhR5JGpZ2KGsTznl3R",
   "collapsed_sections": [],
   "include_colab_link": true,
   "machine_shape": "hm",
   "name": "AL_with_CrisisMMD.ipynb",
   "provenance": []
  },
  "kernelspec": {
   "display_name": "Python 3",
   "language": "python",
   "name": "python3"
  },
  "language_info": {
   "codemirror_mode": {
    "name": "ipython",
    "version": 3
   },
   "file_extension": ".py",
   "mimetype": "text/x-python",
   "name": "python",
   "nbconvert_exporter": "python",
   "pygments_lexer": "ipython3",
   "version": "3.7.4"
  }
 },
 "nbformat": 4,
 "nbformat_minor": 1
}
