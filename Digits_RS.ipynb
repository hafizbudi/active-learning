{
  "nbformat": 4,
  "nbformat_minor": 0,
  "metadata": {
    "colab": {
      "name": "Digits_RS.ipynb",
      "provenance": [],
      "collapsed_sections": [],
      "authorship_tag": "ABX9TyME3O/1OVnroiB33lEE484O",
      "include_colab_link": true
    },
    "kernelspec": {
      "name": "python3",
      "display_name": "Python 3"
    },
    "language_info": {
      "name": "python"
    }
  },
  "cells": [
    {
      "cell_type": "markdown",
      "metadata": {
        "id": "view-in-github",
        "colab_type": "text"
      },
      "source": [
        "<a href=\"https://colab.research.google.com/github/hafizbudi/active-learning/blob/main/Digits_RS.ipynb\" target=\"_parent\"><img src=\"https://colab.research.google.com/assets/colab-badge.svg\" alt=\"Open In Colab\"/></a>"
      ]
    },
    {
      "cell_type": "markdown",
      "metadata": {
        "id": "mN4dzlYaDzFR"
      },
      "source": [
        "## **Digits with random sampling**"
      ]
    },
    {
      "cell_type": "markdown",
      "metadata": {
        "id": "W0RrpqbbD3dq"
      },
      "source": [
        "## **Connect to google drive**"
      ]
    },
    {
      "cell_type": "code",
      "metadata": {
        "id": "DuvgfCpIDvt2"
      },
      "source": [
        "from google.colab import drive\n",
        "drive.mount('/content/gdrive')"
      ],
      "execution_count": null,
      "outputs": []
    },
    {
      "cell_type": "code",
      "metadata": {
        "id": "eJwlOMRiEH1p"
      },
      "source": [
        "%cd gdrive/My Drive/Project/active_learning"
      ],
      "execution_count": null,
      "outputs": []
    },
    {
      "cell_type": "markdown",
      "metadata": {
        "id": "RZ2NcwtkKeda"
      },
      "source": [
        "## **Load library and digits data**"
      ]
    },
    {
      "cell_type": "code",
      "metadata": {
        "id": "FsK42GhpKZ4t"
      },
      "source": [
        "import matplotlib.pyplot as plt\n",
        "import pandas as pd\n",
        "\n",
        "from sklearn.datasets import load_digits\n",
        "from sklearn import datasets, metrics\n",
        "from sklearn.model_selection import train_test_split\n",
        "from sklearn.ensemble import RandomForestClassifier\n"
      ],
      "execution_count": 58,
      "outputs": []
    },
    {
      "cell_type": "markdown",
      "metadata": {
        "id": "eO_DbX1dKz90"
      },
      "source": [
        "## **Load, Train and Split data**"
      ]
    },
    {
      "cell_type": "code",
      "metadata": {
        "id": "eMQDoy1YK6Gv"
      },
      "source": [
        "digits = load_digits()"
      ],
      "execution_count": 59,
      "outputs": []
    },
    {
      "cell_type": "code",
      "metadata": {
        "id": "SJNrO4E6Pn8n"
      },
      "source": [
        "n_samples = len(digits.images)\n",
        "n_data = 1797\n",
        "\n",
        "data = digits.images.reshape((n_samples, -1))\n",
        "clf = RandomForestClassifier()\n",
        "\n",
        "X_train, X_test, y_train, y_test = train_test_split(\n",
        "    data[:n_data], digits.target[:n_data], test_size=0.25, shuffle=False)\n",
        "\n",
        "clf.fit(X_train, y_train)\n",
        "predicted = clf.predict(X_test)"
      ],
      "execution_count": 51,
      "outputs": []
    },
    {
      "cell_type": "markdown",
      "metadata": {
        "id": "QQU1DFUJao-i"
      },
      "source": [
        "## **Performance metrics**"
      ]
    },
    {
      "cell_type": "code",
      "metadata": {
        "id": "S56XKbHTS6u8"
      },
      "source": [
        "print(f\"Classification report {clf}:\\n\"\n",
        "      f\"{metrics.classification_report(y_test, predicted)}\\n\")"
      ],
      "execution_count": null,
      "outputs": []
    }
  ]
}