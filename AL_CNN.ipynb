{
 "cells": [
  {
   "cell_type": "code",
   "execution_count": 1,
   "id": "8207364e-29b5-419e-91c0-9167f9ae1ff8",
   "metadata": {},
   "outputs": [],
   "source": [
    "import keras\n",
    "from keras.models import Sequential\n",
    "from keras.layers import Dense, Dropout, Flatten, Conv2D, MaxPooling2D\n",
    "from keras.wrappers.scikit_learn import KerasClassifier\n",
    "\n",
    "from modAL.models import ActiveLearner\n",
    "\n",
    "import numpy as np\n",
    "from keras.datasets import mnist\n",
    "from sklearn.datasets import load_digits\n",
    "from keras import backend as K\n",
    "from keras.optimizers import Adam\n",
    "from sklearn.model_selection import train_test_split\n",
    "import tensorflow as tf"
   ]
  },
  {
   "cell_type": "code",
   "execution_count": 2,
   "id": "b657def4-d22c-4ba4-8c42-e96495a2771d",
   "metadata": {},
   "outputs": [],
   "source": [
    "# load the file\n",
    "def load_data(filename, nb_instance, all_instance):\n",
    "  n = all_instance #number of records in file\n",
    "  s = nb_instance #sample size\n",
    "  skip = sorted(random.sample(range(1,n+1),n-s))\n",
    "\n",
    "  #df = pd.read_csv(filename,sep=\"\\t\",nrows=nb_instance)\n",
    "  df = pd.read_csv(filename,sep=\"\\t\",skiprows=skip)\n",
    "\n",
    "  df.label_image = pd.Categorical(df.label_image)\n",
    "  df['label_image_code'] = df.label_image.cat.codes\n",
    "\n",
    "  df[['image','label_image','label_image_code']]\n",
    "\n",
    "  df.describe()\n",
    "  return df\n",
    "\n",
    "# read, resize and flatten into 1-dimension array\n",
    "def pre_process_image(data):\n",
    "  img_arr = []\n",
    "  for index,row in data.iterrows():\n",
    "    read_img = cv2.imread(row['image'],1)\n",
    "    img_resize = cv2.resize(read_img,(224,224))\n",
    "    #img_ravel = img_resize.ravel()\n",
    "    img_arr.append(img_resize)\n",
    "\n",
    "  img_np = np.array(img_arr)\n",
    "\n",
    "  return img_np"
   ]
  },
  {
   "cell_type": "code",
   "execution_count": null,
   "id": "05f1a7e2-0cdb-43c0-9ecb-1a84d106d6ee",
   "metadata": {},
   "outputs": [],
   "source": [
    "# Load CrisisMMD dataset\n",
    "\n",
    "start_time = time.time()\n",
    "\n",
    "#train_instance = 9601\n",
    "#test_instance = 1534\n",
    "\n",
    "all_train_instance = 9601\n",
    "all_test_instance = 1534\n",
    "\n",
    "# Use 10 % amount of data for initial phase\n",
    "train_instance = 9601\n",
    "test_instance = 1534\n",
    "\n",
    "train_filename = \"CrisisMMD/data/task_data/task_informative_text_img_agreed_lab_train.tsv\"\n",
    "test_filename = \"CrisisMMD/data/task_data/task_informative_text_img_agreed_lab_test.tsv\"\n",
    "\n",
    "data_train = load_data(train_filename,train_instance, all_train_instance)\n",
    "data_images_train = pre_process_image(data_train)\n",
    "\n",
    "data_test = load_data(test_filename,test_instance, all_test_instance)\n",
    "data_image_test = pre_process_image(data_test)\n",
    "\n",
    "#X_train = data_images_train.reshape(train_instance,-1)\n",
    "X_train = data_images_train\n",
    "y_train = data_train['label_image_code'].values\n",
    "\n",
    "#X_test = data_image_test.reshape(test_instance,-1)\n",
    "X_test = data_image_test\n",
    "y_test = data_test['label_image_code'].values\n",
    "\n",
    "final_time = time.time() - start_time"
   ]
  },
  {
   "cell_type": "code",
   "execution_count": 2,
   "id": "ecbe720d-1525-4502-a603-923c1592c9a5",
   "metadata": {},
   "outputs": [],
   "source": [
    "# build function for the Keras' scikit-learn API\n",
    "\n",
    "def create_keras_model():\n",
    "    \"\"\"\n",
    "    This function compiles and returns a Keras model.\n",
    "    Should be passed to KerasClassifier in the Keras scikit-learn API.\n",
    "    \"\"\"\n",
    "\n",
    "    model = Sequential()\n",
    "    model.add(Conv2D(32, kernel_size=(3, 3), activation='relu', input_shape=(8, 8, 1)))\n",
    "    model.add(Conv2D(64, (3, 3), activation='relu'))\n",
    "    model.add(MaxPooling2D(pool_size=(2, 2)))\n",
    "    model.add(Dropout(0.25))\n",
    "    model.add(Flatten())\n",
    "    model.add(Dense(128, activation='relu'))\n",
    "    model.add(Dropout(0.5))\n",
    "    model.add(Dense(10, activation='softmax'))\n",
    "    \n",
    "    opt = Adam(learning_rate=0.000001)\n",
    "    model.compile(loss='categorical_crossentropy', optimizer=opt, metrics=['accuracy'])\n",
    "\n",
    "    return model\n"
   ]
  },
  {
   "cell_type": "code",
   "execution_count": 23,
   "id": "81b8f999-17d1-48c3-9330-efe9d89f13e5",
   "metadata": {},
   "outputs": [],
   "source": [
    "# create the classifier\n",
    "classifier = KerasClassifier(create_keras_model)"
   ]
  },
  {
   "cell_type": "code",
   "execution_count": 22,
   "id": "63c332ef-ad76-45f6-acbc-e1b6ae8b8a66",
   "metadata": {},
   "outputs": [],
   "source": [
    "K.clear_session()"
   ]
  },
  {
   "cell_type": "code",
   "execution_count": 24,
   "id": "e6374d59-34b4-4908-8995-2a4eb55c2bbd",
   "metadata": {},
   "outputs": [],
   "source": [
    "# read training data\n",
    "# (X_train, y_train), (X_test, y_test) = mnist.load_data()\n",
    "# X_train = X_train.reshape(60000, 28, 28, 1).astype('float32') / 255\n",
    "# X_test = X_test.reshape(10000, 28, 28, 1).astype('float32') / 255\n",
    "\n",
    "digits = load_digits()\n",
    "n_samples = len(digits.images)\n",
    "\n",
    "X = digits.images.reshape(n_samples,-1)\n",
    "y = digits.target\n",
    "\n",
    "X_train, X_test, y_train, y_test = train_test_split(X,y, test_size=0.25,shuffle=True)\n",
    "\n",
    "X_train = X_train.reshape(1347, 8, 8, 1)\n",
    "X_test = X_test.reshape(450, 8, 8, 1)\n",
    "y_train = keras.utils.to_categorical(y_train, 10)\n",
    "y_test = keras.utils.to_categorical(y_test, 10)\n",
    "\n",
    "\n",
    "\n",
    "# assemble initial data\n",
    "n_initial = 500\n",
    "initial_idx = np.random.choice(range(len(X_train)), size=n_initial, replace=False)\n",
    "\n",
    "\n",
    "X_initial = X_train[initial_idx]\n",
    "y_initial = y_train[initial_idx]\n",
    "\n",
    "# generate the pool\n",
    "# remove the initial data from the training dataset\n",
    "X_pool = np.delete(X_train, initial_idx, axis=0)\n",
    "y_pool = np.delete(y_train, initial_idx, axis=0)"
   ]
  },
  {
   "cell_type": "code",
   "execution_count": 25,
   "id": "6e6e3ba3-bd86-4861-84bf-d53175836b64",
   "metadata": {
    "tags": []
   },
   "outputs": [],
   "source": [
    "# initialize ActiveLearner\n",
    "learner = ActiveLearner(\n",
    "    estimator=classifier,\n",
    "    X_training=X_initial, y_training=y_initial,\n",
    "    verbose=0\n",
    ")"
   ]
  },
  {
   "cell_type": "code",
   "execution_count": 26,
   "id": "a668efa5-5aeb-48d8-98bf-5f37b5c2f8b3",
   "metadata": {},
   "outputs": [
    {
     "name": "stdout",
     "output_type": "stream",
     "text": [
      "Query no. 1\n",
      "Accuracy after query 1: 0.0956\n",
      "Query no. 2\n",
      "Accuracy after query 2: 0.0489\n",
      "Query no. 3\n",
      "Accuracy after query 3: 0.1556\n",
      "Query no. 4\n",
      "Accuracy after query 4: 0.1267\n",
      "Query no. 5\n",
      "Accuracy after query 5: 0.1022\n",
      "Query no. 6\n",
      "Accuracy after query 6: 0.1311\n",
      "Query no. 7\n",
      "Accuracy after query 7: 0.0467\n",
      "Query no. 8\n",
      "Accuracy after query 8: 0.0956\n",
      "Query no. 9\n"
     ]
    },
    {
     "ename": "AssertionError",
     "evalue": "n_instances must be less or equal than the size of utility",
     "output_type": "error",
     "traceback": [
      "\u001b[1;31m---------------------------------------------------------------------------\u001b[0m",
      "\u001b[1;31mAssertionError\u001b[0m                            Traceback (most recent call last)",
      "\u001b[1;32m<ipython-input-26-4ee654a903db>\u001b[0m in \u001b[0;36m<module>\u001b[1;34m\u001b[0m\n\u001b[0;32m      3\u001b[0m \u001b[1;32mfor\u001b[0m \u001b[0midx\u001b[0m \u001b[1;32min\u001b[0m \u001b[0mrange\u001b[0m\u001b[1;33m(\u001b[0m\u001b[0mn_queries\u001b[0m\u001b[1;33m)\u001b[0m\u001b[1;33m:\u001b[0m\u001b[1;33m\u001b[0m\u001b[1;33m\u001b[0m\u001b[0m\n\u001b[0;32m      4\u001b[0m     \u001b[0mprint\u001b[0m\u001b[1;33m(\u001b[0m\u001b[1;34m'Query no. %d'\u001b[0m \u001b[1;33m%\u001b[0m \u001b[1;33m(\u001b[0m\u001b[0midx\u001b[0m \u001b[1;33m+\u001b[0m \u001b[1;36m1\u001b[0m\u001b[1;33m)\u001b[0m\u001b[1;33m)\u001b[0m\u001b[1;33m\u001b[0m\u001b[1;33m\u001b[0m\u001b[0m\n\u001b[1;32m----> 5\u001b[1;33m     \u001b[0mquery_idx\u001b[0m\u001b[1;33m,\u001b[0m \u001b[0mquery_instance\u001b[0m \u001b[1;33m=\u001b[0m \u001b[0mlearner\u001b[0m\u001b[1;33m.\u001b[0m\u001b[0mquery\u001b[0m\u001b[1;33m(\u001b[0m\u001b[0mX_pool\u001b[0m\u001b[1;33m,\u001b[0m \u001b[0mn_instances\u001b[0m\u001b[1;33m=\u001b[0m\u001b[1;36m100\u001b[0m\u001b[1;33m)\u001b[0m\u001b[1;33m\u001b[0m\u001b[1;33m\u001b[0m\u001b[0m\n\u001b[0m\u001b[0;32m      6\u001b[0m     learner.teach(\n\u001b[0;32m      7\u001b[0m         \u001b[0mX\u001b[0m\u001b[1;33m=\u001b[0m\u001b[0mX_pool\u001b[0m\u001b[1;33m[\u001b[0m\u001b[0mquery_idx\u001b[0m\u001b[1;33m]\u001b[0m\u001b[1;33m,\u001b[0m \u001b[0my\u001b[0m\u001b[1;33m=\u001b[0m\u001b[0my_pool\u001b[0m\u001b[1;33m[\u001b[0m\u001b[0mquery_idx\u001b[0m\u001b[1;33m]\u001b[0m\u001b[1;33m,\u001b[0m \u001b[0mepochs\u001b[0m\u001b[1;33m=\u001b[0m\u001b[1;36m10\u001b[0m\u001b[1;33m,\u001b[0m\u001b[0mbatch_size\u001b[0m\u001b[1;33m=\u001b[0m\u001b[1;36m8\u001b[0m\u001b[1;33m,\u001b[0m\u001b[1;33m\u001b[0m\u001b[1;33m\u001b[0m\u001b[0m\n",
      "\u001b[1;32m~\\.conda\\envs\\keras_env\\lib\\site-packages\\modAL\\models\\base.py\u001b[0m in \u001b[0;36mquery\u001b[1;34m(self, X_pool, *query_args, **query_kwargs)\u001b[0m\n\u001b[0;32m    251\u001b[0m             \u001b[0mlabelled\u001b[0m \u001b[0mupon\u001b[0m \u001b[0mquery\u001b[0m \u001b[0msynthesis\u001b[0m\u001b[1;33m.\u001b[0m\u001b[1;33m\u001b[0m\u001b[1;33m\u001b[0m\u001b[0m\n\u001b[0;32m    252\u001b[0m         \"\"\"\n\u001b[1;32m--> 253\u001b[1;33m         \u001b[0mquery_result\u001b[0m \u001b[1;33m=\u001b[0m \u001b[0mself\u001b[0m\u001b[1;33m.\u001b[0m\u001b[0mquery_strategy\u001b[0m\u001b[1;33m(\u001b[0m\u001b[0mself\u001b[0m\u001b[1;33m,\u001b[0m \u001b[0mX_pool\u001b[0m\u001b[1;33m,\u001b[0m \u001b[1;33m*\u001b[0m\u001b[0mquery_args\u001b[0m\u001b[1;33m,\u001b[0m \u001b[1;33m**\u001b[0m\u001b[0mquery_kwargs\u001b[0m\u001b[1;33m)\u001b[0m\u001b[1;33m\u001b[0m\u001b[1;33m\u001b[0m\u001b[0m\n\u001b[0m\u001b[0;32m    254\u001b[0m \u001b[1;33m\u001b[0m\u001b[0m\n\u001b[0;32m    255\u001b[0m         \u001b[1;32mif\u001b[0m \u001b[0misinstance\u001b[0m\u001b[1;33m(\u001b[0m\u001b[0mquery_result\u001b[0m\u001b[1;33m,\u001b[0m \u001b[0mtuple\u001b[0m\u001b[1;33m)\u001b[0m\u001b[1;33m:\u001b[0m\u001b[1;33m\u001b[0m\u001b[1;33m\u001b[0m\u001b[0m\n",
      "\u001b[1;32m~\\.conda\\envs\\keras_env\\lib\\site-packages\\modAL\\uncertainty.py\u001b[0m in \u001b[0;36muncertainty_sampling\u001b[1;34m(classifier, X, n_instances, random_tie_break, **uncertainty_measure_kwargs)\u001b[0m\n\u001b[0;32m    153\u001b[0m \u001b[1;33m\u001b[0m\u001b[0m\n\u001b[0;32m    154\u001b[0m     \u001b[1;32mif\u001b[0m \u001b[1;32mnot\u001b[0m \u001b[0mrandom_tie_break\u001b[0m\u001b[1;33m:\u001b[0m\u001b[1;33m\u001b[0m\u001b[1;33m\u001b[0m\u001b[0m\n\u001b[1;32m--> 155\u001b[1;33m         \u001b[1;32mreturn\u001b[0m \u001b[0mmulti_argmax\u001b[0m\u001b[1;33m(\u001b[0m\u001b[0muncertainty\u001b[0m\u001b[1;33m,\u001b[0m \u001b[0mn_instances\u001b[0m\u001b[1;33m=\u001b[0m\u001b[0mn_instances\u001b[0m\u001b[1;33m)\u001b[0m\u001b[1;33m\u001b[0m\u001b[1;33m\u001b[0m\u001b[0m\n\u001b[0m\u001b[0;32m    156\u001b[0m \u001b[1;33m\u001b[0m\u001b[0m\n\u001b[0;32m    157\u001b[0m     \u001b[1;32mreturn\u001b[0m \u001b[0mshuffled_argmax\u001b[0m\u001b[1;33m(\u001b[0m\u001b[0muncertainty\u001b[0m\u001b[1;33m,\u001b[0m \u001b[0mn_instances\u001b[0m\u001b[1;33m=\u001b[0m\u001b[0mn_instances\u001b[0m\u001b[1;33m)\u001b[0m\u001b[1;33m\u001b[0m\u001b[1;33m\u001b[0m\u001b[0m\n",
      "\u001b[1;32m~\\.conda\\envs\\keras_env\\lib\\site-packages\\modAL\\utils\\selection.py\u001b[0m in \u001b[0;36mmulti_argmax\u001b[1;34m(values, n_instances)\u001b[0m\n\u001b[0;32m     45\u001b[0m         \u001b[0mThe\u001b[0m \u001b[0mindices\u001b[0m \u001b[0mof\u001b[0m \u001b[0mthe\u001b[0m \u001b[0mn_instances\u001b[0m \u001b[0mlargest\u001b[0m \u001b[0mvalues\u001b[0m\u001b[1;33m.\u001b[0m\u001b[1;33m\u001b[0m\u001b[1;33m\u001b[0m\u001b[0m\n\u001b[0;32m     46\u001b[0m     \"\"\"\n\u001b[1;32m---> 47\u001b[1;33m     \u001b[1;32massert\u001b[0m \u001b[0mn_instances\u001b[0m \u001b[1;33m<=\u001b[0m \u001b[0mvalues\u001b[0m\u001b[1;33m.\u001b[0m\u001b[0mshape\u001b[0m\u001b[1;33m[\u001b[0m\u001b[1;36m0\u001b[0m\u001b[1;33m]\u001b[0m\u001b[1;33m,\u001b[0m \u001b[1;34m'n_instances must be less or equal than the size of utility'\u001b[0m\u001b[1;33m\u001b[0m\u001b[1;33m\u001b[0m\u001b[0m\n\u001b[0m\u001b[0;32m     48\u001b[0m \u001b[1;33m\u001b[0m\u001b[0m\n\u001b[0;32m     49\u001b[0m     \u001b[0mmax_idx\u001b[0m \u001b[1;33m=\u001b[0m \u001b[0mnp\u001b[0m\u001b[1;33m.\u001b[0m\u001b[0margpartition\u001b[0m\u001b[1;33m(\u001b[0m\u001b[1;33m-\u001b[0m\u001b[0mvalues\u001b[0m\u001b[1;33m,\u001b[0m \u001b[0mn_instances\u001b[0m\u001b[1;33m-\u001b[0m\u001b[1;36m1\u001b[0m\u001b[1;33m,\u001b[0m \u001b[0maxis\u001b[0m\u001b[1;33m=\u001b[0m\u001b[1;36m0\u001b[0m\u001b[1;33m)\u001b[0m\u001b[1;33m[\u001b[0m\u001b[1;33m:\u001b[0m\u001b[0mn_instances\u001b[0m\u001b[1;33m]\u001b[0m\u001b[1;33m\u001b[0m\u001b[1;33m\u001b[0m\u001b[0m\n",
      "\u001b[1;31mAssertionError\u001b[0m: n_instances must be less or equal than the size of utility"
     ]
    }
   ],
   "source": [
    "# the active learning loop\n",
    "n_queries = 100\n",
    "for idx in range(n_queries):\n",
    "    print('Query no. %d' % (idx + 1))\n",
    "    query_idx, query_instance = learner.query(X_pool, n_instances=100)\n",
    "    learner.teach(\n",
    "        X=X_pool[query_idx], y=y_pool[query_idx], epochs=10,batch_size=8,\n",
    "        verbose=0\n",
    "    )\n",
    "    # remove queried instance from pool\n",
    "    X_pool = np.delete(X_pool, query_idx, axis=0)\n",
    "    y_pool = np.delete(y_pool, query_idx, axis=0)\n",
    "    model_accuracy = learner.score(X_test,y_test,verbose=0)\n",
    "    print('Accuracy after query {n}: {acc:0.4f}'.format(n=idx + 1, acc=model_accuracy))"
   ]
  }
 ],
 "metadata": {
  "kernelspec": {
   "display_name": "Python 3",
   "language": "python",
   "name": "python3"
  },
  "language_info": {
   "codemirror_mode": {
    "name": "ipython",
    "version": 3
   },
   "file_extension": ".py",
   "mimetype": "text/x-python",
   "name": "python",
   "nbconvert_exporter": "python",
   "pygments_lexer": "ipython3",
   "version": "3.8.5"
  }
 },
 "nbformat": 4,
 "nbformat_minor": 5
}
