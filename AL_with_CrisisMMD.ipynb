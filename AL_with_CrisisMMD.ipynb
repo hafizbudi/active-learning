{
  "nbformat": 4,
  "nbformat_minor": 0,
  "metadata": {
    "colab": {
      "name": "AL_with_CrisisMMD.ipynb",
      "provenance": [],
      "collapsed_sections": [],
      "machine_shape": "hm",
      "authorship_tag": "ABX9TyOfG8qhR5JGpZ2KGsTznl3R",
      "include_colab_link": true
    },
    "kernelspec": {
      "display_name": "Python 3",
      "name": "python3"
    },
    "language_info": {
      "name": "python"
    }
  },
  "cells": [
    {
      "cell_type": "markdown",
      "metadata": {
        "id": "view-in-github",
        "colab_type": "text"
      },
      "source": [
        "<a href=\"https://colab.research.google.com/github/hafizbudi/active-learning/blob/main/AL_with_CrisisMMD.ipynb\" target=\"_parent\"><img src=\"https://colab.research.google.com/assets/colab-badge.svg\" alt=\"Open In Colab\"/></a>"
      ]
    },
    {
      "cell_type": "code",
      "metadata": {
        "id": "sO5UyHeHxJGM"
      },
      "source": [
        "from google.colab import drive\n",
        "drive.mount('/content/gdrive')\n",
        "%cd gdrive/My Drive/Project/multimodal_social_media"
      ],
      "execution_count": null,
      "outputs": []
    },
    {
      "cell_type": "code",
      "metadata": {
        "id": "2ZMKDDe0xcDv"
      },
      "source": [
        "pip install modal"
      ],
      "execution_count": null,
      "outputs": []
    },
    {
      "cell_type": "code",
      "metadata": {
        "id": "lIbF2Dugxegw"
      },
      "source": [
        "from sklearn.datasets import load_digits\n",
        "from sklearn.model_selection import train_test_split\n",
        "from sklearn.ensemble import RandomForestClassifier\n",
        "from sklearn import datasets, metrics\n",
        "from dataclasses import dataclass\n",
        "import dataclasses\n",
        "\n",
        "import matplotlib.pyplot as plt\n",
        "import numpy as np\n",
        "import pandas as pd\n",
        "import cv2\n",
        "from modAL.models import ActiveLearner\n",
        "from modAL.uncertainty import uncertainty_sampling\n",
        "from modAL.uncertainty import margin_sampling\n",
        "from modAL.uncertainty import entropy_sampling\n",
        "\n",
        "from tqdm import tqdm\n",
        "from sklearn.metrics import classification_report\n",
        "from sklearn.metrics import log_loss\n",
        "\n",
        "from sklearn.neighbors import KNeighborsClassifier\n",
        "import time\n",
        "import random"
      ],
      "execution_count": 3,
      "outputs": []
    },
    {
      "cell_type": "code",
      "metadata": {
        "id": "ebIBBu0nxhP8"
      },
      "source": [
        "@dataclass\n",
        "class Experiment:\n",
        "    n_samples: int\n",
        "    repeat: int\n",
        "    accuracy: float\n",
        "    log_loss: float\n",
        "\n",
        "# load the file\n",
        "def load_data(filename, nb_instance, all_instance):\n",
        "  n = all_instance #number of records in file\n",
        "  s = nb_instance #sample size\n",
        "  skip = sorted(random.sample(range(1,n+1),n-s))\n",
        "\n",
        "  #df = pd.read_csv(filename,sep=\"\\t\",nrows=nb_instance)\n",
        "  df = pd.read_csv(filename,sep=\"\\t\",skiprows=skip)\n",
        "\n",
        "  df.label_image = pd.Categorical(df.label_image)\n",
        "  df['label_image_code'] = df.label_image.cat.codes\n",
        "\n",
        "  df[['image','label_image','label_image_code']]\n",
        "\n",
        "  df.describe()\n",
        "  return df\n",
        "\n",
        "# read, resize and flatten into 1-dimension array\n",
        "def pre_process_image(data):\n",
        "  img_arr = []\n",
        "  for index,row in data.iterrows():\n",
        "    read_img = cv2.imread(row['image'],0)\n",
        "    img_resize = cv2.resize(read_img,(224,224))\n",
        "    img_ravel = img_resize.ravel()\n",
        "    img_arr.append(img_ravel)\n",
        "\n",
        "  img_np = np.array(img_arr)\n",
        "\n",
        "  return img_np\n",
        "\n",
        "# learning curve for active learning\n",
        "def random_forest_score_repeat(n_initial,n_queries,sampling_strategy, repeats, seed):\n",
        "  \n",
        "  start_time = time.time()\n",
        "  acc_all = []\n",
        "  experiments = []\n",
        "  \n",
        "  # repeat as much as repeats parameter\n",
        "  for k in tqdm(range(repeats)):\n",
        "    print(k)\n",
        "    np.random.seed(seed + k)\n",
        "    i = n_initial[0]\n",
        "    \n",
        "    initial_idx = np.random.choice(range(len(X_train)), size=i, replace=False)\n",
        "     \n",
        "    X_initial, y_initial = X_train[initial_idx], y_train[initial_idx]\n",
        "    \n",
        "\n",
        "    X_pool,y_pool = np.delete(X_train, initial_idx, axis=0), np.delete(y_train, initial_idx, axis=0)\n",
        "\n",
        "    learner = ActiveLearner(\n",
        "              estimator=RandomForestClassifier(),\n",
        "              query_strategy=sampling_strategy,\n",
        "              X_training=X_initial,y_training=y_initial\n",
        "              )\n",
        "    acc = learner.score(X_test,y_test)\n",
        "    #acc_all.append(acc)\n",
        "\n",
        "    predictions = learner.predict_proba(X_test)\n",
        "    res_logloss = log_loss(y_test,predictions)\n",
        "\n",
        "    experiments.append(Experiment(n_samples=i, repeat=k, accuracy=acc,log_loss=res_logloss))\n",
        "    \n",
        "    for j in n_initial[1:]:\n",
        "\n",
        "      for i in range(n_queries):\n",
        "        query_idx, query_inst = learner.query(X_pool)\n",
        "        learner.teach(query_inst, y_pool[query_idx])\n",
        "        X_pool, y_pool = np.delete(X_pool, query_idx, axis=0), np.delete(y_pool, query_idx, axis=0)\n",
        "\n",
        "      acc = learner.score(X_test,y_test)\n",
        "      #acc_all.append(acc)\n",
        "      predictions = learner.predict_proba(X_test)\n",
        "      res_logloss = log_loss(y_test,predictions)\n",
        "      experiments.append(Experiment(n_samples=j, repeat=k, accuracy=acc, log_loss=res_logloss))\n",
        "\n",
        "    #predictions = learner.predict_proba(X_test)\n",
        "    #res_logloss = log_loss(y_test,predictions)\n",
        "\n",
        "    #experiments.append(Experiment(n_samples=j, repeat=k, accuracy=res_logloss))\n",
        "    \n",
        "    \n",
        "  final_time = time.time() - start_time\n",
        "  predictions = learner.predict(X_test)\n",
        "  #predictions = learner.predict_proba(X_test)\n",
        "  res_classification = classification_report(y_test, predictions)\n",
        "  #res_classification = log_loss(y_test,predictions)\n",
        "\n",
        "  print(\"--- %s seconds ---\" % (final_time))\n",
        "\n",
        "  return res_classification, acc_all, final_time, experiments"
      ],
      "execution_count": 4,
      "outputs": []
    },
    {
      "cell_type": "code",
      "metadata": {
        "id": "Ag0qs1q_jf2O"
      },
      "source": [
        "# Random sampling\n",
        "\n",
        "# random selection from X train\n",
        "def random_selection_learning(n_instances, X_train, y_train,i,seed):\n",
        "    np.random.seed(seed+i)\n",
        "    clf = RandomForestClassifier()\n",
        "\n",
        "    initial_idx = np.random.choice(range(len(X_train)), size=n_instances, replace=False)\n",
        "    X_initial, y_initial = X_train[initial_idx], y_train[initial_idx]\n",
        "\n",
        "    X_pool,y_pool = np.delete(X_train, initial_idx, axis=0), np.delete(y_train, initial_idx, axis=0)\n",
        "    clf.fit(X_initial,y_initial)\n",
        "\n",
        "    return clf, X_initial, X_pool, y_initial, y_pool\n",
        "\n",
        "def random_sampling_policy(model, n_new_samples, X_remaining, y_remaining):\n",
        "    X_new_selected, X_remaining, y_new_selected, y_remaining = \\\n",
        "               train_test_split(X_remaining, y_remaining,  train_size=n_new_samples, shuffle=True)\n",
        "    return X_new_selected, X_remaining, y_new_selected, y_remaining\n",
        "\n",
        "# evaluate model performance\n",
        "def evaluate(model, X_real, y_real):\n",
        "    y_predictions = model.predict(X_test)\n",
        "    accuracy = metrics.accuracy_score(y_real,y_predictions)\n",
        "    \n",
        "    return accuracy\n",
        "\n",
        "def learning_curve(data_points, repeats, selection_policy,seed):\n",
        "    start_time = time.time()\n",
        "    experiments = []\n",
        "    for i in tqdm(range(repeats)):\n",
        "        #np.random.seed(123)\n",
        "        # First learn \n",
        "        n_samples = data_points[0]\n",
        "        model, X_selected, X_remaining, y_selected, y_remaining = \\\n",
        "            random_selection_learning(n_samples, X_train, y_train,i,seed)\n",
        "\n",
        "        predictions = model.predict_proba(X_test)\n",
        "        res_logloss = log_loss(y_test,predictions)\n",
        "\n",
        "        acc = evaluate(model, X_test, y_test)\n",
        "\n",
        "        experiments.append(Experiment(n_samples=n_samples, repeat=i, accuracy=acc, log_loss=res_logloss))\n",
        "        for n_samples in data_points[1:]:\n",
        "            # Select the additional examples\n",
        "            n_new_samples = n_samples - len(X_selected)\n",
        "      \n",
        "            X_new_selected, X_remaining, y_new_selected, y_remaining = \\\n",
        "                selection_policy(model, n_new_samples, X_remaining, y_remaining)\n",
        "            \n",
        "            X_selected = np.vstack((X_selected, X_new_selected))\n",
        "            y_selected = np.hstack((y_selected, y_new_selected))\n",
        "      \n",
        "            model.fit(X_selected, y_selected)\n",
        "           \n",
        "            acc = evaluate(model, X_test, y_test)\n",
        "            predictions = model.predict_proba(X_test)\n",
        "            res_logloss = log_loss(y_test,predictions)\n",
        "\n",
        "            experiments.append(Experiment(n_samples=n_samples, repeat=i, accuracy=acc, log_loss=res_logloss))\n",
        "    final_time = time.time() - start_time\n",
        "\n",
        "    predictions = model.predict(X_test)\n",
        "    res_classification = classification_report(y_test, predictions)\n",
        "    \n",
        "    print(\"--- %s seconds ---\" % (final_time))\n",
        "\n",
        "    return experiments, res_classification, final_time"
      ],
      "execution_count": 5,
      "outputs": []
    },
    {
      "cell_type": "code",
      "metadata": {
        "id": "JZaNlvLOxwKh",
        "colab": {
          "base_uri": "https://localhost:8080/"
        },
        "outputId": "db831785-8446-4852-a111-2bbc4f72ab3f"
      },
      "source": [
        "# Load CrisisMMD dataset\n",
        "\n",
        "start_time = time.time()\n",
        "\n",
        "#train_instance = 9601\n",
        "#test_instance = 1534\n",
        "\n",
        "all_train_instance = 9601\n",
        "all_test_instance = 1534\n",
        "\n",
        "# Use 10 % amount of data for initial phase\n",
        "train_instance = 960\n",
        "test_instance = 153\n",
        "\n",
        "train_filename = \"data/task_data/task_informative_text_img_agreed_lab_train.tsv\"\n",
        "test_filename = \"data/task_data/task_informative_text_img_agreed_lab_test.tsv\"\n",
        "\n",
        "data_train = load_data(train_filename,train_instance, all_train_instance)\n",
        "data_images_train = pre_process_image(data_train)\n",
        "\n",
        "data_test = load_data(test_filename,test_instance, all_test_instance)\n",
        "data_image_test = pre_process_image(data_test)\n",
        "\n",
        "X_train = data_images_train.reshape(train_instance,-1)\n",
        "y_train = data_train['label_image_code'].values\n",
        "\n",
        "X_test = data_image_test.reshape(test_instance,-1)\n",
        "y_test = data_test['label_image_code'].values\n",
        "\n",
        "final_time = time.time() - start_time\n",
        "print(\"--- %s seconds ---\" % (final_time))"
      ],
      "execution_count": 6,
      "outputs": [
        {
          "output_type": "stream",
          "text": [
            "--- 830.7482657432556 seconds ---\n"
          ],
          "name": "stdout"
        }
      ]
    },
    {
      "cell_type": "code",
      "metadata": {
        "id": "fkfVjmW-gpWQ"
      },
      "source": [
        "# Load Digits dataset\n",
        "\n",
        "digits = load_digits()\n",
        "n = len(digits.images)\n",
        "np.random.seed(123)\n",
        "\n",
        "X = digits.images.reshape(n,-1)\n",
        "y = digits.target\n",
        "\n",
        "X_train, X_test, y_train, y_test = train_test_split(X,y, test_size=0.25,shuffle=True)"
      ],
      "execution_count": 6,
      "outputs": []
    },
    {
      "cell_type": "code",
      "metadata": {
        "id": "8GQUEIRRFKMr"
      },
      "source": [
        "# Show plot for train data distribution\n",
        "\n",
        "print(\"Train data distribution\")\n",
        "\n",
        "notinf_y_train = y_train[y_train == 1]\n",
        "len_notinf = len(notinf_y_train)\n",
        "print(\"Not Informative \",len_notinf)\n",
        "\n",
        "inf_y_train = y_train[y_train == 0]\n",
        "len_inf = len(inf_y_train)\n",
        "print(\"Informative \",len_inf)\n",
        "\n",
        "labels = ('Informative','Not Informative')\n",
        "y_pos = np.arange(len(labels))\n",
        "\n",
        "size = [len_inf,len_notinf]\n",
        "plt.bar(y_pos,size,align='center',alpha=0.5)\n",
        "plt.xticks(y_pos,labels)\n",
        "plt.ylabel('Size')\n",
        "plt.title('Training Data Distribution')\n",
        "\n",
        "plt.show()"
      ],
      "execution_count": null,
      "outputs": []
    },
    {
      "cell_type": "code",
      "metadata": {
        "id": "T6NSbLF7FTPe"
      },
      "source": [
        "# Show plot for test data distribution\n",
        "\n",
        "print(\"Test data distribution\")\n",
        "\n",
        "notinf_y_test = y_test[y_test == 1]\n",
        "len_notinf_test = len(notinf_y_test)\n",
        "print(\"Not Informative \",len_notinf_test)\n",
        "\n",
        "inf_y_test = y_test[y_test == 0]\n",
        "len_inf_test = len(inf_y_test)\n",
        "print(\"Informative \",len_inf_test)\n",
        "\n",
        "labels = ('Informative','Not Informative')\n",
        "y_pos = np.arange(len(labels))\n",
        "\n",
        "size = [len_inf_test,len_notinf_test]\n",
        "plt.bar(y_pos,size,align='center',alpha=0.5)\n",
        "plt.xticks(y_pos,labels)\n",
        "plt.ylabel('Size')\n",
        "plt.title('Testing Data Distribution')\n",
        "\n",
        "plt.show()"
      ],
      "execution_count": null,
      "outputs": []
    },
    {
      "cell_type": "code",
      "metadata": {
        "id": "SGVfmaZB7JXU"
      },
      "source": [
        "n_initial = range(30,300,30)\n",
        "n_queries = 30 # number of query for uncertain dataset to be asked\n",
        "repeats = 3 # number of repeat for each n_initial\n",
        "seed = 20 # random seed"
      ],
      "execution_count": 7,
      "outputs": []
    },
    {
      "cell_type": "code",
      "metadata": {
        "id": "G4ZYWP7NaLsl",
        "colab": {
          "base_uri": "https://localhost:8080/"
        },
        "outputId": "ec652e6e-eed9-4b7b-8062-924209917a20"
      },
      "source": [
        "result_rf_uncertainty, result_rf_acc_uncertainty, result_rf_time_uncertainty, experiment_uncertainty = random_forest_score_repeat(n_initial,n_queries,uncertainty_sampling,repeats,seed)\n",
        "print(experiment_uncertainty)\n"
      ],
      "execution_count": 8,
      "outputs": [
        {
          "output_type": "stream",
          "text": [
            "\r  0%|          | 0/3 [00:00<?, ?it/s]"
          ],
          "name": "stderr"
        },
        {
          "output_type": "stream",
          "text": [
            "0\n"
          ],
          "name": "stdout"
        },
        {
          "output_type": "stream",
          "text": [
            "\r 33%|███▎      | 1/3 [00:41<01:22, 41.32s/it]"
          ],
          "name": "stderr"
        },
        {
          "output_type": "stream",
          "text": [
            "1\n"
          ],
          "name": "stdout"
        },
        {
          "output_type": "stream",
          "text": [
            "\r 67%|██████▋   | 2/3 [01:22<00:41, 41.36s/it]"
          ],
          "name": "stderr"
        },
        {
          "output_type": "stream",
          "text": [
            "2\n"
          ],
          "name": "stdout"
        },
        {
          "output_type": "stream",
          "text": [
            "100%|██████████| 3/3 [02:03<00:00, 41.31s/it]"
          ],
          "name": "stderr"
        },
        {
          "output_type": "stream",
          "text": [
            "--- 123.92946648597717 seconds ---\n",
            "[Experiment(n_samples=30, repeat=0, accuracy=0.5644444444444444, log_loss=1.57258165200595), Experiment(n_samples=60, repeat=0, accuracy=0.8355555555555556, log_loss=1.0322019074575206), Experiment(n_samples=90, repeat=0, accuracy=0.9, log_loss=0.9200754187095862), Experiment(n_samples=120, repeat=0, accuracy=0.9155555555555556, log_loss=0.8928175734439), Experiment(n_samples=150, repeat=0, accuracy=0.9444444444444444, log_loss=0.8277746285950434), Experiment(n_samples=180, repeat=0, accuracy=0.9511111111111111, log_loss=0.7716483389123628), Experiment(n_samples=210, repeat=0, accuracy=0.9644444444444444, log_loss=0.7149618195877725), Experiment(n_samples=240, repeat=0, accuracy=0.9711111111111111, log_loss=0.6770803608203962), Experiment(n_samples=270, repeat=0, accuracy=0.9733333333333334, log_loss=0.6250202597593312), Experiment(n_samples=30, repeat=1, accuracy=0.6022222222222222, log_loss=1.4415354345184708), Experiment(n_samples=60, repeat=1, accuracy=0.8777777777777778, log_loss=0.998832536416529), Experiment(n_samples=90, repeat=1, accuracy=0.8755555555555555, log_loss=0.9435930526193476), Experiment(n_samples=120, repeat=1, accuracy=0.9066666666666666, log_loss=0.9038880210767652), Experiment(n_samples=150, repeat=1, accuracy=0.94, log_loss=0.8437975573718104), Experiment(n_samples=180, repeat=1, accuracy=0.9711111111111111, log_loss=0.7712962264780376), Experiment(n_samples=210, repeat=1, accuracy=0.9622222222222222, log_loss=0.7491672893741721), Experiment(n_samples=240, repeat=1, accuracy=0.9622222222222222, log_loss=0.6738484440151149), Experiment(n_samples=270, repeat=1, accuracy=0.9733333333333334, log_loss=0.6635292805303392), Experiment(n_samples=30, repeat=2, accuracy=0.5644444444444444, log_loss=1.6029609534515552), Experiment(n_samples=60, repeat=2, accuracy=0.8466666666666667, log_loss=1.0792339025126136), Experiment(n_samples=90, repeat=2, accuracy=0.9133333333333333, log_loss=0.9515793844559602), Experiment(n_samples=120, repeat=2, accuracy=0.9266666666666666, log_loss=0.8896186477954241), Experiment(n_samples=150, repeat=2, accuracy=0.9333333333333333, log_loss=0.8516985307474618), Experiment(n_samples=180, repeat=2, accuracy=0.9488888888888889, log_loss=0.8046606790141162), Experiment(n_samples=210, repeat=2, accuracy=0.9622222222222222, log_loss=0.7290451186688687), Experiment(n_samples=240, repeat=2, accuracy=0.9777777777777777, log_loss=0.6810805766769309), Experiment(n_samples=270, repeat=2, accuracy=0.9688888888888889, log_loss=0.660853760096589)]\n"
          ],
          "name": "stdout"
        },
        {
          "output_type": "stream",
          "text": [
            "\n"
          ],
          "name": "stderr"
        }
      ]
    },
    {
      "cell_type": "code",
      "metadata": {
        "id": "LjwJ6wK5FmdN",
        "colab": {
          "base_uri": "https://localhost:8080/"
        },
        "outputId": "99066fd3-a0ec-4f40-e295-33cf029a5a1b"
      },
      "source": [
        "result_rf_margin, result_rf_acc_margin, result_rf_time_margin, experiment_margin = random_forest_score_repeat(n_initial,n_queries,margin_sampling,repeats, seed)\n",
        "print(experiment_margin)"
      ],
      "execution_count": 9,
      "outputs": [
        {
          "output_type": "stream",
          "text": [
            "\r  0%|          | 0/3 [00:00<?, ?it/s]"
          ],
          "name": "stderr"
        },
        {
          "output_type": "stream",
          "text": [
            "0\n"
          ],
          "name": "stdout"
        },
        {
          "output_type": "stream",
          "text": [
            "\r 33%|███▎      | 1/3 [00:41<01:22, 41.23s/it]"
          ],
          "name": "stderr"
        },
        {
          "output_type": "stream",
          "text": [
            "1\n"
          ],
          "name": "stdout"
        },
        {
          "output_type": "stream",
          "text": [
            "\r 67%|██████▋   | 2/3 [01:22<00:41, 41.21s/it]"
          ],
          "name": "stderr"
        },
        {
          "output_type": "stream",
          "text": [
            "2\n"
          ],
          "name": "stdout"
        },
        {
          "output_type": "stream",
          "text": [
            "100%|██████████| 3/3 [02:03<00:00, 41.21s/it]"
          ],
          "name": "stderr"
        },
        {
          "output_type": "stream",
          "text": [
            "--- 123.62963199615479 seconds ---\n",
            "[Experiment(n_samples=30, repeat=0, accuracy=0.5644444444444444, log_loss=1.57258165200595), Experiment(n_samples=60, repeat=0, accuracy=0.8511111111111112, log_loss=1.0389744033884318), Experiment(n_samples=90, repeat=0, accuracy=0.9022222222222223, log_loss=0.9123919137044322), Experiment(n_samples=120, repeat=0, accuracy=0.9466666666666667, log_loss=0.8185700213957351), Experiment(n_samples=150, repeat=0, accuracy=0.9555555555555556, log_loss=0.7855525265448625), Experiment(n_samples=180, repeat=0, accuracy=0.9533333333333334, log_loss=0.7675787136470662), Experiment(n_samples=210, repeat=0, accuracy=0.9533333333333334, log_loss=0.7010637513933867), Experiment(n_samples=240, repeat=0, accuracy=0.9733333333333334, log_loss=0.6700623946566132), Experiment(n_samples=270, repeat=0, accuracy=0.9688888888888889, log_loss=0.6263908095695495), Experiment(n_samples=30, repeat=1, accuracy=0.6022222222222222, log_loss=1.4415354345184708), Experiment(n_samples=60, repeat=1, accuracy=0.8311111111111111, log_loss=1.0536911695193247), Experiment(n_samples=90, repeat=1, accuracy=0.9066666666666666, log_loss=0.8996219067951694), Experiment(n_samples=120, repeat=1, accuracy=0.9533333333333334, log_loss=0.8134138599767639), Experiment(n_samples=150, repeat=1, accuracy=0.9711111111111111, log_loss=0.7416428521416524), Experiment(n_samples=180, repeat=1, accuracy=0.9755555555555555, log_loss=0.7363624965886899), Experiment(n_samples=210, repeat=1, accuracy=0.9777777777777777, log_loss=0.6710459589648406), Experiment(n_samples=240, repeat=1, accuracy=0.9711111111111111, log_loss=0.6925564524107017), Experiment(n_samples=270, repeat=1, accuracy=0.9844444444444445, log_loss=0.6505616566893179), Experiment(n_samples=30, repeat=2, accuracy=0.5644444444444444, log_loss=1.6029609534515552), Experiment(n_samples=60, repeat=2, accuracy=0.8177777777777778, log_loss=1.0341592323015045), Experiment(n_samples=90, repeat=2, accuracy=0.9, log_loss=0.9141692160142681), Experiment(n_samples=120, repeat=2, accuracy=0.9244444444444444, log_loss=0.8456902514209761), Experiment(n_samples=150, repeat=2, accuracy=0.9422222222222222, log_loss=0.7854022375482533), Experiment(n_samples=180, repeat=2, accuracy=0.9688888888888889, log_loss=0.7181112316204414), Experiment(n_samples=210, repeat=2, accuracy=0.9577777777777777, log_loss=0.6962520849112688), Experiment(n_samples=240, repeat=2, accuracy=0.9711111111111111, log_loss=0.6598256903055189), Experiment(n_samples=270, repeat=2, accuracy=0.9733333333333334, log_loss=0.6438327046024139)]\n"
          ],
          "name": "stdout"
        },
        {
          "output_type": "stream",
          "text": [
            "\n"
          ],
          "name": "stderr"
        }
      ]
    },
    {
      "cell_type": "code",
      "metadata": {
        "id": "QH1TMhkNU6Kr",
        "colab": {
          "base_uri": "https://localhost:8080/"
        },
        "outputId": "16d6e172-316d-48c2-c14a-21247e4042b2"
      },
      "source": [
        "result_rf_entropy, result_rf_acc_entropy, result_rf_time_entropy, experiment_entropy = random_forest_score_repeat(n_initial,n_queries,entropy_sampling,repeats, seed)\n",
        "print(experiment_entropy)"
      ],
      "execution_count": 10,
      "outputs": [
        {
          "output_type": "stream",
          "text": [
            "\r  0%|          | 0/3 [00:00<?, ?it/s]"
          ],
          "name": "stderr"
        },
        {
          "output_type": "stream",
          "text": [
            "0\n"
          ],
          "name": "stdout"
        },
        {
          "output_type": "stream",
          "text": [
            "\r 33%|███▎      | 1/3 [00:41<01:22, 41.28s/it]"
          ],
          "name": "stderr"
        },
        {
          "output_type": "stream",
          "text": [
            "1\n"
          ],
          "name": "stdout"
        },
        {
          "output_type": "stream",
          "text": [
            "\r 67%|██████▋   | 2/3 [01:22<00:41, 41.25s/it]"
          ],
          "name": "stderr"
        },
        {
          "output_type": "stream",
          "text": [
            "2\n"
          ],
          "name": "stdout"
        },
        {
          "output_type": "stream",
          "text": [
            "100%|██████████| 3/3 [02:03<00:00, 41.27s/it]"
          ],
          "name": "stderr"
        },
        {
          "output_type": "stream",
          "text": [
            "--- 123.82277083396912 seconds ---\n",
            "[Experiment(n_samples=30, repeat=0, accuracy=0.5644444444444444, log_loss=1.57258165200595), Experiment(n_samples=60, repeat=0, accuracy=0.7844444444444445, log_loss=1.06733988464409), Experiment(n_samples=90, repeat=0, accuracy=0.9088888888888889, log_loss=1.002131092208992), Experiment(n_samples=120, repeat=0, accuracy=0.9422222222222222, log_loss=0.8274608098924499), Experiment(n_samples=150, repeat=0, accuracy=0.9355555555555556, log_loss=0.7943289856815704), Experiment(n_samples=180, repeat=0, accuracy=0.9511111111111111, log_loss=0.7309733864871664), Experiment(n_samples=210, repeat=0, accuracy=0.9533333333333334, log_loss=0.6939267220122795), Experiment(n_samples=240, repeat=0, accuracy=0.9622222222222222, log_loss=0.672547627364892), Experiment(n_samples=270, repeat=0, accuracy=0.9688888888888889, log_loss=0.6108184057499881), Experiment(n_samples=30, repeat=1, accuracy=0.6022222222222222, log_loss=1.4415354345184708), Experiment(n_samples=60, repeat=1, accuracy=0.8422222222222222, log_loss=1.079800092548135), Experiment(n_samples=90, repeat=1, accuracy=0.9177777777777778, log_loss=0.9828604485252836), Experiment(n_samples=120, repeat=1, accuracy=0.9044444444444445, log_loss=0.8790306439586718), Experiment(n_samples=150, repeat=1, accuracy=0.9333333333333333, log_loss=0.8119323553827745), Experiment(n_samples=180, repeat=1, accuracy=0.9577777777777777, log_loss=0.7644474544998472), Experiment(n_samples=210, repeat=1, accuracy=0.9688888888888889, log_loss=0.6843936287437673), Experiment(n_samples=240, repeat=1, accuracy=0.9644444444444444, log_loss=0.6422961702549869), Experiment(n_samples=270, repeat=1, accuracy=0.9822222222222222, log_loss=0.6313322107729271), Experiment(n_samples=30, repeat=2, accuracy=0.5644444444444444, log_loss=1.6029609534515552), Experiment(n_samples=60, repeat=2, accuracy=0.8444444444444444, log_loss=1.0489398643105696), Experiment(n_samples=90, repeat=2, accuracy=0.8622222222222222, log_loss=0.9508534969245089), Experiment(n_samples=120, repeat=2, accuracy=0.92, log_loss=0.863396139681445), Experiment(n_samples=150, repeat=2, accuracy=0.9422222222222222, log_loss=0.7841534255907268), Experiment(n_samples=180, repeat=2, accuracy=0.9577777777777777, log_loss=0.7405588665223132), Experiment(n_samples=210, repeat=2, accuracy=0.9644444444444444, log_loss=0.737118904492561), Experiment(n_samples=240, repeat=2, accuracy=0.9755555555555555, log_loss=0.6662483099791229), Experiment(n_samples=270, repeat=2, accuracy=0.9622222222222222, log_loss=0.6307457676835871)]\n"
          ],
          "name": "stdout"
        },
        {
          "output_type": "stream",
          "text": [
            "\n"
          ],
          "name": "stderr"
        }
      ]
    },
    {
      "cell_type": "code",
      "metadata": {
        "colab": {
          "base_uri": "https://localhost:8080/"
        },
        "id": "sBsoTn90xcf0",
        "outputId": "0d34017c-7008-4826-aae1-835b99afe926"
      },
      "source": [
        "n_initial = range(30,300,30)\n",
        "seed_random = 20 # random seed\n",
        "repeat_random = 3 # number of repeat for each n_initial\n",
        "experiment_random, res_random, time_random = learning_curve(n_initial,repeat_random, random_sampling_policy,seed_random)"
      ],
      "execution_count": 11,
      "outputs": [
        {
          "output_type": "stream",
          "text": [
            "100%|██████████| 3/3 [00:04<00:00,  1.54s/it]"
          ],
          "name": "stderr"
        },
        {
          "output_type": "stream",
          "text": [
            "--- 4.637619972229004 seconds ---\n"
          ],
          "name": "stdout"
        },
        {
          "output_type": "stream",
          "text": [
            "\n"
          ],
          "name": "stderr"
        }
      ]
    },
    {
      "cell_type": "code",
      "metadata": {
        "colab": {
          "base_uri": "https://localhost:8080/"
        },
        "id": "tW84Jq8RJ_99",
        "outputId": "a7c656fd-dc89-4195-fb0b-1635453b747d"
      },
      "source": [
        "# show accuracy and log loss for each n_sample and repeat\n",
        "\n",
        "print(experiment_uncertainty)\n",
        "print(experiment_margin)\n",
        "print(experiment_entropy)\n",
        "print(experiment_random)"
      ],
      "execution_count": 12,
      "outputs": [
        {
          "output_type": "stream",
          "text": [
            "[Experiment(n_samples=30, repeat=0, accuracy=0.5644444444444444, log_loss=1.57258165200595), Experiment(n_samples=60, repeat=0, accuracy=0.8355555555555556, log_loss=1.0322019074575206), Experiment(n_samples=90, repeat=0, accuracy=0.9, log_loss=0.9200754187095862), Experiment(n_samples=120, repeat=0, accuracy=0.9155555555555556, log_loss=0.8928175734439), Experiment(n_samples=150, repeat=0, accuracy=0.9444444444444444, log_loss=0.8277746285950434), Experiment(n_samples=180, repeat=0, accuracy=0.9511111111111111, log_loss=0.7716483389123628), Experiment(n_samples=210, repeat=0, accuracy=0.9644444444444444, log_loss=0.7149618195877725), Experiment(n_samples=240, repeat=0, accuracy=0.9711111111111111, log_loss=0.6770803608203962), Experiment(n_samples=270, repeat=0, accuracy=0.9733333333333334, log_loss=0.6250202597593312), Experiment(n_samples=30, repeat=1, accuracy=0.6022222222222222, log_loss=1.4415354345184708), Experiment(n_samples=60, repeat=1, accuracy=0.8777777777777778, log_loss=0.998832536416529), Experiment(n_samples=90, repeat=1, accuracy=0.8755555555555555, log_loss=0.9435930526193476), Experiment(n_samples=120, repeat=1, accuracy=0.9066666666666666, log_loss=0.9038880210767652), Experiment(n_samples=150, repeat=1, accuracy=0.94, log_loss=0.8437975573718104), Experiment(n_samples=180, repeat=1, accuracy=0.9711111111111111, log_loss=0.7712962264780376), Experiment(n_samples=210, repeat=1, accuracy=0.9622222222222222, log_loss=0.7491672893741721), Experiment(n_samples=240, repeat=1, accuracy=0.9622222222222222, log_loss=0.6738484440151149), Experiment(n_samples=270, repeat=1, accuracy=0.9733333333333334, log_loss=0.6635292805303392), Experiment(n_samples=30, repeat=2, accuracy=0.5644444444444444, log_loss=1.6029609534515552), Experiment(n_samples=60, repeat=2, accuracy=0.8466666666666667, log_loss=1.0792339025126136), Experiment(n_samples=90, repeat=2, accuracy=0.9133333333333333, log_loss=0.9515793844559602), Experiment(n_samples=120, repeat=2, accuracy=0.9266666666666666, log_loss=0.8896186477954241), Experiment(n_samples=150, repeat=2, accuracy=0.9333333333333333, log_loss=0.8516985307474618), Experiment(n_samples=180, repeat=2, accuracy=0.9488888888888889, log_loss=0.8046606790141162), Experiment(n_samples=210, repeat=2, accuracy=0.9622222222222222, log_loss=0.7290451186688687), Experiment(n_samples=240, repeat=2, accuracy=0.9777777777777777, log_loss=0.6810805766769309), Experiment(n_samples=270, repeat=2, accuracy=0.9688888888888889, log_loss=0.660853760096589)]\n",
            "[Experiment(n_samples=30, repeat=0, accuracy=0.5644444444444444, log_loss=1.57258165200595), Experiment(n_samples=60, repeat=0, accuracy=0.8511111111111112, log_loss=1.0389744033884318), Experiment(n_samples=90, repeat=0, accuracy=0.9022222222222223, log_loss=0.9123919137044322), Experiment(n_samples=120, repeat=0, accuracy=0.9466666666666667, log_loss=0.8185700213957351), Experiment(n_samples=150, repeat=0, accuracy=0.9555555555555556, log_loss=0.7855525265448625), Experiment(n_samples=180, repeat=0, accuracy=0.9533333333333334, log_loss=0.7675787136470662), Experiment(n_samples=210, repeat=0, accuracy=0.9533333333333334, log_loss=0.7010637513933867), Experiment(n_samples=240, repeat=0, accuracy=0.9733333333333334, log_loss=0.6700623946566132), Experiment(n_samples=270, repeat=0, accuracy=0.9688888888888889, log_loss=0.6263908095695495), Experiment(n_samples=30, repeat=1, accuracy=0.6022222222222222, log_loss=1.4415354345184708), Experiment(n_samples=60, repeat=1, accuracy=0.8311111111111111, log_loss=1.0536911695193247), Experiment(n_samples=90, repeat=1, accuracy=0.9066666666666666, log_loss=0.8996219067951694), Experiment(n_samples=120, repeat=1, accuracy=0.9533333333333334, log_loss=0.8134138599767639), Experiment(n_samples=150, repeat=1, accuracy=0.9711111111111111, log_loss=0.7416428521416524), Experiment(n_samples=180, repeat=1, accuracy=0.9755555555555555, log_loss=0.7363624965886899), Experiment(n_samples=210, repeat=1, accuracy=0.9777777777777777, log_loss=0.6710459589648406), Experiment(n_samples=240, repeat=1, accuracy=0.9711111111111111, log_loss=0.6925564524107017), Experiment(n_samples=270, repeat=1, accuracy=0.9844444444444445, log_loss=0.6505616566893179), Experiment(n_samples=30, repeat=2, accuracy=0.5644444444444444, log_loss=1.6029609534515552), Experiment(n_samples=60, repeat=2, accuracy=0.8177777777777778, log_loss=1.0341592323015045), Experiment(n_samples=90, repeat=2, accuracy=0.9, log_loss=0.9141692160142681), Experiment(n_samples=120, repeat=2, accuracy=0.9244444444444444, log_loss=0.8456902514209761), Experiment(n_samples=150, repeat=2, accuracy=0.9422222222222222, log_loss=0.7854022375482533), Experiment(n_samples=180, repeat=2, accuracy=0.9688888888888889, log_loss=0.7181112316204414), Experiment(n_samples=210, repeat=2, accuracy=0.9577777777777777, log_loss=0.6962520849112688), Experiment(n_samples=240, repeat=2, accuracy=0.9711111111111111, log_loss=0.6598256903055189), Experiment(n_samples=270, repeat=2, accuracy=0.9733333333333334, log_loss=0.6438327046024139)]\n",
            "[Experiment(n_samples=30, repeat=0, accuracy=0.5644444444444444, log_loss=1.57258165200595), Experiment(n_samples=60, repeat=0, accuracy=0.7844444444444445, log_loss=1.06733988464409), Experiment(n_samples=90, repeat=0, accuracy=0.9088888888888889, log_loss=1.002131092208992), Experiment(n_samples=120, repeat=0, accuracy=0.9422222222222222, log_loss=0.8274608098924499), Experiment(n_samples=150, repeat=0, accuracy=0.9355555555555556, log_loss=0.7943289856815704), Experiment(n_samples=180, repeat=0, accuracy=0.9511111111111111, log_loss=0.7309733864871664), Experiment(n_samples=210, repeat=0, accuracy=0.9533333333333334, log_loss=0.6939267220122795), Experiment(n_samples=240, repeat=0, accuracy=0.9622222222222222, log_loss=0.672547627364892), Experiment(n_samples=270, repeat=0, accuracy=0.9688888888888889, log_loss=0.6108184057499881), Experiment(n_samples=30, repeat=1, accuracy=0.6022222222222222, log_loss=1.4415354345184708), Experiment(n_samples=60, repeat=1, accuracy=0.8422222222222222, log_loss=1.079800092548135), Experiment(n_samples=90, repeat=1, accuracy=0.9177777777777778, log_loss=0.9828604485252836), Experiment(n_samples=120, repeat=1, accuracy=0.9044444444444445, log_loss=0.8790306439586718), Experiment(n_samples=150, repeat=1, accuracy=0.9333333333333333, log_loss=0.8119323553827745), Experiment(n_samples=180, repeat=1, accuracy=0.9577777777777777, log_loss=0.7644474544998472), Experiment(n_samples=210, repeat=1, accuracy=0.9688888888888889, log_loss=0.6843936287437673), Experiment(n_samples=240, repeat=1, accuracy=0.9644444444444444, log_loss=0.6422961702549869), Experiment(n_samples=270, repeat=1, accuracy=0.9822222222222222, log_loss=0.6313322107729271), Experiment(n_samples=30, repeat=2, accuracy=0.5644444444444444, log_loss=1.6029609534515552), Experiment(n_samples=60, repeat=2, accuracy=0.8444444444444444, log_loss=1.0489398643105696), Experiment(n_samples=90, repeat=2, accuracy=0.8622222222222222, log_loss=0.9508534969245089), Experiment(n_samples=120, repeat=2, accuracy=0.92, log_loss=0.863396139681445), Experiment(n_samples=150, repeat=2, accuracy=0.9422222222222222, log_loss=0.7841534255907268), Experiment(n_samples=180, repeat=2, accuracy=0.9577777777777777, log_loss=0.7405588665223132), Experiment(n_samples=210, repeat=2, accuracy=0.9644444444444444, log_loss=0.737118904492561), Experiment(n_samples=240, repeat=2, accuracy=0.9755555555555555, log_loss=0.6662483099791229), Experiment(n_samples=270, repeat=2, accuracy=0.9622222222222222, log_loss=0.6307457676835871)]\n",
            "[Experiment(n_samples=30, repeat=0, accuracy=0.5644444444444444, log_loss=1.57258165200595), Experiment(n_samples=60, repeat=0, accuracy=0.7177777777777777, log_loss=1.147933532282713), Experiment(n_samples=90, repeat=0, accuracy=0.8266666666666667, log_loss=0.990432284515285), Experiment(n_samples=120, repeat=0, accuracy=0.8622222222222222, log_loss=0.8431898401671328), Experiment(n_samples=150, repeat=0, accuracy=0.8822222222222222, log_loss=0.7304841810100731), Experiment(n_samples=180, repeat=0, accuracy=0.9044444444444445, log_loss=0.7557713686980417), Experiment(n_samples=210, repeat=0, accuracy=0.9266666666666666, log_loss=0.6446797911068274), Experiment(n_samples=240, repeat=0, accuracy=0.9244444444444444, log_loss=0.6378133294006256), Experiment(n_samples=270, repeat=0, accuracy=0.9266666666666666, log_loss=0.5905119267498632), Experiment(n_samples=30, repeat=1, accuracy=0.6022222222222222, log_loss=1.4415354345184708), Experiment(n_samples=60, repeat=1, accuracy=0.8, log_loss=1.072894828491426), Experiment(n_samples=90, repeat=1, accuracy=0.8511111111111112, log_loss=0.9036584189973138), Experiment(n_samples=120, repeat=1, accuracy=0.8755555555555555, log_loss=0.881281956659555), Experiment(n_samples=150, repeat=1, accuracy=0.9044444444444445, log_loss=0.7374035714782815), Experiment(n_samples=180, repeat=1, accuracy=0.8911111111111111, log_loss=0.7004627882233568), Experiment(n_samples=210, repeat=1, accuracy=0.9133333333333333, log_loss=0.6518711039920959), Experiment(n_samples=240, repeat=1, accuracy=0.9155555555555556, log_loss=0.6131120025229628), Experiment(n_samples=270, repeat=1, accuracy=0.92, log_loss=0.5798687367484331), Experiment(n_samples=30, repeat=2, accuracy=0.5644444444444444, log_loss=1.6029609534515552), Experiment(n_samples=60, repeat=2, accuracy=0.7644444444444445, log_loss=1.0306554345649312), Experiment(n_samples=90, repeat=2, accuracy=0.8377777777777777, log_loss=0.8658762937267301), Experiment(n_samples=120, repeat=2, accuracy=0.8866666666666667, log_loss=0.7695080540882177), Experiment(n_samples=150, repeat=2, accuracy=0.8977777777777778, log_loss=0.7077485459238291), Experiment(n_samples=180, repeat=2, accuracy=0.9, log_loss=0.6794852938188853), Experiment(n_samples=210, repeat=2, accuracy=0.9, log_loss=0.7146817286063314), Experiment(n_samples=240, repeat=2, accuracy=0.9066666666666666, log_loss=0.6224000571035921), Experiment(n_samples=270, repeat=2, accuracy=0.9111111111111111, log_loss=0.5930795624564837)]\n"
          ],
          "name": "stdout"
        }
      ]
    },
    {
      "cell_type": "code",
      "metadata": {
        "colab": {
          "base_uri": "https://localhost:8080/",
          "height": 292
        },
        "id": "jMDIu-PGuLrL",
        "outputId": "198c741f-a187-4804-e70f-d1fd4c429757"
      },
      "source": [
        "# show accuracy plot\n",
        "\n",
        "def plot_learning_curve(df, name):\n",
        "    # Compute percentiles\n",
        "    p10 = df.groupby('n_samples').quantile(.10)['accuracy']\n",
        "    p50 = df.groupby('n_samples').median()['accuracy']\n",
        "    p90 = df.groupby('n_samples').quantile(.90)['accuracy']\n",
        "    training_sizes= p50.index.to_numpy()\n",
        "\n",
        "    with plt.style.context('seaborn-white'):\n",
        "        plt.title('Active Learning vs Random Sampling Crisis MMD')\n",
        "        plt.plot(training_sizes, p50, label=name )\n",
        "\n",
        "        # show standard deviation\n",
        "        plt.fill_between(training_sizes, p10, p90,alpha=0.1)\n",
        "    plt.legend(loc='lower right')\n",
        "    plt.xlabel(\"Number of sample\")\n",
        "    plt.ylabel(\"Accuracy\")\n",
        "    plt.grid()\n",
        "    #plt.show()\n",
        "\n",
        "df_us = pd.DataFrame([dataclasses.asdict(e) for e in experiment_uncertainty])\n",
        "df_ms = pd.DataFrame([dataclasses.asdict(e) for e in experiment_margin])\n",
        "df_es = pd.DataFrame([dataclasses.asdict(e) for e in experiment_entropy])\n",
        "df_rs = pd.DataFrame([dataclasses.asdict(e) for e in experiment_random])\n",
        "plot_learning_curve(df_us, \"Uncertainty\")\n",
        "plot_learning_curve(df_ms, \"Margin\")\n",
        "plot_learning_curve(df_es, \"Entropy\")\n",
        "plot_learning_curve(df_rs, \"Random\")"
      ],
      "execution_count": 13,
      "outputs": [
        {
          "output_type": "display_data",
          "data": {
            "image/png": "[encoded data removed]",
            "text/plain": [
              "<Figure size 432x288 with 1 Axes>"
            ]
          },
          "metadata": {
            "tags": []
          }
        }
      ]
    },
    {
      "cell_type": "code",
      "metadata": {
        "colab": {
          "base_uri": "https://localhost:8080/",
          "height": 292
        },
        "id": "Hc9BxrwbkGIh",
        "outputId": "412aa348-9eea-4020-9a9a-9d2651006603"
      },
      "source": [
        "# show log loss plot\n",
        "\n",
        "def plot_learning_curve(df, name):\n",
        "    # Compute percentiles\n",
        "    p10 = df.groupby('n_samples').quantile(.10)['log_loss']\n",
        "    p50 = df.groupby('n_samples').median()['log_loss']\n",
        "    p90 = df.groupby('n_samples').quantile(.90)['log_loss']\n",
        "    training_sizes= p50.index.to_numpy()\n",
        "\n",
        "    with plt.style.context('seaborn-white'):\n",
        "        plt.title('Active Learning vs Random Sampling Crisis MMD')\n",
        "        plt.plot(training_sizes, p50, label=name )\n",
        "\n",
        "        # show standard deviation\n",
        "        plt.fill_between(training_sizes, p10, p90,alpha=0.1)\n",
        "    plt.legend(loc='upper right')\n",
        "    plt.xlabel(\"Number of sample\")\n",
        "    plt.ylabel(\"Log Loss\")\n",
        "    plt.grid()\n",
        "    #plt.show()\n",
        "\n",
        "df_us = pd.DataFrame([dataclasses.asdict(e) for e in experiment_uncertainty])\n",
        "df_ms = pd.DataFrame([dataclasses.asdict(e) for e in experiment_margin])\n",
        "df_es = pd.DataFrame([dataclasses.asdict(e) for e in experiment_entropy])\n",
        "df_rs = pd.DataFrame([dataclasses.asdict(e) for e in experiment_random])\n",
        "plot_learning_curve(df_us, \"Uncertainty\")\n",
        "plot_learning_curve(df_ms, \"Margin\")\n",
        "plot_learning_curve(df_es, \"Entropy\")\n",
        "plot_learning_curve(df_rs, \"Random\")"
      ],
      "execution_count": 14,
      "outputs": [
        {
          "output_type": "display_data",
          "data": {
            "image/png": "[encoded data removed]",
            "text/plain": [
              "<Figure size 432x288 with 1 Axes>"
            ]
          },
          "metadata": {
            "tags": []
          }
        }
      ]
    },
    {
      "cell_type": "code",
      "metadata": {
        "colab": {
          "base_uri": "https://localhost:8080/"
        },
        "id": "NE5_gT1Mi07y",
        "outputId": "45ec6aab-b311-4202-a289-83207608d6aa"
      },
      "source": [
        "# show precision, recall, f-1 score for final n_sample active learning\n",
        "\n",
        "print(result_rf_uncertainty)\n",
        "print(result_rf_margin)\n",
        "print(result_rf_entropy)\n",
        "\n",
        "print(result_rf_time_uncertainty)\n",
        "print(result_rf_time_margin)\n",
        "print(result_rf_time_entropy)"
      ],
      "execution_count": 15,
      "outputs": [
        {
          "output_type": "stream",
          "text": [
            "              precision    recall  f1-score   support\n",
            "\n",
            "           0       1.00      0.98      0.99        51\n",
            "           1       0.91      1.00      0.95        42\n",
            "           2       0.97      0.95      0.96        41\n",
            "           3       0.97      0.97      0.97        40\n",
            "           4       0.96      1.00      0.98        52\n",
            "           5       1.00      0.94      0.97        48\n",
            "           6       0.98      0.96      0.97        48\n",
            "           7       0.98      1.00      0.99        41\n",
            "           8       0.98      0.93      0.95        45\n",
            "           9       0.93      0.95      0.94        42\n",
            "\n",
            "    accuracy                           0.97       450\n",
            "   macro avg       0.97      0.97      0.97       450\n",
            "weighted avg       0.97      0.97      0.97       450\n",
            "\n",
            "              precision    recall  f1-score   support\n",
            "\n",
            "           0       0.98      1.00      0.99        51\n",
            "           1       0.91      1.00      0.95        42\n",
            "           2       0.98      1.00      0.99        41\n",
            "           3       0.97      0.97      0.97        40\n",
            "           4       0.98      0.98      0.98        52\n",
            "           5       1.00      0.94      0.97        48\n",
            "           6       1.00      0.98      0.99        48\n",
            "           7       0.95      1.00      0.98        41\n",
            "           8       1.00      0.93      0.97        45\n",
            "           9       0.95      0.93      0.94        42\n",
            "\n",
            "    accuracy                           0.97       450\n",
            "   macro avg       0.97      0.97      0.97       450\n",
            "weighted avg       0.97      0.97      0.97       450\n",
            "\n",
            "              precision    recall  f1-score   support\n",
            "\n",
            "           0       1.00      1.00      1.00        51\n",
            "           1       0.93      1.00      0.97        42\n",
            "           2       1.00      0.90      0.95        41\n",
            "           3       0.93      1.00      0.96        40\n",
            "           4       0.98      0.96      0.97        52\n",
            "           5       0.98      0.92      0.95        48\n",
            "           6       1.00      0.98      0.99        48\n",
            "           7       0.93      1.00      0.96        41\n",
            "           8       0.91      0.91      0.91        45\n",
            "           9       0.95      0.95      0.95        42\n",
            "\n",
            "    accuracy                           0.96       450\n",
            "   macro avg       0.96      0.96      0.96       450\n",
            "weighted avg       0.96      0.96      0.96       450\n",
            "\n",
            "123.92946648597717\n",
            "123.62963199615479\n",
            "123.82277083396912\n"
          ],
          "name": "stdout"
        }
      ]
    },
    {
      "cell_type": "code",
      "metadata": {
        "colab": {
          "base_uri": "https://localhost:8080/"
        },
        "id": "nntoUrRykfN9",
        "outputId": "17bb76c9-0562-4edc-e1a1-eaeebc35c5c0"
      },
      "source": [
        "# show precision, recall, f-1 score for final n_sample random sampling\n",
        "\n",
        "print(res_random)\n",
        "print(time_random)"
      ],
      "execution_count": 16,
      "outputs": [
        {
          "output_type": "stream",
          "text": [
            "              precision    recall  f1-score   support\n",
            "\n",
            "           0       0.98      1.00      0.99        51\n",
            "           1       0.82      0.98      0.89        42\n",
            "           2       1.00      0.80      0.89        41\n",
            "           3       0.83      0.97      0.90        40\n",
            "           4       0.98      0.94      0.96        52\n",
            "           5       1.00      0.79      0.88        48\n",
            "           6       0.98      0.98      0.98        48\n",
            "           7       0.89      1.00      0.94        41\n",
            "           8       0.88      0.82      0.85        45\n",
            "           9       0.77      0.81      0.79        42\n",
            "\n",
            "    accuracy                           0.91       450\n",
            "   macro avg       0.91      0.91      0.91       450\n",
            "weighted avg       0.92      0.91      0.91       450\n",
            "\n",
            "4.637619972229004\n"
          ],
          "name": "stdout"
        }
      ]
    }
  ]
}