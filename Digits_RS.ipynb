{
  "nbformat": 4,
  "nbformat_minor": 0,
  "metadata": {
    "colab": {
      "name": "Digits_RS.ipynb",
      "provenance": [],
      "collapsed_sections": [],
      "authorship_tag": "ABX9TyOnvOZ+wPWdp2ehm7CySr9W",
      "include_colab_link": true
    },
    "kernelspec": {
      "name": "python3",
      "display_name": "Python 3"
    },
    "language_info": {
      "name": "python"
    }
  },
  "cells": [
    {
      "cell_type": "markdown",
      "metadata": {
        "id": "view-in-github",
        "colab_type": "text"
      },
      "source": [
        "<a href=\"https://colab.research.google.com/github/hafizbudi/active-learning/blob/main/Digits_RS.ipynb\" target=\"_parent\"><img src=\"https://colab.research.google.com/assets/colab-badge.svg\" alt=\"Open In Colab\"/></a>"
      ]
    },
    {
      "cell_type": "markdown",
      "metadata": {
        "id": "LByafSEGh4My"
      },
      "source": [
        "**Connect to google drive**"
      ]
    },
    {
      "cell_type": "code",
      "metadata": {
        "id": "5mgtAh-gOri5",
        "colab": {
          "base_uri": "https://localhost:8080/"
        },
        "outputId": "17b25799-4d7a-4370-83c9-819057cbadc1"
      },
      "source": [
        "from google.colab import drive\n",
        "drive.mount('/content/gdrive')"
      ],
      "execution_count": 4,
      "outputs": [
        {
          "output_type": "stream",
          "text": [
            "Mounted at /content/gdrive\n"
          ],
          "name": "stdout"
        }
      ]
    },
    {
      "cell_type": "code",
      "metadata": {
        "id": "SDfqdA8JOuuO"
      },
      "source": [
        "%cd gdrive/My Drive/Project/multimodal_social_media"
      ],
      "execution_count": null,
      "outputs": []
    },
    {
      "cell_type": "markdown",
      "metadata": {
        "id": "fggSva9gh-KG"
      },
      "source": [
        "**Library and load dataset**"
      ]
    },
    {
      "cell_type": "code",
      "metadata": {
        "id": "0jbDo2GYBMD_"
      },
      "source": [
        "from dataclasses import dataclass\n",
        "import dataclasses\n",
        "import matplotlib.pyplot as plt\n",
        "import matplotlib.ticker as mticker\n",
        "import pandas as pd\n",
        "import numpy as np\n",
        "import statistics\n",
        "from tqdm import tqdm\n",
        "import scipy\n",
        "\n",
        "from sklearn.datasets import load_digits\n",
        "from sklearn import datasets, metrics\n",
        "from sklearn.model_selection import train_test_split\n",
        "from sklearn.ensemble import RandomForestClassifier\n",
        "from sklearn.linear_model import LogisticRegression\n",
        "from IPython.display import Image\n",
        "import cv2\n",
        "from scipy.stats import entropy"
      ],
      "execution_count": 6,
      "outputs": []
    },
    {
      "cell_type": "markdown",
      "metadata": {
        "id": "EPNRKuPSiH_x"
      },
      "source": [
        "**Crisis MMD dataset**"
      ]
    },
    {
      "cell_type": "code",
      "metadata": {
        "id": "INcf7BfmZcdE"
      },
      "source": [
        "pd.options.display.max_colwidth = 100\n",
        "file_name = \"data/task_data/task_informative_text_img_agreed_lab_test.tsv\"\n",
        "df = pd.read_csv(file_name, sep='\\t', nrows=1000)\n",
        "\n",
        "label_cat = {\"label_image\":{\"informative\":1,\"not_informative\":0}}\n",
        "df.label_image = pd.Categorical(df.label_image)\n",
        "df['label_image_code'] = df.label_image.cat.codes\n",
        "\n",
        "df[['image','label_image','label_image_code']]\n",
        "\n",
        "\n",
        "img_arr = []\n",
        "for index,row in df.iterrows():\n",
        "  tmp = cv2.imread(row['image'],0)\n",
        "  new_tmp = cv2.resize(tmp,(255,255))\n",
        "  img_arr_tmp = new_tmp.ravel()\n",
        "  tmp2 = np.array(img_arr_tmp)\n",
        "  img_arr.append(tmp2)\n",
        "\n",
        "converted_img_arr = np.array(img_arr)"
      ],
      "execution_count": 7,
      "outputs": []
    },
    {
      "cell_type": "code",
      "metadata": {
        "id": "YZOLZG9jTWIn"
      },
      "source": [
        "X = converted_img_arr\n",
        "y = df['label_image_code'].values\n",
        "\n",
        "X_train, X_test, y_train, y_test = train_test_split(X, y, test_size=0.25)"
      ],
      "execution_count": 8,
      "outputs": []
    },
    {
      "cell_type": "markdown",
      "metadata": {
        "id": "rAx_tKZ2bRs2"
      },
      "source": [
        "**Digits dataset**"
      ]
    },
    {
      "cell_type": "code",
      "metadata": {
        "id": "fTIMVW3taHCV"
      },
      "source": [
        "digits = load_digits()\n",
        "\n",
        "# array to save number of instance and accuracy result\n",
        "instance_number = []\n",
        "accuracy_result = []\n",
        "\n",
        "# flatten into 1d array\n",
        "n_samples = len(digits.images)\n",
        "X = digits.images.reshape((n_samples, -1))\n",
        "Y = digits.target\n",
        "\n",
        "# train test split\n",
        "X_train, X_test, y_train, y_test = train_test_split(X, Y, test_size=0.25)"
      ],
      "execution_count": 54,
      "outputs": []
    },
    {
      "cell_type": "markdown",
      "metadata": {
        "id": "OHwOXNnwiWg4"
      },
      "source": [
        "**Function**"
      ]
    },
    {
      "cell_type": "code",
      "metadata": {
        "id": "sW8LG_ekaJk3"
      },
      "source": [
        "# data_points 30,...,390\n",
        "data_points=range(30,400,10)\n",
        "\n",
        "# train a classifier and predict\n",
        "def train_and_predict(n_instances, X_train, y_train, X_test):\n",
        "    clf = RandomForestClassifier()\n",
        "    \n",
        "    dataset_size = len(X_train)\n",
        "    potential_candidates = list(range(dataset_size))\n",
        "    train_indexes = np.array(random.sample(potential_candidates, n_instances))\n",
        "    clf.fit(X_train[train_indexes], y_train[train_indexes])\n",
        "    predicted = clf.predict(X_test)\n",
        "    return predicted\n",
        "\n",
        "def random_selection_learning(n_instances, X_train, y_train):\n",
        "    clf = RandomForestClassifier()\n",
        "    X_selected, X_not_selected, y_selected, y_not_selected = \\\n",
        "        train_test_split(X_train, y_train, train_size=n_instances, shuffle=True)\n",
        "    clf.fit(X_selected, y_selected)\n",
        "    return clf, X_selected, X_not_selected, y_selected, y_not_selected"
      ],
      "execution_count": 9,
      "outputs": []
    },
    {
      "cell_type": "code",
      "metadata": {
        "colab": {
          "base_uri": "https://localhost:8080/"
        },
        "id": "qsEogbaWaPcF",
        "outputId": "7cbadd32-cebf-4dae-d425-118add5ef670"
      },
      "source": [
        "def evaluate(model, X_real, y_real):\n",
        "    y_predictions = model.predict(X_test)\n",
        "    accuracy = metrics.accuracy_score(y_real,y_predictions)\n",
        "    return accuracy\n",
        "\n",
        "@dataclass\n",
        "class Experiment:\n",
        "    n_samples: int\n",
        "    repeat: int\n",
        "    accuracy: float\n",
        "\n",
        "def random_sampling_policy(model, n_new_samples, X_remaining, y_remaining):\n",
        "    X_new_selected, X_remaining, y_new_selected, y_remaining = \\\n",
        "               train_test_split(X_remaining, y_remaining,  train_size=n_new_samples, shuffle=True)\n",
        "    return X_new_selected, X_remaining, y_new_selected, y_remaining\n",
        "\n",
        "def uncertainty_sampling_policy(model, n_new_samples, X_remaining, y_remaining):\n",
        "    y_proba = model.predict_proba(X_remaining)\n",
        "    uncertainty = 1. - np.max(y_proba, axis=1)\n",
        "   \n",
        "    ordered_positions = uncertainty.argsort()\n",
        "    selected = ordered_positions[-n_new_samples:]\n",
        "    non_selected = ordered_positions[:-n_new_samples]\n",
        "\n",
        " \n",
        "    return X_remaining[selected], X_remaining[non_selected], y_remaining[selected], y_remaining[non_selected]\n",
        "\n",
        "def learning_curve(data_points, repeats, selection_policy):\n",
        "    experiments = []\n",
        "    for i in tqdm(range(repeats)):\n",
        "        #np.random.seed(123+i)\n",
        "        # First learn \n",
        "        n_samples = data_points[0]\n",
        "      \n",
        "        model, X_selected, X_remaining, y_selected, y_remaining = \\\n",
        "            random_selection_learning(n_samples, X_train, y_train)\n",
        "        acc = evaluate(model, X_test, y_test)\n",
        "        experiments.append(Experiment(n_samples=n_samples, repeat=i, accuracy=acc))\n",
        "        for n_samples in data_points[1:]:\n",
        "            # Select the additional examples\n",
        "            n_new_samples = n_samples - len(X_selected)\n",
        "            \n",
        "            X_new_selected, X_remaining, y_new_selected, y_remaining = \\\n",
        "                selection_policy(model, n_new_samples, X_remaining, y_remaining)\n",
        "            \n",
        "            X_selected = np.vstack((X_selected, X_new_selected))\n",
        "            y_selected = np.hstack((y_selected, y_new_selected))\n",
        "          \n",
        "            model.fit(X_selected, y_selected)\n",
        "            acc = evaluate(model, X_test, y_test)\n",
        "            experiments.append(Experiment(n_samples=n_samples, repeat=i, accuracy=acc))\n",
        "            \n",
        "    return experiments\n",
        "\n",
        "experiments_uncertainty = learning_curve(data_points, 2, uncertainty_sampling_policy)\n",
        "experiments_random = learning_curve(data_points, 2, random_sampling_policy)\n",
        "print(experiments_uncertainty)\n",
        "print(experiments_random)"
      ],
      "execution_count": 26,
      "outputs": [
        {
          "output_type": "stream",
          "text": [
            "100%|██████████| 2/2 [02:55<00:00, 87.58s/it]\n",
            "100%|██████████| 2/2 [03:00<00:00, 90.48s/it]"
          ],
          "name": "stderr"
        },
        {
          "output_type": "stream",
          "text": [
            "[Experiment(n_samples=30, repeat=0, accuracy=0.64), Experiment(n_samples=40, repeat=0, accuracy=0.644), Experiment(n_samples=50, repeat=0, accuracy=0.648), Experiment(n_samples=60, repeat=0, accuracy=0.66), Experiment(n_samples=70, repeat=0, accuracy=0.672), Experiment(n_samples=80, repeat=0, accuracy=0.68), Experiment(n_samples=90, repeat=0, accuracy=0.688), Experiment(n_samples=100, repeat=0, accuracy=0.676), Experiment(n_samples=110, repeat=0, accuracy=0.672), Experiment(n_samples=120, repeat=0, accuracy=0.68), Experiment(n_samples=130, repeat=0, accuracy=0.684), Experiment(n_samples=140, repeat=0, accuracy=0.704), Experiment(n_samples=150, repeat=0, accuracy=0.684), Experiment(n_samples=160, repeat=0, accuracy=0.692), Experiment(n_samples=170, repeat=0, accuracy=0.688), Experiment(n_samples=180, repeat=0, accuracy=0.68), Experiment(n_samples=190, repeat=0, accuracy=0.688), Experiment(n_samples=200, repeat=0, accuracy=0.672), Experiment(n_samples=210, repeat=0, accuracy=0.672), Experiment(n_samples=220, repeat=0, accuracy=0.7), Experiment(n_samples=230, repeat=0, accuracy=0.68), Experiment(n_samples=240, repeat=0, accuracy=0.684), Experiment(n_samples=250, repeat=0, accuracy=0.688), Experiment(n_samples=260, repeat=0, accuracy=0.7), Experiment(n_samples=270, repeat=0, accuracy=0.708), Experiment(n_samples=280, repeat=0, accuracy=0.66), Experiment(n_samples=290, repeat=0, accuracy=0.696), Experiment(n_samples=300, repeat=0, accuracy=0.672), Experiment(n_samples=310, repeat=0, accuracy=0.676), Experiment(n_samples=320, repeat=0, accuracy=0.704), Experiment(n_samples=330, repeat=0, accuracy=0.676), Experiment(n_samples=340, repeat=0, accuracy=0.676), Experiment(n_samples=350, repeat=0, accuracy=0.7), Experiment(n_samples=360, repeat=0, accuracy=0.704), Experiment(n_samples=370, repeat=0, accuracy=0.692), Experiment(n_samples=380, repeat=0, accuracy=0.692), Experiment(n_samples=390, repeat=0, accuracy=0.676), Experiment(n_samples=30, repeat=1, accuracy=0.664), Experiment(n_samples=40, repeat=1, accuracy=0.672), Experiment(n_samples=50, repeat=1, accuracy=0.668), Experiment(n_samples=60, repeat=1, accuracy=0.672), Experiment(n_samples=70, repeat=1, accuracy=0.668), Experiment(n_samples=80, repeat=1, accuracy=0.672), Experiment(n_samples=90, repeat=1, accuracy=0.664), Experiment(n_samples=100, repeat=1, accuracy=0.668), Experiment(n_samples=110, repeat=1, accuracy=0.664), Experiment(n_samples=120, repeat=1, accuracy=0.668), Experiment(n_samples=130, repeat=1, accuracy=0.66), Experiment(n_samples=140, repeat=1, accuracy=0.676), Experiment(n_samples=150, repeat=1, accuracy=0.684), Experiment(n_samples=160, repeat=1, accuracy=0.696), Experiment(n_samples=170, repeat=1, accuracy=0.684), Experiment(n_samples=180, repeat=1, accuracy=0.676), Experiment(n_samples=190, repeat=1, accuracy=0.672), Experiment(n_samples=200, repeat=1, accuracy=0.684), Experiment(n_samples=210, repeat=1, accuracy=0.684), Experiment(n_samples=220, repeat=1, accuracy=0.696), Experiment(n_samples=230, repeat=1, accuracy=0.676), Experiment(n_samples=240, repeat=1, accuracy=0.692), Experiment(n_samples=250, repeat=1, accuracy=0.692), Experiment(n_samples=260, repeat=1, accuracy=0.68), Experiment(n_samples=270, repeat=1, accuracy=0.68), Experiment(n_samples=280, repeat=1, accuracy=0.668), Experiment(n_samples=290, repeat=1, accuracy=0.68), Experiment(n_samples=300, repeat=1, accuracy=0.684), Experiment(n_samples=310, repeat=1, accuracy=0.688), Experiment(n_samples=320, repeat=1, accuracy=0.692), Experiment(n_samples=330, repeat=1, accuracy=0.68), Experiment(n_samples=340, repeat=1, accuracy=0.684), Experiment(n_samples=350, repeat=1, accuracy=0.684), Experiment(n_samples=360, repeat=1, accuracy=0.684), Experiment(n_samples=370, repeat=1, accuracy=0.692), Experiment(n_samples=380, repeat=1, accuracy=0.688), Experiment(n_samples=390, repeat=1, accuracy=0.684)]\n",
            "[Experiment(n_samples=30, repeat=0, accuracy=0.68), Experiment(n_samples=40, repeat=0, accuracy=0.684), Experiment(n_samples=50, repeat=0, accuracy=0.668), Experiment(n_samples=60, repeat=0, accuracy=0.664), Experiment(n_samples=70, repeat=0, accuracy=0.62), Experiment(n_samples=80, repeat=0, accuracy=0.648), Experiment(n_samples=90, repeat=0, accuracy=0.648), Experiment(n_samples=100, repeat=0, accuracy=0.656), Experiment(n_samples=110, repeat=0, accuracy=0.636), Experiment(n_samples=120, repeat=0, accuracy=0.652), Experiment(n_samples=130, repeat=0, accuracy=0.668), Experiment(n_samples=140, repeat=0, accuracy=0.652), Experiment(n_samples=150, repeat=0, accuracy=0.672), Experiment(n_samples=160, repeat=0, accuracy=0.664), Experiment(n_samples=170, repeat=0, accuracy=0.668), Experiment(n_samples=180, repeat=0, accuracy=0.676), Experiment(n_samples=190, repeat=0, accuracy=0.676), Experiment(n_samples=200, repeat=0, accuracy=0.68), Experiment(n_samples=210, repeat=0, accuracy=0.672), Experiment(n_samples=220, repeat=0, accuracy=0.676), Experiment(n_samples=230, repeat=0, accuracy=0.66), Experiment(n_samples=240, repeat=0, accuracy=0.664), Experiment(n_samples=250, repeat=0, accuracy=0.664), Experiment(n_samples=260, repeat=0, accuracy=0.684), Experiment(n_samples=270, repeat=0, accuracy=0.66), Experiment(n_samples=280, repeat=0, accuracy=0.668), Experiment(n_samples=290, repeat=0, accuracy=0.652), Experiment(n_samples=300, repeat=0, accuracy=0.676), Experiment(n_samples=310, repeat=0, accuracy=0.668), Experiment(n_samples=320, repeat=0, accuracy=0.672), Experiment(n_samples=330, repeat=0, accuracy=0.672), Experiment(n_samples=340, repeat=0, accuracy=0.676), Experiment(n_samples=350, repeat=0, accuracy=0.684), Experiment(n_samples=360, repeat=0, accuracy=0.696), Experiment(n_samples=370, repeat=0, accuracy=0.68), Experiment(n_samples=380, repeat=0, accuracy=0.68), Experiment(n_samples=390, repeat=0, accuracy=0.664), Experiment(n_samples=30, repeat=1, accuracy=0.648), Experiment(n_samples=40, repeat=1, accuracy=0.624), Experiment(n_samples=50, repeat=1, accuracy=0.668), Experiment(n_samples=60, repeat=1, accuracy=0.644), Experiment(n_samples=70, repeat=1, accuracy=0.648), Experiment(n_samples=80, repeat=1, accuracy=0.668), Experiment(n_samples=90, repeat=1, accuracy=0.7), Experiment(n_samples=100, repeat=1, accuracy=0.672), Experiment(n_samples=110, repeat=1, accuracy=0.672), Experiment(n_samples=120, repeat=1, accuracy=0.668), Experiment(n_samples=130, repeat=1, accuracy=0.672), Experiment(n_samples=140, repeat=1, accuracy=0.696), Experiment(n_samples=150, repeat=1, accuracy=0.692), Experiment(n_samples=160, repeat=1, accuracy=0.688), Experiment(n_samples=170, repeat=1, accuracy=0.688), Experiment(n_samples=180, repeat=1, accuracy=0.72), Experiment(n_samples=190, repeat=1, accuracy=0.66), Experiment(n_samples=200, repeat=1, accuracy=0.66), Experiment(n_samples=210, repeat=1, accuracy=0.688), Experiment(n_samples=220, repeat=1, accuracy=0.684), Experiment(n_samples=230, repeat=1, accuracy=0.692), Experiment(n_samples=240, repeat=1, accuracy=0.704), Experiment(n_samples=250, repeat=1, accuracy=0.704), Experiment(n_samples=260, repeat=1, accuracy=0.704), Experiment(n_samples=270, repeat=1, accuracy=0.672), Experiment(n_samples=280, repeat=1, accuracy=0.684), Experiment(n_samples=290, repeat=1, accuracy=0.692), Experiment(n_samples=300, repeat=1, accuracy=0.676), Experiment(n_samples=310, repeat=1, accuracy=0.696), Experiment(n_samples=320, repeat=1, accuracy=0.696), Experiment(n_samples=330, repeat=1, accuracy=0.696), Experiment(n_samples=340, repeat=1, accuracy=0.692), Experiment(n_samples=350, repeat=1, accuracy=0.644), Experiment(n_samples=360, repeat=1, accuracy=0.7), Experiment(n_samples=370, repeat=1, accuracy=0.696), Experiment(n_samples=380, repeat=1, accuracy=0.708), Experiment(n_samples=390, repeat=1, accuracy=0.704)]\n"
          ],
          "name": "stdout"
        },
        {
          "output_type": "stream",
          "text": [
            "\n"
          ],
          "name": "stderr"
        }
      ]
    },
    {
      "cell_type": "code",
      "metadata": {
        "id": "VObdi9jIaYxH"
      },
      "source": [
        "def plot_learning_curve(df, name):\n",
        "  \n",
        "    # Compute percentiles\n",
        "    p10 = df.groupby('n_samples').quantile(.10)['accuracy']\n",
        "    p50 = df.groupby('n_samples').median()['accuracy']\n",
        "    p90 = df.groupby('n_samples').quantile(.90)['accuracy']\n",
        "    training_sizes= p50.index.to_numpy()\n",
        "\n",
        "    with plt.style.context('seaborn-white'):\n",
        "        plt.title('Learning curve for classifier '+name)\n",
        "        plt.plot(training_sizes, p50, label=name, marker='o')\n",
        "\n",
        "        # show standard deviation\n",
        "        plt.fill_between(training_sizes, p10, p90,alpha=0.1)\n",
        "\n",
        "    plt.legend(loc='lower right')\n",
        "    plt.xlabel(\"N sample\")\n",
        "    plt.ylabel(\"Accuracy\")\n",
        "    plt.grid()"
      ],
      "execution_count": 27,
      "outputs": []
    },
    {
      "cell_type": "markdown",
      "metadata": {
        "id": "-y9Fpbz4badR"
      },
      "source": [
        "**Plot learning curve**"
      ]
    },
    {
      "cell_type": "code",
      "metadata": {
        "colab": {
          "base_uri": "https://localhost:8080/",
          "height": 292
        },
        "id": "ZN5799FTabQ-",
        "outputId": "b61fa50d-bcaa-4c18-cddc-76f4aec3cf1c"
      },
      "source": [
        "df_random = pd.DataFrame([dataclasses.asdict(e) for e in experiments_random])\n",
        "df_us = pd.DataFrame([dataclasses.asdict(e) for e in experiments_uncertainty])\n",
        "\n",
        "plot_learning_curve(df_random, \"Random\")\n",
        "plot_learning_curve(df_us, \"Uncertainty\")"
      ],
      "execution_count": 28,
      "outputs": [
        {
          "output_type": "display_data",
          "data": {
            "image/png": "[encoded data removed]",
            "text/plain": [
              "<Figure size 432x288 with 1 Axes>"
            ]
          },
          "metadata": {
            "tags": []
          }
        }
      ]
    }
  ]
}