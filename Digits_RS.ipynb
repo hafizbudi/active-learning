{
  "nbformat": 4,
  "nbformat_minor": 0,
  "metadata": {
    "colab": {
      "name": "Digits_RS.ipynb",
      "provenance": [],
      "collapsed_sections": [],
      "authorship_tag": "ABX9TyO53hi40GfBNBFPI6jazk7X",
      "include_colab_link": true
    },
    "kernelspec": {
      "name": "python3",
      "display_name": "Python 3"
    },
    "language_info": {
      "name": "python"
    }
  },
  "cells": [
    {
      "cell_type": "markdown",
      "metadata": {
        "id": "view-in-github",
        "colab_type": "text"
      },
      "source": [
        "<a href=\"https://colab.research.google.com/github/hafizbudi/active-learning/blob/main/Digits_RS.ipynb\" target=\"_parent\"><img src=\"https://colab.research.google.com/assets/colab-badge.svg\" alt=\"Open In Colab\"/></a>"
      ]
    },
    {
      "cell_type": "markdown",
      "metadata": {
        "id": "mN4dzlYaDzFR"
      },
      "source": [
        "## **Digits with random sampling**"
      ]
    },
    {
      "cell_type": "markdown",
      "metadata": {
        "id": "W0RrpqbbD3dq"
      },
      "source": [
        "## **Connect to google drive**"
      ]
    },
    {
      "cell_type": "code",
      "metadata": {
        "id": "DuvgfCpIDvt2"
      },
      "source": [
        "from google.colab import drive\n",
        "drive.mount('/content/gdrive')"
      ],
      "execution_count": null,
      "outputs": []
    },
    {
      "cell_type": "code",
      "metadata": {
        "id": "eJwlOMRiEH1p"
      },
      "source": [
        "%cd gdrive/My Drive/Project/active_learning"
      ],
      "execution_count": null,
      "outputs": []
    },
    {
      "cell_type": "markdown",
      "metadata": {
        "id": "RZ2NcwtkKeda"
      },
      "source": [
        "## **Load library and digits data**"
      ]
    },
    {
      "cell_type": "code",
      "metadata": {
        "id": "FsK42GhpKZ4t"
      },
      "source": [
        "import matplotlib.pyplot as plt\n",
        "import pandas as pd\n",
        "import numpy as np\n",
        "\n",
        "from sklearn.datasets import load_digits\n",
        "from sklearn import datasets, metrics\n",
        "from sklearn.model_selection import train_test_split\n",
        "from sklearn.ensemble import RandomForestClassifier\n"
      ],
      "execution_count": null,
      "outputs": []
    },
    {
      "cell_type": "code",
      "metadata": {
        "id": "eMQDoy1YK6Gv"
      },
      "source": [
        "digits = load_digits()"
      ],
      "execution_count": null,
      "outputs": []
    },
    {
      "cell_type": "markdown",
      "metadata": {
        "id": "eO_DbX1dKz90"
      },
      "source": [
        "## **Load, Train and Split data**"
      ]
    },
    {
      "cell_type": "code",
      "metadata": {
        "id": "pt8Sbiilhpbm"
      },
      "source": [
        "# array to save number of instance and accuracy result\n",
        "\n",
        "instance_number = []\n",
        "accuracy_result = []"
      ],
      "execution_count": null,
      "outputs": []
    },
    {
      "cell_type": "code",
      "metadata": {
        "id": "SJNrO4E6Pn8n"
      },
      "source": [
        "n_samples = len(digits.images)\n",
        "\n",
        "# n_data : [100,500,1000,1500]\n",
        "n_data = 1500\n",
        "instance_number.append(n_data)\n",
        "\n",
        "# flatten into 1d array\n",
        "data = digits.images.reshape((n_samples, -1))\n",
        "\n",
        "# calling a classifier\n",
        "clf = RandomForestClassifier()\n",
        "\n",
        "# split dataset into 75% train, 25% test\n",
        "X_train, X_test, y_train, y_test = train_test_split(\n",
        "    data[:n_data], digits.target[:n_data], test_size=0.25, shuffle=False)\n",
        "\n",
        "# train the classifier\n",
        "clf.fit(X_train, y_train)\n",
        "\n",
        "# get prediction\n",
        "predicted = clf.predict(X_test)"
      ],
      "execution_count": 131,
      "outputs": []
    },
    {
      "cell_type": "markdown",
      "metadata": {
        "id": "QQU1DFUJao-i"
      },
      "source": [
        "## **Performance evaluation**"
      ]
    },
    {
      "cell_type": "code",
      "metadata": {
        "colab": {
          "base_uri": "https://localhost:8080/"
        },
        "id": "r6v46krrgqxn",
        "outputId": "58f3cbd5-1b3e-4864-94c5-00ba90910aae"
      },
      "source": [
        "print(f\"{metrics.accuracy_score(y_test,predicted)}\")\n",
        "accuracy_result.append(f\"{metrics.accuracy_score(y_test,predicted)}\")"
      ],
      "execution_count": 132,
      "outputs": [
        {
          "output_type": "stream",
          "text": [
            "0.952\n"
          ],
          "name": "stdout"
        }
      ]
    },
    {
      "cell_type": "code",
      "metadata": {
        "colab": {
          "base_uri": "https://localhost:8080/"
        },
        "id": "t7ueHbY5iGAM",
        "outputId": "58201078-6684-42d7-a26d-f844456a1d4a"
      },
      "source": [
        "print(instance_number)\n",
        "print(accuracy_result)"
      ],
      "execution_count": 133,
      "outputs": [
        {
          "output_type": "stream",
          "text": [
            "[100, 500, 1000, 1500]\n",
            "['1.0', '0.832', '0.944', '0.952']\n"
          ],
          "name": "stdout"
        }
      ]
    }
  ]
}