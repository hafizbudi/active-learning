{
  "nbformat": 4,
  "nbformat_minor": 0,
  "metadata": {
    "colab": {
      "name": "Digits_RS.ipynb",
      "provenance": [],
      "collapsed_sections": [
        "7wSC51HM5mkl",
        "ZX_iezA55cac",
        "KaDX73S75jtz",
        "QQU1DFUJao-i"
      ],
      "include_colab_link": true
    },
    "kernelspec": {
      "display_name": "Python 3",
      "language": "python",
      "name": "python3"
    },
    "language_info": {
      "codemirror_mode": {
        "name": "ipython",
        "version": 3
      },
      "file_extension": ".py",
      "mimetype": "text/x-python",
      "name": "python",
      "nbconvert_exporter": "python",
      "pygments_lexer": "ipython3",
      "version": "3.7.4"
    }
  },
  "cells": [
    {
      "cell_type": "markdown",
      "metadata": {
        "id": "view-in-github",
        "colab_type": "text"
      },
      "source": [
        "<a href=\"https://colab.research.google.com/github/hafizbudi/active-learning/blob/main/Digits_RS.ipynb\" target=\"_parent\"><img src=\"https://colab.research.google.com/assets/colab-badge.svg\" alt=\"Open In Colab\"/></a>"
      ]
    },
    {
      "cell_type": "markdown",
      "metadata": {
        "id": "mN4dzlYaDzFR"
      },
      "source": [
        "## **Digits with random sampling**"
      ]
    },
    {
      "cell_type": "markdown",
      "metadata": {
        "id": "W0RrpqbbD3dq"
      },
      "source": [
        "## **Connect to google drive**"
      ]
    },
    {
      "cell_type": "code",
      "metadata": {
        "id": "DuvgfCpIDvt2"
      },
      "source": [
        "from google.colab import drive\n",
        "drive.mount('/content/gdrive')"
      ],
      "execution_count": null,
      "outputs": []
    },
    {
      "cell_type": "code",
      "metadata": {
        "id": "eJwlOMRiEH1p"
      },
      "source": [
        "%cd gdrive/My Drive/Project/active_learning"
      ],
      "execution_count": null,
      "outputs": []
    },
    {
      "cell_type": "code",
      "metadata": {
        "id": "GJgwBxQl0TFp"
      },
      "source": [
        "pip install modal"
      ],
      "execution_count": null,
      "outputs": []
    },
    {
      "cell_type": "markdown",
      "metadata": {
        "id": "RZ2NcwtkKeda"
      },
      "source": [
        "## **Load library and digits data**"
      ]
    },
    {
      "cell_type": "code",
      "metadata": {
        "id": "FsK42GhpKZ4t"
      },
      "source": [
        "from dataclasses import dataclass\n",
        "import dataclasses\n",
        "import matplotlib.pyplot as plt\n",
        "import matplotlib.ticker as mticker\n",
        "import pandas as pd\n",
        "import numpy as np\n",
        "import statistics\n",
        "from tqdm import tqdm\n",
        "\n",
        "from sklearn.datasets import load_digits\n",
        "from sklearn import datasets, metrics\n",
        "from sklearn.model_selection import train_test_split\n",
        "from sklearn.ensemble import RandomForestClassifier\n",
        "\n",
        "\n",
        "from modAL.models import ActiveLearner\n",
        "from modAL.uncertainty import uncertainty_sampling\n"
      ],
      "execution_count": null,
      "outputs": []
    },
    {
      "cell_type": "markdown",
      "metadata": {
        "id": "eO_DbX1dKz90"
      },
      "source": [
        "## **Load, Train and Split data**"
      ]
    },
    {
      "cell_type": "code",
      "metadata": {
        "id": "D4ROQcRms35k"
      },
      "source": [
        "digits = load_digits()\n",
        "\n",
        "# array to save number of instance and accuracy result\n",
        "instance_number = []\n",
        "accuracy_result = []\n",
        "\n",
        "# flatten into 1d array\n",
        "n_samples = len(digits.images)\n",
        "X = digits.images.reshape((n_samples, -1))\n",
        "Y = digits.target\n",
        "\n",
        "# train test split\n",
        "X_train, X_test, y_train, y_test = train_test_split(X, Y, test_size=0.25, shuffle=True)\n"
      ],
      "execution_count": null,
      "outputs": []
    },
    {
      "cell_type": "code",
      "metadata": {
        "id": "QhXNpgllv-7I"
      },
      "source": [
        "# data_points 100,...,900\n",
        "data_points=range(100,1000,100)\n",
        "\n",
        "# train a classifier and predict\n",
        "def train_and_predict(n_instances, X_train, y_train, X_test):\n",
        "    clf = RandomForestClassifier()\n",
        "    \n",
        "    dataset_size = len(X_train)\n",
        "    potential_candidates = list(range(dataset_size))\n",
        "    train_indexes = np.array(random.sample(potential_candidates, n_instances))\n",
        "    #print(train_indexes)\n",
        "    clf.fit(X_train[train_indexes], y_train[train_indexes])\n",
        "    predicted = clf.predict(X_test)\n",
        "    return predicted\n",
        "\n",
        "def random_selection_learning(n_instances, X_train, y_train):\n",
        "    clf = RandomForestClassifier()\n",
        "    X_selected, X_not_selected, y_selected, y_not_selected = \\\n",
        "        train_test_split(X_train, y_train, train_size=n_instances, shuffle=True)\n",
        "    clf.fit(X_selected, y_selected)\n",
        "    return clf, X_selected, X_not_selected, y_selected, y_not_selected"
      ],
      "execution_count": null,
      "outputs": []
    },
    {
      "cell_type": "code",
      "metadata": {
        "colab": {
          "base_uri": "https://localhost:8080/"
        },
        "id": "e9d-RJVpwHCJ",
        "outputId": "388b87d5-16fd-4656-ab76-27c69a3cf84a"
      },
      "source": [
        "def evaluate(model, X_real, y_real):\n",
        "    y_predictions = model.predict(X_test)\n",
        "    accuracy = metrics.accuracy_score(y_real,y_predictions)\n",
        "    #print(f\"{accuracy}\")\n",
        "    return accuracy\n",
        "\n",
        "@dataclass\n",
        "class Experiment:\n",
        "    n_samples: int\n",
        "    repeat: int\n",
        "    accuracy: float\n",
        "\n",
        "def random_sampling_policy(model, n_new_samples, X_remaining, y_remaining):\n",
        "    #print(\"n_new_samples \",n_new_samples)\n",
        "    X_new_selected, X_remaining, y_new_selected, y_remaining = \\\n",
        "               train_test_split(X_remaining, y_remaining,  train_size=n_new_samples, shuffle=True)\n",
        "    return X_new_selected, X_remaining, y_new_selected, y_remaining\n",
        "\n",
        "def uncertainty_sampling_policy(model, n_new_samples, X_remaining, y_remaining):\n",
        "  n_data = n_new_samples\n",
        "  initial_data = int(0.75*n_data*0.4)\n",
        "\n",
        "  X, y = load_digits(return_X_y=True)\n",
        "  X_train, X_test, y_train, y_test = train_test_split(X[:n_data], y[:n_data],test_size=0.25)\n",
        "  \n",
        "  initial_idx = np.random.choice(range(len(X_train)), size=initial_data, replace=False)\n",
        "\n",
        "  X_initial, y_initial = X_train[initial_idx], y_train[initial_idx]\n",
        "  X_pool, y_pool = np.delete(X_train, initial_idx, axis=0), np.delete(y_train, initial_idx, axis=0)\n",
        "\n",
        "  learner = ActiveLearner(\n",
        "    estimator=RandomForestClassifier(),\n",
        "    query_strategy=uncertainty_sampling,\n",
        "    X_training=X_initial, y_training=y_initial\n",
        "  )\n",
        "\n",
        "  n_queries = int(0.1*n_data)\n",
        "\n",
        "  accuracy_scores = [learner.score(X_test, y_test)]\n",
        "\n",
        "  for i in range(n_queries):\n",
        "    query_idx, query_inst = learner.query(X_pool)\n",
        "    y_new = np.array([int(y_pool[query_idx])],dtype=int)\n",
        "    learner.teach(query_inst.reshape(1, -1), y_new)\n",
        "    X_pool, y_pool = np.delete(X_pool, query_idx, axis=0), np.delete(y_pool, query_idx, axis=0)\n",
        "    accuracy_scores.append(learner.score(X_test, y_test))\n",
        "\n",
        "  return X_pool, X_pool, y_new, y_pool\n",
        "\n",
        "def learning_curve(data_points, repeats, selection_policy):\n",
        "    experiments = []\n",
        "    for i in tqdm(range(repeats)):\n",
        "        # First learn \n",
        "        n_samples = data_points[0]\n",
        "        #print(\"n_samples\",n_samples)\n",
        "        model, X_selected, X_remaining, y_selected, y_remaining = \\\n",
        "            random_selection_learning(n_samples, X_train, y_train)\n",
        "        acc = evaluate(model, X_test, y_test)\n",
        "        experiments.append(Experiment(n_samples=n_samples, repeat=i, accuracy=acc))\n",
        "        for n_samples in data_points[1:]:\n",
        "            # Select the additional examples\n",
        "            n_new_samples = n_samples - len(X_selected)\n",
        "            \n",
        "            X_new_selected, X_remaining, y_new_selected, y_remaining = \\\n",
        "                selection_policy(model, n_new_samples, X_remaining, y_remaining)\n",
        "            \n",
        "            X_selected = np.vstack((X_selected, X_new_selected))\n",
        "            y_selected = np.hstack((y_selected, y_new_selected))\n",
        "            #print(X_selected.shape, y_selected.shape)\n",
        "            model.fit(X_selected, y_selected)\n",
        "            acc = evaluate(model, X_test, y_test)\n",
        "            experiments.append(Experiment(n_samples=n_samples, repeat=i, accuracy=acc))\n",
        "            \n",
        "    #print(\"mean n 100\", mean_n100)\n",
        "    #print(mean_n)\n",
        "    return experiments\n",
        "\n",
        "experiments = learning_curve(data_points, 10, random_sampling_policy)\n",
        "print(experiments)\n",
        "\n",
        "experiments_al, mn_al, res_arr_100_al = learning_curve(data_points,2, uncertainty_sampling_policy)\n",
        "#print(\"Non-100 array\",mn)"
      ],
      "execution_count": null,
      "outputs": [
        {
          "output_type": "stream",
          "text": [
            "100%|██████████| 10/10 [00:12<00:00,  1.27s/it]"
          ],
          "name": "stderr"
        },
        {
          "output_type": "stream",
          "text": [
            "[Experiment(n_samples=100, repeat=0, accuracy=0.8333333333333334), Experiment(n_samples=200, repeat=0, accuracy=0.9044444444444445), Experiment(n_samples=300, repeat=0, accuracy=0.9266666666666666), Experiment(n_samples=400, repeat=0, accuracy=0.9466666666666667), Experiment(n_samples=500, repeat=0, accuracy=0.94), Experiment(n_samples=600, repeat=0, accuracy=0.9688888888888889), Experiment(n_samples=700, repeat=0, accuracy=0.9666666666666667), Experiment(n_samples=800, repeat=0, accuracy=0.9666666666666667), Experiment(n_samples=900, repeat=0, accuracy=0.9688888888888889), Experiment(n_samples=100, repeat=1, accuracy=0.8), Experiment(n_samples=200, repeat=1, accuracy=0.9288888888888889), Experiment(n_samples=300, repeat=1, accuracy=0.9355555555555556), Experiment(n_samples=400, repeat=1, accuracy=0.9555555555555556), Experiment(n_samples=500, repeat=1, accuracy=0.9644444444444444), Experiment(n_samples=600, repeat=1, accuracy=0.9666666666666667), Experiment(n_samples=700, repeat=1, accuracy=0.9666666666666667), Experiment(n_samples=800, repeat=1, accuracy=0.9666666666666667), Experiment(n_samples=900, repeat=1, accuracy=0.9688888888888889), Experiment(n_samples=100, repeat=2, accuracy=0.8866666666666667), Experiment(n_samples=200, repeat=2, accuracy=0.9311111111111111), Experiment(n_samples=300, repeat=2, accuracy=0.9355555555555556), Experiment(n_samples=400, repeat=2, accuracy=0.9555555555555556), Experiment(n_samples=500, repeat=2, accuracy=0.9688888888888889), Experiment(n_samples=600, repeat=2, accuracy=0.9777777777777777), Experiment(n_samples=700, repeat=2, accuracy=0.9733333333333334), Experiment(n_samples=800, repeat=2, accuracy=0.9666666666666667), Experiment(n_samples=900, repeat=2, accuracy=0.9622222222222222), Experiment(n_samples=100, repeat=3, accuracy=0.8644444444444445), Experiment(n_samples=200, repeat=3, accuracy=0.9422222222222222), Experiment(n_samples=300, repeat=3, accuracy=0.94), Experiment(n_samples=400, repeat=3, accuracy=0.9533333333333334), Experiment(n_samples=500, repeat=3, accuracy=0.9622222222222222), Experiment(n_samples=600, repeat=3, accuracy=0.9555555555555556), Experiment(n_samples=700, repeat=3, accuracy=0.96), Experiment(n_samples=800, repeat=3, accuracy=0.96), Experiment(n_samples=900, repeat=3, accuracy=0.9733333333333334), Experiment(n_samples=100, repeat=4, accuracy=0.8355555555555556), Experiment(n_samples=200, repeat=4, accuracy=0.9111111111111111), Experiment(n_samples=300, repeat=4, accuracy=0.9311111111111111), Experiment(n_samples=400, repeat=4, accuracy=0.9444444444444444), Experiment(n_samples=500, repeat=4, accuracy=0.9666666666666667), Experiment(n_samples=600, repeat=4, accuracy=0.9533333333333334), Experiment(n_samples=700, repeat=4, accuracy=0.9711111111111111), Experiment(n_samples=800, repeat=4, accuracy=0.9733333333333334), Experiment(n_samples=900, repeat=4, accuracy=0.9666666666666667), Experiment(n_samples=100, repeat=5, accuracy=0.8111111111111111), Experiment(n_samples=200, repeat=5, accuracy=0.9177777777777778), Experiment(n_samples=300, repeat=5, accuracy=0.9288888888888889), Experiment(n_samples=400, repeat=5, accuracy=0.9488888888888889), Experiment(n_samples=500, repeat=5, accuracy=0.9555555555555556), Experiment(n_samples=600, repeat=5, accuracy=0.9622222222222222), Experiment(n_samples=700, repeat=5, accuracy=0.9688888888888889), Experiment(n_samples=800, repeat=5, accuracy=0.9755555555555555), Experiment(n_samples=900, repeat=5, accuracy=0.9755555555555555), Experiment(n_samples=100, repeat=6, accuracy=0.8177777777777778), Experiment(n_samples=200, repeat=6, accuracy=0.8933333333333333), Experiment(n_samples=300, repeat=6, accuracy=0.9266666666666666), Experiment(n_samples=400, repeat=6, accuracy=0.9355555555555556), Experiment(n_samples=500, repeat=6, accuracy=0.9466666666666667), Experiment(n_samples=600, repeat=6, accuracy=0.9555555555555556), Experiment(n_samples=700, repeat=6, accuracy=0.9511111111111111), Experiment(n_samples=800, repeat=6, accuracy=0.9688888888888889), Experiment(n_samples=900, repeat=6, accuracy=0.9577777777777777), Experiment(n_samples=100, repeat=7, accuracy=0.8688888888888889), Experiment(n_samples=200, repeat=7, accuracy=0.9155555555555556), Experiment(n_samples=300, repeat=7, accuracy=0.9622222222222222), Experiment(n_samples=400, repeat=7, accuracy=0.9644444444444444), Experiment(n_samples=500, repeat=7, accuracy=0.9644444444444444), Experiment(n_samples=600, repeat=7, accuracy=0.9622222222222222), Experiment(n_samples=700, repeat=7, accuracy=0.9622222222222222), Experiment(n_samples=800, repeat=7, accuracy=0.9711111111111111), Experiment(n_samples=900, repeat=7, accuracy=0.98), Experiment(n_samples=100, repeat=8, accuracy=0.82), Experiment(n_samples=200, repeat=8, accuracy=0.9177777777777778), Experiment(n_samples=300, repeat=8, accuracy=0.9333333333333333), Experiment(n_samples=400, repeat=8, accuracy=0.9511111111111111), Experiment(n_samples=500, repeat=8, accuracy=0.9577777777777777), Experiment(n_samples=600, repeat=8, accuracy=0.9555555555555556), Experiment(n_samples=700, repeat=8, accuracy=0.9644444444444444), Experiment(n_samples=800, repeat=8, accuracy=0.9688888888888889), Experiment(n_samples=900, repeat=8, accuracy=0.9733333333333334), Experiment(n_samples=100, repeat=9, accuracy=0.8377777777777777), Experiment(n_samples=200, repeat=9, accuracy=0.9377777777777778), Experiment(n_samples=300, repeat=9, accuracy=0.9488888888888889), Experiment(n_samples=400, repeat=9, accuracy=0.9466666666666667), Experiment(n_samples=500, repeat=9, accuracy=0.9733333333333334), Experiment(n_samples=600, repeat=9, accuracy=0.9622222222222222), Experiment(n_samples=700, repeat=9, accuracy=0.9666666666666667), Experiment(n_samples=800, repeat=9, accuracy=0.9688888888888889), Experiment(n_samples=900, repeat=9, accuracy=0.9644444444444444)]\n"
          ],
          "name": "stdout"
        },
        {
          "output_type": "stream",
          "text": [
            "\n"
          ],
          "name": "stderr"
        }
      ]
    },
    {
      "cell_type": "code",
      "metadata": {
        "id": "6xTc4uJlRG2J",
        "outputId": "ec6f3db3-4aac-4d7d-c0ad-28ee7996ceea"
      },
      "source": [
        "print(dataclasses.asdict(experiments[0]))"
      ],
      "execution_count": null,
      "outputs": [
        {
          "output_type": "stream",
          "text": [
            "{'n_samples': 100, 'repeat': 0, 'accuracy': 0.8333333333333334}\n"
          ],
          "name": "stdout"
        }
      ]
    },
    {
      "cell_type": "code",
      "metadata": {
        "id": "fDCwuiSORG2K",
        "outputId": "e17bc100-9cbf-4837-f3e6-e2ea6803d8da"
      },
      "source": [
        "df = pd.DataFrame([dataclasses.asdict(e) for e in experiments])\n",
        "print(df)"
      ],
      "execution_count": null,
      "outputs": [
        {
          "output_type": "stream",
          "text": [
            "    n_samples  repeat  accuracy\n",
            "0         100       0  0.833333\n",
            "1         200       0  0.904444\n",
            "2         300       0  0.926667\n",
            "3         400       0  0.946667\n",
            "4         500       0  0.940000\n",
            "..        ...     ...       ...\n",
            "85        500       9  0.973333\n",
            "86        600       9  0.962222\n",
            "87        700       9  0.966667\n",
            "88        800       9  0.968889\n",
            "89        900       9  0.964444\n",
            "\n",
            "[90 rows x 3 columns]\n"
          ],
          "name": "stdout"
        }
      ]
    },
    {
      "cell_type": "code",
      "metadata": {
        "id": "WgEbKltuRG2M"
      },
      "source": [
        "def plot_learning_curve(df, name):\n",
        "    # Compute percentiles\n",
        "    p10 = df.groupby('n_samples').quantile(.10)['accuracy']\n",
        "    p50 = df.groupby('n_samples').median()['accuracy']\n",
        "    p90 = df.groupby('n_samples').quantile(.90)['accuracy']\n",
        "    training_sizes= p50.index.to_numpy()\n",
        "\n",
        "    with plt.style.context('seaborn-white'):\n",
        "        plt.title('Learning curve for classifier '+name)\n",
        "        plt.plot(training_sizes, p50, label='Accuracy', marker='o',color='k')\n",
        "\n",
        "        # show standard deviation\n",
        "        plt.fill_between(training_sizes, p10, p90,color='blue',alpha=0.1,label='10-90 IQ')\n",
        "    plt.legend(loc='upper left')\n",
        "    plt.xlabel(\"N sample\")\n",
        "    plt.ylabel(\"Accuracy\")\n",
        "    plt.grid()\n",
        "    plt.show()"
      ],
      "execution_count": null,
      "outputs": []
    },
    {
      "cell_type": "code",
      "metadata": {
        "id": "1WrjGtYYRG2M",
        "outputId": "e97ac97f-2644-4ff8-f6d9-ad272878c4f2"
      },
      "source": [
        "plot_learning_curve(df,\"Random\")"
      ],
      "execution_count": null,
      "outputs": [
        {
          "output_type": "display_data",
          "data": {
            "image/png": "[encoded data removed]",
            "text/plain": [
              "<Figure size 432x288 with 1 Axes>"
            ]
          },
          "metadata": {
            "tags": []
          }
        }
      ]
    }
  ]
}